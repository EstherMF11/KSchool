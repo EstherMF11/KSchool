{
 "cells": [
  {
   "cell_type": "markdown",
   "metadata": {},
   "source": [
    "## Tema 01: Introducción informa\n",
    "Nota: Estos ejercicios son optativos para hacer al final de la unidad y están pensados para apoyar tu aprendizaje."
   ]
  },
  {
   "cell_type": "markdown",
   "metadata": {},
   "source": [
    "**2) Determina mentalmente (sin programar) el resultado que aparecerá por pantalla a partir de las siguientes variables:**\n",
    "\n",
    "a = 10  \n",
    "b = -5  \n",
    "c = \"Hola \"  \n",
    "d = [1, 2, 3]\n",
    "\n",
    "print(a * 5)  \n",
    "print(a - b)    \n",
    "print(c + \"Mundo\")   \n",
    "print(c * 2)        \n",
    "print(c[-1])        \n",
    "print(c[1:])    \n",
    "print(d + d)   "
   ]
  },
  {
   "cell_type": "code",
   "execution_count": null,
   "metadata": {},
   "outputs": [],
   "source": [
    "# SOLUCIÓN\n",
    "\n",
    "print(a * 5)  # 10*5 = 50\n",
    "print(a - b)  # 10-(-5) = 15\n",
    "print(c + \"Mundo\")  # \"Hola \" + \"Mundo\" = \"Hola Mundo\"\n",
    "print(c * 2)  # \"Hola \" * 2 = \"Hola Hola \"\n",
    "print(c[-1])  # \"Hola \"[-1] = \" \"      \n",
    "print(c[1:])  # \"Hola \"[1:] = \"ola \" \n",
    "print(d + d)  # [1,2,3] + [1,2,3] = [1,2,3,1,2,3]"
   ]
  },
  {
   "cell_type": "markdown",
   "metadata": {},
   "source": [
    "**3) El siguiente código pretende realizar una media entre 3 números, pero no funciona correctamente. ¿Eres capaz de identificar el problema y solucionarlo?**"
   ]
  },
  {
   "cell_type": "code",
   "execution_count": 2,
   "metadata": {},
   "outputs": [
    {
     "name": "stdout",
     "output_type": "stream",
     "text": [
      "La nota media es 14.0\n"
     ]
    }
   ],
   "source": [
    "numero_1 = 9\n",
    "numero_2 = 3\n",
    "numero_3 = 6\n",
    "\n",
    "media = numero_1 + numero_2 + numero_3 / 3\n",
    "print(\"La nota media es\", media)\n",
    "# ERROR CÁLCULO DE LA MEDIA!!!!"
   ]
  },
  {
   "cell_type": "code",
   "execution_count": 4,
   "metadata": {},
   "outputs": [
    {
     "name": "stdout",
     "output_type": "stream",
     "text": [
      "La nota media es 6.0\n"
     ]
    }
   ],
   "source": [
    "# SOLUCIÖN \n",
    "\"\"\" Faltaba poner los paréntesis del sumatorio \"\"\"\n",
    "media = (numero_1 + numero_2 + numero_3) / 3\n",
    "print(\"La nota media es\", media)"
   ]
  },
  {
   "cell_type": "markdown",
   "metadata": {},
   "source": [
    "**4) A partir del ejercicio anterior, vamos a suponer que cada número es una nota, y lo que queremos es obtener la nota media. El problema es que cada nota tiene un valor porcentual:**\n",
    "\n",
    "* La primera nota vale un 15% del total\n",
    "* La segunda nota vale un 35% del total\n",
    "* La tercera nota vale un 50% del total\n",
    "\n",
    "**Desarrolla un programa para calcular perfectamente la nota final.**"
   ]
  },
  {
   "cell_type": "code",
   "execution_count": 10,
   "metadata": {},
   "outputs": [
    {
     "name": "stdout",
     "output_type": "stream",
     "text": [
      "La nota media es 5.949999999999999\n"
     ]
    }
   ],
   "source": [
    "nota_1 = 10\n",
    "nota_2 = 7\n",
    "nota_3 = 4\n",
    "valor_1 = 0.15\n",
    "valor_2 = 0.35\n",
    "valor_3 = 0.5\n",
    "\n",
    "nota_media = (nota_1*valor_1 + nota_2*valor_2 + nota_3*valor_3)\n",
    "print(\"La nota media es\",nota_media)"
   ]
  },
  {
   "cell_type": "markdown",
   "metadata": {},
   "source": [
    "**5) La siguiente matriz (o lista con listas anidadas) debe cumplir una condición, y es que en cada fila, el cuarto elemento siempre debe ser el resultado de sumar los tres primeros. ¿Eres capaz de modificar las sumas incorrectas utilizando la técnica del slicing?**\n",
    "\n",
    "*Ayuda: La función llamada sum(lista) devuelve una suma de todos los elementos de la lista ¡Pruébalo!*"
   ]
  },
  {
   "cell_type": "code",
   "execution_count": 11,
   "metadata": {},
   "outputs": [
    {
     "name": "stdout",
     "output_type": "stream",
     "text": [
      "[[1, 1, 1, 3], [2, 2, 2, 6], [3, 3, 3, 9], [4, 4, 4, 12]]\n"
     ]
    }
   ],
   "source": [
    "matriz = [ \n",
    "    [1, 1, 1, 3],\n",
    "    [2, 2, 2, 7],\n",
    "    [3, 3, 3, 9],\n",
    "    [4, 4, 4, 13]\n",
    "]\n",
    "\n",
    "# Completa el ejercicio aquí\n",
    "matriz[0][-1] = sum(matriz[0][:-1])\n",
    "matriz[1][-1] = sum(matriz[1][:-1])\n",
    "matriz[2][-1] = sum(matriz[2][:-1])\n",
    "matriz[3][-1] = sum(matriz[3][:-1])\n",
    "\n",
    "print(matriz)\n",
    "\n",
    "\"\"\"\n",
    "nombre_lista[fila matriz][índice que queremos cambiar] = suma(nombre_lista[fila matriz][suma desde un índice hasta otro])\n",
    "\"\"\""
   ]
  },
  {
   "cell_type": "markdown",
   "metadata": {},
   "source": [
    "**6) Al realizar una consulta en un registro hemos obtenido una cadena de texto corrupta al revés. Al parecer contiene el nombre de un alumno y la nota de un exámen. ¿Cómo podríamos formatear la cadena y conseguir una estructura como la siguiente?:**\n",
    "\n",
    "* ***Nombre*** ***Apellido*** ha sacado un ***Nota*** de nota.\n",
    "\n",
    "*Ayuda: Para voltear una cadena rápidamente utilizando slicing podemos utilizar un tercer índice -1: **cadena[::-1]** *"
   ]
  },
  {
   "cell_type": "code",
   "execution_count": 14,
   "metadata": {},
   "outputs": [
    {
     "name": "stdout",
     "output_type": "stream",
     "text": [
      "Juan Pérez ha sacada un 10 de nota\n"
     ]
    }
   ],
   "source": [
    "cadena = \"zeréP nauJ,01\"\n",
    "\n",
    "# SOLUCIÓN\n",
    "\n",
    "cadena = cadena[::-1]\n",
    "cadena\n",
    "nota = cadena[:2]\n",
    "alumno = cadena[3:]\n",
    "print(\"{} ha sacada un {} de nota\".format(alumno, nota))"
   ]
  },
  {
   "cell_type": "markdown",
   "metadata": {},
   "source": [
    "## Tema 02: Operadores y expresiones \n",
    "Nota: Estos ejercicios son optativos para hacer al final de la unidad y están pensados para apoyar tu aprendizaje."
   ]
  },
  {
   "cell_type": "markdown",
   "metadata": {},
   "source": [
    "**1) Realiza un programa que lea 2 números por teclado y determine los siguientes aspectos (es suficiene con mostrar True o False):**\n",
    "* Si los dos números son iguales\n",
    "* Si los dos números son diferentes\n",
    "* Si el primero es mayor que el segundo\n",
    "* Si el segundo es mayor o igual que el primero"
   ]
  },
  {
   "cell_type": "code",
   "execution_count": 15,
   "metadata": {},
   "outputs": [
    {
     "name": "stdout",
     "output_type": "stream",
     "text": [
      "Introduce un número: 3\n",
      "Introduce otro número: 5\n",
      "¿Los dos números son iguales? False\n",
      "¿Los dos números son diferentes? True\n",
      "¿El número 3.0 es mayor que 5.0? False\n",
      "¿El número 5.0 es mayor o igual que 3.0? True\n"
     ]
    }
   ],
   "source": [
    "n1 = float(input(\"Introduce un número: \"))\n",
    "n2 = float(input(\"Introduce otro número: \"))\n",
    "\n",
    "print('¿Los dos números son iguales?', n1==n2)\n",
    "print('¿Los dos números son diferentes?', n1!=n2)    \n",
    "print('¿El número {} es mayor que {}?'.format(n1,n2), n1>n2)\n",
    "print('¿El número {} es mayor o igual que {}?'.format(n2,n1), n2>=n1)"
   ]
  },
  {
   "cell_type": "markdown",
   "metadata": {},
   "source": [
    "**2) Utilizando operadores lógicos, determina si una cadena de texto introducida por el usuario tiene una longitud mayor o igual que 3 y a su vez es menor que 10 (es suficiene con mostrar True o False):**"
   ]
  },
  {
   "cell_type": "code",
   "execution_count": 17,
   "metadata": {},
   "outputs": [
    {
     "name": "stdout",
     "output_type": "stream",
     "text": [
      "Introduce una cadena: hola mundo\n",
      "La cadena es menor de 3 caracteres o mayor de 10 caracteres, la cadena tiene 10 caracteres\n"
     ]
    }
   ],
   "source": [
    "cadena = input('Introduce una cadena: ')\n",
    "\n",
    "if len(cadena) >= 3 and len(cadena) < 10:\n",
    "    print('La cadena se encuentra entre 3 y 10 caracteres, la cadena tiene {} caracteres'.format(len(cadena)))\n",
    "else:\n",
    "    print('La cadena es menor de 3 caracteres o mayor de 10 caracteres, la cadena tiene {} caracteres'.format(len(cadena)))"
   ]
  },
  {
   "cell_type": "markdown",
   "metadata": {},
   "source": [
    "**3) Realiza un programa que cumpla el siguiente algoritmo utilizando siempre que sea posible operadores en asignación:**\n",
    "* Guarda en una variable numero_magico el valor 12345679 (sin el 8)\n",
    "* Lee por pantalla otro numero_usuario, especifica que sea entre 1 y 9 (asegúrate que es un número)\n",
    "* Multiplica el numero_usuario por 9 en sí mismo\n",
    "* Multiplica el numero_magico por el numero_usuario en sí mismo\n",
    "* Finalmente muestra el valor final del numero_magico por pantalla"
   ]
  },
  {
   "cell_type": "code",
   "execution_count": 24,
   "metadata": {},
   "outputs": [
    {
     "name": "stdout",
     "output_type": "stream",
     "text": [
      "Introduce un número entre el 1 y el 9: 8\n",
      "El número mágico es: 888888888\n"
     ]
    }
   ],
   "source": [
    "numero_magico = 12345679\n",
    "numero_usuario = int(input('Introduce un número entre el 1 y el 9: '))\n",
    "\n",
    "numero_usuario_9 = numero_usuario * 9\n",
    "resultado = numero_magico * numero_usuario_9\n",
    "print('El número mágico es:',resultado)"
   ]
  },
  {
   "cell_type": "markdown",
   "metadata": {},
   "source": [
    "## Tema 03: Control de flujo\n",
    "Nota: Estos ejercicios son optativos para hacer al final de la unidad y están pensados para apoyar tu aprendizaje."
   ]
  },
  {
   "cell_type": "markdown",
   "metadata": {},
   "source": [
    "**1) Realiza un programa que lea dos números por teclado y permita elegir entre 3 opciones en un menú:** \n",
    "* Mostrar una suma de los dos números\n",
    "* Mostrar una resta de los dos números (el primero menos el segundo)\n",
    "* Mostrar una multiplicación de los dos números\n",
    "* En caso de no introducir una opción válida, el programa informará de que no es correcta."
   ]
  },
  {
   "cell_type": "code",
   "execution_count": 26,
   "metadata": {},
   "outputs": [
    {
     "name": "stdout",
     "output_type": "stream",
     "text": [
      "Introduce un número: 4\n",
      "Introduce un número: 7\n",
      " Elige entre una las siguientes opciones:\n",
      "1) Mostrar la suma de los dos números.\n",
      "2) Mostrar la resta de los dos números.\n",
      "3) Mostrar la multiplicación de los dos números.\n",
      "Introduce opción: 1, 2 ó 3: 3\n",
      "La multiplicación: 4.0 * 7.0 = 28.0,\n"
     ]
    }
   ],
   "source": [
    "n1 = float(input('Introduce un número: '))\n",
    "n2 = float(input('Introduce un número: '))\n",
    "\n",
    "print(\"\"\" Elige entre una las siguientes opciones:\n",
    "1) Mostrar la suma de los dos números.\n",
    "2) Mostrar la resta de los dos números.\n",
    "3) Mostrar la multiplicación de los dos números.\"\"\")\n",
    "opcion = int(input('Introduce opción: 1, 2 ó 3: '))\n",
    "if opcion == 1:\n",
    "    print('La suma: {} + {} = {}'.format(n1,n2,n1+n2))\n",
    "elif opcion == 2:\n",
    "    print('La resta: {} - {} = {}'.format(n1,n2,n1-n2))\n",
    "elif opcion == 3:\n",
    "    print('La multiplicación: {} * {} = {},'.format(n1,n2,n1*n2))\n",
    "else:\n",
    "    print('Seleccione una opción válida')"
   ]
  },
  {
   "cell_type": "markdown",
   "metadata": {},
   "source": [
    "**2) Realiza un programa que lea un número impar por teclado. Si el usuario no introduce un número impar, debe repetise el proceso hasta que lo introduzca correctamente.**"
   ]
  },
  {
   "cell_type": "code",
   "execution_count": 28,
   "metadata": {},
   "outputs": [
    {
     "name": "stdout",
     "output_type": "stream",
     "text": [
      "Introduce un número: 4\n",
      "Introduce un número: 6\n",
      "Introduce un número: 7\n",
      "El número es impar\n"
     ]
    }
   ],
   "source": [
    "numero = 0\n",
    "while numero%2 == 0:\n",
    "    numero = int(input('Introduce un número: '))\n",
    "else:\n",
    "    print('El número es impar')"
   ]
  },
  {
   "cell_type": "markdown",
   "metadata": {},
   "source": [
    "**3) Realiza un programa que sume todos los números enteros pares desde el 0 hasta el 100:**\n",
    "\n",
    "*Sugerencia: Puedes utilizar la funciones sum() y range() para hacerlo más fácil. El tercer parámetro en la función range(inicio, fin, salto) indica un salto de números, pruébalo.*"
   ]
  },
  {
   "cell_type": "code",
   "execution_count": 34,
   "metadata": {},
   "outputs": [
    {
     "name": "stdout",
     "output_type": "stream",
     "text": [
      "La suma total de los valores es 2550\n",
      "La suma total es 2550\n"
     ]
    }
   ],
   "source": [
    "suma = sum(range(0,101,2))\n",
    "print('La suma total de los valores es',suma)\n",
    "\n",
    "#Otra alternativa\n",
    "\n",
    "numero = 0\n",
    "suma = 0\n",
    " \n",
    "while numero <= 100:\n",
    "    if numero%2 == 0:\n",
    "        suma = suma + numero\n",
    "    numero += 1\n",
    "print('La suma total es', suma)"
   ]
  },
  {
   "cell_type": "markdown",
   "metadata": {},
   "source": [
    "**4) Realiza un programa que pida al usuario cuantos números quiere introducir. Luego lee todos los números y realiza una media aritmética:**"
   ]
  },
  {
   "cell_type": "code",
   "execution_count": 35,
   "metadata": {},
   "outputs": [
    {
     "name": "stdout",
     "output_type": "stream",
     "text": [
      "¿Cuántos numeros quieres introducir?: 3\n",
      "Introduce un numero: 1\n",
      "Introduce un numero: 2\n",
      "Introduce un numero: 3\n",
      "Se han introducido 3 numeros y la suma de ellos es 6\n"
     ]
    }
   ],
   "source": [
    "suma = 0\n",
    "numeros = int(input('¿Cuántos numeros quieres introducir?: '))\n",
    "for x in range(numeros):\n",
    "    suma += int(input('Introduce un numero: '))\n",
    "print(\"Se han introducido {} numeros y la suma de ellos es {}\".format(numeros, suma))"
   ]
  },
  {
   "cell_type": "markdown",
   "metadata": {},
   "source": [
    "**5) Realiza un programa que pida al usuario un número entero del 0 al 9, y que mientras el número no sea correcto se repita el proceso. Luego debe comprobar si el número se encuentra en la lista de números y notificarlo:**\n",
    "\n",
    "*Consejo: La sintaxis \"valor in lista\" permite comprobar fácilmente si un valor se encuentra en una lista (devuelve True o False)*"
   ]
  },
  {
   "cell_type": "code",
   "execution_count": 42,
   "metadata": {},
   "outputs": [
    {
     "name": "stdout",
     "output_type": "stream",
     "text": [
      "Introduce un número del 0 al 9: 0\n",
      "El número 0 no se encuentra en la lista [1, 3, 6, 9]\n"
     ]
    }
   ],
   "source": [
    "numeros = [1, 3, 6, 9]\n",
    "\n",
    "while True:\n",
    "    valor = int(input('Introduce un número del 0 al 9: '))\n",
    "    if valor is not range(0,10):\n",
    "         break\n",
    "if valor in numeros:\n",
    "    print('El número {} se encuentra en la lista {}'.format(valor, numeros))\n",
    "else:\n",
    "    print('El número {} no se encuentra en la lista {}'.format(valor, numeros))"
   ]
  },
  {
   "cell_type": "markdown",
   "metadata": {},
   "source": [
    "**6) Utilizando la función range() y la conversión a listas genera las siguientes listas dinámicamente:**\n",
    "* Todos los números del 0 al 10 [0, 1, 2, ..., 10]\n",
    "* Todos los números del -10 al 0 [-10, -9, -8, ..., 0]\n",
    "* Todos los números pares del 0 al 20 [0, 2, 4, ..., 20]\n",
    "* Todos los números impares entre -20 y 0 [-19, -17, -15, ..., -1]\n",
    "* Todos los números múltiples de 5 del 0 al 50 [0, 5, 10, ..., 50]\n",
    "\n",
    "*Pista: Utiliza el tercer parámetro de la función range(inicio, fin, salto).*"
   ]
  },
  {
   "cell_type": "code",
   "execution_count": 43,
   "metadata": {},
   "outputs": [
    {
     "name": "stdout",
     "output_type": "stream",
     "text": [
      "[0, 1, 2, 3, 4, 5, 6, 7, 8, 9, 10]\n",
      "[-10, -9, -8, -7, -6, -5, -4, -3, -2, -1, 0]\n",
      "[0, 2, 4, 6, 8, 10, 12, 14, 16, 18, 20]\n",
      "[-19, -17, -15, -13, -11, -9, -7, -5, -3, -1]\n",
      "[0, 5, 10, 15, 20, 25, 30, 35, 40, 45, 50]\n"
     ]
    }
   ],
   "source": [
    "print( list( range( 0, 11 ) ) )\n",
    "print( list( range( -10, 1 ) ) )\n",
    "print( list( range( 0, 21, 2 ) ) )\n",
    "print( list( range( -19, 0, 2 ) ) )\n",
    "print( list( range( 0, 51, 5 ) ) )"
   ]
  },
  {
   "cell_type": "markdown",
   "metadata": {},
   "source": [
    "**7) Dadas dos listas, debes generar una tercera con todos los elementos que se repitan en ellas, pero no debe repetise ningún elemento en la nueva lista:**"
   ]
  },
  {
   "cell_type": "code",
   "execution_count": 48,
   "metadata": {},
   "outputs": [
    {
     "name": "stdout",
     "output_type": "stream",
     "text": [
      "['h', 'o', 'l', 'a', ' ', 'u', 'n']\n"
     ]
    }
   ],
   "source": [
    "lista_1 = [\"h\",'o','l','a',' ', 'm','u','n','d','o']\n",
    "lista_2 = [\"h\",'o','l','a',' ', 'l','u','n','a']\n",
    "\n",
    "lista_3 = []\n",
    "\n",
    "for letra in lista_1:\n",
    "    if letra in lista_2 and letra not in lista_3:\n",
    "        lista_3.append(letra)\n",
    "\n",
    "print(lista_3)\n",
    "\n"
   ]
  }
 ],
 "metadata": {
  "kernelspec": {
   "display_name": "Python 3",
   "language": "python",
   "name": "python3"
  },
  "language_info": {
   "codemirror_mode": {
    "name": "ipython",
    "version": 3
   },
   "file_extension": ".py",
   "mimetype": "text/x-python",
   "name": "python",
   "nbconvert_exporter": "python",
   "pygments_lexer": "ipython3",
   "version": "3.8.3"
  }
 },
 "nbformat": 4,
 "nbformat_minor": 4
}
