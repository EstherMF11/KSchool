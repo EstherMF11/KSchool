{
 "cells": [
  {
   "cell_type": "markdown",
   "metadata": {},
   "source": [
    "# TUTORIAL PYTHON\n",
    "## INDICE:\n",
    "1. Variables y tipo de datos\n",
    "2. Estructuras de control de flujo: condiciones, bifurcaciones y bucles\n",
    "3. Datos complejos: Tuplas, Listas y Diccionarios\n",
    "4. Bibliotecas y Módulos esándar\n",
    "5. Gráficos sencillos\n",
    "6. Funciones y variables locales\n",
    "7. Documentacion de funciones, Pydoc\n",
    "8. Ejemplo: Simulacion de Montecarlo para resolver un problema complejo\n",
    "9. Programación orientada a objetos (POO): Clase, Herencia y Polimorfismo\n",
    "10. Numpy\n",
    "11. Pandas"
   ]
  },
  {
   "cell_type": "markdown",
   "metadata": {},
   "source": [
    "## 1.TIPO DE DATOS Y VARIABLES\n",
    "\n",
    "### NUMÉRICO\n",
    "* Entero (Int)\n",
    "* Flotante (float)\n",
    "\n",
    "### CADENA\n",
    "* Texto (string): \"texto\" o 'texto'\n",
    "\n",
    "### BOOLEANO\n",
    "* True (1)\n",
    "* False (0)\n",
    "\n",
    "### VARIABLE\n",
    "Es un espacio de memoria para almacenar datos modificables (minúsculas)\n",
    "\n",
    "### CONSTANTE\n",
    "Es un espacio de memoria para almacenar datos no modificables (mayúsculas)"
   ]
  },
  {
   "cell_type": "code",
   "execution_count": 9,
   "metadata": {},
   "outputs": [
    {
     "name": "stdout",
     "output_type": "stream",
     "text": [
      "12\n",
      "12.5\n",
      "Hello Python\n",
      "Hello Python\n",
      "True\n",
      "False\n"
     ]
    },
    {
     "data": {
      "text/plain": [
       "bool"
      ]
     },
     "execution_count": 9,
     "metadata": {},
     "output_type": "execute_result"
    }
   ],
   "source": [
    "print(12)  #Numero entero\n",
    "print(12.5)  #Número flotante\n",
    "print(\"Hello Python\") #Texto\n",
    "print('Hello Python')  #Texto\n",
    "print(True)  #Booleano\n",
    "print(False)  #Booleano\n",
    "type(12)  #type() devuelve el tipo de dato al que pertenece el dato\n",
    "type(12.5)\n",
    "type(\"Hello Python\")\n",
    "type(True)"
   ]
  },
  {
   "cell_type": "code",
   "execution_count": 16,
   "metadata": {},
   "outputs": [
    {
     "name": "stdout",
     "output_type": "stream",
     "text": [
      "12\n",
      "35\n",
      "13\n",
      "36\n"
     ]
    }
   ],
   "source": [
    "mi_variable = 12\n",
    "MI_CONSTANTE = 35\n",
    "print(mi_variable)\n",
    "print(MI_CONSTANTE)"
   ]
  },
  {
   "cell_type": "markdown",
   "metadata": {},
   "source": [
    "### OPERADORES ARITMÉTICOS\n",
    "* Suma +\n",
    "* Resta -\n",
    "* Multiplicacion *\n",
    "* Exponente **\n",
    "* Division /\n",
    "* Division entera //\n",
    "* Modulo o Resto %"
   ]
  },
  {
   "cell_type": "code",
   "execution_count": 17,
   "metadata": {},
   "outputs": [
    {
     "name": "stdout",
     "output_type": "stream",
     "text": [
      "15\n",
      "5\n",
      "50\n",
      "100000\n",
      "2.0\n",
      "2\n",
      "0\n"
     ]
    }
   ],
   "source": [
    "# a y b son variables\n",
    "a = 10\n",
    "b = 5\n",
    "# Usando los operadores aritméticos\n",
    "print(a + b)\n",
    "print(a - b)\n",
    "print(a * b)\n",
    "print(a ** b)\n",
    "print(a / b)\n",
    "print(a // b)\n",
    "print(a % b)"
   ]
  },
  {
   "cell_type": "code",
   "execution_count": 23,
   "metadata": {},
   "outputs": [
    {
     "name": "stdout",
     "output_type": "stream",
     "text": [
      "Ana Molinero\n"
     ]
    }
   ],
   "source": [
    "# Usando los operadores aritméticos con string\n",
    "nombre = \"Ana\"\n",
    "apellido = \"Molinero\"\n",
    "print(nombre + \" \" + apellido)  # Utilizamos \" \" para dejar un espacio entre nombre y apellido"
   ]
  },
  {
   "cell_type": "markdown",
   "metadata": {},
   "source": [
    "## 2.ESTRUCTURAS DE CONTROL DE FLUJO: CONDICIONALES, BIFURCACIONES Y BUCLES.\n",
    "*Estructura de control de flujo:* Es un bloque de código que permite agrupar instrucciones de manera controlada.\n",
    "   Identación (Tabulación): Sangría de 4 espacios en blanco que indica que las instrucciones identadas forman parte de una misma estructura de control.\n",
    "\n",
    "*Asignación múltiple:* En una sola instrucción de \"x\" variables podemos asignar un valos a cada una de las variables."
   ]
  },
  {
   "cell_type": "code",
   "execution_count": 18,
   "metadata": {},
   "outputs": [
    {
     "name": "stdout",
     "output_type": "stream",
     "text": [
      "string\n",
      "15\n",
      "True\n"
     ]
    }
   ],
   "source": [
    "a, b, c = 'string', 15, True  #Asignacion multiple. Pueden ser diferentes tipos de datos\n",
    "print(a)\n",
    "print(b)\n",
    "print(c)"
   ]
  },
  {
   "cell_type": "markdown",
   "metadata": {},
   "source": [
    "### CONDICIONES\n",
    "Evalua si una o mas condiciones se cumplen, para decir que acción vamos a ejecutar. La evaluación de condiciones solo puede arrojar 1 de 2 valores: *True (1)* o *False (0)*\n"
   ]
  },
  {
   "cell_type": "markdown",
   "metadata": {},
   "source": [
    "### OPERACIONES RELACIONALES (DE COMPARACIÓN)\n",
    "* Igual que ==\n",
    "* Distinto que !=\n",
    "* Menor que <\n",
    "* Menor igual que <=\n",
    "* Mayor que >\n",
    "* Mayor igual que >=\n",
    "\n",
    "### OPERADORES LÓGICOS\n",
    "* and Deben darse ambas condiciones [True = 1 y 1--- False = 0 y 0; 1 y 0; 0 y 1]\n",
    "* or Debe darse al menos una de las condiciones [True = 1 y 1; 1 y 0; 0 y 1--- False = 0 y 0]"
   ]
  },
  {
   "cell_type": "code",
   "execution_count": 19,
   "metadata": {},
   "outputs": [
    {
     "name": "stdout",
     "output_type": "stream",
     "text": [
      "False\n",
      "True\n",
      "True\n",
      "True\n",
      "False\n",
      "False\n"
     ]
    }
   ],
   "source": [
    "a = 5\n",
    "b = 7\n",
    "print(a == b)  #Igual que\n",
    "print(a != b)  #Distinto que\n",
    "print(a < b)  #Menor que\n",
    "print(a <= b)  #Menor o igual que\n",
    "print(a > b)  #Mayor que\n",
    "print(a >= b)  #Mayor o igual que\n",
    "\n"
   ]
  },
  {
   "cell_type": "code",
   "execution_count": 20,
   "metadata": {},
   "outputs": [
    {
     "name": "stdout",
     "output_type": "stream",
     "text": [
      "True\n",
      "False\n",
      "False\n",
      "True\n",
      "False\n",
      "True\n"
     ]
    }
   ],
   "source": [
    "a = 5 == 7\n",
    "b = 7 < 12\n",
    "c = 5 == 5\n",
    "d = 7 != 7\n",
    "print(b and c)  #(1 y 1) True\n",
    "print(a and d)  #(0 y 0) False\n",
    "print(a and b)  #(0 y 1) False\n",
    "print(b or c)  #(1 y 1) True\n",
    "print(a or d)  #(0 y 0) False\n",
    "print(a or b)  #(0 y 1) True"
   ]
  },
  {
   "cell_type": "markdown",
   "metadata": {},
   "source": [
    "### CONDICIONALES (If, Elif, Else)"
   ]
  },
  {
   "cell_type": "code",
   "execution_count": 1,
   "metadata": {},
   "outputs": [
    {
     "name": "stdout",
     "output_type": "stream",
     "text": [
      "Please guess number between 1 and 10:\n",
      "5\n",
      "You got it first time\n"
     ]
    }
   ],
   "source": [
    "answer = 5\n",
    "print(\"Please guess number between 1 and 10:\")\n",
    "guess = int(input())  # input() sirve para que el usuario pueda añadir un valor, en este caso ester (int)\n",
    "if guess < answer:  \n",
    "    print(\"Please guess higher\")\n",
    "elif guess > answer:\n",
    "    print(\"Please guess lower\")\n",
    "else:\n",
    "    print(\"You got it first time\")\n",
    "\n"
   ]
  },
  {
   "cell_type": "code",
   "execution_count": 31,
   "metadata": {},
   "outputs": [
    {
     "name": "stdout",
     "output_type": "stream",
     "text": [
      "Please enter your name: Ana\n",
      "How old are you,Ana? 4\n",
      "4\n",
      "Please come back in 14 years\n"
     ]
    }
   ],
   "source": [
    "name = input(\"Please enter your name: \")\n",
    "age = int(input(\"How old are you,{0}? \".format(name))) # .format() para introducir el valor que de el usuario en otra frase diferente\n",
    "print(age)\n",
    "if age >= 18:\n",
    "    print(\"You are old enogh to vote\")\n",
    "else:\n",
    "    print(\"Please come back in {0} years\".format(18-age)) # .format() resta los años que le quedan para tener 18 años y poder votar"
   ]
  },
  {
   "cell_type": "markdown",
   "metadata": {},
   "source": [
    "### ITERATIVAS (While, for)"
   ]
  },
  {
   "cell_type": "markdown",
   "metadata": {},
   "source": [
    "### While\n",
    "Ejecuta una misma acción \"mientras que\" una determinada condición se cumpla."
   ]
  },
  {
   "cell_type": "code",
   "execution_count": 32,
   "metadata": {},
   "outputs": [
    {
     "name": "stdout",
     "output_type": "stream",
     "text": [
      "Informes del Año, 2001\n",
      "Informes del Año, 2002\n",
      "Informes del Año, 2003\n",
      "Informes del Año, 2004\n",
      "Informes del Año, 2005\n",
      "Informes del Año, 2006\n",
      "Informes del Año, 2007\n",
      "Informes del Año, 2008\n",
      "Informes del Año, 2009\n",
      "Informes del Año, 2010\n"
     ]
    }
   ],
   "source": [
    "year = 2001\n",
    "while year <= 2010:\n",
    "    print(\"Informes del Año, {}\".format(year))\n",
    "    year += 1  # Cada iteracion incrementa el valor en 1 de la variable que condiciona el bucle de year"
   ]
  },
  {
   "cell_type": "code",
   "execution_count": 34,
   "metadata": {},
   "outputs": [
    {
     "name": "stdout",
     "output_type": "stream",
     "text": [
      "Indique su nombre: 0\n"
     ]
    }
   ],
   "source": [
    "while True:\n",
    "    name = input(\"Indique su nombre: \")\n",
    "    if nombre:\n",
    "        break  #Cuando el valor en nombre es introducido se para el bucle"
   ]
  },
  {
   "cell_type": "markdown",
   "metadata": {},
   "source": [
    "### For\n",
    "Permite iterar sobre una variable compleja, de tipo tuple o listsa"
   ]
  },
  {
   "cell_type": "code",
   "execution_count": 36,
   "metadata": {},
   "outputs": [
    {
     "name": "stdout",
     "output_type": "stream",
     "text": [
      "Juan\n",
      "Fermin\n",
      "Lucia\n",
      "Ana\n"
     ]
    }
   ],
   "source": [
    "mi_lista = ['Juan', 'Fermin', 'Lucia', 'Ana']\n",
    "for nombre in mi_lista:  #se imprimirá cada nombre que aparece en la lista\n",
    "    print(nombre)"
   ]
  },
  {
   "cell_type": "code",
   "execution_count": 37,
   "metadata": {},
   "outputs": [
    {
     "name": "stdout",
     "output_type": "stream",
     "text": [
      "Informes del Año 2001\n",
      "Informes del Año 2002\n",
      "Informes del Año 2003\n",
      "Informes del Año 2004\n",
      "Informes del Año 2005\n",
      "Informes del Año 2006\n",
      "Informes del Año 2007\n",
      "Informes del Año 2008\n",
      "Informes del Año 2009\n",
      "Informes del Año 2010\n"
     ]
    }
   ],
   "source": [
    "for year in range(2001, 2011):  #Como el indice empieza en 0, si queremos hasta 2010, tendremos que poner en el rango 2011\n",
    "    print(\"Informes del Año {}\".format(year)) "
   ]
  },
  {
   "cell_type": "markdown",
   "metadata": {},
   "source": [
    "## 3.DATOS COMPLEJOS: TUPLAS, LISTAS Y DICCIONARIOS"
   ]
  },
  {
   "cell_type": "markdown",
   "metadata": {},
   "source": [
    "### TUPLAS\n",
    "Es una variable que permite almacenar varios tipos de datos inmutables y pueden ser de tipo diferente"
   ]
  },
  {
   "cell_type": "code",
   "execution_count": 2,
   "metadata": {},
   "outputs": [
    {
     "name": "stdout",
     "output_type": "stream",
     "text": [
      "15\n",
      "('cadena de texto', 15)\n",
      "(15, 2.8, True)\n"
     ]
    }
   ],
   "source": [
    "mi_tupla = ('cadena de texto', 15, 2.8, True)\n",
    "print(mi_tupla[1])  #Imprime el valor en el índice 1 que es la posición 2\n",
    "print(mi_tupla[:2])  #Imprime desde el indice 0 hasta el 1\n",
    "print(mi_tupla[1:4])  #Imprime entre el indice 1 y el 3"
   ]
  },
  {
   "cell_type": "code",
   "execution_count": 3,
   "metadata": {},
   "outputs": [
    {
     "ename": "TypeError",
     "evalue": "'tuple' object does not support item assignment",
     "output_type": "error",
     "traceback": [
      "\u001b[0;31m---------------------------------------------------------------------------\u001b[0m",
      "\u001b[0;31mTypeError\u001b[0m                                 Traceback (most recent call last)",
      "\u001b[0;32m<ipython-input-3-b1cdbb61730a>\u001b[0m in \u001b[0;36m<module>\u001b[0;34m\u001b[0m\n\u001b[1;32m      1\u001b[0m \u001b[0;31m#inmutabilidad\u001b[0m\u001b[0;34m\u001b[0m\u001b[0;34m\u001b[0m\u001b[0;34m\u001b[0m\u001b[0m\n\u001b[0;32m----> 2\u001b[0;31m \u001b[0mmi_tupla\u001b[0m\u001b[0;34m[\u001b[0m\u001b[0;36m0\u001b[0m\u001b[0;34m]\u001b[0m \u001b[0;34m=\u001b[0m \u001b[0;36m50\u001b[0m\u001b[0;34m\u001b[0m\u001b[0;34m\u001b[0m\u001b[0m\n\u001b[0m",
      "\u001b[0;31mTypeError\u001b[0m: 'tuple' object does not support item assignment"
     ]
    }
   ],
   "source": [
    "#inmutabilidad\n",
    "mi_tupla[0] = 50"
   ]
  },
  {
   "cell_type": "code",
   "execution_count": 13,
   "metadata": {},
   "outputs": [
    {
     "data": {
      "text/plain": [
       "(1, 2, 3, 4)"
      ]
     },
     "execution_count": 13,
     "metadata": {},
     "output_type": "execute_result"
    }
   ],
   "source": [
    "#CONVERSION LISTAS EN TUPLAS\n",
    "#tuple(nombre_lista)\n",
    "tupla = (1, 2, 3, 4)\n",
    "lista = [1, 2, 3, 4]\n",
    "lista\n",
    "tuple(lista)"
   ]
  },
  {
   "cell_type": "code",
   "execution_count": 15,
   "metadata": {},
   "outputs": [
    {
     "data": {
      "text/plain": [
       "['cafe',\n",
       " 'leche',\n",
       " 'pan',\n",
       " 'huevos',\n",
       " 'jamón',\n",
       " 'calabacin',\n",
       " 'lentejas',\n",
       " 'platano',\n",
       " 'queso']"
      ]
     },
     "execution_count": 15,
     "metadata": {},
     "output_type": "execute_result"
    }
   ],
   "source": [
    "#CONCATENACION SIMPLE DE COLECCIONES\n",
    "lista_desayuno = [\"cafe\", \"leche\", \"pan\"]\n",
    "lista_comida = [\"huevos\", \"jamón\", \"calabacin\", \"lentejas\", \"platano\", \"queso\"]\n",
    "lista_compra = lista_desayuno + lista_comida\n",
    "lista_compra\n",
    "#Igual con las tuplas"
   ]
  },
  {
   "cell_type": "code",
   "execution_count": 5,
   "metadata": {},
   "outputs": [
    {
     "data": {
      "text/plain": [
       "'calabacin'"
      ]
     },
     "execution_count": 5,
     "metadata": {},
     "output_type": "execute_result"
    }
   ],
   "source": [
    "#VALOR MAXIMO Y MINIMO\n",
    "#max(tupla o lista)\n",
    "#min(tupla o lista)\n",
    "lista_compra = [\"huevos\", \"jamón\", \"calabacin\", \"lentejas\", \"platano\", \"queso\"]\n",
    "max(lista_compra)\n",
    "min(lista_compra) #orden alfabetico"
   ]
  },
  {
   "cell_type": "code",
   "execution_count": null,
   "metadata": {},
   "outputs": [],
   "source": [
    "#CONTAR ELEMENTOS\n",
    "#len(lista o tupla)\n",
    "len(lista_compra)  #Numero de elementos que tiene la lista o la tupla"
   ]
  },
  {
   "cell_type": "code",
   "execution_count": 9,
   "metadata": {},
   "outputs": [
    {
     "data": {
      "text/plain": [
       "5"
      ]
     },
     "execution_count": 9,
     "metadata": {},
     "output_type": "execute_result"
    }
   ],
   "source": [
    "#SABER EL INDEX EN EL QUE SE ENCUENTRA EL ELEMENTO\n",
    "lista_compra.index('jamón')\n",
    "lista_compra.index('queso')"
   ]
  },
  {
   "cell_type": "code",
   "execution_count": 11,
   "metadata": {},
   "outputs": [
    {
     "data": {
      "text/plain": [
       "4"
      ]
     },
     "execution_count": 11,
     "metadata": {},
     "output_type": "execute_result"
    }
   ],
   "source": [
    "#COUNT\n",
    "tupla = (100, 100, 100, 50, 100)\n",
    "tupla.count(100)"
   ]
  },
  {
   "cell_type": "code",
   "execution_count": 12,
   "metadata": {},
   "outputs": [
    {
     "ename": "AttributeError",
     "evalue": "'tuple' object has no attribute 'append'",
     "output_type": "error",
     "traceback": [
      "\u001b[0;31m---------------------------------------------------------------------------\u001b[0m",
      "\u001b[0;31mAttributeError\u001b[0m                            Traceback (most recent call last)",
      "\u001b[0;32m<ipython-input-12-5dae4f9bf949>\u001b[0m in \u001b[0;36m<module>\u001b[0;34m\u001b[0m\n\u001b[1;32m      1\u001b[0m \u001b[0;31m#APPEND al ser inmutables, las tuplas no disponen de este método\u001b[0m\u001b[0;34m\u001b[0m\u001b[0;34m\u001b[0m\u001b[0;34m\u001b[0m\u001b[0m\n\u001b[0;32m----> 2\u001b[0;31m \u001b[0mtupla\u001b[0m\u001b[0;34m.\u001b[0m\u001b[0mappend\u001b[0m\u001b[0;34m(\u001b[0m\u001b[0;36m50\u001b[0m\u001b[0;34m)\u001b[0m\u001b[0;34m\u001b[0m\u001b[0;34m\u001b[0m\u001b[0m\n\u001b[0m",
      "\u001b[0;31mAttributeError\u001b[0m: 'tuple' object has no attribute 'append'"
     ]
    }
   ],
   "source": [
    "#APPEND al ser inmutables, las tuplas no disponen de este método\n",
    "tupla.append(50)"
   ]
  },
  {
   "cell_type": "markdown",
   "metadata": {},
   "source": [
    "### LISTAS\n",
    "Es una variable que permite almacenar varios tipos de datos modificables y pueden ser de tipo diferente"
   ]
  },
  {
   "cell_type": "code",
   "execution_count": 42,
   "metadata": {},
   "outputs": [
    {
     "name": "stdout",
     "output_type": "stream",
     "text": [
      "cadena de texto\n",
      "['cadena de texto', 15, 3.8, True]\n",
      "['cadena de texto', 15, 3.8, True, 'Nuevo dato']\n"
     ]
    }
   ],
   "source": [
    "mi_lista = ['cadena de texto', 15, 2.8, True]\n",
    "print(mi_lista[0])  #Imprime el valor del indice 0\n",
    "mi_lista[2] = 3.8  #Cambiamos el valor del indice 2 por otro valor\n",
    "print(mi_lista)\n",
    "mi_lista.append('Nuevo dato')  #Añade un nuevo dato al final de la lista\n",
    "print(mi_lista)"
   ]
  },
  {
   "cell_type": "code",
   "execution_count": 2,
   "metadata": {},
   "outputs": [
    {
     "name": "stdout",
     "output_type": "stream",
     "text": [
      "['galletas', 'huevos', 'jamón', 'calabacin', 'lentejas', 'platano', 'queso', 'calabaza', 'leche', 'cafe']\n"
     ]
    }
   ],
   "source": [
    "#METODOS DE AGREGADO\n",
    "lista_compra = [\"huevos\", \"jamón\", \"calabacin\", \"lentejas\", \"platano\", \"queso\"]\n",
    "#.append(nuevo_elemento): Agregar un elemento al final de la lista\n",
    "lista_compra.append(\"calabaza\")\n",
    "#.extend(otra_lista): Agrega varios elementos al final de la lista\n",
    "lista_compra.extend([\"leche\", \"cafe\"])\n",
    "#.insert(posicion, \"nuevo_elemento\")\n",
    "lista_compra.insert(0, \"galletas\") #Añadiendo en posicion 0 el elemento galletas\n",
    "\n",
    "print(lista_compra)"
   ]
  },
  {
   "cell_type": "code",
   "execution_count": 5,
   "metadata": {},
   "outputs": [
    {
     "data": {
      "text/plain": [
       "['jamón', 'calabacin', 'platano']"
      ]
     },
     "execution_count": 5,
     "metadata": {},
     "output_type": "execute_result"
    }
   ],
   "source": [
    "#METODOS DE ELIMINACION\n",
    "lista_compra = [\"huevos\", \"jamón\", \"calabacin\", \"lentejas\", \"platano\", \"queso\"]\n",
    "#.pop() Elimina el último elemento de la lista\n",
    "lista_compra.pop()\n",
    "#pop(indice) Elimina un elemento por su indice\n",
    "lista_compra.pop(3)\n",
    "#remove(\"valor\") Elimina un elemento por su valor\n",
    "lista_compra.remove(\"huevos\")\n",
    "\n",
    "lista_compra"
   ]
  },
  {
   "cell_type": "code",
   "execution_count": 8,
   "metadata": {},
   "outputs": [
    {
     "name": "stdout",
     "output_type": "stream",
     "text": [
      "['queso', 'platano', 'lentejas', 'jamón', 'huevos', 'calabacin']\n"
     ]
    }
   ],
   "source": [
    "#METODOS ORDEN\n",
    "lista_compra = [\"huevos\", \"jamón\", \"calabacin\", \"lentejas\", \"platano\", \"queso\"]\n",
    "#.reverse() Ordenar una lista en reversa (invertir orden)\n",
    "lista_compra.reverse()\n",
    "#.sort() Ordenar una lista en forma ascendente\n",
    "lista_compra.sort()\n",
    "#.sort(reverse=True) Ordenar una lista en forma descendente\n",
    "lista_compra.sort(reverse=True)\n",
    "\n",
    "print(lista_compra)"
   ]
  },
  {
   "cell_type": "code",
   "execution_count": 11,
   "metadata": {},
   "outputs": [
    {
     "data": {
      "text/plain": [
       "5"
      ]
     },
     "execution_count": 11,
     "metadata": {},
     "output_type": "execute_result"
    }
   ],
   "source": [
    "#METODO DE BUSQUEDA\n",
    "lista_compra = [\"huevos\", \"jamón\", \"calabacin\", \"lentejas\", \"platano\", \"queso\"]\n",
    "#.count(elemento) Contar cantidad de apariciones elementos\n",
    "lista_compra.count(\"calabacin\")\n",
    "#.index(elemento,[, indice_inicio, indie_fin] Obtener numero de indice\n",
    "lista_compra.index(\"queso\")"
   ]
  },
  {
   "cell_type": "markdown",
   "metadata": {},
   "source": [
    "### DICCIONARIOS\n",
    "Mientras que tuplas y listas se accede solo por numero de indice, en diccionarios se puede utilizar una clave asociada a cada valor para acceder a él."
   ]
  },
  {
   "cell_type": "code",
   "execution_count": 46,
   "metadata": {},
   "outputs": [
    {
     "name": "stdout",
     "output_type": "stream",
     "text": [
      "{'Maria': 26, 'Juan': 15, 'Roberto': 46}\n",
      "{'Maria': 27, 'Juan': 15, 'Roberto': 46}\n",
      "{'Maria': 27, 'Roberto': 46}\n"
     ]
    }
   ],
   "source": [
    "mi_diccionario = {'Maria':26, 'Juan':15, 'Roberto':46}\n",
    "print(mi_diccionario)\n",
    "mi_diccionario['Maria'] = 27  #Modifica el valor de la clave Maria\n",
    "print(mi_diccionario)\n",
    "del(mi_diccionario['Juan'])  #Elimina el valor de la clave Juan\n",
    "print(mi_diccionario)"
   ]
  },
  {
   "cell_type": "code",
   "execution_count": 18,
   "metadata": {},
   "outputs": [
    {
     "data": {
      "text/plain": [
       "{}"
      ]
     },
     "execution_count": 18,
     "metadata": {},
     "output_type": "execute_result"
    }
   ],
   "source": [
    "#METODO DE ELIMINACION\n",
    "diccionario = {\"color\": \"violeta\", \"talla\": \"XS\", \"precio\": 174.25}\n",
    "diccionario\n",
    "diccionario.clear() #Elimina el diccionario\n",
    "diccionario"
   ]
  },
  {
   "cell_type": "code",
   "execution_count": 19,
   "metadata": {},
   "outputs": [
    {
     "data": {
      "text/plain": [
       "{'color': 'violeta', 'talla': 'XS', 'precio': 174.25}"
      ]
     },
     "execution_count": 19,
     "metadata": {},
     "output_type": "execute_result"
    }
   ],
   "source": [
    "#METODO DE AGRAGADO Y CREACION\n",
    "diccionario = {\"color\": \"violeta\", \"talla\": \"XS\", \"precio\": 174.25}\n",
    "remera = diccionario.copy() #copia el diccionario\n",
    "diccionario\n",
    "remera\n"
   ]
  },
  {
   "cell_type": "code",
   "execution_count": 21,
   "metadata": {},
   "outputs": [
    {
     "data": {
      "text/plain": [
       "{'color': 'valor x defecto',\n",
       " 'talle': 'valor x defecto',\n",
       " 'marca': 'valor x defecto'}"
      ]
     },
     "execution_count": 21,
     "metadata": {},
     "output_type": "execute_result"
    }
   ],
   "source": [
    "#CREAR NUEVO DICCIONARIO DESDE LAS CLAVES DE UNA SECUANCIA\n",
    "#.dict.fromkeys(secuencia[,valor por defecto])\n",
    "secuencia = [\"color\", \"talle\", \"marca\"]\n",
    "diccionario1 = dict.fromkeys(secuencia)\n",
    "diccionario1\n",
    "diccionario2 = dict.fromkeys(secuencia, 'valor x defecto')\n",
    "diccionario2\n"
   ]
  },
  {
   "cell_type": "code",
   "execution_count": 26,
   "metadata": {},
   "outputs": [
    {
     "name": "stdout",
     "output_type": "stream",
     "text": [
      "U\n",
      "{'color': 'rosa', 'marca': 'Zara', 'talle': 'U'}\n",
      "None\n",
      "{'color': 'rosa', 'marca': 'Zara', 'talle': 'U', 'estampado': None}\n"
     ]
    }
   ],
   "source": [
    "#ESTABLECER UNA CLAVE Y VALOR POR DEFECTO\n",
    "#.setdefault(\"clave\"[,None|valor_por_defecto])\n",
    "remera = {\"color\": \"rosa\", \"marca\": \"Zara\"}\n",
    "clave = remera.setdefault(\"talle\", \"U\")\n",
    "print(clave)\n",
    "print(remera)\n",
    "remera2 = remera.copy()\n",
    "clave = remera2.setdefault(\"estampado\")\n",
    "print(clave)\n",
    "print(remera2)\n"
   ]
  },
  {
   "cell_type": "code",
   "execution_count": 40,
   "metadata": {},
   "outputs": [
    {
     "name": "stdout",
     "output_type": "stream",
     "text": [
      "El valor de la clave color es rosa\n",
      "El valor de la clave marca es Zara\n"
     ]
    },
    {
     "data": {
      "text/plain": [
       "2"
      ]
     },
     "execution_count": 40,
     "metadata": {},
     "output_type": "execute_result"
    }
   ],
   "source": [
    "#METODOS DE RETORNO\n",
    "remera = {\"color\": \"rosa\", \"marca\": \"Zara\"}\n",
    "#.get(clave[,\"valor x defecto si la clave no existe\"]) Obtener el valor de una clave\n",
    "remera.get(\"color\")\n",
    "remera.get(\"stock\")\n",
    "remera.get(\"stock\", \"sin stock\")\n",
    "\n",
    "#.items() Alias: items() Obtener las claves y valores de un diccionario\n",
    "diccionario = {\"color\": \"rosa\", \"marca\": \"Zara\"}\n",
    "\n",
    "for clave, valor in diccionario.items():\n",
    "    print(\"El valor de la clave %s es %s\" % (clave, valor))\n",
    "    \n",
    "#.keys() Obtener claves de un diccionario\n",
    "claves = diccionario.keys()\n",
    "claves\n",
    "\n",
    "#.values() Obtener los valores de un diccionario\n",
    "valores = diccionario.values()\n",
    "valores\n",
    "\n",
    "#.len() Obtener la cantidad de elementos de un diccionario\n",
    "len(diccionario)"
   ]
  },
  {
   "cell_type": "markdown",
   "metadata": {},
   "source": [
    "### Trabajando con archivos (file)"
   ]
  },
  {
   "cell_type": "markdown",
   "metadata": {},
   "source": [
    "**Modos de apertura**\n",
    "(Ubicación: al inicio del archivo)\n",
    "* r: Solo lectura \n",
    "* rb: Solo lectura en modo binario \n",
    "* r+: Lectura y escritura\n",
    "* w: Solo escritura. Sobreescribe el archivo si existe. Crea el archivo si no existe\n",
    "* wb: Solo escritura en modo binario. Sobreescribe el archivo si existe. Crea el archivo si no existe\n",
    "* w+: Escritura y lectura. Sobreescribe el archivo si existe. Crea el archivo si no existe\n",
    "* wb+: Escritura y lectua en modo binario. Sobreescribe el archivo si existe. Crea el archivo si no existe\n",
    "(Ubicación: Si el archivo existe, al final de éste. Si el archivo no existe, al principio)\n",
    "* a: Añadido (agregar cotenido). Crea el archivo si no existe\n",
    "* ab: Añadido en modo binario. Crea el archivo si no existe\n",
    "* a+: Añadido (agrega contenido) y lectura. Crea archivo si no existe\n",
    "* ab+: Añadido (agrega contenido) y lectura en modo binario. Crea archivo si no existe\n"
   ]
  },
  {
   "cell_type": "markdown",
   "metadata": {},
   "source": [
    "**Propiedades del objeto file**\n",
    "* closed: retorna verdadero si el archivo ha cerrado. De lo contrario, falso\n",
    "* mode: retorna el modo de apertura\n",
    "* name = retorna el nombre del archivo\n",
    "* encoding = retorna la codificacion de caracteres de un archivo de texto"
   ]
  },
  {
   "cell_type": "code",
   "execution_count": null,
   "metadata": {},
   "outputs": [],
   "source": [
    "#Cerrando archivos de forma automatica\n",
    "with open(\"remeras.txt\") as archivo: \n",
    "    contenido = archivo.read()\n",
    "print(archivo.closed)\n",
    "#Bucle with. Cuando una estructura with finaliza, Python invoca al metodo close()."
   ]
  },
  {
   "cell_type": "markdown",
   "metadata": {},
   "source": [
    "## 4.BIBLIOTECAS Y MÓDULOS ESTÁNDAR\n",
    "\n",
    "**MÓDULO:** Es un archivo .py\n",
    "**PAQUETE:** Carpetas con archivos .py, debe contener un archivo _init.py, el cual no necesita ninguna instrucción (puede estar vacío)."
   ]
  },
  {
   "cell_type": "code",
   "execution_count": 18,
   "metadata": {
    "scrolled": true
   },
   "outputs": [
    {
     "name": "stdout",
     "output_type": "stream",
     "text": [
      "0.7071067811865476\n",
      "datos es igual a: [90, 47, 77, 16, 67, 17, 54, 92, 22, 52]\n",
      "La media de los datos es: 53.4\n",
      "La varianza de los datos es: 813.8222222222222\n"
     ]
    }
   ],
   "source": [
    "# Importando modulos estándar\n",
    "#matematicas\n",
    "import math  # permite el acceso a las funciones de la biblioteca C subyacente para la matemática de punto flotante\n",
    "import statistics  \n",
    "import random #Obtener datos aleatorios\n",
    "\n",
    "pi_cuartos = math.cos(math.pi / 4)\n",
    "datos = random.sample(range(100), 10)\n",
    "mean = statistics.mean(datos)\n",
    "variance = statistics.variance(datos)\n",
    "print(pi_cuartos)\n",
    "print('datos es igual a: {}'.format(datos))\n",
    "print('La media de los datos es: {}'.format(mean))\n",
    "print('La varianza de los datos es: {}'.format(variance))"
   ]
  },
  {
   "cell_type": "code",
   "execution_count": null,
   "metadata": {},
   "outputs": [],
   "source": [
    "#Acceso a Internet\n",
    "\n",
    "#mandar un correo electrónico\n",
    "import smtplib\n",
    "server = smtplib.SMTP('localhost')\n",
    "server.sendmail('soothsayer@example.org', 'jcaesar@example.org',\n",
    "\"\"\"To: jcaesar@example.org\n",
    "From: soothsayer@example.org\n",
    "\n",
    "Beware the Ides of March.\n",
    "\"\"\")"
   ]
  },
  {
   "cell_type": "code",
   "execution_count": 21,
   "metadata": {},
   "outputs": [
    {
     "name": "stdout",
     "output_type": "stream",
     "text": [
      "2020-09-28\n",
      "20513\n"
     ]
    }
   ],
   "source": [
    "#Fecha y tiempo\n",
    "# Los datos son construidos y formateados de forma fácil\n",
    "from datetime import date\n",
    "now = date.today()\n",
    "print(now)\n",
    "\n",
    "# dates support calendar arithmetic\n",
    "birthday = date(1964, 7, 31)\n",
    "age = now - birthday\n",
    "print(age.days)"
   ]
  },
  {
   "cell_type": "code",
   "execution_count": null,
   "metadata": {},
   "outputs": [],
   "source": [
    "# Importando las bibliotecas\n",
    "import matplotlib.pyplot as plt  #Importar la biblioteca de matemáticas como m\n",
    "import numpy as np  #Importar la biblioteca de vectores y matrices\n",
    "\n",
    "\"\"\" \n",
    "matplotlib.pyplot: https://matplotlib.org/3.3.1/api/_as_gen/matplotlib.pyplot.html\n",
    "\n",
    "numpy: https://numpy.org/\n",
    "\"\"\""
   ]
  },
  {
   "cell_type": "markdown",
   "metadata": {},
   "source": [
    "## 5.GRAFICOS SENCILLOS"
   ]
  },
  {
   "cell_type": "code",
   "execution_count": 2,
   "metadata": {},
   "outputs": [
    {
     "data": {
      "text/plain": [
       "[<matplotlib.lines.Line2D at 0x255d69be940>]"
      ]
     },
     "execution_count": 2,
     "metadata": {},
     "output_type": "execute_result"
    },
    {
     "data": {
      "image/png": "[encoded data removed]",
      "text/plain": [
       "<Figure size 432x288 with 1 Axes>"
      ]
     },
     "metadata": {
      "needs_background": "light"
     },
     "output_type": "display_data"
    }
   ],
   "source": [
    "# Importando las bibliotecas\n",
    "import matplotlib.pyplot as plt  #Importar la biblioteca de matemáticas como m\n",
    "import numpy as np  #Importar la biblioteca de vectores y matrices\n",
    "\n",
    "# Grafico sencillo\n",
    "x = np.arange(0, 5, 0.1)  # Rango desde 0 hasta 5 en intervalos de 0.1\n",
    "y = np.sin(x)\n",
    "plt.title('Gráfico sencillo')\n",
    "plt.xlabel('Size',fontsize=10)\n",
    "plt.ylabel('Price',fontsize=10)\n",
    "plt.plot(x, y)  \n",
    "\n",
    "# np. y plt. para que useamos las funciones de las bibliotecas"
   ]
  },
  {
   "cell_type": "code",
   "execution_count": 2,
   "metadata": {},
   "outputs": [
    {
     "data": {
      "image/png": "[encoded data removed]",
      "text/plain": [
       "<Figure size 432x288 with 1 Axes>"
      ]
     },
     "metadata": {
      "needs_background": "light"
     },
     "output_type": "display_data"
    }
   ],
   "source": [
    "#Otro gráfico sencillo\n",
    "\n",
    "import matplotlib.pyplot as plt\n",
    "\n",
    "plt.plot([0, 1, 2, 3, 4], [0, 1, 2, 3, 4]) \n",
    "plt.title('grafico sencillo')\n",
    "plt.axis([0, 4, 0, 4])\n",
    "plt.show()"
   ]
  },
  {
   "cell_type": "code",
   "execution_count": 7,
   "metadata": {},
   "outputs": [
    {
     "data": {
      "text/plain": [
       "[<matplotlib.lines.Line2D at 0x255d6b903a0>]"
      ]
     },
     "execution_count": 7,
     "metadata": {},
     "output_type": "execute_result"
    },
    {
     "data": {
      "image/png": "[encoded data removed]",
      "text/plain": [
       "<Figure size 432x288 with 1 Axes>"
      ]
     },
     "metadata": {
      "needs_background": "light"
     },
     "output_type": "display_data"
    }
   ],
   "source": [
    "x = [0, 2, 4, 6]\n",
    "y = np.sin(x)\n",
    "plt.plot(x, y, 'o')"
   ]
  },
  {
   "cell_type": "code",
   "execution_count": 10,
   "metadata": {},
   "outputs": [
    {
     "data": {
      "image/png": "[encoded data removed]",
      "text/plain": [
       "<Figure size 432x288 with 1 Axes>"
      ]
     },
     "metadata": {
      "needs_background": "light"
     },
     "output_type": "display_data"
    }
   ],
   "source": [
    "t = np.arange(0., 5., 0.2)  #Intervalo de 0 a 5 en steps de 0.2\n",
    "\n",
    "plt.plot(t, t, 'r--', t, t**2, 'bs', t, t**3, 'g^')\n",
    "plt.show()"
   ]
  },
  {
   "cell_type": "markdown",
   "metadata": {},
   "source": [
    "|Property       | Value Type             | \n",
    "|:-------------|:-----------------------:|\n",
    "|Linestyle | ['-'] [','] ['.'] ['-.'] [':'] ['steps']|\n",
    "|Markers | ['+'] [','] ['.'] ['1'] ['2']|\n"
   ]
  },
  {
   "cell_type": "code",
   "execution_count": 12,
   "metadata": {},
   "outputs": [
    {
     "name": "stderr",
     "output_type": "stream",
     "text": [
      "<ipython-input-12-74854213161a>:30: MatplotlibDeprecationWarning: SymmetricalLogScale got an unexpected keyword argument 'linthresh'. In the future this will raise TypeError\n",
      "  plt.yscale('symlog', linthresh=0.01)\n"
     ]
    },
    {
     "data": {
      "image/png": "[encoded data removed]",
      "text/plain": [
       "<Figure size 432x288 with 4 Axes>"
      ]
     },
     "metadata": {
      "needs_background": "light"
     },
     "output_type": "display_data"
    }
   ],
   "source": [
    "#Fixing random state for reproducibility\n",
    "np.random.seed(19680801)\n",
    "\n",
    "# make up some data in the open interval (0, 1)\n",
    "y = np.random.normal(loc=0.5, scale=0.4, size=1000)\n",
    "y = y[(y > 0) & (y < 1)]\n",
    "y.sort()\n",
    "x = np.arange(len(y))\n",
    "\n",
    "# plot with various axes scales\n",
    "plt.figure()\n",
    "\n",
    "# linear\n",
    "plt.subplot(221)\n",
    "plt.plot(x, y)\n",
    "plt.yscale('linear')\n",
    "plt.title('linear')\n",
    "plt.grid(True)\n",
    "\n",
    "# log\n",
    "plt.subplot(222)\n",
    "plt.plot(x, y)\n",
    "plt.yscale('log')\n",
    "plt.title('log')\n",
    "plt.grid(True)\n",
    "\n",
    "# symmetric log\n",
    "plt.subplot(223)\n",
    "plt.plot(x, y - y.mean())\n",
    "plt.yscale('symlog', linthresh=0.01)\n",
    "plt.title('symlog')\n",
    "plt.grid(True)\n",
    "\n",
    "# logit\n",
    "plt.subplot(224)\n",
    "plt.plot(x, y)\n",
    "plt.yscale('logit')\n",
    "plt.title('logit')\n",
    "plt.grid(True)\n",
    "# Adjust the subplot layout, because the logit one may take more space\n",
    "# than usual, due to y-tick labels like \"1 - 10^{-3}\"\n",
    "plt.subplots_adjust(top=0.92, bottom=0.08, left=0.10, right=0.95, hspace=0.25,\n",
    "                    wspace=0.35)\n",
    "\n",
    "plt.show()"
   ]
  },
  {
   "cell_type": "markdown",
   "metadata": {},
   "source": [
    "## 6.FUNCIONES Y VARIABLES LOCALES"
   ]
  },
  {
   "cell_type": "markdown",
   "metadata": {},
   "source": [
    "**Funcion:** Forma de agrupar expresiones y sentencias (algoritmos) que realicen determinadas acciones\n",
    "\n",
    "Una funcion puede tener cualquier tipo de algoritmo y cualquier cantidad de ellos, y utilizar cualquiera de las caracteristicas vistas hasta ahora.\n",
    "La finalidad de la funcion deber ser **Realizar una única función reutilizable y genérica**."
   ]
  },
  {
   "cell_type": "code",
   "execution_count": 24,
   "metadata": {},
   "outputs": [
    {
     "name": "stdout",
     "output_type": "stream",
     "text": [
      "Hola mundo\n"
     ]
    }
   ],
   "source": [
    "def mi_funcion():  #Definicion de la funcion\n",
    "    return \"Hola mundo\"  #El algoritmo\n",
    "frase = mi_funcion() #Asignamos el valor de la funcion a una variable\n",
    "print(frase)"
   ]
  },
  {
   "cell_type": "code",
   "execution_count": 34,
   "metadata": {},
   "outputs": [
    {
     "name": "stdout",
     "output_type": "stream",
     "text": [
      "1350.0\n"
     ]
    }
   ],
   "source": [
    "def calcular(importe, descuento):\n",
    "    return importe-(importe*descuento/100)\n",
    "datos = {'descuento':10, 'importe':1500}\n",
    "print(calcular(**datos))\n"
   ]
  },
  {
   "cell_type": "markdown",
   "metadata": {},
   "source": [
    "**Variables locales**\n",
    "locals(): diccionario de ámbito local\n",
    "globals(): diccionario global"
   ]
  },
  {
   "cell_type": "markdown",
   "metadata": {},
   "source": [
    "## 7.GENERADOS DE DOCUMENTOS, pyDoc"
   ]
  },
  {
   "cell_type": "markdown",
   "metadata": {},
   "source": [
    "El modulo pydoc genera automáticamente documentación de módulos de python.\n",
    "La documentación se puede presentar como páginas de texto en la consola, servidor en\n",
    "un bucador web o guardar archivos HTLM.\n",
    "\n",
    "pydoc nombre_del_modulo #Acceder a toda la documentación\n",
    "pydoc -w nombre_del_modulo  # Obtener la documentación en formato HTML"
   ]
  },
  {
   "cell_type": "code",
   "execution_count": 4,
   "metadata": {},
   "outputs": [
    {
     "name": "stdout",
     "output_type": "stream",
     "text": [
      "Help on class Areas in module __main__:\n",
      "\n",
      "class Areas(builtins.object)\n",
      " |  Methods defined here:\n",
      " |  \n",
      " |  areaCuadrado(lado)\n",
      " |      Calcula el area de un cuadrado\n",
      " |      elevando al cuadrado el lado pasado por parámetro\n",
      " |  \n",
      " |  areaTriangulo(base, altura)\n",
      " |      Cacula el area del triangulo\n",
      " |      utilizando los parametros base y altura\n",
      " |  \n",
      " |  ----------------------------------------------------------------------\n",
      " |  Data descriptors defined here:\n",
      " |  \n",
      " |  __dict__\n",
      " |      dictionary for instance variables (if defined)\n",
      " |  \n",
      " |  __weakref__\n",
      " |      list of weak references to the object (if defined)\n",
      "\n"
     ]
    }
   ],
   "source": [
    "class Areas:\n",
    "    def areaCuadrado(lado):\n",
    "        \"\"\"Calcula el area de un cuadrado\n",
    "        elevando al cuadrado el lado pasado por parámetro\"\"\"\n",
    "        return \"El area del cuadrado es: {}\".format(lado*lado)\n",
    "    def areaTriangulo(base, altura):\n",
    "        \"\"\"Cacula el area del triangulo\n",
    "        utilizando los parametros base y altura\"\"\"\n",
    "        return \"El area del tiangulo es:\".format((base*altura)/2)\n",
    "help(Areas)  #Nos dice la descripción de las funcones creadas (Area del cuadrado y del triangulo)\n",
    "lado = 19\n",
    "base = 10\n",
    "altura = 2\n",
    "\n"
   ]
  },
  {
   "cell_type": "markdown",
   "metadata": {},
   "source": [
    "## 8.EJMEPLO: SIMULACIÓN DE MONTECARLO PARA  RESOLVER UN PROBLEMA COMPLEJO"
   ]
  },
  {
   "cell_type": "code",
   "execution_count": null,
   "metadata": {},
   "outputs": [],
   "source": []
  },
  {
   "cell_type": "markdown",
   "metadata": {},
   "source": [
    "## 9.PROGRAMACIÓN ORIENTADA A OBJETOS (POO)"
   ]
  },
  {
   "cell_type": "markdown",
   "metadata": {},
   "source": [
    "(Programación)  (POO)\n",
    "OBJETO           ELEMENTO           Objeto\n",
    "PROPIEDADES      ELEMENTO           atrbutos o cualidades\n",
    "MÉTODO           ELEMENTO           acciones\n",
    "COPOSICIÓN       TÉCNICA            atributo-objeto\n",
    "POLIMORFISMO     CARACTERÍSTICAS    objeto relacionado\n",
    "HERENCIA         CARACTERÍSTICAS    sub-tipo de objeto"
   ]
  },
  {
   "cell_type": "code",
   "execution_count": 53,
   "metadata": {},
   "outputs": [
    {
     "name": "stdout",
     "output_type": "stream",
     "text": [
      "verde\n",
      "grande\n",
      "feo\n"
     ]
    }
   ],
   "source": [
    "class Objeto():  #Modulo clase (class) sobre el que se construyen los objetos\n",
    "    # Propiedades: Las variables. Características del objeto\n",
    "    color = 'verde'\n",
    "    tamaño = 'grande'\n",
    "    aspecto = 'feo'\n",
    "    \n",
    "    def flotar(self):  #El Método. LAs funciones de los objetos (acciones)\n",
    "        print(12)\n",
    "\n",
    "et = Objeto()  #El objeto. instanciar una clase. Asignar la clase como valor de una variable.\n",
    "print(et.color)\n",
    "print(et.tamaño)\n",
    "print(et.aspecto)\n",
    "    "
   ]
  },
  {
   "cell_type": "code",
   "execution_count": 54,
   "metadata": {},
   "outputs": [
    {
     "name": "stdout",
     "output_type": "stream",
     "text": [
      "rosa\n"
     ]
    }
   ],
   "source": [
    "et.color = \"rosa\"\n",
    "print(et.color)"
   ]
  },
  {
   "cell_type": "code",
   "execution_count": 57,
   "metadata": {},
   "outputs": [
    {
     "name": "stdout",
     "output_type": "stream",
     "text": [
      "verde\n",
      "grande\n",
      "feo\n",
      "<__main__.Pelo object at 0x0000025CAE922790>\n"
     ]
    }
   ],
   "source": [
    "#Herencia\n",
    "\n",
    "class Ojo(object):\n",
    "    color = \"azules\"\n",
    "    forma = \"concavo\"\n",
    "    tamaño = \"pequeño\"\n",
    "\n",
    "class Pelo(object):\n",
    "    color = \"Moreno\"\n",
    "    tectura = \"Liso\"\n",
    "\n",
    "class Objeto():  #Modulo clase (class) sobre el que se construyen los objetos\n",
    "    # Propiedades: Las variables. Características del objeto\n",
    "    color = 'verde'\n",
    "    tamaño = 'grande'\n",
    "    aspecto = 'feo'\n",
    "    ojos = Ojo()\n",
    "    pelos = Pelo()\n",
    "    \n",
    "    def flotar(self):  #El Método. LAs funciones de los objetos (acciones)\n",
    "        print(12)\n",
    "\n",
    "et = Objeto()  #El objeto. instanciar una clase. Asignar la clase como valor de una variable.\n",
    "print(et.color)\n",
    "print(et.tamaño)\n",
    "print(et.aspecto)\n",
    "print(et.pelos)\n",
    "    "
   ]
  },
  {
   "cell_type": "markdown",
   "metadata": {},
   "source": [
    "### Métodos principales del Objeto String\n",
    "\n",
    "nombre_variable.metodo()"
   ]
  },
  {
   "cell_type": "code",
   "execution_count": 63,
   "metadata": {},
   "outputs": [
    {
     "name": "stdout",
     "output_type": "stream",
     "text": [
      "Bienvenido\n",
      "hola mundo\n",
      "HOLA MUNDO\n",
      "hOLA mUNDO\n"
     ]
    }
   ],
   "source": [
    "#METODOS DE FORMATO\n",
    "#Convertir a Mayúscula la primera letra\n",
    "\"\"\"metodo: .capitalize()\"\"\"\n",
    "cadena = \"bienvenido\"\n",
    "print(cadena.capitalize())\n",
    "\n",
    "#Convertir una cadena en minuscula o mayúscula\n",
    "\"\"\"metodo: .lower() o upper\"\"\"\n",
    "cadena1 = \"Hola MunDo\"\n",
    "cadena2 = \"hola mundo\"\n",
    "print(cadena1.lower())\n",
    "print(cadena2.upper())\n",
    "\n",
    "#Convertir mayusculas a minusculas o viceversa\n",
    "\"\"\"metodo: .swapcase()\"\"\"\n",
    "cadena3 = \"Hola Mundo\"\n",
    "print(cadena3.swapcase())"
   ]
  },
  {
   "cell_type": "code",
   "execution_count": 65,
   "metadata": {},
   "outputs": [
    {
     "name": "stdout",
     "output_type": "stream",
     "text": [
      "Hola Mundo\n",
      "====================hola mundo====================\n"
     ]
    }
   ],
   "source": [
    "#Convertir una cadena en Formato título\n",
    "\"\"\"metodo: .title()\"\"\"\n",
    "cadena4 = \"hola mundo\"\n",
    "print(cadena4.title())\n",
    "\n",
    "#Centrar, alinear izquierda, alinear derecha un texto\n",
    "\"\"\"metodo: .center(longitud[,\"caracter de relleno\"])\n",
    "Ijust(longitud,[caracter de relleno])\n",
    "rjust(longitud,[caracter de relleno])\"\"\"\n",
    "cadena5 = \"hola mundo\"\n",
    "print(cadena5.center(50, \"=\"))\n",
    "\n",
    "#Rellenar un tecto anteponiendo ceros\n",
    "\"\"\"metodo: .zfill(longitud)\"\"\"\n",
    "cadena6 = 1567\n",
    "print(str(cadena6).zfill(12))"
   ]
  },
  {
   "cell_type": "code",
   "execution_count": 69,
   "metadata": {},
   "outputs": [
    {
     "name": "stdout",
     "output_type": "stream",
     "text": [
      "3\n",
      "13\n"
     ]
    }
   ],
   "source": [
    "#METODOS DE BUSQUEDA\n",
    "#Contar cantidad de apariciones de una subcadena\n",
    "\"\"\"metodo: .count(\"subcadena\"[,posicion_inicio, posicion_fin])\"\"\"\n",
    "cadena7 = \"bienvenido a mi aplicacion\"\n",
    "print(cadena7.count(\"a\"))\n",
    "\n",
    "#Buscar una subcadena dentro de la cadena\n",
    "\"\"\"metodo: .find(\"subcadena\"[,posision_inicio, posicion_fin])\"\"\"\n",
    "cadena8 = \"bienvenido a mi aplicacion\"\n",
    "print(cadena8.find(\"mi\"))"
   ]
  },
  {
   "cell_type": "code",
   "execution_count": 71,
   "metadata": {
    "scrolled": true
   },
   "outputs": [
    {
     "name": "stdout",
     "output_type": "stream",
     "text": [
      "True\n",
      "False\n",
      "False\n"
     ]
    },
    {
     "data": {
      "text/plain": [
       "' metodo: .isspace() '"
      ]
     },
     "execution_count": 71,
     "metadata": {},
     "output_type": "execute_result"
    }
   ],
   "source": [
    "#METODOS DE VALIDACION\n",
    "#Saber si una cadena comienza o finaliza con una subcadena determinada\n",
    "\"\"\"metodo: .startswith(\"subcadena\"[,posicion_inicio, posicion_fin])\n",
    ".endswith(\"subcadena\"[,posicion_inicio, posicion_fin])\n",
    "retorna: True o False\"\"\"\n",
    "\n",
    "cadena9 = \"bienvenido a mi aplicadion\".capitalize()\n",
    "print(cadena9.startswith(\"Bienvenido\"))\n",
    "print(cadena9.endswith(\"aplicacion\"))\n",
    "\n",
    "#Saber si una cadena es alfanumerica\n",
    "\"\"\"metodo: .isalnum()\n",
    "Retorna: True o False\"\"\"\n",
    "cadena10 = \"pepegrillo 75\"\n",
    "print(cadena10.isalnum())\n",
    "\n",
    "#saber si es albetica o numerica\n",
    "\"\"\"metodo: .isalpha()\n",
    ".isdigit()\n",
    "Retorna: True o False\"\"\"\n",
    "\n",
    "#Saber si solo contiene minusculas o maysculas\n",
    "\"\"\"metodo: .islower\n",
    ".isupper\"\"\"\n",
    "\n",
    "#Saber si una cadena contiene solo espacios en blanco\n",
    "\"\"\"metodo: .isspace()\"\"\""
   ]
  },
  {
   "cell_type": "code",
   "execution_count": 72,
   "metadata": {},
   "outputs": [
    {
     "data": {
      "text/plain": [
       "'.format(*args, **kwargs) #Dar formato a una cadena, sustituyendo texto dinamicamente\\n.replace(\"subcadena a buscar, subcadena por la cual reemplazar\")  #Reemplaza texto de una cadena\\n.strip([\"caracter\"])  #Elimina caracteres a la izquierda y a la derecha de una cadena\\n.lstrip([\"caracter\"])  #Elimina carateres a la izquierda de la cadena\\n.rstrip([\"caracter\"])  #Elimina carateres a la derecha de la cadena\\n'"
      ]
     },
     "execution_count": 72,
     "metadata": {},
     "output_type": "execute_result"
    }
   ],
   "source": [
    "#METODOS DE SUSTITUCION\n",
    "\"\"\".format(*args, **kwargs) #Dar formato a una cadena, sustituyendo texto dinamicamente\n",
    ".replace(\"subcadena a buscar, subcadena por la cual reemplazar\")  #Reemplaza texto de una cadena\n",
    ".strip([\"caracter\"])  #Elimina caracteres a la izquierda y a la derecha de una cadena\n",
    ".lstrip([\"caracter\"])  #Elimina carateres a la izquierda de la cadena\n",
    ".rstrip([\"caracter\"])  #Elimina carateres a la derecha de la cadena\n",
    "\"\"\" "
   ]
  },
  {
   "cell_type": "markdown",
   "metadata": {},
   "source": [
    "### VALIDACION DE UNA CONTRASEÑA. \n",
    "Debe cumplir:\n",
    "    * La contraseña debe tener un minimo de 8 dígitos \n",
    "    * Debe contener al menos una mayuscula, una minuscula y un caracter numérico\n",
    "    * La contraseña no puede tener espacios en blanco\n",
    "    * Contraseña válida retorna True\n",
    "    * Contraseña no valida retorna \"La contraseña elegida no es segura\""
   ]
  },
  {
   "cell_type": "code",
   "execution_count": null,
   "metadata": {},
   "outputs": [],
   "source": [
    "import re  #Modulo de expresiones regulares\n",
    "\n",
    "def validar_password(password):\n",
    "    if <= 8 len(password) >= 16:  #Longitud minimo 8 caracteres\n",
    "        if re.search(['a-z'], password) and re.search('[A-Z]', password):\n",
    "            if re.search('[0-9]', password):\n",
    "                if re.search('[$@#]', password):\n",
    "                    return True\n",
    "    return \"La contraseña no es segura\"\n",
    "\n",
    "clave = input(\"Escriba la contraseña: \")\n",
    "\n",
    "print(validar_password(clave))"
   ]
  },
  {
   "cell_type": "markdown",
   "metadata": {},
   "source": [
    "## 10.Numpy\n",
    "El módulo numpy nos da acceso a los arrays y a una enorme cantidad de métodos y funciones aplicables a los\n",
    "mismos. Naturalmente, numpy incluye funciones matemáticas básicas similares al módulo math, las\n",
    "completa con otras más elaboradas y además incluye algunas utilidades de números aleatorios, ajuste\n",
    "lineal de funciones y muchas otras."
   ]
  },
  {
   "cell_type": "code",
   "execution_count": 17,
   "metadata": {},
   "outputs": [
    {
     "data": {
      "text/plain": [
       "array([9.8, 7.8, 9.9, 8.4, 6.9])"
      ]
     },
     "execution_count": 17,
     "metadata": {},
     "output_type": "execute_result"
    }
   ],
   "source": [
    "import numpy as np  #Cargar el modulo numpy como np\n",
    "\n",
    "x = np.array([2.0, 4.6, 9.3, 1.2])  #Creacion del array directamente\n",
    "notas = [9.8, 7.8, 9.9, 8.4, 6.9]  #Crear una lista\n",
    "notas = np.array(notas)  #Convertir la lista en array\n",
    "notas"
   ]
  },
  {
   "cell_type": "markdown",
   "metadata": {},
   "source": [
    "|  Operador          |  Descripción                              | \n",
    "|:----------------|:-----------------------------------------:|\n",
    "| np.array | 1s array|\n",
    "| np.array([(1, 2, 3), (4, 5, 6)])| 2d array|\n",
    "| np.arange(start, stop, step)| array desde un rango|\n",
    "| np.linspace(0,2,9) | Agrega valores equidistantes desde el intervalo hasta el largo del array|\n",
    "| np.zeros((1,2)) | Crea un array de zeros (fila, cantidad de ceros)|\n",
    "| np.ones((1,2)) | Crea un array de unos (fila, cantidad de unos)|\n",
    "| np.random.random((5,5)) | Crea un array de numeros aleatorios (fila, cantidad de valores)|\n",
    "| np.empty((2,2)) | Crea un array vacio|\n",
    "|              Propiedades de los array|\n",
    "| array.shape(,) | Dimensiones (filas, columnas)|\n",
    "| lend(array)| Largo de los array|\n",
    "| array.ndim| Numero de dimensiones del array|\n",
    "| array.size| Numero de los elemtos del array|\n",
    "| type(array)| Tipo de array|\n",
    "| np.copy(array) | Crea una copia del array|\n",
    "| other = array.copy() | Crea una copia profunda del array|\n",
    "| array.sort() | Ordena un array|\n",
    "| array.sort(axis=0) | Ordena los ejes del array|\n",
    "\n",
    "### Matemáticas\n",
    "**Operaciones aritméticas**   \n",
    "\n",
    "\n",
    "|  Operador       |   Descripción                      |\n",
    "|:-------------|:---------------------------------:|\n",
    "| np.add(x,y) | Adición|\n",
    "| np.substract(x,y) | Substracción|\n",
    "| np.divide(x,y) | Division|\n",
    "| np.multiply(x,y) | Multiplicación|\n",
    "| np.sqrt(x) | Raiz cuadrada|\n",
    "| np.sin(x) | Seno|\n",
    "| np.cos(x) | Coseno|\n",
    "| np.log(x) | Logaritmo natural a nivel elementos|\n",
    "| np.dot(x,y) | Producto escalar|"
   ]
  },
  {
   "cell_type": "code",
   "execution_count": 26,
   "metadata": {},
   "outputs": [
    {
     "name": "stdout",
     "output_type": "stream",
     "text": [
      "[1 2 3]\n",
      "[[11  2  3]\n",
      " [ 4  5  6]]\n",
      "[0 2 4]\n",
      "[0.   0.25 0.5  0.75 1.   1.25 1.5  1.75 2.  ]\n",
      "[[0. 0. 0. 0. 0. 0. 0. 0. 0. 0.]]\n",
      "[[1. 1.]]\n",
      "[[0.61359232 0.75769859 0.54415029 0.35619898 0.23845264]]\n"
     ]
    }
   ],
   "source": [
    "import numpy as np\n",
    "\n",
    "unad = np.array([1, 2, 3])\n",
    "dosd = np.array([(11, 2, 3), (4, 5, 6)])\n",
    "rango = np.arange(0, 6, 2)  #valores entre 0 y 6 de 2 en 2\n",
    "linspace = np.linspace(0, 2, 9)  #9 valores entre 0 y 2 equidistantes todos\n",
    "ceros = np.zeros((1,10))\n",
    "unos = np.ones((1,2))\n",
    "random = np.random.random((1,5))  #1 fila de 5 valores random\n",
    "\n",
    "print(unad)\n",
    "print(dosd)\n",
    "print(rango)\n",
    "print(linspace)\n",
    "print(ceros)\n",
    "print(unos)\n",
    "print(random)"
   ]
  },
  {
   "cell_type": "code",
   "execution_count": 33,
   "metadata": {},
   "outputs": [
    {
     "name": "stdout",
     "output_type": "stream",
     "text": [
      "[15  7  9]\n",
      "[2.75 0.4  0.5 ]\n",
      "[44 10 18]\n",
      "[3.31662479 1.41421356 1.73205081]\n",
      "[-0.65364362  0.28366219  0.96017029]\n"
     ]
    }
   ],
   "source": [
    "a = np.array([11, 2, 3])\n",
    "b = np.array([4, 5, 6])\n",
    "\n",
    "print(np.add(a, b))  #Suma de las dos arrays\n",
    "\n",
    "division = np.divide(a, b)\n",
    "multiplicacion = np.multiply(a, b)\n",
    "raiz_a = np.sqrt(a)\n",
    "cos_b = np.cos(b)\n",
    "\n",
    "print(division)\n",
    "print(multiplicacion)\n",
    "print(raiz_a)\n",
    "print(cos_b)"
   ]
  },
  {
   "cell_type": "markdown",
   "metadata": {},
   "source": [
    "## 11.Pandas\n",
    "Trabajar con datos tabulares: datos que tengan formato tipo tabla (i.e: Excel, Base de datos  \n",
    "Estructuras principales:\n",
    "* Series: vector o columna en Excel\n",
    "* Dataframe: "
   ]
  },
  {
   "cell_type": "code",
   "execution_count": 37,
   "metadata": {},
   "outputs": [
    {
     "name": "stdout",
     "output_type": "stream",
     "text": [
      "0    1\n",
      "1    2\n",
      "2    3\n",
      "dtype: int64\n"
     ]
    }
   ],
   "source": [
    "import pandas as pd\n",
    "\n",
    "serie = pd.Series([1,2,3]) #vestor [1, 2, 3]\n",
    "print(serie)"
   ]
  },
  {
   "cell_type": "code",
   "execution_count": 39,
   "metadata": {},
   "outputs": [
    {
     "data": {
      "text/plain": [
       "0    1\n",
       "1    2\n",
       "2    3\n",
       "Name: mombre, dtype: int64"
      ]
     },
     "execution_count": 39,
     "metadata": {},
     "output_type": "execute_result"
    }
   ],
   "source": [
    "serie.name = 'mombre'\n",
    "serie"
   ]
  },
  {
   "cell_type": "code",
   "execution_count": 42,
   "metadata": {},
   "outputs": [
    {
     "data": {
      "text/html": [
       "<div>\n",
       "<style scoped>\n",
       "    .dataframe tbody tr th:only-of-type {\n",
       "        vertical-align: middle;\n",
       "    }\n",
       "\n",
       "    .dataframe tbody tr th {\n",
       "        vertical-align: top;\n",
       "    }\n",
       "\n",
       "    .dataframe thead th {\n",
       "        text-align: right;\n",
       "    }\n",
       "</style>\n",
       "<table border=\"1\" class=\"dataframe\">\n",
       "  <thead>\n",
       "    <tr style=\"text-align: right;\">\n",
       "      <th></th>\n",
       "      <th>columna1</th>\n",
       "      <th>columna2</th>\n",
       "    </tr>\n",
       "  </thead>\n",
       "  <tbody>\n",
       "    <tr>\n",
       "      <th>0</th>\n",
       "      <td>1</td>\n",
       "      <td>a</td>\n",
       "    </tr>\n",
       "    <tr>\n",
       "      <th>1</th>\n",
       "      <td>2</td>\n",
       "      <td>b</td>\n",
       "    </tr>\n",
       "    <tr>\n",
       "      <th>2</th>\n",
       "      <td>3</td>\n",
       "      <td>c</td>\n",
       "    </tr>\n",
       "    <tr>\n",
       "      <th>3</th>\n",
       "      <td>4</td>\n",
       "      <td>d</td>\n",
       "    </tr>\n",
       "  </tbody>\n",
       "</table>\n",
       "</div>"
      ],
      "text/plain": [
       "   columna1 columna2\n",
       "0         1        a\n",
       "1         2        b\n",
       "2         3        c\n",
       "3         4        d"
      ]
     },
     "execution_count": 42,
     "metadata": {},
     "output_type": "execute_result"
    }
   ],
   "source": [
    "df = pd.DataFrame({'columna1': [1, 2, 3, 4], 'columna2': ['a', 'b', 'c', 'd']})\n",
    "df"
   ]
  },
  {
   "cell_type": "code",
   "execution_count": 44,
   "metadata": {},
   "outputs": [
    {
     "data": {
      "text/plain": [
       "(4, 2)"
      ]
     },
     "execution_count": 44,
     "metadata": {},
     "output_type": "execute_result"
    }
   ],
   "source": [
    "df.shape #Devuelve (numero de filas, numero de columnas)"
   ]
  },
  {
   "cell_type": "code",
   "execution_count": null,
   "metadata": {},
   "outputs": [],
   "source": [
    "df = pd.read_csv('nombre_del_archivo')"
   ]
  }
 ],
 "metadata": {
  "kernelspec": {
   "display_name": "Python 3",
   "language": "python",
   "name": "python3"
  },
  "language_info": {
   "codemirror_mode": {
    "name": "ipython",
    "version": 3
   },
   "file_extension": ".py",
   "mimetype": "text/x-python",
   "name": "python",
   "nbconvert_exporter": "python",
   "pygments_lexer": "ipython3",
   "version": "3.8.5"
  }
 },
 "nbformat": 4,
 "nbformat_minor": 4
}
