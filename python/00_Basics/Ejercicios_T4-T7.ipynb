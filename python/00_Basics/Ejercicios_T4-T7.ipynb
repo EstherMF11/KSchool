{
 "cells": [
  {
   "cell_type": "markdown",
   "metadata": {},
   "source": [
    "## Tema 04: Colecciones de datos \n",
    "Nota: Estos ejercicios son optativos para hacer al final de la unidad y están pensados para apoyar tu aprendizaje."
   ]
  },
  {
   "cell_type": "markdown",
   "metadata": {},
   "source": [
    "**1) Realiza un programa que siga las siguientes instrucciones:**\n",
    "* Crea un conjunto llamado usuarios con los usuarios Marta, David, Elvira, Juan y Marcos\n",
    "* Crea un conjunto llamado administradores con los administradores Juan y Marta.\n",
    "* Borra al administrador Juan del conjunto de administradores.\n",
    "* Añade a Marcos como un nuevo administrador, pero no lo borres del conjunto de usuarios.\n",
    "* Muestra todos los usuarios por pantalla de forma dinámica, además debes indicar cada usuario es administrador o no.\n",
    "\n",
    "*Notas: Los conjuntos se pueden recorrer dinámicamente utilizando el bucle for de forma similar a una lista. También cuentan con un método llamado **.discard(elemento)** que sirve para borrar un elemento.* "
   ]
  },
  {
   "cell_type": "code",
   "execution_count": 1,
   "metadata": {},
   "outputs": [
    {
     "name": "stdout",
     "output_type": "stream",
     "text": [
      "Elvira es un usuario\n",
      "Marcos es un administrador\n",
      "Marta es un administrador\n",
      "Juan es un usuario\n",
      "David es un usuario\n"
     ]
    }
   ],
   "source": [
    "usuarios = {'Marta', 'David', 'Elvira', 'Juan', 'Marcos'}\n",
    "administradores = {'Juan', 'Marta'}\n",
    "administradores.discard('Juan')\n",
    "administradores.add('Marcos')\n",
    "for i in usuarios:\n",
    "    if i in administradores:\n",
    "        print('{} es un administrador'.format(i))\n",
    "    else:\n",
    "        print('{} es un usuario'.format(i))"
   ]
  },
  {
   "cell_type": "markdown",
   "metadata": {},
   "source": [
    "**2) Durante el desarrollo de un pequeño videojuego se te encarga configurar y balancear cada clase de personaje jugable. Partiendo que la estadística base es 2, debes cumplir las siguientes condiciones:**\n",
    "* El caballero tiene el doble de vida y defensa que un guerrero.\n",
    "* El guerrero tiene el doble de ataque y alcance que un caballero.\n",
    "* El arquero tiene la misma vida y ataque que un guerrero, pero la mitad de su defensa y el doble de su alcance.\n",
    "* Muestra como quedan las propiedades de los tres personajes."
   ]
  },
  {
   "cell_type": "code",
   "execution_count": 5,
   "metadata": {},
   "outputs": [
    {
     "name": "stdout",
     "output_type": "stream",
     "text": [
      "Caballero:\t{'vida': 4, 'ataque': 2, 'defensa': 4, 'alcance': 2} \n",
      "Guerrero:\t{'vida': 2, 'ataque': 4, 'defensa': 2, 'alcance': 4} \n",
      "Arquero:\t{'vida': 2, 'ataque': 4, 'defensa': 1, 'alcance': 8}\n"
     ]
    }
   ],
   "source": [
    "caballero = {'vida':2, 'ataque':2, 'defensa':2, 'alcance': 2}\n",
    "guerrero = {'vida':2, 'ataque':2, 'defensa':2, 'alcance': 2}\n",
    "arquero = {'vida':2, 'ataque':2, 'defensa':2, 'alcance': 2}\n",
    "\n",
    "caballero['vida'] = 2*guerrero['vida']\n",
    "caballero['defensa'] = 2*guerrero['defensa']\n",
    "\n",
    "guerrero['ataque'] = 2*caballero['ataque']\n",
    "guerrero['alcance'] = 2*caballero['alcance']\n",
    "\n",
    "arquero['vida'] = guerrero['vida']\n",
    "arquero['ataque'] = guerrero['ataque']\n",
    "arquero['defensa'] = guerrero['defensa']//2\n",
    "arquero['alcance'] = guerrero['alcance']*2\n",
    "\n",
    "print(\"\"\"Caballero:\\t{} \\nGuerrero:\\t{} \\nArquero:\\t{}\"\"\".format(caballero, guerrero, arquero))"
   ]
  },
  {
   "cell_type": "markdown",
   "metadata": {},
   "source": [
    "**3) Durante la planificación de un proyecto se han acordado una lista de tareas. Para cada una de estas tareas se ha asignado un orden de prioridad (cuanto menor es el número de orden, más prioridad).**\n",
    "\n",
    "**¿Eres capaz de crear una estructura del tipo cola con todas las tareas ordenadas pero sin los números de orden?**\n",
    "\n",
    "Pista: Para ordenar automáticamente una lista es posible utilizar el método .sort()."
   ]
  },
  {
   "cell_type": "code",
   "execution_count": 6,
   "metadata": {},
   "outputs": [
    {
     "name": "stdout",
     "output_type": "stream",
     "text": [
      "==Tareas desordenadas==\n",
      "6 Distribución\n",
      "2 Diseño\n",
      "1 Concepción\n",
      "7 Mantenimiento\n",
      "4 Producción\n",
      "3 Planificación\n",
      "5 Pruebas\n",
      "\n",
      "==Tareas ordenadas==\n",
      "Concepción\n",
      "Diseño\n",
      "Planificación\n",
      "Producción\n",
      "Pruebas\n",
      "Distribución\n",
      "Mantenimiento\n"
     ]
    }
   ],
   "source": [
    "tareas = [ \n",
    "    [6, 'Distribución'],\n",
    "    [2, 'Diseño'],\n",
    "    [1, 'Concepción'],\n",
    "    [7, 'Mantenimiento'],\n",
    "    [4, 'Producción'],\n",
    "    [3, 'Planificación'],\n",
    "    [5, 'Pruebas']\n",
    "]\n",
    "\n",
    "print(\"==Tareas desordenadas==\")\n",
    "for tarea in tareas:\n",
    "    print(tarea[0], tarea[1])\n",
    "    \n",
    "from collections import deque\n",
    "\n",
    "tareas.sort()\n",
    "\n",
    "\n",
    "cola = deque()\n",
    "for tarea in tareas:\n",
    "    cola.append(tarea[1])\n",
    "\n",
    "print(\"\\n==Tareas ordenadas==\")\n",
    "for tarea in cola:\n",
    "    print(tarea)"
   ]
  },
  {
   "cell_type": "markdown",
   "metadata": {},
   "source": [
    "## Tema 05: Entradas y salidas \n",
    "Nota: Estos ejercicios son optativos para hacer al final de la unidad y están pensados para apoyar tu aprendizaje."
   ]
  },
  {
   "cell_type": "markdown",
   "metadata": {},
   "source": [
    "**1) Formatea los siguientes valores para mostrar el resultado indicado:**\n",
    "\n",
    "* \"Hola Mundo\" → Alineado a la derecha en 20 caracteres\n",
    "* \"Hola Mundo\" → Truncamiento en el cuarto carácter (índice 3)\n",
    "* \"Hola Mundo\" → Alineamiento al centro en 20 caracteres con truncamiento en el segundo carácter (índice 1)\n",
    "* 150 → Formateo a 5 números enteros rellenados con ceros\n",
    "* 7887 → Formateo a 7 números enteros rellenados con espacios\n",
    "* 20.02 → Formateo a 3 números enteros y 3 números decimales"
   ]
  },
  {
   "cell_type": "code",
   "execution_count": 1,
   "metadata": {},
   "outputs": [
    {
     "name": "stdout",
     "output_type": "stream",
     "text": [
      "          Hola Mundo\n",
      "Hola\n",
      "         Ho         \n",
      "00150\n",
      "   7887\n",
      "20.020\n"
     ]
    }
   ],
   "source": [
    "# Completa el ejercicio aquí\n",
    "print( \"{:>20}\".format(\"Hola Mundo\") )\n",
    "print( \"{:.4}\".format(\"Hola Mundo\") )\n",
    "print( \"{:^20.2}\".format(\"Hola Mundo\") )\n",
    "print( \"{:05d}\".format(150) )\n",
    "print( \"{:7d}\".format(7887) )\n",
    "print( \"{:3.3f}\".format(20.02) )"
   ]
  },
  {
   "cell_type": "markdown",
   "metadata": {},
   "source": [
    "**2) Crea un script llamado tabla.py que realice las siguientes tareas:**\n",
    "* Debe tomar 2 argumentos, ambos números enteros positivos del 1 al 9, sino mostrará un error.\n",
    "* El primer argumento hará referencia a las filas de una tabla, el segundo a las columnas.\n",
    "* En caso de no recibir uno o ambos argumentos, debe mostrar información acerca de cómo utilizar el script.\n",
    "* El script contendrá un bucle for que itere el número de veces del primer argumento.\n",
    "* Dentro del for, añade un segundo for que itere el número de veces del segundo argumento.\n",
    "* Dentro del segundo for ejecuta una instrucción ** print(\" * \", end='')**, (end='' evita el salto de línea).\n",
    "* Ejecuta el código y observa el resultado.\n",
    "\n",
    "** Ahora intenta deducir dónde y cómo añadir otra instruccion print para dibujar una tabla.**\n",
    "\n",
    "*Recordatorio: Los argumentos se envían como cadenas separadas por espacios, si quieres enviar varias palabras como un argumento deberás indicarlas entre comillas dobles \"esto es un argumento\". Para capturar los argumentos debes utilizar el módulo **sys** y su lista **argv**:*\n",
    "```python\n",
    "import sys\n",
    "print(sys.argv) # argumentos enviados\n",
    "```"
   ]
  },
  {
   "cell_type": "code",
   "execution_count": null,
   "metadata": {},
   "outputs": [],
   "source": []
  },
  {
   "cell_type": "markdown",
   "metadata": {},
   "source": [
    "**3) [Avanzado] Crea un script llamado descomposicion.py que realice las siguientes tareas:**\n",
    "* Debe tomar 1 argumento que será un número entero positivo.\n",
    "* En caso de no recibir un argumento, debe mostrar información acerca de cómo utilizar el script.\n",
    "\n",
    "** El objetivo del script es descomponer el número en unidades, decenas, centenas, miles... tal que por ejemplo si se introduce el número:**\n",
    "\n",
    "```\n",
    "> 3647\n",
    "```\n",
    "** El programa deberá devolver una descomposición línea a línea como la siguiente utilizando las técnicas de formateo: **\n",
    "\n",
    "```\n",
    "> 0007\n",
    "  0040\n",
    "  0600\n",
    "  3000\n",
    "```\n",
    "*Pista: Que el valor sea un número no significa necesariamente que deba serlo para formatearlo. Necesitarás jugar muy bien con los índices y realizar muchas conversiones entre tipos cadenas, números y viceversa*"
   ]
  },
  {
   "cell_type": "markdown",
   "metadata": {},
   "source": [
    "## Tema 06: Programación de funciones \n",
    "Nota: Estos ejercicios son optativos para hacer al final de la unidad y están pensados para apoyar tu aprendizaje."
   ]
  },
  {
   "cell_type": "markdown",
   "metadata": {},
   "source": [
    "**1) Realiza una función llamada area_rectangulo() que devuelva el área del rectangulo a partir de una base y una altura. Calcula el área de un rectángulo de 15 de base y 10 de altura.**\n",
    "\n",
    "*Nota: El área de un rectángulo se obtiene al multiplicar la base por la altura.*"
   ]
  },
  {
   "cell_type": "code",
   "execution_count": 8,
   "metadata": {},
   "outputs": [
    {
     "name": "stdout",
     "output_type": "stream",
     "text": [
      "150\n"
     ]
    }
   ],
   "source": [
    "def area_rectangulo(base, altura):\n",
    "    return base*altura\n",
    "\"\"\" El área del rectángulo es = base*altura \"\"\"\n",
    "print(area_rectangulo(15,10))\n",
    "\n",
    "    "
   ]
  },
  {
   "cell_type": "markdown",
   "metadata": {},
   "source": [
    "**2) Realiza una función llamada area_circulo() que devuelva el área de un círculo a partir de un radio. Calcula el área de un círculo de 5 de radio:**\n",
    "\n",
    "Nota: El área de un círculo se obtiene al elevar el radio a dos y multiplicando el resultado por el número pi. Puedes utilizar el valor 3.14159 como pi o importarlo del módulo math:\n",
    "```python\n",
    "import math\n",
    "print(math.pi)\n",
    "> 3.1415...\n",
    "```"
   ]
  },
  {
   "cell_type": "code",
   "execution_count": 9,
   "metadata": {},
   "outputs": [
    {
     "name": "stdout",
     "output_type": "stream",
     "text": [
      "78.53981633974483\n"
     ]
    }
   ],
   "source": [
    "import math as m\n",
    "\n",
    "def area_circulo(radio):\n",
    "    return (radio**2)*m.pi\n",
    "print(area_circulo(5))"
   ]
  },
  {
   "cell_type": "markdown",
   "metadata": {},
   "source": [
    "**3) Realiza una función llamada relacion() que a partir de dos números cumpla lo siguiente**:\n",
    "\n",
    "* Si el primer número es mayor que el segundo, debe devolver 1.\n",
    "* Si el primer número es menor que el segundo, debe devolver -1.\n",
    "* Si ambos números son iguales, debe devolver un 0.\n",
    "\n",
    "** Comprueba la relación entre los números: '5 y 10', '10 y 5' y '5 y 5'**"
   ]
  },
  {
   "cell_type": "code",
   "execution_count": 13,
   "metadata": {},
   "outputs": [
    {
     "name": "stdout",
     "output_type": "stream",
     "text": [
      "-1\n",
      "1\n",
      "0\n"
     ]
    }
   ],
   "source": [
    "def relacion(n1,n2):\n",
    "    if n1 > n2:\n",
    "        return 1\n",
    "    elif n1 < n2:\n",
    "        return -1\n",
    "    else:\n",
    "        return 0\n",
    "\n",
    "print(relacion(5,10))\n",
    "print(relacion(10,5))\n",
    "print(relacion(5,5))"
   ]
  },
  {
   "cell_type": "markdown",
   "metadata": {},
   "source": [
    "**4) Realiza una función llamada intermedio() que a partir de dos números, devuelva su punto intermedio:**\n",
    "\n",
    "*Nota: El número intermedio de dos números corresponde a la suma de los dos números dividida entre 2*\n",
    "\n",
    "** Comprueba el punto intermedio entre -12 y 24**"
   ]
  },
  {
   "cell_type": "code",
   "execution_count": 15,
   "metadata": {},
   "outputs": [
    {
     "name": "stdout",
     "output_type": "stream",
     "text": [
      "6.0\n"
     ]
    }
   ],
   "source": [
    "def intermedio(a,b):\n",
    "    return (a+b)/2\n",
    "\n",
    "print(intermedio(-12,24))"
   ]
  },
  {
   "cell_type": "markdown",
   "metadata": {},
   "source": [
    "**5) Realiza una función llamada recortar() que reciba tres parámetros. El primero es el número a recortar, el segundo es el límite inferior y el tercero el límite superior. La función tendrá que cumplir lo siguiente:**\n",
    "\n",
    "* Devolver el límite inferior si el número es menor que éste\n",
    "* Devolver el límite superior si el número es mayor que éste.\n",
    "* Devolver el número sin cambios si no se supera ningún límite.\n",
    "\n",
    "** Comprueba el resultado de recortar 15 entre los límites 0 y 10**"
   ]
  },
  {
   "cell_type": "code",
   "execution_count": 17,
   "metadata": {},
   "outputs": [
    {
     "name": "stdout",
     "output_type": "stream",
     "text": [
      "5\n"
     ]
    }
   ],
   "source": [
    "def recortar(num,inf,sup):\n",
    "    if num < inf:\n",
    "        return inf\n",
    "    elif num > sup:\n",
    "        return sup\n",
    "    else:\n",
    "        return num\n",
    "print(recortar(5,0,10))"
   ]
  },
  {
   "cell_type": "markdown",
   "metadata": {},
   "source": [
    "**6) Realiza una función separar() que tome una lista de números enteros y devuelva dos listas ordenadas. La primera con los números pares, y la segunda con los números impares:**\n",
    "\n",
    "Por ejemplo: \n",
    "\n",
    "```python\n",
    "pares, impares = separar([6,5,2,1,7])\n",
    "print(pares)   # valdría [2, 6]\n",
    "print(impares)  # valdría [1, 5, 7]\n",
    "\n",
    "```\n",
    "\n",
    "*Nota: Para ordenar una lista automáticamente puedes usar el método .sort().*"
   ]
  },
  {
   "cell_type": "code",
   "execution_count": 21,
   "metadata": {},
   "outputs": [
    {
     "name": "stdout",
     "output_type": "stream",
     "text": [
      "===Lista números pares===\n",
      " [2, 6]\n",
      "===Lista números impares===\n",
      " [1, 5, 7]\n"
     ]
    }
   ],
   "source": [
    "def separar(lista):\n",
    "    lista.sort()\n",
    "    pares = []\n",
    "    impares = []\n",
    "    for i in lista:\n",
    "        if i % 2 == 0:\n",
    "            pares.append(i)\n",
    "        else:\n",
    "            impares.append(i)\n",
    "    return pares, impares\n",
    "pares, impares = separar([6,5,2,1,7])\n",
    "print('===Lista números pares===\\n',pares)\n",
    "print('===Lista números impares===\\n',impares)"
   ]
  },
  {
   "cell_type": "markdown",
   "metadata": {},
   "source": [
    "## Tema 07: Gestión de errores \n",
    "Nota: Estos ejercicios son optativos para hacer al final de la unidad y están pensados para apoyar tu aprendizaje."
   ]
  },
  {
   "cell_type": "markdown",
   "metadata": {},
   "source": [
    "**1) Localiza el error en el siguiente bloque de código. Crea una excepción para evitar que el programa se bloquee y además explica en un mensaje al usuario la causa y/o solución:**"
   ]
  },
  {
   "cell_type": "code",
   "execution_count": 22,
   "metadata": {},
   "outputs": [
    {
     "name": "stdout",
     "output_type": "stream",
     "text": [
      "Error! No se puede dividir por cero, cambia el denominador por un número diferente a 0\n"
     ]
    }
   ],
   "source": [
    "# Completa el ejercicio aquí\n",
    "try:\n",
    "    resultado = 10/0\n",
    "except ZeroDivisionError:\n",
    "    print('Error! No se puede dividir por cero, cambia el denominador por un número diferente a 0')"
   ]
  },
  {
   "cell_type": "markdown",
   "metadata": {},
   "source": [
    "**2) Localiza el error en el siguiente bloque de código.  Crea una excepción para evitar que el programa se bloquee y además explica en un mensaje al usuario la causa y/o solución:**"
   ]
  },
  {
   "cell_type": "code",
   "execution_count": 23,
   "metadata": {},
   "outputs": [
    {
     "name": "stdout",
     "output_type": "stream",
     "text": [
      "El índice de la lista está fuera del rango. Cambia el índice por un número >= 0 y < 5\n"
     ]
    }
   ],
   "source": [
    "# Completa el ejercicio aquí\n",
    "lista = [1, 2, 3, 4, 5]\n",
    "try:\n",
    "    lista[10]\n",
    "except IndexError:\n",
    "    print('El índice de la lista está fuera del rango. Cambia el índice por un número >= 0 y <',len(lista))           "
   ]
  },
  {
   "cell_type": "markdown",
   "metadata": {},
   "source": [
    "**3) Localiza el error en el siguiente bloque de código.  Crea una excepción para evitar que el programa se bloquee y además explica en un mensaje al usuario la causa y/o solución:**"
   ]
  },
  {
   "cell_type": "code",
   "execution_count": 24,
   "metadata": {},
   "outputs": [
    {
     "name": "stdout",
     "output_type": "stream",
     "text": [
      "Ese color no se encuentra en el diccionario colores\n"
     ]
    }
   ],
   "source": [
    "# Completa el ejercicio aquí\n",
    "colores = { 'rojo':'red', 'verde':'green', 'negro':'black' } \n",
    "try:\n",
    "    colores['blanco']\n",
    "except KeyError:\n",
    "    print('Ese color no se encuentra en el diccionario colores')"
   ]
  },
  {
   "cell_type": "markdown",
   "metadata": {},
   "source": [
    "**4) Localiza el error en el siguiente bloque de código.  Crea una excepción para evitar que el programa se bloquee y además explica en un mensaje al usuario la causa y/o solución:**"
   ]
  },
  {
   "cell_type": "code",
   "execution_count": 25,
   "metadata": {},
   "outputs": [
    {
     "name": "stdout",
     "output_type": "stream",
     "text": [
      "No se puede realizar una operación con un valor tipo cadena y un número\n"
     ]
    }
   ],
   "source": [
    "# Completa el ejercicio aquí\n",
    "try:    \n",
    "    resultado = 15 + \"20\"\n",
    "except TypeError:\n",
    "    print('No se puede realizar una operación con un valor tipo cadena y un número')"
   ]
  },
  {
   "cell_type": "markdown",
   "metadata": {},
   "source": [
    "**5) Realiza una función llamada agregar_una_vez() que reciba una lista y un elemento. La función debe añadir el elemento al final de la lista con la condición de no repetir ningún elemento. Además si este elemento ya se encuentra en la lista se debe invocar un error de tipo ValueError que debes capturar y mostrar este mensaje en su lugar:**\n",
    "\n",
    "```\n",
    "  Error: Imposible añadir elementos duplicados => [elemento].\n",
    "```\n",
    "** Prueba de agregar los elementos 10, -2, \"Hola\" a la lista de elementos con la función una vez la has creado y luego muestra su contenido.**\n",
    "\n",
    "*Nota: Puedes utilizar la sintaxis: elemento in lista*"
   ]
  },
  {
   "cell_type": "code",
   "execution_count": 27,
   "metadata": {},
   "outputs": [
    {
     "name": "stdout",
     "output_type": "stream",
     "text": [
      "Error: Imposible añadir elementos duplicados => 5\n",
      "[1, 5, -2, 10, 2, 'Hola']\n"
     ]
    }
   ],
   "source": [
    "elementos = [1, 5, -2]\n",
    "\n",
    "# Completa el ejercicio aquí\n",
    "def agregar_una_vez(lista, el):\n",
    "    try:\n",
    "        if el in lista:\n",
    "            raise ValueError\n",
    "        else:\n",
    "            lista.append(el)\n",
    "    except ValueError:\n",
    "        print('Error: Imposible añadir elementos duplicados => {}'.format(el))\n",
    "agregar_una_vez(elementos, 10)\n",
    "agregar_una_vez(elementos, 2)\n",
    "agregar_una_vez(elementos, 5)\n",
    "agregar_una_vez(elementos, 'Hola')\n",
    "print(elementos)\n"
   ]
  }
 ],
 "metadata": {
  "kernelspec": {
   "display_name": "Python 3",
   "language": "python",
   "name": "python3"
  },
  "language_info": {
   "codemirror_mode": {
    "name": "ipython",
    "version": 3
   },
   "file_extension": ".py",
   "mimetype": "text/x-python",
   "name": "python",
   "nbconvert_exporter": "python",
   "pygments_lexer": "ipython3",
   "version": "3.8.3"
  }
 },
 "nbformat": 4,
 "nbformat_minor": 4
}
