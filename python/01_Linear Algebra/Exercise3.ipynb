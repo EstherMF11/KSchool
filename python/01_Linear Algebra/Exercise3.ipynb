{
 "cells": [
  {
   "cell_type": "markdown",
   "metadata": {},
   "source": [
    "**In a chicken and rabbit farm, there are 35 heads and 94 legs. How many chickens and how many rabbits do we have?**\n"
   ]
  },
  {
   "cell_type": "code",
   "execution_count": 4,
   "metadata": {},
   "outputs": [
    {
     "name": "stdout",
     "output_type": "stream",
     "text": [
      "El sabio granjero tiene 12 conejos y 23 pollos\n"
     ]
    }
   ],
   "source": [
    "import numpy as np\n",
    "from scipy import linalg as la\n",
    "\n",
    "A = np.array([[1, 1], [4, 2]])\n",
    "B = np.array([35, 94])\n",
    "\n",
    "sol = la.inv(A) @ B\n",
    "print('El sabio granjero tiene %d conejos y %d pollos' % (sol[0], sol[1]))"
   ]
  },
  {
   "cell_type": "markdown",
   "metadata": {},
   "source": [
    "Otra forma de hacerlo, definiendo una función:"
   ]
  },
  {
   "cell_type": "code",
   "execution_count": 5,
   "metadata": {},
   "outputs": [
    {
     "name": "stdout",
     "output_type": "stream",
     "text": [
      "Gallinas: 23\n",
      " Conejos: 12\n"
     ]
    }
   ],
   "source": [
    "def resolver(heads_num,legs_num):\n",
    "    \"\"\"\n",
    "    La función resolver nos devuelve el número de g (gallinas->2patas) y de c (conejos->4patas) \n",
    "    que hay si tenemos un número dado de cabezas y patas:\n",
    "    Head equation = g + c = 35\n",
    "    Legs equation = g*2 + c*4 = 94\n",
    "    \"\"\"\n",
    "    ns = 'No hay solución'\n",
    "    for g in range(heads_num+1):\n",
    "        c = heads_num - g\n",
    "        if 2*g+4*c == legs_num:\n",
    "            return 'Gallinas: {}\\n Conejos: {}'.format(g,c)\n",
    "    return ns, ns\n",
    "\n",
    "\n",
    "cabezas=35\n",
    "patas=94\n",
    "    \n",
    "solucion=resolver(cabezas,patas)\n",
    "print(solucion)"
   ]
  },
  {
   "cell_type": "code",
   "execution_count": null,
   "metadata": {},
   "outputs": [],
   "source": []
  }
 ],
 "metadata": {
  "kernelspec": {
   "display_name": "Python 3",
   "language": "python",
   "name": "python3"
  },
  "language_info": {
   "codemirror_mode": {
    "name": "ipython",
    "version": 3
   },
   "file_extension": ".py",
   "mimetype": "text/x-python",
   "name": "python",
   "nbconvert_exporter": "python",
   "pygments_lexer": "ipython3",
   "version": "3.8.5"
  }
 },
 "nbformat": 4,
 "nbformat_minor": 4
}
