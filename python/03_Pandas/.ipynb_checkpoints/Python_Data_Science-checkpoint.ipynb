{
 "cells": [
  {
   "cell_type": "code",
   "execution_count": null,
   "metadata": {
    "colab": {
     "base_uri": "https://localhost:8080/"
    },
    "executionInfo": {
     "elapsed": 64696,
     "status": "ok",
     "timestamp": 1607762892947,
     "user": {
      "displayName": "Esther Molinero Fernandez",
      "photoUrl": "",
      "userId": "02472710521214242712"
     },
     "user_tz": -60
    },
    "id": "Jh-ZamRQGNp5",
    "outputId": "06ca2134-7c34-434d-c0b4-1cac8cd4f2cd"
   },
   "outputs": [
    {
     "name": "stdout",
     "output_type": "stream",
     "text": [
      "Mounted at /content/gdrive\n"
     ]
    }
   ],
   "source": [
    "import os\n",
    "drive_loc = '/content/gdrive'\n",
    "files_loc = os.path.join(drive_loc, \"MyDrive\", \"pdsfiles\") #Monta el MyDrive con drive_loc\n",
    "\n",
    "from google.colab import drive \n",
    "drive.mount(drive_loc)\n"
   ]
  },
  {
   "cell_type": "code",
   "execution_count": null,
   "metadata": {
    "id": "vbfudi4cIXL7"
   },
   "outputs": [],
   "source": [
    "!mkdir -p {files_loc}"
   ]
  },
  {
   "cell_type": "code",
   "execution_count": null,
   "metadata": {
    "id": "cKupZkB4JrSl"
   },
   "outputs": [],
   "source": [
    "!ls {files_loc}"
   ]
  },
  {
   "cell_type": "code",
   "execution_count": null,
   "metadata": {
    "colab": {
     "base_uri": "https://localhost:8080/",
     "height": 35
    },
    "executionInfo": {
     "elapsed": 592,
     "status": "ok",
     "timestamp": 1607763313260,
     "user": {
      "displayName": "Esther Molinero Fernandez",
      "photoUrl": "",
      "userId": "02472710521214242712"
     },
     "user_tz": -60
    },
    "id": "YuPbgXugJuwc",
    "outputId": "9587fcf9-6029-42a7-c99d-c885b902022d"
   },
   "outputs": [
    {
     "data": {
      "application/vnd.google.colaboratory.intrinsic+json": {
       "type": "string"
      },
      "text/plain": [
       "'/content/gdrive/MyDrive/pdsfiles'"
      ]
     },
     "execution_count": 7,
     "metadata": {
      "tags": []
     },
     "output_type": "execute_result"
    }
   ],
   "source": [
    "files_loc"
   ]
  },
  {
   "cell_type": "markdown",
   "metadata": {
    "id": "8ETJWpMeLos5"
   },
   "source": [
    "# Getting started"
   ]
  },
  {
   "cell_type": "code",
   "execution_count": 1,
   "metadata": {
    "id": "8eC0Al1BKT-O"
   },
   "outputs": [],
   "source": [
    "import pandas as pd\n",
    "import numpy as np"
   ]
  },
  {
   "cell_type": "markdown",
   "metadata": {
    "id": "VP0_zdNpMTeD"
   },
   "source": [
    "## Serie"
   ]
  },
  {
   "cell_type": "code",
   "execution_count": null,
   "metadata": {
    "colab": {
     "base_uri": "https://localhost:8080/"
    },
    "executionInfo": {
     "elapsed": 510,
     "status": "ok",
     "timestamp": 1607763995287,
     "user": {
      "displayName": "Esther Molinero Fernandez",
      "photoUrl": "",
      "userId": "02472710521214242712"
     },
     "user_tz": -60
    },
    "id": "XmYRJwXSMVJ7",
    "outputId": "53b99d06-6ea3-4457-8c76-ae6c5a920506"
   },
   "outputs": [
    {
     "data": {
      "text/plain": [
       "pandas.core.series.Series"
      ]
     },
     "execution_count": 10,
     "metadata": {
      "tags": []
     },
     "output_type": "execute_result"
    }
   ],
   "source": [
    "#Creamos una serie\n",
    "s = pd.Series([4,7,-5,3])\n",
    "type(s) #ver tipo de ese objeto"
   ]
  },
  {
   "cell_type": "code",
   "execution_count": null,
   "metadata": {
    "colab": {
     "base_uri": "https://localhost:8080/"
    },
    "executionInfo": {
     "elapsed": 581,
     "status": "ok",
     "timestamp": 1607764009902,
     "user": {
      "displayName": "Esther Molinero Fernandez",
      "photoUrl": "",
      "userId": "02472710521214242712"
     },
     "user_tz": -60
    },
    "id": "JOI1sQ_AM6f2",
    "outputId": "8c0fdcea-c293-4eff-a071-fed5dc8b41ca"
   },
   "outputs": [
    {
     "data": {
      "text/plain": [
       "0    4\n",
       "1    7\n",
       "2   -5\n",
       "3    3\n",
       "dtype: int64"
      ]
     },
     "execution_count": 11,
     "metadata": {
      "tags": []
     },
     "output_type": "execute_result"
    }
   ],
   "source": [
    "#Contenido de la serie\n",
    "s\n",
    "#Devuelve index y valor, además devuelve el tipo de datos de la serie"
   ]
  },
  {
   "cell_type": "code",
   "execution_count": null,
   "metadata": {
    "colab": {
     "base_uri": "https://localhost:8080/"
    },
    "executionInfo": {
     "elapsed": 502,
     "status": "ok",
     "timestamp": 1607764060769,
     "user": {
      "displayName": "Esther Molinero Fernandez",
      "photoUrl": "",
      "userId": "02472710521214242712"
     },
     "user_tz": -60
    },
    "id": "bL44V_X5M9-i",
    "outputId": "285bb5de-9127-44c9-c960-6da6f284e0db"
   },
   "outputs": [
    {
     "data": {
      "text/plain": [
       "array([ 4,  7, -5,  3])"
      ]
     },
     "execution_count": 12,
     "metadata": {
      "tags": []
     },
     "output_type": "execute_result"
    }
   ],
   "source": [
    "#Puedo pedir los valores\n",
    "s.values"
   ]
  },
  {
   "cell_type": "code",
   "execution_count": null,
   "metadata": {
    "colab": {
     "base_uri": "https://localhost:8080/"
    },
    "executionInfo": {
     "elapsed": 508,
     "status": "ok",
     "timestamp": 1607764136184,
     "user": {
      "displayName": "Esther Molinero Fernandez",
      "photoUrl": "",
      "userId": "02472710521214242712"
     },
     "user_tz": -60
    },
    "id": "YMCLGJzRNKfD",
    "outputId": "27c01b04-22c1-4c83-9641-3fa8dba2cbca"
   },
   "outputs": [
    {
     "data": {
      "text/plain": [
       "numpy.ndarray"
      ]
     },
     "execution_count": 14,
     "metadata": {
      "tags": []
     },
     "output_type": "execute_result"
    }
   ],
   "source": [
    "type(s.values)"
   ]
  },
  {
   "cell_type": "code",
   "execution_count": null,
   "metadata": {
    "id": "al39dY5BNaq8"
   },
   "outputs": [],
   "source": [
    "#Creamos una serie donde identificamos a los índices (no pueden repetirse los índices) (Estos índices son los nombres de las filas)\n",
    "s2 = pd.Series([1,2,4.5,8,7,2,23,15,], index=list('abcdefgh'))"
   ]
  },
  {
   "cell_type": "code",
   "execution_count": null,
   "metadata": {
    "colab": {
     "base_uri": "https://localhost:8080/"
    },
    "executionInfo": {
     "elapsed": 603,
     "status": "ok",
     "timestamp": 1607764307513,
     "user": {
      "displayName": "Esther Molinero Fernandez",
      "photoUrl": "",
      "userId": "02472710521214242712"
     },
     "user_tz": -60
    },
    "id": "kgniqsSpOCll",
    "outputId": "4e0b61e0-d3dd-4804-ff55-01770dc0fd24"
   },
   "outputs": [
    {
     "data": {
      "text/plain": [
       "a     1.0\n",
       "b     2.0\n",
       "c     4.5\n",
       "d     8.0\n",
       "e     7.0\n",
       "f     2.0\n",
       "g    23.0\n",
       "h    15.0\n",
       "dtype: float64"
      ]
     },
     "execution_count": 17,
     "metadata": {
      "tags": []
     },
     "output_type": "execute_result"
    }
   ],
   "source": [
    "s2"
   ]
  },
  {
   "cell_type": "code",
   "execution_count": null,
   "metadata": {
    "colab": {
     "base_uri": "https://localhost:8080/"
    },
    "executionInfo": {
     "elapsed": 617,
     "status": "ok",
     "timestamp": 1607764358914,
     "user": {
      "displayName": "Esther Molinero Fernandez",
      "photoUrl": "",
      "userId": "02472710521214242712"
     },
     "user_tz": -60
    },
    "id": "--OfnhqeOGmm",
    "outputId": "e6cf0458-6756-4572-dde8-ac50e651cb6c"
   },
   "outputs": [
    {
     "data": {
      "text/plain": [
       "2.0"
      ]
     },
     "execution_count": 18,
     "metadata": {
      "tags": []
     },
     "output_type": "execute_result"
    }
   ],
   "source": [
    "#Le pido un dato a la serie introduciendo el índice creado ('b')\n",
    "s2['b']"
   ]
  },
  {
   "cell_type": "code",
   "execution_count": null,
   "metadata": {
    "colab": {
     "base_uri": "https://localhost:8080/"
    },
    "executionInfo": {
     "elapsed": 506,
     "status": "ok",
     "timestamp": 1607764425764,
     "user": {
      "displayName": "Esther Molinero Fernandez",
      "photoUrl": "",
      "userId": "02472710521214242712"
     },
     "user_tz": -60
    },
    "id": "EeDHPE3_OTQU",
    "outputId": "ba4996a1-7417-4edc-b1db-dea8cbcdbd99"
   },
   "outputs": [
    {
     "data": {
      "text/plain": [
       "1.0"
      ]
     },
     "execution_count": 19,
     "metadata": {
      "tags": []
     },
     "output_type": "execute_result"
    }
   ],
   "source": [
    "#Le pido un dato por la posición\n",
    "s2[0]"
   ]
  },
  {
   "cell_type": "code",
   "execution_count": null,
   "metadata": {
    "colab": {
     "base_uri": "https://localhost:8080/"
    },
    "executionInfo": {
     "elapsed": 591,
     "status": "ok",
     "timestamp": 1607764583527,
     "user": {
      "displayName": "Esther Molinero Fernandez",
      "photoUrl": "",
      "userId": "02472710521214242712"
     },
     "user_tz": -60
    },
    "id": "ypmqdOw2Ojmu",
    "outputId": "2224fac6-6d70-4098-8764-1a1a49a9250f"
   },
   "outputs": [
    {
     "data": {
      "text/plain": [
       "a    False\n",
       "b     True\n",
       "c    False\n",
       "d     True\n",
       "e    False\n",
       "f     True\n",
       "g    False\n",
       "h    False\n",
       "dtype: bool"
      ]
     },
     "execution_count": 20,
     "metadata": {
      "tags": []
     },
     "output_type": "execute_result"
    }
   ],
   "source": [
    "#Operación. Saber qué valores son divisibles por 2\n",
    "s2 % 2 == 0"
   ]
  },
  {
   "cell_type": "code",
   "execution_count": null,
   "metadata": {
    "colab": {
     "base_uri": "https://localhost:8080/"
    },
    "executionInfo": {
     "elapsed": 612,
     "status": "ok",
     "timestamp": 1607764639745,
     "user": {
      "displayName": "Esther Molinero Fernandez",
      "photoUrl": "",
      "userId": "02472710521214242712"
     },
     "user_tz": -60
    },
    "id": "OXkrIE9xPKFc",
    "outputId": "8f8d0330-3545-4a02-ce61-1ba4378de5b1"
   },
   "outputs": [
    {
     "data": {
      "text/plain": [
       "b    2.0\n",
       "d    8.0\n",
       "f    2.0\n",
       "dtype: float64"
      ]
     },
     "execution_count": 21,
     "metadata": {
      "tags": []
     },
     "output_type": "execute_result"
    }
   ],
   "source": [
    "#Operacion. Cogemos la serie y le pasamos el filtro, para que me devuelva aquellos que cumplan la condición\n",
    "s2[s2 % 2 == 0]"
   ]
  },
  {
   "cell_type": "code",
   "execution_count": null,
   "metadata": {
    "colab": {
     "base_uri": "https://localhost:8080/"
    },
    "executionInfo": {
     "elapsed": 520,
     "status": "ok",
     "timestamp": 1607764689509,
     "user": {
      "displayName": "Esther Molinero Fernandez",
      "photoUrl": "",
      "userId": "02472710521214242712"
     },
     "user_tz": -60
    },
    "id": "kvmMMcZAPX0K",
    "outputId": "402ec09a-6ebe-4a3c-c011-7c6711e4d213"
   },
   "outputs": [
    {
     "data": {
      "text/plain": [
       "a     2.0\n",
       "b     4.0\n",
       "c     9.0\n",
       "d    16.0\n",
       "e    14.0\n",
       "f     4.0\n",
       "g    46.0\n",
       "h    30.0\n",
       "dtype: float64"
      ]
     },
     "execution_count": 22,
     "metadata": {
      "tags": []
     },
     "output_type": "execute_result"
    }
   ],
   "source": [
    "#Multiplicacion\n",
    "s2*2"
   ]
  },
  {
   "cell_type": "code",
   "execution_count": null,
   "metadata": {
    "colab": {
     "base_uri": "https://localhost:8080/"
    },
    "executionInfo": {
     "elapsed": 635,
     "status": "ok",
     "timestamp": 1607764697716,
     "user": {
      "displayName": "Esther Molinero Fernandez",
      "photoUrl": "",
      "userId": "02472710521214242712"
     },
     "user_tz": -60
    },
    "id": "pNC_LXAmPj_j",
    "outputId": "b4bef462-c382-40f4-fd13-c488198b036a"
   },
   "outputs": [
    {
     "data": {
      "text/plain": [
       "a    2.718282e+00\n",
       "b    7.389056e+00\n",
       "c    9.001713e+01\n",
       "d    2.980958e+03\n",
       "e    1.096633e+03\n",
       "f    7.389056e+00\n",
       "g    9.744803e+09\n",
       "h    3.269017e+06\n",
       "dtype: float64"
      ]
     },
     "execution_count": 23,
     "metadata": {
      "tags": []
     },
     "output_type": "execute_result"
    }
   ],
   "source": [
    "#Elevando al exponente\n",
    "np.exp(s2)\n",
    "#No modifica el valr de s2, porque no le he asignado ninguna variable, solo me muestra el resultado pero no puedo volver a él."
   ]
  },
  {
   "cell_type": "code",
   "execution_count": null,
   "metadata": {
    "colab": {
     "base_uri": "https://localhost:8080/"
    },
    "executionInfo": {
     "elapsed": 662,
     "status": "ok",
     "timestamp": 1607764723033,
     "user": {
      "displayName": "Esther Molinero Fernandez",
      "photoUrl": "",
      "userId": "02472710521214242712"
     },
     "user_tz": -60
    },
    "id": "FqDO0MIGPl9P",
    "outputId": "3bcec103-a6aa-4499-f6c4-fad1c954264b"
   },
   "outputs": [
    {
     "data": {
      "text/plain": [
       "a     1.0\n",
       "b     2.0\n",
       "c     4.5\n",
       "d     8.0\n",
       "e     7.0\n",
       "f     2.0\n",
       "g    23.0\n",
       "h    15.0\n",
       "dtype: float64"
      ]
     },
     "execution_count": 24,
     "metadata": {
      "tags": []
     },
     "output_type": "execute_result"
    }
   ],
   "source": [
    "s2"
   ]
  },
  {
   "cell_type": "code",
   "execution_count": null,
   "metadata": {
    "colab": {
     "base_uri": "https://localhost:8080/"
    },
    "executionInfo": {
     "elapsed": 856,
     "status": "ok",
     "timestamp": 1607764856444,
     "user": {
      "displayName": "Esther Molinero Fernandez",
      "photoUrl": "",
      "userId": "02472710521214242712"
     },
     "user_tz": -60
    },
    "id": "eYDVKKuCPsH9",
    "outputId": "55312f07-34fc-4b8a-a0f7-e77f4167095f"
   },
   "outputs": [
    {
     "data": {
      "text/plain": [
       "False"
      ]
     },
     "execution_count": 25,
     "metadata": {
      "tags": []
     },
     "output_type": "execute_result"
    }
   ],
   "source": [
    "#Nos dice si está la letra 'i' en la serie\n",
    "'i' in s2"
   ]
  },
  {
   "cell_type": "code",
   "execution_count": null,
   "metadata": {
    "colab": {
     "base_uri": "https://localhost:8080/"
    },
    "executionInfo": {
     "elapsed": 506,
     "status": "ok",
     "timestamp": 1607764992391,
     "user": {
      "displayName": "Esther Molinero Fernandez",
      "photoUrl": "",
      "userId": "02472710521214242712"
     },
     "user_tz": -60
    },
    "id": "0PB2nRbFQMqf",
    "outputId": "fb45bcb1-7b63-4f48-da94-1545bb6ea734"
   },
   "outputs": [
    {
     "data": {
      "text/plain": [
       "Zaragoza     250000.0\n",
       "Sevilla      500000.0\n",
       "Cordoba      300000.0\n",
       "Madrid      6000000.0\n",
       "dtype: float64"
      ]
     },
     "execution_count": 27,
     "metadata": {
      "tags": []
     },
     "output_type": "execute_result"
    }
   ],
   "source": [
    "#Creacion de diccionario\n",
    "sdata = {\n",
    "    'Zaragoza': 2.5e5,\n",
    "    'Sevilla': 5e5,\n",
    "    'Cordoba': 3e5,\n",
    "    'Madrid': 6e6\n",
    "}\n",
    "#Ahora creo una serie del diccionario\n",
    "s3=pd.Series(sdata)\n",
    "s3"
   ]
  },
  {
   "cell_type": "code",
   "execution_count": null,
   "metadata": {
    "id": "NdxsESFrQrHe"
   },
   "outputs": [],
   "source": [
    "#Guardar la serie s3\n",
    "#os.path.join busca un \n",
    "s3.to_pickle(os.path.join(files_loc, \"s3.pkl\"))"
   ]
  },
  {
   "cell_type": "code",
   "execution_count": null,
   "metadata": {
    "colab": {
     "base_uri": "https://localhost:8080/"
    },
    "executionInfo": {
     "elapsed": 690,
     "status": "ok",
     "timestamp": 1607765298023,
     "user": {
      "displayName": "Esther Molinero Fernandez",
      "photoUrl": "",
      "userId": "02472710521214242712"
     },
     "user_tz": -60
    },
    "id": "92FKpCE-RzoJ",
    "outputId": "0c041b8c-9e02-4e9d-e1eb-a70a1519127b"
   },
   "outputs": [
    {
     "name": "stdout",
     "output_type": "stream",
     "text": [
      "/content/gdrive/MyDrive/pdsfiles/s3.pkl\n"
     ]
    }
   ],
   "source": [
    "!ls {files_loc}/s3.pkl"
   ]
  },
  {
   "cell_type": "code",
   "execution_count": null,
   "metadata": {
    "id": "TCvZhFuKR4gq"
   },
   "outputs": [],
   "source": [
    "#Ordenado de los datos\n",
    "s3 = pd.Series(sdata).sort_index()"
   ]
  },
  {
   "cell_type": "code",
   "execution_count": null,
   "metadata": {
    "colab": {
     "base_uri": "https://localhost:8080/"
    },
    "executionInfo": {
     "elapsed": 587,
     "status": "ok",
     "timestamp": 1607765567044,
     "user": {
      "displayName": "Esther Molinero Fernandez",
      "photoUrl": "",
      "userId": "02472710521214242712"
     },
     "user_tz": -60
    },
    "id": "pS9b3jszS5rp",
    "outputId": "b612d01a-84aa-4874-86a3-2bdb86ba4308"
   },
   "outputs": [
    {
     "data": {
      "text/plain": [
       "Cordoba      300000.0\n",
       "Madrid      6000000.0\n",
       "Sevilla      500000.0\n",
       "Zaragoza     250000.0\n",
       "dtype: float64"
      ]
     },
     "execution_count": 31,
     "metadata": {
      "tags": []
     },
     "output_type": "execute_result"
    }
   ],
   "source": [
    "s3"
   ]
  },
  {
   "cell_type": "code",
   "execution_count": null,
   "metadata": {
    "id": "2TiYEnwZS6KA"
   },
   "outputs": [],
   "source": [
    "cities = ['Cordoba', 'Madrid', 'Valencia', 'Zaragoza']"
   ]
  },
  {
   "cell_type": "code",
   "execution_count": null,
   "metadata": {
    "id": "gLEZPHtPTIYI"
   },
   "outputs": [],
   "source": [
    "#Nueva serie, que coge el diccionario de sdata y cambia las el nombre de las claves del diccionario por las nueva, pero si coindicen las claves le asigna el valor\n",
    "s4 = pd.Series(sdata, index=cities)"
   ]
  },
  {
   "cell_type": "code",
   "execution_count": null,
   "metadata": {
    "colab": {
     "base_uri": "https://localhost:8080/"
    },
    "executionInfo": {
     "elapsed": 534,
     "status": "ok",
     "timestamp": 1607765655308,
     "user": {
      "displayName": "Esther Molinero Fernandez",
      "photoUrl": "",
      "userId": "02472710521214242712"
     },
     "user_tz": -60
    },
    "id": "4Y4j80WeTO_Y",
    "outputId": "7b975c54-0411-402a-8646-037173313e79"
   },
   "outputs": [
    {
     "data": {
      "text/plain": [
       "Cordoba      300000.0\n",
       "Madrid      6000000.0\n",
       "Valencia          NaN\n",
       "Zaragoza     250000.0\n",
       "dtype: float64"
      ]
     },
     "execution_count": 34,
     "metadata": {
      "tags": []
     },
     "output_type": "execute_result"
    }
   ],
   "source": [
    "s4"
   ]
  },
  {
   "cell_type": "code",
   "execution_count": null,
   "metadata": {
    "colab": {
     "base_uri": "https://localhost:8080/"
    },
    "executionInfo": {
     "elapsed": 675,
     "status": "ok",
     "timestamp": 1607765803295,
     "user": {
      "displayName": "Esther Molinero Fernandez",
      "photoUrl": "",
      "userId": "02472710521214242712"
     },
     "user_tz": -60
    },
    "id": "MtRwGqVmTPxp",
    "outputId": "f59a340a-6f22-451c-bb9c-5a7590b71739"
   },
   "outputs": [
    {
     "data": {
      "text/plain": [
       "Cordoba     False\n",
       "Madrid      False\n",
       "Valencia     True\n",
       "Zaragoza    False\n",
       "dtype: bool"
      ]
     },
     "execution_count": 35,
     "metadata": {
      "tags": []
     },
     "output_type": "execute_result"
    }
   ],
   "source": [
    "#Pedir los valores nulos dentro de la serie\n",
    "pd.isnull(s4)"
   ]
  },
  {
   "cell_type": "code",
   "execution_count": null,
   "metadata": {
    "colab": {
     "base_uri": "https://localhost:8080/"
    },
    "executionInfo": {
     "elapsed": 547,
     "status": "ok",
     "timestamp": 1607765818245,
     "user": {
      "displayName": "Esther Molinero Fernandez",
      "photoUrl": "",
      "userId": "02472710521214242712"
     },
     "user_tz": -60
    },
    "id": "9tI92FucTz2l",
    "outputId": "4aa29f9b-1114-4225-a99d-bddfec54cbf9"
   },
   "outputs": [
    {
     "data": {
      "text/plain": [
       "Cordoba      True\n",
       "Madrid       True\n",
       "Valencia    False\n",
       "Zaragoza     True\n",
       "dtype: bool"
      ]
     },
     "execution_count": 36,
     "metadata": {
      "tags": []
     },
     "output_type": "execute_result"
    }
   ],
   "source": [
    "#Pedir los valores no nulos\n",
    "pd.notnull(s4)"
   ]
  },
  {
   "cell_type": "code",
   "execution_count": null,
   "metadata": {
    "colab": {
     "base_uri": "https://localhost:8080/"
    },
    "executionInfo": {
     "elapsed": 607,
     "status": "ok",
     "timestamp": 1607765831146,
     "user": {
      "displayName": "Esther Molinero Fernandez",
      "photoUrl": "",
      "userId": "02472710521214242712"
     },
     "user_tz": -60
    },
    "id": "-80vPUG2T3is",
    "outputId": "b1046deb-7d83-4dce-d299-5cefe3f321e1"
   },
   "outputs": [
    {
     "data": {
      "text/plain": [
       "Cordoba      300000.0\n",
       "Madrid      6000000.0\n",
       "Sevilla      500000.0\n",
       "Zaragoza     250000.0\n",
       "dtype: float64"
      ]
     },
     "execution_count": 37,
     "metadata": {
      "tags": []
     },
     "output_type": "execute_result"
    }
   ],
   "source": [
    "s3"
   ]
  },
  {
   "cell_type": "code",
   "execution_count": null,
   "metadata": {
    "colab": {
     "base_uri": "https://localhost:8080/"
    },
    "executionInfo": {
     "elapsed": 529,
     "status": "ok",
     "timestamp": 1607765833333,
     "user": {
      "displayName": "Esther Molinero Fernandez",
      "photoUrl": "",
      "userId": "02472710521214242712"
     },
     "user_tz": -60
    },
    "id": "hXjHGadyT6sD",
    "outputId": "359b106a-e6a8-4be4-8dc2-59c9acec69d2"
   },
   "outputs": [
    {
     "data": {
      "text/plain": [
       "Cordoba      300000.0\n",
       "Madrid      6000000.0\n",
       "Valencia          NaN\n",
       "Zaragoza     250000.0\n",
       "dtype: float64"
      ]
     },
     "execution_count": 38,
     "metadata": {
      "tags": []
     },
     "output_type": "execute_result"
    }
   ],
   "source": [
    "s4"
   ]
  },
  {
   "cell_type": "code",
   "execution_count": null,
   "metadata": {
    "colab": {
     "base_uri": "https://localhost:8080/"
    },
    "executionInfo": {
     "elapsed": 586,
     "status": "ok",
     "timestamp": 1607765852489,
     "user": {
      "displayName": "Esther Molinero Fernandez",
      "photoUrl": "",
      "userId": "02472710521214242712"
     },
     "user_tz": -60
    },
    "id": "05vx1rviT7PO",
    "outputId": "41e5a7d6-e489-4f39-afb9-9bb8baf8df94"
   },
   "outputs": [
    {
     "data": {
      "text/plain": [
       "Cordoba       600000.0\n",
       "Madrid      12000000.0\n",
       "Sevilla            NaN\n",
       "Valencia           NaN\n",
       "Zaragoza      500000.0\n",
       "dtype: float64"
      ]
     },
     "execution_count": 39,
     "metadata": {
      "tags": []
     },
     "output_type": "execute_result"
    }
   ],
   "source": [
    "#sumamos las series (NaN:Not a number (no significa que sea cero))\n",
    "s3+s4\n",
    "#Solo suma cuando en ambas series hay datos, si no devuelve un NaN"
   ]
  },
  {
   "cell_type": "code",
   "execution_count": null,
   "metadata": {
    "id": "1znJKx4TT_1B"
   },
   "outputs": [],
   "source": [
    "#Damos nombre a los valores (columna)\n",
    "s4.name = 'Population'"
   ]
  },
  {
   "cell_type": "code",
   "execution_count": null,
   "metadata": {
    "colab": {
     "base_uri": "https://localhost:8080/"
    },
    "executionInfo": {
     "elapsed": 625,
     "status": "ok",
     "timestamp": 1607766045765,
     "user": {
      "displayName": "Esther Molinero Fernandez",
      "photoUrl": "",
      "userId": "02472710521214242712"
     },
     "user_tz": -60
    },
    "id": "OZ2vNLwOUuPF",
    "outputId": "51991fde-9401-4c94-9dd2-fae512bad6df"
   },
   "outputs": [
    {
     "data": {
      "text/plain": [
       "Cordoba      300000.0\n",
       "Madrid      6000000.0\n",
       "Valencia          NaN\n",
       "Zaragoza     250000.0\n",
       "Name: Population, dtype: float64"
      ]
     },
     "execution_count": 41,
     "metadata": {
      "tags": []
     },
     "output_type": "execute_result"
    }
   ],
   "source": [
    "s4"
   ]
  },
  {
   "cell_type": "code",
   "execution_count": null,
   "metadata": {
    "id": "quNOr78FUvD7"
   },
   "outputs": [],
   "source": [
    "#Ponemos un nombre al índice que es la provincia\n",
    "s4.index.name = 'Province'"
   ]
  },
  {
   "cell_type": "code",
   "execution_count": null,
   "metadata": {
    "colab": {
     "base_uri": "https://localhost:8080/"
    },
    "executionInfo": {
     "elapsed": 508,
     "status": "ok",
     "timestamp": 1607766155644,
     "user": {
      "displayName": "Esther Molinero Fernandez",
      "photoUrl": "",
      "userId": "02472710521214242712"
     },
     "user_tz": -60
    },
    "id": "Dz9wveP5VDfh",
    "outputId": "78d56f5b-db8d-4c57-b3bf-60f04af17c50"
   },
   "outputs": [
    {
     "data": {
      "text/plain": [
       "Province\n",
       "Cordoba      300000.0\n",
       "Madrid      6000000.0\n",
       "Valencia          NaN\n",
       "Zaragoza     250000.0\n",
       "Name: Population, dtype: float64"
      ]
     },
     "execution_count": 45,
     "metadata": {
      "tags": []
     },
     "output_type": "execute_result"
    }
   ],
   "source": [
    "s4"
   ]
  },
  {
   "cell_type": "markdown",
   "metadata": {
    "id": "1hOaAaAJVD-y"
   },
   "source": [
    "## Dataframes\n",
    "Es una representación tabulada\n"
   ]
  },
  {
   "cell_type": "code",
   "execution_count": null,
   "metadata": {
    "id": "ck3QPuC6VgiB"
   },
   "outputs": [],
   "source": [
    "#creamos un diccionario\n",
    "dfdata={\n",
    "    'province': ['M', 'M', 'M', 'B', 'B'],\n",
    "    'population': [1.5e6, 2e6, 3e6, 5e6, 1.5e6],\n",
    "    'year': [1900, 1950, 2000, 1900, 2000]\n",
    "}"
   ]
  },
  {
   "cell_type": "code",
   "execution_count": null,
   "metadata": {
    "colab": {
     "base_uri": "https://localhost:8080/"
    },
    "executionInfo": {
     "elapsed": 647,
     "status": "ok",
     "timestamp": 1607766605762,
     "user": {
      "displayName": "Esther Molinero Fernandez",
      "photoUrl": "",
      "userId": "02472710521214242712"
     },
     "user_tz": -60
    },
    "id": "2XRKQ2CIW2dh",
    "outputId": "d4619cc5-eeea-4d24-cf72-cbdbd24bdfe0"
   },
   "outputs": [
    {
     "data": {
      "text/plain": [
       "{'population': [1500000.0, 2000000.0, 3000000.0, 5000000.0, 1500000.0],\n",
       " 'province': ['M', 'M', 'M', 'B', 'B'],\n",
       " 'year': [1900, 1950, 2000, 1900, 2000]}"
      ]
     },
     "execution_count": 47,
     "metadata": {
      "tags": []
     },
     "output_type": "execute_result"
    }
   ],
   "source": [
    "dfdata"
   ]
  },
  {
   "cell_type": "code",
   "execution_count": null,
   "metadata": {
    "colab": {
     "base_uri": "https://localhost:8080/",
     "height": 204
    },
    "executionInfo": {
     "elapsed": 675,
     "status": "ok",
     "timestamp": 1607766666460,
     "user": {
      "displayName": "Esther Molinero Fernandez",
      "photoUrl": "",
      "userId": "02472710521214242712"
     },
     "user_tz": -60
    },
    "id": "tOR7Rz-WW3yk",
    "outputId": "44491cd5-7a54-45f6-b481-19ccc4efc2ea"
   },
   "outputs": [
    {
     "data": {
      "text/html": [
       "<div>\n",
       "<style scoped>\n",
       "    .dataframe tbody tr th:only-of-type {\n",
       "        vertical-align: middle;\n",
       "    }\n",
       "\n",
       "    .dataframe tbody tr th {\n",
       "        vertical-align: top;\n",
       "    }\n",
       "\n",
       "    .dataframe thead th {\n",
       "        text-align: right;\n",
       "    }\n",
       "</style>\n",
       "<table border=\"1\" class=\"dataframe\">\n",
       "  <thead>\n",
       "    <tr style=\"text-align: right;\">\n",
       "      <th></th>\n",
       "      <th>province</th>\n",
       "      <th>population</th>\n",
       "      <th>year</th>\n",
       "    </tr>\n",
       "  </thead>\n",
       "  <tbody>\n",
       "    <tr>\n",
       "      <th>0</th>\n",
       "      <td>M</td>\n",
       "      <td>1500000.0</td>\n",
       "      <td>1900</td>\n",
       "    </tr>\n",
       "    <tr>\n",
       "      <th>1</th>\n",
       "      <td>M</td>\n",
       "      <td>2000000.0</td>\n",
       "      <td>1950</td>\n",
       "    </tr>\n",
       "    <tr>\n",
       "      <th>2</th>\n",
       "      <td>M</td>\n",
       "      <td>3000000.0</td>\n",
       "      <td>2000</td>\n",
       "    </tr>\n",
       "    <tr>\n",
       "      <th>3</th>\n",
       "      <td>B</td>\n",
       "      <td>5000000.0</td>\n",
       "      <td>1900</td>\n",
       "    </tr>\n",
       "    <tr>\n",
       "      <th>4</th>\n",
       "      <td>B</td>\n",
       "      <td>1500000.0</td>\n",
       "      <td>2000</td>\n",
       "    </tr>\n",
       "  </tbody>\n",
       "</table>\n",
       "</div>"
      ],
      "text/plain": [
       "  province  population  year\n",
       "0        M   1500000.0  1900\n",
       "1        M   2000000.0  1950\n",
       "2        M   3000000.0  2000\n",
       "3        B   5000000.0  1900\n",
       "4        B   1500000.0  2000"
      ]
     },
     "execution_count": 48,
     "metadata": {
      "tags": []
     },
     "output_type": "execute_result"
    }
   ],
   "source": [
    "#Creamos un dataframe\n",
    "df = pd.DataFrame(dfdata)\n",
    "df"
   ]
  },
  {
   "cell_type": "code",
   "execution_count": null,
   "metadata": {
    "colab": {
     "base_uri": "https://localhost:8080/",
     "height": 204
    },
    "executionInfo": {
     "elapsed": 647,
     "status": "ok",
     "timestamp": 1607766826538,
     "user": {
      "displayName": "Esther Molinero Fernandez",
      "photoUrl": "",
      "userId": "02472710521214242712"
     },
     "user_tz": -60
    },
    "id": "OY-DxNCzXGg5",
    "outputId": "4ec24da4-f4c8-4df4-a22d-7530f823a8b7"
   },
   "outputs": [
    {
     "data": {
      "text/html": [
       "<div>\n",
       "<style scoped>\n",
       "    .dataframe tbody tr th:only-of-type {\n",
       "        vertical-align: middle;\n",
       "    }\n",
       "\n",
       "    .dataframe tbody tr th {\n",
       "        vertical-align: top;\n",
       "    }\n",
       "\n",
       "    .dataframe thead th {\n",
       "        text-align: right;\n",
       "    }\n",
       "</style>\n",
       "<table border=\"1\" class=\"dataframe\">\n",
       "  <thead>\n",
       "    <tr style=\"text-align: right;\">\n",
       "      <th></th>\n",
       "      <th>province</th>\n",
       "      <th>population</th>\n",
       "      <th>year</th>\n",
       "      <th>debt</th>\n",
       "    </tr>\n",
       "  </thead>\n",
       "  <tbody>\n",
       "    <tr>\n",
       "      <th>0</th>\n",
       "      <td>M</td>\n",
       "      <td>1500000.0</td>\n",
       "      <td>1900</td>\n",
       "      <td>NaN</td>\n",
       "    </tr>\n",
       "    <tr>\n",
       "      <th>1</th>\n",
       "      <td>M</td>\n",
       "      <td>2000000.0</td>\n",
       "      <td>1950</td>\n",
       "      <td>NaN</td>\n",
       "    </tr>\n",
       "    <tr>\n",
       "      <th>2</th>\n",
       "      <td>M</td>\n",
       "      <td>3000000.0</td>\n",
       "      <td>2000</td>\n",
       "      <td>NaN</td>\n",
       "    </tr>\n",
       "    <tr>\n",
       "      <th>3</th>\n",
       "      <td>B</td>\n",
       "      <td>5000000.0</td>\n",
       "      <td>1900</td>\n",
       "      <td>NaN</td>\n",
       "    </tr>\n",
       "    <tr>\n",
       "      <th>4</th>\n",
       "      <td>B</td>\n",
       "      <td>1500000.0</td>\n",
       "      <td>2000</td>\n",
       "      <td>NaN</td>\n",
       "    </tr>\n",
       "  </tbody>\n",
       "</table>\n",
       "</div>"
      ],
      "text/plain": [
       "  province  population  year debt\n",
       "0        M   1500000.0  1900  NaN\n",
       "1        M   2000000.0  1950  NaN\n",
       "2        M   3000000.0  2000  NaN\n",
       "3        B   5000000.0  1900  NaN\n",
       "4        B   1500000.0  2000  NaN"
      ]
     },
     "execution_count": 52,
     "metadata": {
      "tags": []
     },
     "output_type": "execute_result"
    }
   ],
   "source": [
    "#Crear un dataframe dando nombre a las columnas\n",
    "df2 = pd.DataFrame(dfdata,columns=['province','population','year','debt'])\n",
    "df2"
   ]
  },
  {
   "cell_type": "code",
   "execution_count": null,
   "metadata": {
    "colab": {
     "base_uri": "https://localhost:8080/"
    },
    "executionInfo": {
     "elapsed": 613,
     "status": "ok",
     "timestamp": 1607766863505,
     "user": {
      "displayName": "Esther Molinero Fernandez",
      "photoUrl": "",
      "userId": "02472710521214242712"
     },
     "user_tz": -60
    },
    "id": "ew_egU6CXhSN",
    "outputId": "58d5d135-41ab-4d5a-d97b-eca12b5f19ca"
   },
   "outputs": [
    {
     "data": {
      "text/plain": [
       "RangeIndex(start=0, stop=5, step=1)"
      ]
     },
     "execution_count": 53,
     "metadata": {
      "tags": []
     },
     "output_type": "execute_result"
    }
   ],
   "source": [
    "#RangeIndex: es una estructura que crea pandas que es un iterador. Crea un indice numérico (es como un range)\n",
    "df2.index"
   ]
  },
  {
   "cell_type": "code",
   "execution_count": null,
   "metadata": {
    "colab": {
     "base_uri": "https://localhost:8080/"
    },
    "executionInfo": {
     "elapsed": 672,
     "status": "ok",
     "timestamp": 1607766924829,
     "user": {
      "displayName": "Esther Molinero Fernandez",
      "photoUrl": "",
      "userId": "02472710521214242712"
     },
     "user_tz": -60
    },
    "id": "o-rWexUxX2uS",
    "outputId": "a4bee7fc-9904-4a1d-f540-d8b5ff8537d3"
   },
   "outputs": [
    {
     "data": {
      "text/plain": [
       "Index(['province', 'population', 'year', 'debt'], dtype='object')"
      ]
     },
     "execution_count": 54,
     "metadata": {
      "tags": []
     },
     "output_type": "execute_result"
    }
   ],
   "source": [
    "#Index: \n",
    "df2.columns"
   ]
  },
  {
   "cell_type": "code",
   "execution_count": null,
   "metadata": {
    "colab": {
     "base_uri": "https://localhost:8080/"
    },
    "executionInfo": {
     "elapsed": 601,
     "status": "ok",
     "timestamp": 1607766992777,
     "user": {
      "displayName": "Esther Molinero Fernandez",
      "photoUrl": "",
      "userId": "02472710521214242712"
     },
     "user_tz": -60
    },
    "id": "cM93OvZrYFrf",
    "outputId": "9067bf20-f3c7-455c-b72b-69f2655c9a2d"
   },
   "outputs": [
    {
     "data": {
      "text/plain": [
       "pandas.core.indexes.base.Index"
      ]
     },
     "execution_count": 55,
     "metadata": {
      "tags": []
     },
     "output_type": "execute_result"
    }
   ],
   "source": [
    "type(df2.columns)"
   ]
  },
  {
   "cell_type": "code",
   "execution_count": null,
   "metadata": {
    "colab": {
     "base_uri": "https://localhost:8080/"
    },
    "executionInfo": {
     "elapsed": 589,
     "status": "ok",
     "timestamp": 1607767023062,
     "user": {
      "displayName": "Esther Molinero Fernandez",
      "photoUrl": "",
      "userId": "02472710521214242712"
     },
     "user_tz": -60
    },
    "id": "PVqB2drDYWRZ",
    "outputId": "49092cb7-b5ef-4f36-8c24-c7de2f9eae1a"
   },
   "outputs": [
    {
     "data": {
      "text/plain": [
       "0    1500000.0\n",
       "1    2000000.0\n",
       "2    3000000.0\n",
       "3    5000000.0\n",
       "4    1500000.0\n",
       "Name: population, dtype: float64"
      ]
     },
     "execution_count": 56,
     "metadata": {
      "tags": []
     },
     "output_type": "execute_result"
    }
   ],
   "source": [
    "#Le pido una columna\n",
    "df['population']\n",
    "#Devuelve una serie con el nombre de la columna y con su índice numérico"
   ]
  },
  {
   "cell_type": "code",
   "execution_count": null,
   "metadata": {
    "colab": {
     "base_uri": "https://localhost:8080/"
    },
    "executionInfo": {
     "elapsed": 514,
     "status": "ok",
     "timestamp": 1607767057991,
     "user": {
      "displayName": "Esther Molinero Fernandez",
      "photoUrl": "",
      "userId": "02472710521214242712"
     },
     "user_tz": -60
    },
    "id": "EmkuMxArYdqP",
    "outputId": "40e4f58e-96b4-4b4f-c3a1-aedd8a2b4657"
   },
   "outputs": [
    {
     "data": {
      "text/plain": [
       "0    1500000.0\n",
       "1    2000000.0\n",
       "2    3000000.0\n",
       "3    5000000.0\n",
       "4    1500000.0\n",
       "Name: population, dtype: float64"
      ]
     },
     "execution_count": 57,
     "metadata": {
      "tags": []
     },
     "output_type": "execute_result"
    }
   ],
   "source": [
    "df.population"
   ]
  },
  {
   "cell_type": "code",
   "execution_count": null,
   "metadata": {
    "id": "qL9xmd43YmOw"
   },
   "outputs": [],
   "source": [
    "df2['2nd_language']=np.nan"
   ]
  },
  {
   "cell_type": "code",
   "execution_count": null,
   "metadata": {
    "colab": {
     "base_uri": "https://localhost:8080/",
     "height": 204
    },
    "executionInfo": {
     "elapsed": 737,
     "status": "ok",
     "timestamp": 1607767105854,
     "user": {
      "displayName": "Esther Molinero Fernandez",
      "photoUrl": "",
      "userId": "02472710521214242712"
     },
     "user_tz": -60
    },
    "id": "9ebdObbeYw3K",
    "outputId": "e6abce20-3d15-4826-b990-de2f8ef45c89"
   },
   "outputs": [
    {
     "data": {
      "text/html": [
       "<div>\n",
       "<style scoped>\n",
       "    .dataframe tbody tr th:only-of-type {\n",
       "        vertical-align: middle;\n",
       "    }\n",
       "\n",
       "    .dataframe tbody tr th {\n",
       "        vertical-align: top;\n",
       "    }\n",
       "\n",
       "    .dataframe thead th {\n",
       "        text-align: right;\n",
       "    }\n",
       "</style>\n",
       "<table border=\"1\" class=\"dataframe\">\n",
       "  <thead>\n",
       "    <tr style=\"text-align: right;\">\n",
       "      <th></th>\n",
       "      <th>province</th>\n",
       "      <th>population</th>\n",
       "      <th>year</th>\n",
       "      <th>debt</th>\n",
       "      <th>2nd_language</th>\n",
       "    </tr>\n",
       "  </thead>\n",
       "  <tbody>\n",
       "    <tr>\n",
       "      <th>0</th>\n",
       "      <td>M</td>\n",
       "      <td>1500000.0</td>\n",
       "      <td>1900</td>\n",
       "      <td>NaN</td>\n",
       "      <td>NaN</td>\n",
       "    </tr>\n",
       "    <tr>\n",
       "      <th>1</th>\n",
       "      <td>M</td>\n",
       "      <td>2000000.0</td>\n",
       "      <td>1950</td>\n",
       "      <td>NaN</td>\n",
       "      <td>NaN</td>\n",
       "    </tr>\n",
       "    <tr>\n",
       "      <th>2</th>\n",
       "      <td>M</td>\n",
       "      <td>3000000.0</td>\n",
       "      <td>2000</td>\n",
       "      <td>NaN</td>\n",
       "      <td>NaN</td>\n",
       "    </tr>\n",
       "    <tr>\n",
       "      <th>3</th>\n",
       "      <td>B</td>\n",
       "      <td>5000000.0</td>\n",
       "      <td>1900</td>\n",
       "      <td>NaN</td>\n",
       "      <td>NaN</td>\n",
       "    </tr>\n",
       "    <tr>\n",
       "      <th>4</th>\n",
       "      <td>B</td>\n",
       "      <td>1500000.0</td>\n",
       "      <td>2000</td>\n",
       "      <td>NaN</td>\n",
       "      <td>NaN</td>\n",
       "    </tr>\n",
       "  </tbody>\n",
       "</table>\n",
       "</div>"
      ],
      "text/plain": [
       "  province  population  year debt  2nd_language\n",
       "0        M   1500000.0  1900  NaN           NaN\n",
       "1        M   2000000.0  1950  NaN           NaN\n",
       "2        M   3000000.0  2000  NaN           NaN\n",
       "3        B   5000000.0  1900  NaN           NaN\n",
       "4        B   1500000.0  2000  NaN           NaN"
      ]
     },
     "execution_count": 59,
     "metadata": {
      "tags": []
     },
     "output_type": "execute_result"
    }
   ],
   "source": [
    "df2"
   ]
  },
  {
   "cell_type": "code",
   "execution_count": null,
   "metadata": {
    "colab": {
     "base_uri": "https://localhost:8080/"
    },
    "executionInfo": {
     "elapsed": 969,
     "status": "ok",
     "timestamp": 1607767124144,
     "user": {
      "displayName": "Esther Molinero Fernandez",
      "photoUrl": "",
      "userId": "02472710521214242712"
     },
     "user_tz": -60
    },
    "id": "Skl2jfqOYx1-",
    "outputId": "8b917d78-e13f-4a26-b2d1-77bd999b4a4e"
   },
   "outputs": [
    {
     "data": {
      "text/plain": [
       "0   NaN\n",
       "1   NaN\n",
       "2   NaN\n",
       "3   NaN\n",
       "4   NaN\n",
       "Name: 2nd_language, dtype: float64"
      ]
     },
     "execution_count": 60,
     "metadata": {
      "tags": []
     },
     "output_type": "execute_result"
    }
   ],
   "source": [
    "df2['2nd_language']"
   ]
  },
  {
   "cell_type": "code",
   "execution_count": null,
   "metadata": {
    "colab": {
     "base_uri": "https://localhost:8080/",
     "height": 129
    },
    "executionInfo": {
     "elapsed": 843,
     "status": "error",
     "timestamp": 1607767174679,
     "user": {
      "displayName": "Esther Molinero Fernandez",
      "photoUrl": "",
      "userId": "02472710521214242712"
     },
     "user_tz": -60
    },
    "id": "u6fZD6biY2Rk",
    "outputId": "e4adca31-b15d-4a82-abf9-164b80a9061e"
   },
   "outputs": [
    {
     "ename": "SyntaxError",
     "evalue": "ignored",
     "output_type": "error",
     "traceback": [
      "\u001b[0;36m  File \u001b[0;32m\"<ipython-input-61-135330bb7583>\"\u001b[0;36m, line \u001b[0;32m1\u001b[0m\n\u001b[0;31m    df2.2n_language\u001b[0m\n\u001b[0m        ^\u001b[0m\n\u001b[0;31mSyntaxError\u001b[0m\u001b[0;31m:\u001b[0m invalid syntax\n"
     ]
    }
   ],
   "source": [
    "df2.2n_language #Problemas a como nombramos las columnas, no podemos empezar despues de un punto con un numero"
   ]
  },
  {
   "cell_type": "code",
   "execution_count": null,
   "metadata": {
    "id": "X_baLtGYZTnP"
   },
   "outputs": [],
   "source": [
    "#Ponemos un nuevo index creado por nosotros, ya no es un rangeindex\n",
    "df2.index = list('abcde')"
   ]
  },
  {
   "cell_type": "code",
   "execution_count": null,
   "metadata": {
    "colab": {
     "base_uri": "https://localhost:8080/",
     "height": 204
    },
    "executionInfo": {
     "elapsed": 637,
     "status": "ok",
     "timestamp": 1607767330532,
     "user": {
      "displayName": "Esther Molinero Fernandez",
      "photoUrl": "",
      "userId": "02472710521214242712"
     },
     "user_tz": -60
    },
    "id": "r_BPiwjbZn8O",
    "outputId": "99efb309-fccb-4a35-d7ed-dcfb4c1d42be"
   },
   "outputs": [
    {
     "data": {
      "text/html": [
       "<div>\n",
       "<style scoped>\n",
       "    .dataframe tbody tr th:only-of-type {\n",
       "        vertical-align: middle;\n",
       "    }\n",
       "\n",
       "    .dataframe tbody tr th {\n",
       "        vertical-align: top;\n",
       "    }\n",
       "\n",
       "    .dataframe thead th {\n",
       "        text-align: right;\n",
       "    }\n",
       "</style>\n",
       "<table border=\"1\" class=\"dataframe\">\n",
       "  <thead>\n",
       "    <tr style=\"text-align: right;\">\n",
       "      <th></th>\n",
       "      <th>province</th>\n",
       "      <th>population</th>\n",
       "      <th>year</th>\n",
       "      <th>debt</th>\n",
       "      <th>2nd_language</th>\n",
       "    </tr>\n",
       "  </thead>\n",
       "  <tbody>\n",
       "    <tr>\n",
       "      <th>a</th>\n",
       "      <td>M</td>\n",
       "      <td>1500000.0</td>\n",
       "      <td>1900</td>\n",
       "      <td>NaN</td>\n",
       "      <td>NaN</td>\n",
       "    </tr>\n",
       "    <tr>\n",
       "      <th>b</th>\n",
       "      <td>M</td>\n",
       "      <td>2000000.0</td>\n",
       "      <td>1950</td>\n",
       "      <td>NaN</td>\n",
       "      <td>NaN</td>\n",
       "    </tr>\n",
       "    <tr>\n",
       "      <th>c</th>\n",
       "      <td>M</td>\n",
       "      <td>3000000.0</td>\n",
       "      <td>2000</td>\n",
       "      <td>NaN</td>\n",
       "      <td>NaN</td>\n",
       "    </tr>\n",
       "    <tr>\n",
       "      <th>d</th>\n",
       "      <td>B</td>\n",
       "      <td>5000000.0</td>\n",
       "      <td>1900</td>\n",
       "      <td>NaN</td>\n",
       "      <td>NaN</td>\n",
       "    </tr>\n",
       "    <tr>\n",
       "      <th>e</th>\n",
       "      <td>B</td>\n",
       "      <td>1500000.0</td>\n",
       "      <td>2000</td>\n",
       "      <td>NaN</td>\n",
       "      <td>NaN</td>\n",
       "    </tr>\n",
       "  </tbody>\n",
       "</table>\n",
       "</div>"
      ],
      "text/plain": [
       "  province  population  year debt  2nd_language\n",
       "a        M   1500000.0  1900  NaN           NaN\n",
       "b        M   2000000.0  1950  NaN           NaN\n",
       "c        M   3000000.0  2000  NaN           NaN\n",
       "d        B   5000000.0  1900  NaN           NaN\n",
       "e        B   1500000.0  2000  NaN           NaN"
      ]
     },
     "execution_count": 63,
     "metadata": {
      "tags": []
     },
     "output_type": "execute_result"
    }
   ],
   "source": [
    "df2"
   ]
  },
  {
   "cell_type": "code",
   "execution_count": null,
   "metadata": {
    "colab": {
     "base_uri": "https://localhost:8080/"
    },
    "executionInfo": {
     "elapsed": 713,
     "status": "ok",
     "timestamp": 1607767361108,
     "user": {
      "displayName": "Esther Molinero Fernandez",
      "photoUrl": "",
      "userId": "02472710521214242712"
     },
     "user_tz": -60
    },
    "id": "H7wzwS3kZovP",
    "outputId": "d2b993bf-a1de-4810-92bc-ed46eba02bdc"
   },
   "outputs": [
    {
     "data": {
      "text/plain": [
       "Index(['a', 'b', 'c', 'd', 'e'], dtype='object')"
      ]
     },
     "execution_count": 64,
     "metadata": {
      "tags": []
     },
     "output_type": "execute_result"
    }
   ],
   "source": [
    "df2.index"
   ]
  },
  {
   "cell_type": "code",
   "execution_count": null,
   "metadata": {
    "colab": {
     "base_uri": "https://localhost:8080/"
    },
    "executionInfo": {
     "elapsed": 775,
     "status": "ok",
     "timestamp": 1607767392453,
     "user": {
      "displayName": "Esther Molinero Fernandez",
      "photoUrl": "",
      "userId": "02472710521214242712"
     },
     "user_tz": -60
    },
    "id": "m6cSFVPkZwJS",
    "outputId": "d8858944-42ef-4b8d-80ef-0f08899c2050"
   },
   "outputs": [
    {
     "data": {
      "text/plain": [
       "province            M\n",
       "population      3e+06\n",
       "year             2000\n",
       "debt              NaN\n",
       "2nd_language      NaN\n",
       "Name: c, dtype: object"
      ]
     },
     "execution_count": 65,
     "metadata": {
      "tags": []
     },
     "output_type": "execute_result"
    }
   ],
   "source": [
    "#Para que me de una fila\n",
    "df2.loc['c']"
   ]
  },
  {
   "cell_type": "code",
   "execution_count": null,
   "metadata": {
    "colab": {
     "base_uri": "https://localhost:8080/",
     "height": 142
    },
    "executionInfo": {
     "elapsed": 641,
     "status": "ok",
     "timestamp": 1607767484064,
     "user": {
      "displayName": "Esther Molinero Fernandez",
      "photoUrl": "",
      "userId": "02472710521214242712"
     },
     "user_tz": -60
    },
    "id": "zF4XrcGAZ30U",
    "outputId": "81d3942e-62ad-47d5-faf8-c4095cc5683d"
   },
   "outputs": [
    {
     "data": {
      "text/html": [
       "<div>\n",
       "<style scoped>\n",
       "    .dataframe tbody tr th:only-of-type {\n",
       "        vertical-align: middle;\n",
       "    }\n",
       "\n",
       "    .dataframe tbody tr th {\n",
       "        vertical-align: top;\n",
       "    }\n",
       "\n",
       "    .dataframe thead th {\n",
       "        text-align: right;\n",
       "    }\n",
       "</style>\n",
       "<table border=\"1\" class=\"dataframe\">\n",
       "  <thead>\n",
       "    <tr style=\"text-align: right;\">\n",
       "      <th></th>\n",
       "      <th>province</th>\n",
       "      <th>population</th>\n",
       "      <th>year</th>\n",
       "      <th>debt</th>\n",
       "      <th>2nd_language</th>\n",
       "    </tr>\n",
       "  </thead>\n",
       "  <tbody>\n",
       "    <tr>\n",
       "      <th>a</th>\n",
       "      <td>M</td>\n",
       "      <td>1500000.0</td>\n",
       "      <td>1900</td>\n",
       "      <td>NaN</td>\n",
       "      <td>NaN</td>\n",
       "    </tr>\n",
       "    <tr>\n",
       "      <th>b</th>\n",
       "      <td>M</td>\n",
       "      <td>2000000.0</td>\n",
       "      <td>1950</td>\n",
       "      <td>NaN</td>\n",
       "      <td>NaN</td>\n",
       "    </tr>\n",
       "    <tr>\n",
       "      <th>c</th>\n",
       "      <td>M</td>\n",
       "      <td>3000000.0</td>\n",
       "      <td>2000</td>\n",
       "      <td>NaN</td>\n",
       "      <td>NaN</td>\n",
       "    </tr>\n",
       "  </tbody>\n",
       "</table>\n",
       "</div>"
      ],
      "text/plain": [
       "  province  population  year debt  2nd_language\n",
       "a        M   1500000.0  1900  NaN           NaN\n",
       "b        M   2000000.0  1950  NaN           NaN\n",
       "c        M   3000000.0  2000  NaN           NaN"
      ]
     },
     "execution_count": 69,
     "metadata": {
      "tags": []
     },
     "output_type": "execute_result"
    }
   ],
   "source": [
    "df2.loc['a':'c']  #no es igual que el slicing de python"
   ]
  },
  {
   "cell_type": "code",
   "execution_count": null,
   "metadata": {
    "colab": {
     "base_uri": "https://localhost:8080/",
     "height": 111
    },
    "executionInfo": {
     "elapsed": 1365,
     "status": "ok",
     "timestamp": 1607769568754,
     "user": {
      "displayName": "Esther Molinero Fernandez",
      "photoUrl": "",
      "userId": "02472710521214242712"
     },
     "user_tz": -60
    },
    "id": "YLySMRwraERW",
    "outputId": "ed1e2415-0813-4146-ee65-ba054d97e120"
   },
   "outputs": [
    {
     "data": {
      "text/html": [
       "<div>\n",
       "<style scoped>\n",
       "    .dataframe tbody tr th:only-of-type {\n",
       "        vertical-align: middle;\n",
       "    }\n",
       "\n",
       "    .dataframe tbody tr th {\n",
       "        vertical-align: top;\n",
       "    }\n",
       "\n",
       "    .dataframe thead th {\n",
       "        text-align: right;\n",
       "    }\n",
       "</style>\n",
       "<table border=\"1\" class=\"dataframe\">\n",
       "  <thead>\n",
       "    <tr style=\"text-align: right;\">\n",
       "      <th></th>\n",
       "      <th>province</th>\n",
       "      <th>population</th>\n",
       "      <th>year</th>\n",
       "      <th>debt</th>\n",
       "      <th>2nd_language</th>\n",
       "    </tr>\n",
       "  </thead>\n",
       "  <tbody>\n",
       "    <tr>\n",
       "      <th>c</th>\n",
       "      <td>M</td>\n",
       "      <td>3000000.0</td>\n",
       "      <td>2000</td>\n",
       "      <td>NaN</td>\n",
       "      <td>NaN</td>\n",
       "    </tr>\n",
       "    <tr>\n",
       "      <th>e</th>\n",
       "      <td>B</td>\n",
       "      <td>1500000.0</td>\n",
       "      <td>2000</td>\n",
       "      <td>NaN</td>\n",
       "      <td>NaN</td>\n",
       "    </tr>\n",
       "  </tbody>\n",
       "</table>\n",
       "</div>"
      ],
      "text/plain": [
       "  province  population  year debt  2nd_language\n",
       "c        M   3000000.0  2000  NaN           NaN\n",
       "e        B   1500000.0  2000  NaN           NaN"
      ]
     },
     "execution_count": 70,
     "metadata": {
      "tags": []
     },
     "output_type": "execute_result"
    }
   ],
   "source": [
    "df2.loc[df2['year']>1950]"
   ]
  },
  {
   "cell_type": "code",
   "execution_count": null,
   "metadata": {
    "colab": {
     "base_uri": "https://localhost:8080/"
    },
    "executionInfo": {
     "elapsed": 594,
     "status": "ok",
     "timestamp": 1607769607163,
     "user": {
      "displayName": "Esther Molinero Fernandez",
      "photoUrl": "",
      "userId": "02472710521214242712"
     },
     "user_tz": -60
    },
    "id": "MjMaI02miK92",
    "outputId": "2710d79c-2ee5-453a-dc62-cd841d451181"
   },
   "outputs": [
    {
     "data": {
      "text/plain": [
       "b    0.1\n",
       "d    0.6\n",
       "e    0.9\n",
       "dtype: float64"
      ]
     },
     "execution_count": 71,
     "metadata": {
      "tags": []
     },
     "output_type": "execute_result"
    }
   ],
   "source": [
    "val=pd.Series([0.1, 0.6, 0.9], index=['b','d','e'])\n",
    "val"
   ]
  },
  {
   "cell_type": "code",
   "execution_count": null,
   "metadata": {
    "colab": {
     "base_uri": "https://localhost:8080/",
     "height": 204
    },
    "executionInfo": {
     "elapsed": 871,
     "status": "ok",
     "timestamp": 1607769636523,
     "user": {
      "displayName": "Esther Molinero Fernandez",
      "photoUrl": "",
      "userId": "02472710521214242712"
     },
     "user_tz": -60
    },
    "id": "eFBSlKLDiUjV",
    "outputId": "fe715c22-baa2-4afa-8b79-7391d364e71e"
   },
   "outputs": [
    {
     "data": {
      "text/html": [
       "<div>\n",
       "<style scoped>\n",
       "    .dataframe tbody tr th:only-of-type {\n",
       "        vertical-align: middle;\n",
       "    }\n",
       "\n",
       "    .dataframe tbody tr th {\n",
       "        vertical-align: top;\n",
       "    }\n",
       "\n",
       "    .dataframe thead th {\n",
       "        text-align: right;\n",
       "    }\n",
       "</style>\n",
       "<table border=\"1\" class=\"dataframe\">\n",
       "  <thead>\n",
       "    <tr style=\"text-align: right;\">\n",
       "      <th></th>\n",
       "      <th>province</th>\n",
       "      <th>population</th>\n",
       "      <th>year</th>\n",
       "      <th>debt</th>\n",
       "      <th>2nd_language</th>\n",
       "    </tr>\n",
       "  </thead>\n",
       "  <tbody>\n",
       "    <tr>\n",
       "      <th>a</th>\n",
       "      <td>M</td>\n",
       "      <td>1500000.0</td>\n",
       "      <td>1900</td>\n",
       "      <td>1.0</td>\n",
       "      <td>NaN</td>\n",
       "    </tr>\n",
       "    <tr>\n",
       "      <th>b</th>\n",
       "      <td>M</td>\n",
       "      <td>2000000.0</td>\n",
       "      <td>1950</td>\n",
       "      <td>0.0</td>\n",
       "      <td>NaN</td>\n",
       "    </tr>\n",
       "    <tr>\n",
       "      <th>c</th>\n",
       "      <td>M</td>\n",
       "      <td>3000000.0</td>\n",
       "      <td>2000</td>\n",
       "      <td>2.0</td>\n",
       "      <td>NaN</td>\n",
       "    </tr>\n",
       "    <tr>\n",
       "      <th>d</th>\n",
       "      <td>B</td>\n",
       "      <td>5000000.0</td>\n",
       "      <td>1900</td>\n",
       "      <td>0.5</td>\n",
       "      <td>NaN</td>\n",
       "    </tr>\n",
       "    <tr>\n",
       "      <th>e</th>\n",
       "      <td>B</td>\n",
       "      <td>1500000.0</td>\n",
       "      <td>2000</td>\n",
       "      <td>0.7</td>\n",
       "      <td>NaN</td>\n",
       "    </tr>\n",
       "  </tbody>\n",
       "</table>\n",
       "</div>"
      ],
      "text/plain": [
       "  province  population  year  debt  2nd_language\n",
       "a        M   1500000.0  1900   1.0           NaN\n",
       "b        M   2000000.0  1950   0.0           NaN\n",
       "c        M   3000000.0  2000   2.0           NaN\n",
       "d        B   5000000.0  1900   0.5           NaN\n",
       "e        B   1500000.0  2000   0.7           NaN"
      ]
     },
     "execution_count": 72,
     "metadata": {
      "tags": []
     },
     "output_type": "execute_result"
    }
   ],
   "source": [
    "df2['debt']=[1,0,2,0.5,0.7]\n",
    "df2"
   ]
  },
  {
   "cell_type": "code",
   "execution_count": null,
   "metadata": {
    "colab": {
     "base_uri": "https://localhost:8080/",
     "height": 204
    },
    "executionInfo": {
     "elapsed": 637,
     "status": "ok",
     "timestamp": 1607769704207,
     "user": {
      "displayName": "Esther Molinero Fernandez",
      "photoUrl": "",
      "userId": "02472710521214242712"
     },
     "user_tz": -60
    },
    "id": "VvL1AK7PibqR",
    "outputId": "3175c1d9-53da-4651-f08b-2229e61e344a"
   },
   "outputs": [
    {
     "data": {
      "text/html": [
       "<div>\n",
       "<style scoped>\n",
       "    .dataframe tbody tr th:only-of-type {\n",
       "        vertical-align: middle;\n",
       "    }\n",
       "\n",
       "    .dataframe tbody tr th {\n",
       "        vertical-align: top;\n",
       "    }\n",
       "\n",
       "    .dataframe thead th {\n",
       "        text-align: right;\n",
       "    }\n",
       "</style>\n",
       "<table border=\"1\" class=\"dataframe\">\n",
       "  <thead>\n",
       "    <tr style=\"text-align: right;\">\n",
       "      <th></th>\n",
       "      <th>province</th>\n",
       "      <th>population</th>\n",
       "      <th>year</th>\n",
       "      <th>debt</th>\n",
       "      <th>2nd_language</th>\n",
       "    </tr>\n",
       "  </thead>\n",
       "  <tbody>\n",
       "    <tr>\n",
       "      <th>a</th>\n",
       "      <td>M</td>\n",
       "      <td>1500000.0</td>\n",
       "      <td>1900</td>\n",
       "      <td>NaN</td>\n",
       "      <td>NaN</td>\n",
       "    </tr>\n",
       "    <tr>\n",
       "      <th>b</th>\n",
       "      <td>M</td>\n",
       "      <td>2000000.0</td>\n",
       "      <td>1950</td>\n",
       "      <td>0.1</td>\n",
       "      <td>NaN</td>\n",
       "    </tr>\n",
       "    <tr>\n",
       "      <th>c</th>\n",
       "      <td>M</td>\n",
       "      <td>3000000.0</td>\n",
       "      <td>2000</td>\n",
       "      <td>NaN</td>\n",
       "      <td>NaN</td>\n",
       "    </tr>\n",
       "    <tr>\n",
       "      <th>d</th>\n",
       "      <td>B</td>\n",
       "      <td>5000000.0</td>\n",
       "      <td>1900</td>\n",
       "      <td>0.6</td>\n",
       "      <td>NaN</td>\n",
       "    </tr>\n",
       "    <tr>\n",
       "      <th>e</th>\n",
       "      <td>B</td>\n",
       "      <td>1500000.0</td>\n",
       "      <td>2000</td>\n",
       "      <td>0.9</td>\n",
       "      <td>NaN</td>\n",
       "    </tr>\n",
       "  </tbody>\n",
       "</table>\n",
       "</div>"
      ],
      "text/plain": [
       "  province  population  year  debt  2nd_language\n",
       "a        M   1500000.0  1900   NaN           NaN\n",
       "b        M   2000000.0  1950   0.1           NaN\n",
       "c        M   3000000.0  2000   NaN           NaN\n",
       "d        B   5000000.0  1900   0.6           NaN\n",
       "e        B   1500000.0  2000   0.9           NaN"
      ]
     },
     "execution_count": 73,
     "metadata": {
      "tags": []
     },
     "output_type": "execute_result"
    }
   ],
   "source": [
    "#Inserto los valores de la serie val en la columna 'debt'\n",
    "df2['debt']=val\n",
    "df2"
   ]
  },
  {
   "cell_type": "code",
   "execution_count": null,
   "metadata": {
    "colab": {
     "base_uri": "https://localhost:8080/",
     "height": 204
    },
    "executionInfo": {
     "elapsed": 700,
     "status": "ok",
     "timestamp": 1607769746061,
     "user": {
      "displayName": "Esther Molinero Fernandez",
      "photoUrl": "",
      "userId": "02472710521214242712"
     },
     "user_tz": -60
    },
    "id": "cT5yx2MVisNp",
    "outputId": "3b500885-547d-4cdc-cf3c-1c2d09ad5eca"
   },
   "outputs": [
    {
     "data": {
      "text/html": [
       "<div>\n",
       "<style scoped>\n",
       "    .dataframe tbody tr th:only-of-type {\n",
       "        vertical-align: middle;\n",
       "    }\n",
       "\n",
       "    .dataframe tbody tr th {\n",
       "        vertical-align: top;\n",
       "    }\n",
       "\n",
       "    .dataframe thead th {\n",
       "        text-align: right;\n",
       "    }\n",
       "</style>\n",
       "<table border=\"1\" class=\"dataframe\">\n",
       "  <thead>\n",
       "    <tr style=\"text-align: right;\">\n",
       "      <th></th>\n",
       "      <th>province</th>\n",
       "      <th>population</th>\n",
       "      <th>year</th>\n",
       "      <th>debt</th>\n",
       "      <th>2nd_language</th>\n",
       "      <th>capital</th>\n",
       "    </tr>\n",
       "  </thead>\n",
       "  <tbody>\n",
       "    <tr>\n",
       "      <th>a</th>\n",
       "      <td>M</td>\n",
       "      <td>1500000.0</td>\n",
       "      <td>1900</td>\n",
       "      <td>NaN</td>\n",
       "      <td>NaN</td>\n",
       "      <td>True</td>\n",
       "    </tr>\n",
       "    <tr>\n",
       "      <th>b</th>\n",
       "      <td>M</td>\n",
       "      <td>2000000.0</td>\n",
       "      <td>1950</td>\n",
       "      <td>0.1</td>\n",
       "      <td>NaN</td>\n",
       "      <td>True</td>\n",
       "    </tr>\n",
       "    <tr>\n",
       "      <th>c</th>\n",
       "      <td>M</td>\n",
       "      <td>3000000.0</td>\n",
       "      <td>2000</td>\n",
       "      <td>NaN</td>\n",
       "      <td>NaN</td>\n",
       "      <td>True</td>\n",
       "    </tr>\n",
       "    <tr>\n",
       "      <th>d</th>\n",
       "      <td>B</td>\n",
       "      <td>5000000.0</td>\n",
       "      <td>1900</td>\n",
       "      <td>0.6</td>\n",
       "      <td>NaN</td>\n",
       "      <td>False</td>\n",
       "    </tr>\n",
       "    <tr>\n",
       "      <th>e</th>\n",
       "      <td>B</td>\n",
       "      <td>1500000.0</td>\n",
       "      <td>2000</td>\n",
       "      <td>0.9</td>\n",
       "      <td>NaN</td>\n",
       "      <td>False</td>\n",
       "    </tr>\n",
       "  </tbody>\n",
       "</table>\n",
       "</div>"
      ],
      "text/plain": [
       "  province  population  year  debt  2nd_language  capital\n",
       "a        M   1500000.0  1900   NaN           NaN     True\n",
       "b        M   2000000.0  1950   0.1           NaN     True\n",
       "c        M   3000000.0  2000   NaN           NaN     True\n",
       "d        B   5000000.0  1900   0.6           NaN    False\n",
       "e        B   1500000.0  2000   0.9           NaN    False"
      ]
     },
     "execution_count": 74,
     "metadata": {
      "tags": []
     },
     "output_type": "execute_result"
    }
   ],
   "source": [
    "#Creo una nueva columna donde me diga si la province es una 'M'\n",
    "df2['capital']=df2['province']=='M'\n",
    "df2"
   ]
  },
  {
   "cell_type": "code",
   "execution_count": null,
   "metadata": {
    "colab": {
     "base_uri": "https://localhost:8080/",
     "height": 235
    },
    "executionInfo": {
     "elapsed": 1104,
     "status": "ok",
     "timestamp": 1607769845609,
     "user": {
      "displayName": "Esther Molinero Fernandez",
      "photoUrl": "",
      "userId": "02472710521214242712"
     },
     "user_tz": -60
    },
    "id": "JPBCNlJRi2cy",
    "outputId": "fdfc6cfe-485f-4f0e-b39b-62adb49863c1"
   },
   "outputs": [
    {
     "data": {
      "text/html": [
       "<div>\n",
       "<style scoped>\n",
       "    .dataframe tbody tr th:only-of-type {\n",
       "        vertical-align: middle;\n",
       "    }\n",
       "\n",
       "    .dataframe tbody tr th {\n",
       "        vertical-align: top;\n",
       "    }\n",
       "\n",
       "    .dataframe thead th {\n",
       "        text-align: right;\n",
       "    }\n",
       "</style>\n",
       "<table border=\"1\" class=\"dataframe\">\n",
       "  <thead>\n",
       "    <tr style=\"text-align: right;\">\n",
       "      <th></th>\n",
       "      <th>a</th>\n",
       "      <th>b</th>\n",
       "      <th>c</th>\n",
       "      <th>d</th>\n",
       "      <th>e</th>\n",
       "    </tr>\n",
       "  </thead>\n",
       "  <tbody>\n",
       "    <tr>\n",
       "      <th>province</th>\n",
       "      <td>M</td>\n",
       "      <td>M</td>\n",
       "      <td>M</td>\n",
       "      <td>B</td>\n",
       "      <td>B</td>\n",
       "    </tr>\n",
       "    <tr>\n",
       "      <th>population</th>\n",
       "      <td>1.5e+06</td>\n",
       "      <td>2e+06</td>\n",
       "      <td>3e+06</td>\n",
       "      <td>5e+06</td>\n",
       "      <td>1.5e+06</td>\n",
       "    </tr>\n",
       "    <tr>\n",
       "      <th>year</th>\n",
       "      <td>1900</td>\n",
       "      <td>1950</td>\n",
       "      <td>2000</td>\n",
       "      <td>1900</td>\n",
       "      <td>2000</td>\n",
       "    </tr>\n",
       "    <tr>\n",
       "      <th>debt</th>\n",
       "      <td>NaN</td>\n",
       "      <td>0.1</td>\n",
       "      <td>NaN</td>\n",
       "      <td>0.6</td>\n",
       "      <td>0.9</td>\n",
       "    </tr>\n",
       "    <tr>\n",
       "      <th>2nd_language</th>\n",
       "      <td>NaN</td>\n",
       "      <td>NaN</td>\n",
       "      <td>NaN</td>\n",
       "      <td>NaN</td>\n",
       "      <td>NaN</td>\n",
       "    </tr>\n",
       "    <tr>\n",
       "      <th>capital</th>\n",
       "      <td>True</td>\n",
       "      <td>True</td>\n",
       "      <td>True</td>\n",
       "      <td>False</td>\n",
       "      <td>False</td>\n",
       "    </tr>\n",
       "  </tbody>\n",
       "</table>\n",
       "</div>"
      ],
      "text/plain": [
       "                    a      b      c      d        e\n",
       "province            M      M      M      B        B\n",
       "population    1.5e+06  2e+06  3e+06  5e+06  1.5e+06\n",
       "year             1900   1950   2000   1900     2000\n",
       "debt              NaN    0.1    NaN    0.6      0.9\n",
       "2nd_language      NaN    NaN    NaN    NaN      NaN\n",
       "capital          True   True   True  False    False"
      ]
     },
     "execution_count": 75,
     "metadata": {
      "tags": []
     },
     "output_type": "execute_result"
    }
   ],
   "source": [
    "#Transponemos filas y columnas, como las matrices\n",
    "df2.T"
   ]
  },
  {
   "cell_type": "code",
   "execution_count": null,
   "metadata": {
    "colab": {
     "base_uri": "https://localhost:8080/",
     "height": 297
    },
    "executionInfo": {
     "elapsed": 1144,
     "status": "ok",
     "timestamp": 1607769860434,
     "user": {
      "displayName": "Esther Molinero Fernandez",
      "photoUrl": "",
      "userId": "02472710521214242712"
     },
     "user_tz": -60
    },
    "id": "Nro1TV9CjOoJ",
    "outputId": "1576f53b-11d3-485c-e606-fc69da780331"
   },
   "outputs": [
    {
     "data": {
      "text/html": [
       "<div>\n",
       "<style scoped>\n",
       "    .dataframe tbody tr th:only-of-type {\n",
       "        vertical-align: middle;\n",
       "    }\n",
       "\n",
       "    .dataframe tbody tr th {\n",
       "        vertical-align: top;\n",
       "    }\n",
       "\n",
       "    .dataframe thead th {\n",
       "        text-align: right;\n",
       "    }\n",
       "</style>\n",
       "<table border=\"1\" class=\"dataframe\">\n",
       "  <thead>\n",
       "    <tr style=\"text-align: right;\">\n",
       "      <th></th>\n",
       "      <th>population</th>\n",
       "      <th>year</th>\n",
       "      <th>debt</th>\n",
       "      <th>2nd_language</th>\n",
       "    </tr>\n",
       "  </thead>\n",
       "  <tbody>\n",
       "    <tr>\n",
       "      <th>count</th>\n",
       "      <td>5.000000e+00</td>\n",
       "      <td>5.0</td>\n",
       "      <td>3.000000</td>\n",
       "      <td>0.0</td>\n",
       "    </tr>\n",
       "    <tr>\n",
       "      <th>mean</th>\n",
       "      <td>2.600000e+06</td>\n",
       "      <td>1950.0</td>\n",
       "      <td>0.533333</td>\n",
       "      <td>NaN</td>\n",
       "    </tr>\n",
       "    <tr>\n",
       "      <th>std</th>\n",
       "      <td>1.474788e+06</td>\n",
       "      <td>50.0</td>\n",
       "      <td>0.404145</td>\n",
       "      <td>NaN</td>\n",
       "    </tr>\n",
       "    <tr>\n",
       "      <th>min</th>\n",
       "      <td>1.500000e+06</td>\n",
       "      <td>1900.0</td>\n",
       "      <td>0.100000</td>\n",
       "      <td>NaN</td>\n",
       "    </tr>\n",
       "    <tr>\n",
       "      <th>25%</th>\n",
       "      <td>1.500000e+06</td>\n",
       "      <td>1900.0</td>\n",
       "      <td>0.350000</td>\n",
       "      <td>NaN</td>\n",
       "    </tr>\n",
       "    <tr>\n",
       "      <th>50%</th>\n",
       "      <td>2.000000e+06</td>\n",
       "      <td>1950.0</td>\n",
       "      <td>0.600000</td>\n",
       "      <td>NaN</td>\n",
       "    </tr>\n",
       "    <tr>\n",
       "      <th>75%</th>\n",
       "      <td>3.000000e+06</td>\n",
       "      <td>2000.0</td>\n",
       "      <td>0.750000</td>\n",
       "      <td>NaN</td>\n",
       "    </tr>\n",
       "    <tr>\n",
       "      <th>max</th>\n",
       "      <td>5.000000e+06</td>\n",
       "      <td>2000.0</td>\n",
       "      <td>0.900000</td>\n",
       "      <td>NaN</td>\n",
       "    </tr>\n",
       "  </tbody>\n",
       "</table>\n",
       "</div>"
      ],
      "text/plain": [
       "         population    year      debt  2nd_language\n",
       "count  5.000000e+00     5.0  3.000000           0.0\n",
       "mean   2.600000e+06  1950.0  0.533333           NaN\n",
       "std    1.474788e+06    50.0  0.404145           NaN\n",
       "min    1.500000e+06  1900.0  0.100000           NaN\n",
       "25%    1.500000e+06  1900.0  0.350000           NaN\n",
       "50%    2.000000e+06  1950.0  0.600000           NaN\n",
       "75%    3.000000e+06  2000.0  0.750000           NaN\n",
       "max    5.000000e+06  2000.0  0.900000           NaN"
      ]
     },
     "execution_count": 76,
     "metadata": {
      "tags": []
     },
     "output_type": "execute_result"
    }
   ],
   "source": [
    "#Estadistica descriptiva rápida sobre las columnas que tenemos\n",
    "df2.describe()"
   ]
  },
  {
   "cell_type": "code",
   "execution_count": null,
   "metadata": {
    "colab": {
     "base_uri": "https://localhost:8080/",
     "height": 173
    },
    "executionInfo": {
     "elapsed": 738,
     "status": "ok",
     "timestamp": 1607769912106,
     "user": {
      "displayName": "Esther Molinero Fernandez",
      "photoUrl": "",
      "userId": "02472710521214242712"
     },
     "user_tz": -60
    },
    "id": "14ZFNrNDjSJE",
    "outputId": "c43f57a9-eb57-4b44-9435-b14266be30d2"
   },
   "outputs": [
    {
     "data": {
      "text/html": [
       "<div>\n",
       "<style scoped>\n",
       "    .dataframe tbody tr th:only-of-type {\n",
       "        vertical-align: middle;\n",
       "    }\n",
       "\n",
       "    .dataframe tbody tr th {\n",
       "        vertical-align: top;\n",
       "    }\n",
       "\n",
       "    .dataframe thead th {\n",
       "        text-align: right;\n",
       "    }\n",
       "</style>\n",
       "<table border=\"1\" class=\"dataframe\">\n",
       "  <thead>\n",
       "    <tr style=\"text-align: right;\">\n",
       "      <th></th>\n",
       "      <th>count</th>\n",
       "      <th>mean</th>\n",
       "      <th>std</th>\n",
       "      <th>min</th>\n",
       "      <th>25%</th>\n",
       "      <th>50%</th>\n",
       "      <th>75%</th>\n",
       "      <th>max</th>\n",
       "    </tr>\n",
       "  </thead>\n",
       "  <tbody>\n",
       "    <tr>\n",
       "      <th>population</th>\n",
       "      <td>5.0</td>\n",
       "      <td>2.600000e+06</td>\n",
       "      <td>1.474788e+06</td>\n",
       "      <td>1500000.0</td>\n",
       "      <td>1500000.00</td>\n",
       "      <td>2000000.0</td>\n",
       "      <td>3000000.00</td>\n",
       "      <td>5000000.0</td>\n",
       "    </tr>\n",
       "    <tr>\n",
       "      <th>year</th>\n",
       "      <td>5.0</td>\n",
       "      <td>1.950000e+03</td>\n",
       "      <td>5.000000e+01</td>\n",
       "      <td>1900.0</td>\n",
       "      <td>1900.00</td>\n",
       "      <td>1950.0</td>\n",
       "      <td>2000.00</td>\n",
       "      <td>2000.0</td>\n",
       "    </tr>\n",
       "    <tr>\n",
       "      <th>debt</th>\n",
       "      <td>3.0</td>\n",
       "      <td>5.333333e-01</td>\n",
       "      <td>4.041452e-01</td>\n",
       "      <td>0.1</td>\n",
       "      <td>0.35</td>\n",
       "      <td>0.6</td>\n",
       "      <td>0.75</td>\n",
       "      <td>0.9</td>\n",
       "    </tr>\n",
       "    <tr>\n",
       "      <th>2nd_language</th>\n",
       "      <td>0.0</td>\n",
       "      <td>NaN</td>\n",
       "      <td>NaN</td>\n",
       "      <td>NaN</td>\n",
       "      <td>NaN</td>\n",
       "      <td>NaN</td>\n",
       "      <td>NaN</td>\n",
       "      <td>NaN</td>\n",
       "    </tr>\n",
       "  </tbody>\n",
       "</table>\n",
       "</div>"
      ],
      "text/plain": [
       "              count          mean  ...         75%        max\n",
       "population      5.0  2.600000e+06  ...  3000000.00  5000000.0\n",
       "year            5.0  1.950000e+03  ...     2000.00     2000.0\n",
       "debt            3.0  5.333333e-01  ...        0.75        0.9\n",
       "2nd_language    0.0           NaN  ...         NaN        NaN\n",
       "\n",
       "[4 rows x 8 columns]"
      ]
     },
     "execution_count": 77,
     "metadata": {
      "tags": []
     },
     "output_type": "execute_result"
    }
   ],
   "source": [
    "#Otra forma de verlo\n",
    "df2.describe().T"
   ]
  },
  {
   "cell_type": "code",
   "execution_count": null,
   "metadata": {
    "colab": {
     "base_uri": "https://localhost:8080/"
    },
    "executionInfo": {
     "elapsed": 874,
     "status": "ok",
     "timestamp": 1607769951676,
     "user": {
      "displayName": "Esther Molinero Fernandez",
      "photoUrl": "",
      "userId": "02472710521214242712"
     },
     "user_tz": -60
    },
    "id": "VddvDcTbje-j",
    "outputId": "c6df4c71-6fe9-4400-aa53-500230c220c3"
   },
   "outputs": [
    {
     "data": {
      "text/plain": [
       "province        5\n",
       "population      5\n",
       "year            5\n",
       "debt            3\n",
       "2nd_language    0\n",
       "capital         5\n",
       "dtype: int64"
      ]
     },
     "execution_count": 78,
     "metadata": {
      "tags": []
     },
     "output_type": "execute_result"
    }
   ],
   "source": [
    "#Contar cantidad de valores que tenemos en la tabla\n",
    "df2.count()"
   ]
  },
  {
   "cell_type": "code",
   "execution_count": null,
   "metadata": {
    "colab": {
     "base_uri": "https://localhost:8080/",
     "height": 299
    },
    "executionInfo": {
     "elapsed": 557,
     "status": "error",
     "timestamp": 1607770239095,
     "user": {
      "displayName": "Esther Molinero Fernandez",
      "photoUrl": "",
      "userId": "02472710521214242712"
     },
     "user_tz": -60
    },
    "id": "EqMu1NsEjomx",
    "outputId": "9731332b-4eba-4a6a-c2d3-67287c4e2c5e"
   },
   "outputs": [
    {
     "ename": "TypeError",
     "evalue": "ignored",
     "output_type": "error",
     "traceback": [
      "\u001b[0;31m---------------------------------------------------------------------------\u001b[0m",
      "\u001b[0;31mTypeError\u001b[0m                                 Traceback (most recent call last)",
      "\u001b[0;32m<ipython-input-82-9833656c1729>\u001b[0m in \u001b[0;36m<module>\u001b[0;34m()\u001b[0m\n\u001b[1;32m      1\u001b[0m \u001b[0;31m#Los objetos indices de las series y df son inmutables\u001b[0m\u001b[0;34m\u001b[0m\u001b[0;34m\u001b[0m\u001b[0;34m\u001b[0m\u001b[0m\n\u001b[0;32m----> 2\u001b[0;31m \u001b[0mdf2\u001b[0m\u001b[0;34m.\u001b[0m\u001b[0mindex\u001b[0m\u001b[0;34m[\u001b[0m\u001b[0;36m1\u001b[0m\u001b[0;34m]\u001b[0m\u001b[0;34m=\u001b[0m\u001b[0;34m'x'\u001b[0m\u001b[0;34m\u001b[0m\u001b[0;34m\u001b[0m\u001b[0m\n\u001b[0m",
      "\u001b[0;32m/usr/local/lib/python3.6/dist-packages/pandas/core/indexes/base.py\u001b[0m in \u001b[0;36m__setitem__\u001b[0;34m(self, key, value)\u001b[0m\n\u001b[1;32m   4082\u001b[0m \u001b[0;34m\u001b[0m\u001b[0m\n\u001b[1;32m   4083\u001b[0m     \u001b[0;32mdef\u001b[0m \u001b[0m__setitem__\u001b[0m\u001b[0;34m(\u001b[0m\u001b[0mself\u001b[0m\u001b[0;34m,\u001b[0m \u001b[0mkey\u001b[0m\u001b[0;34m,\u001b[0m \u001b[0mvalue\u001b[0m\u001b[0;34m)\u001b[0m\u001b[0;34m:\u001b[0m\u001b[0;34m\u001b[0m\u001b[0;34m\u001b[0m\u001b[0m\n\u001b[0;32m-> 4084\u001b[0;31m         \u001b[0;32mraise\u001b[0m \u001b[0mTypeError\u001b[0m\u001b[0;34m(\u001b[0m\u001b[0;34m\"Index does not support mutable operations\"\u001b[0m\u001b[0;34m)\u001b[0m\u001b[0;34m\u001b[0m\u001b[0;34m\u001b[0m\u001b[0m\n\u001b[0m\u001b[1;32m   4085\u001b[0m \u001b[0;34m\u001b[0m\u001b[0m\n\u001b[1;32m   4086\u001b[0m     \u001b[0;32mdef\u001b[0m \u001b[0m__getitem__\u001b[0m\u001b[0;34m(\u001b[0m\u001b[0mself\u001b[0m\u001b[0;34m,\u001b[0m \u001b[0mkey\u001b[0m\u001b[0;34m)\u001b[0m\u001b[0;34m:\u001b[0m\u001b[0;34m\u001b[0m\u001b[0;34m\u001b[0m\u001b[0m\n",
      "\u001b[0;31mTypeError\u001b[0m: Index does not support mutable operations"
     ]
    }
   ],
   "source": [
    "#Los objetos indices de las series y df son inmutables\n",
    "df2.index[1]='x'\n",
    "#Da error!! porque no puedo hacerlo"
   ]
  },
  {
   "cell_type": "code",
   "execution_count": null,
   "metadata": {
    "colab": {
     "base_uri": "https://localhost:8080/"
    },
    "executionInfo": {
     "elapsed": 1257,
     "status": "ok",
     "timestamp": 1607770372150,
     "user": {
      "displayName": "Esther Molinero Fernandez",
      "photoUrl": "",
      "userId": "02472710521214242712"
     },
     "user_tz": -60
    },
    "id": "jXHs5slkkPnP",
    "outputId": "2b52bcf7-b16b-4eff-8d6c-6ff1b11c2799"
   },
   "outputs": [
    {
     "data": {
      "text/plain": [
       "a    1.5\n",
       "b   -2.5\n",
       "c    0.0\n",
       "d    1.0\n",
       "e    2.0\n",
       "dtype: float64"
      ]
     },
     "execution_count": 84,
     "metadata": {
      "tags": []
     },
     "output_type": "execute_result"
    }
   ],
   "source": [
    "#Usamos los indices del df2, para la nueva series_temp\n",
    "series_temp=pd.Series([1.5,-2.5,0,1,2],df2.index)\n",
    "series_temp"
   ]
  },
  {
   "cell_type": "code",
   "execution_count": null,
   "metadata": {
    "colab": {
     "base_uri": "https://localhost:8080/",
     "height": 142
    },
    "executionInfo": {
     "elapsed": 877,
     "status": "ok",
     "timestamp": 1607770432558,
     "user": {
      "displayName": "Esther Molinero Fernandez",
      "photoUrl": "",
      "userId": "02472710521214242712"
     },
     "user_tz": -60
    },
    "id": "5j4gcs3vlLpU",
    "outputId": "f89a073f-e517-41a4-8903-0d496bb2a5b6"
   },
   "outputs": [
    {
     "data": {
      "text/html": [
       "<div>\n",
       "<style scoped>\n",
       "    .dataframe tbody tr th:only-of-type {\n",
       "        vertical-align: middle;\n",
       "    }\n",
       "\n",
       "    .dataframe tbody tr th {\n",
       "        vertical-align: top;\n",
       "    }\n",
       "\n",
       "    .dataframe thead th {\n",
       "        text-align: right;\n",
       "    }\n",
       "</style>\n",
       "<table border=\"1\" class=\"dataframe\">\n",
       "  <thead>\n",
       "    <tr style=\"text-align: right;\">\n",
       "      <th></th>\n",
       "      <th>province</th>\n",
       "      <th>population</th>\n",
       "      <th>year</th>\n",
       "      <th>debt</th>\n",
       "      <th>2nd_language</th>\n",
       "      <th>capital</th>\n",
       "    </tr>\n",
       "  </thead>\n",
       "  <tbody>\n",
       "    <tr>\n",
       "      <th>c</th>\n",
       "      <td>M</td>\n",
       "      <td>3000000.0</td>\n",
       "      <td>2000</td>\n",
       "      <td>NaN</td>\n",
       "      <td>NaN</td>\n",
       "      <td>True</td>\n",
       "    </tr>\n",
       "    <tr>\n",
       "      <th>d</th>\n",
       "      <td>B</td>\n",
       "      <td>5000000.0</td>\n",
       "      <td>1900</td>\n",
       "      <td>0.6</td>\n",
       "      <td>NaN</td>\n",
       "      <td>False</td>\n",
       "    </tr>\n",
       "    <tr>\n",
       "      <th>e</th>\n",
       "      <td>B</td>\n",
       "      <td>1500000.0</td>\n",
       "      <td>2000</td>\n",
       "      <td>0.9</td>\n",
       "      <td>NaN</td>\n",
       "      <td>False</td>\n",
       "    </tr>\n",
       "  </tbody>\n",
       "</table>\n",
       "</div>"
      ],
      "text/plain": [
       "  province  population  year  debt  2nd_language  capital\n",
       "c        M   3000000.0  2000   NaN           NaN     True\n",
       "d        B   5000000.0  1900   0.6           NaN    False\n",
       "e        B   1500000.0  2000   0.9           NaN    False"
      ]
     },
     "execution_count": 85,
     "metadata": {
      "tags": []
     },
     "output_type": "execute_result"
    }
   ],
   "source": [
    "#Dame las filas desde el indice 2 hasta el final\n",
    "df2.iloc[2:]"
   ]
  },
  {
   "cell_type": "code",
   "execution_count": null,
   "metadata": {
    "colab": {
     "base_uri": "https://localhost:8080/"
    },
    "executionInfo": {
     "elapsed": 539,
     "status": "ok",
     "timestamp": 1607770551579,
     "user": {
      "displayName": "Esther Molinero Fernandez",
      "photoUrl": "",
      "userId": "02472710521214242712"
     },
     "user_tz": -60
    },
    "id": "oBFhQWdold-x",
    "outputId": "fb43d32e-8c24-4598-b99b-782791df3723"
   },
   "outputs": [
    {
     "data": {
      "text/plain": [
       "j    0\n",
       "d    1\n",
       "u    2\n",
       "v    3\n",
       "k    4\n",
       "dtype: int64"
      ]
     },
     "execution_count": 89,
     "metadata": {
      "tags": []
     },
     "output_type": "execute_result"
    }
   ],
   "source": [
    "#Creamos una serie de numeros del 0 al 5 con indices dados\n",
    "s5 = pd.Series(np.arange(5), list('jduvk'))\n",
    "s5"
   ]
  },
  {
   "cell_type": "code",
   "execution_count": null,
   "metadata": {
    "colab": {
     "base_uri": "https://localhost:8080/"
    },
    "executionInfo": {
     "elapsed": 847,
     "status": "ok",
     "timestamp": 1607770593911,
     "user": {
      "displayName": "Esther Molinero Fernandez",
      "photoUrl": "",
      "userId": "02472710521214242712"
     },
     "user_tz": -60
    },
    "id": "VKLVtUTGlqAO",
    "outputId": "5e257e53-1d0b-47c2-8e75-634fa51289ab"
   },
   "outputs": [
    {
     "data": {
      "text/plain": [
       "j    0\n",
       "u    2\n",
       "v    3\n",
       "dtype: int64"
      ]
     },
     "execution_count": 90,
     "metadata": {
      "tags": []
     },
     "output_type": "execute_result"
    }
   ],
   "source": [
    "#Eliminamos los valores de los indices marcados\n",
    "s6 = s5.drop(['d','k'])\n",
    "s6"
   ]
  },
  {
   "cell_type": "code",
   "execution_count": null,
   "metadata": {
    "colab": {
     "base_uri": "https://localhost:8080/"
    },
    "executionInfo": {
     "elapsed": 969,
     "status": "ok",
     "timestamp": 1607770671954,
     "user": {
      "displayName": "Esther Molinero Fernandez",
      "photoUrl": "",
      "userId": "02472710521214242712"
     },
     "user_tz": -60
    },
    "id": "WJMj3pVLmFaA",
    "outputId": "a1deccdf-7ac5-4c23-d20d-19b06635abfb"
   },
   "outputs": [
    {
     "data": {
      "text/plain": [
       "d    1\n",
       "k    4\n",
       "dtype: int64"
      ]
     },
     "execution_count": 92,
     "metadata": {
      "tags": []
     },
     "output_type": "execute_result"
    }
   ],
   "source": [
    "#Dame la serie que salve los valores de los indices marcados \n",
    "s6b=s5[s5.index.intersection(['d','k'])]\n",
    "s6b"
   ]
  },
  {
   "cell_type": "code",
   "execution_count": null,
   "metadata": {
    "colab": {
     "base_uri": "https://localhost:8080/"
    },
    "executionInfo": {
     "elapsed": 1273,
     "status": "ok",
     "timestamp": 1607770732946,
     "user": {
      "displayName": "Esther Molinero Fernandez",
      "photoUrl": "",
      "userId": "02472710521214242712"
     },
     "user_tz": -60
    },
    "id": "dtiKlvSnmmjr",
    "outputId": "461c85c0-9e8f-4ade-d1ca-1df99abb63d2"
   },
   "outputs": [
    {
     "data": {
      "text/plain": [
       "j    0\n",
       "d    1\n",
       "u    2\n",
       "v    3\n",
       "k    4\n",
       "dtype: int64"
      ]
     },
     "execution_count": 93,
     "metadata": {
      "tags": []
     },
     "output_type": "execute_result"
    }
   ],
   "source": [
    "s5"
   ]
  },
  {
   "cell_type": "code",
   "execution_count": null,
   "metadata": {
    "colab": {
     "base_uri": "https://localhost:8080/"
    },
    "executionInfo": {
     "elapsed": 843,
     "status": "ok",
     "timestamp": 1607770737715,
     "user": {
      "displayName": "Esther Molinero Fernandez",
      "photoUrl": "",
      "userId": "02472710521214242712"
     },
     "user_tz": -60
    },
    "id": "9H9U5oWDmTgH",
    "outputId": "8423b4c7-f4f1-44b0-d70b-19676530ecaa"
   },
   "outputs": [
    {
     "data": {
      "text/plain": [
       "j    0\n",
       "d    1\n",
       "u    7\n",
       "v    3\n",
       "k    4\n",
       "dtype: int64"
      ]
     },
     "execution_count": 94,
     "metadata": {
      "tags": []
     },
     "output_type": "execute_result"
    }
   ],
   "source": [
    "#Cambiamos el valor del indice 'u' por 7\n",
    "s5['u'] = 7\n",
    "s5"
   ]
  },
  {
   "cell_type": "code",
   "execution_count": null,
   "metadata": {
    "colab": {
     "base_uri": "https://localhost:8080/",
     "height": 306
    },
    "executionInfo": {
     "elapsed": 741,
     "status": "error",
     "timestamp": 1607770837310,
     "user": {
      "displayName": "Esther Molinero Fernandez",
      "photoUrl": "",
      "userId": "02472710521214242712"
     },
     "user_tz": -60
    },
    "id": "WYWnWwfSmogn",
    "outputId": "fc0cf7d1-953d-4f36-c59e-e82c22c0d9ae"
   },
   "outputs": [
    {
     "ename": "FileNotFoundError",
     "evalue": "ignored",
     "output_type": "error",
     "traceback": [
      "\u001b[0;31m---------------------------------------------------------------------------\u001b[0m",
      "\u001b[0;31mFileNotFoundError\u001b[0m                         Traceback (most recent call last)",
      "\u001b[0;32m<ipython-input-95-4a7f2dd427d1>\u001b[0m in \u001b[0;36m<module>\u001b[0;34m()\u001b[0m\n\u001b[0;32m----> 1\u001b[0;31m \u001b[0mdf2\u001b[0m \u001b[0;34m=\u001b[0m \u001b[0mpd\u001b[0m\u001b[0;34m.\u001b[0m\u001b[0mread_pickle\u001b[0m\u001b[0;34m(\u001b[0m\u001b[0mos\u001b[0m\u001b[0;34m.\u001b[0m\u001b[0mpath\u001b[0m\u001b[0;34m.\u001b[0m\u001b[0mjoin\u001b[0m\u001b[0;34m(\u001b[0m\u001b[0mfiles_loc\u001b[0m\u001b[0;34m,\u001b[0m \u001b[0;34m\"df2.pk1\"\u001b[0m\u001b[0;34m)\u001b[0m\u001b[0;34m)\u001b[0m\u001b[0;34m\u001b[0m\u001b[0;34m\u001b[0m\u001b[0m\n\u001b[0m",
      "\u001b[0;32m/usr/local/lib/python3.6/dist-packages/pandas/io/pickle.py\u001b[0m in \u001b[0;36mread_pickle\u001b[0;34m(filepath_or_buffer, compression)\u001b[0m\n\u001b[1;32m    167\u001b[0m     \u001b[0;32mif\u001b[0m \u001b[0;32mnot\u001b[0m \u001b[0misinstance\u001b[0m\u001b[0;34m(\u001b[0m\u001b[0mfp_or_buf\u001b[0m\u001b[0;34m,\u001b[0m \u001b[0mstr\u001b[0m\u001b[0;34m)\u001b[0m \u001b[0;32mand\u001b[0m \u001b[0mcompression\u001b[0m \u001b[0;34m==\u001b[0m \u001b[0;34m\"infer\"\u001b[0m\u001b[0;34m:\u001b[0m\u001b[0;34m\u001b[0m\u001b[0;34m\u001b[0m\u001b[0m\n\u001b[1;32m    168\u001b[0m         \u001b[0mcompression\u001b[0m \u001b[0;34m=\u001b[0m \u001b[0;32mNone\u001b[0m\u001b[0;34m\u001b[0m\u001b[0;34m\u001b[0m\u001b[0m\n\u001b[0;32m--> 169\u001b[0;31m     \u001b[0mf\u001b[0m\u001b[0;34m,\u001b[0m \u001b[0mfh\u001b[0m \u001b[0;34m=\u001b[0m \u001b[0mget_handle\u001b[0m\u001b[0;34m(\u001b[0m\u001b[0mfp_or_buf\u001b[0m\u001b[0;34m,\u001b[0m \u001b[0;34m\"rb\"\u001b[0m\u001b[0;34m,\u001b[0m \u001b[0mcompression\u001b[0m\u001b[0;34m=\u001b[0m\u001b[0mcompression\u001b[0m\u001b[0;34m,\u001b[0m \u001b[0mis_text\u001b[0m\u001b[0;34m=\u001b[0m\u001b[0;32mFalse\u001b[0m\u001b[0;34m)\u001b[0m\u001b[0;34m\u001b[0m\u001b[0;34m\u001b[0m\u001b[0m\n\u001b[0m\u001b[1;32m    170\u001b[0m \u001b[0;34m\u001b[0m\u001b[0m\n\u001b[1;32m    171\u001b[0m     \u001b[0;31m# 1) try standard library Pickle\u001b[0m\u001b[0;34m\u001b[0m\u001b[0;34m\u001b[0m\u001b[0;34m\u001b[0m\u001b[0m\n",
      "\u001b[0;32m/usr/local/lib/python3.6/dist-packages/pandas/io/common.py\u001b[0m in \u001b[0;36mget_handle\u001b[0;34m(path_or_buf, mode, encoding, compression, memory_map, is_text, errors)\u001b[0m\n\u001b[1;32m    497\u001b[0m         \u001b[0;32melse\u001b[0m\u001b[0;34m:\u001b[0m\u001b[0;34m\u001b[0m\u001b[0;34m\u001b[0m\u001b[0m\n\u001b[1;32m    498\u001b[0m             \u001b[0;31m# Binary mode\u001b[0m\u001b[0;34m\u001b[0m\u001b[0;34m\u001b[0m\u001b[0;34m\u001b[0m\u001b[0m\n\u001b[0;32m--> 499\u001b[0;31m             \u001b[0mf\u001b[0m \u001b[0;34m=\u001b[0m \u001b[0mopen\u001b[0m\u001b[0;34m(\u001b[0m\u001b[0mpath_or_buf\u001b[0m\u001b[0;34m,\u001b[0m \u001b[0mmode\u001b[0m\u001b[0;34m)\u001b[0m\u001b[0;34m\u001b[0m\u001b[0;34m\u001b[0m\u001b[0m\n\u001b[0m\u001b[1;32m    500\u001b[0m         \u001b[0mhandles\u001b[0m\u001b[0;34m.\u001b[0m\u001b[0mappend\u001b[0m\u001b[0;34m(\u001b[0m\u001b[0mf\u001b[0m\u001b[0;34m)\u001b[0m\u001b[0;34m\u001b[0m\u001b[0;34m\u001b[0m\u001b[0m\n\u001b[1;32m    501\u001b[0m \u001b[0;34m\u001b[0m\u001b[0m\n",
      "\u001b[0;31mFileNotFoundError\u001b[0m: [Errno 2] No such file or directory: '/content/gdrive/MyDrive/pdsfiles/df2.pk1'"
     ]
    }
   ],
   "source": [
    "#Para leer variables que hemos guardado. No funciona porque no habia guardado df2\n",
    "df2 = pd.read_pickle(os.path.join(files_loc, \"df2.pk1\"))"
   ]
  },
  {
   "cell_type": "code",
   "execution_count": null,
   "metadata": {
    "colab": {
     "base_uri": "https://localhost:8080/",
     "height": 204
    },
    "executionInfo": {
     "elapsed": 640,
     "status": "ok",
     "timestamp": 1607770861077,
     "user": {
      "displayName": "Esther Molinero Fernandez",
      "photoUrl": "",
      "userId": "02472710521214242712"
     },
     "user_tz": -60
    },
    "id": "VfQ21ZhUnA2e",
    "outputId": "d1a4f186-56db-4d16-e35c-c02fc67a34b5"
   },
   "outputs": [
    {
     "data": {
      "text/html": [
       "<div>\n",
       "<style scoped>\n",
       "    .dataframe tbody tr th:only-of-type {\n",
       "        vertical-align: middle;\n",
       "    }\n",
       "\n",
       "    .dataframe tbody tr th {\n",
       "        vertical-align: top;\n",
       "    }\n",
       "\n",
       "    .dataframe thead th {\n",
       "        text-align: right;\n",
       "    }\n",
       "</style>\n",
       "<table border=\"1\" class=\"dataframe\">\n",
       "  <thead>\n",
       "    <tr style=\"text-align: right;\">\n",
       "      <th></th>\n",
       "      <th>province</th>\n",
       "      <th>population</th>\n",
       "      <th>year</th>\n",
       "      <th>debt</th>\n",
       "      <th>2nd_language</th>\n",
       "      <th>capital</th>\n",
       "    </tr>\n",
       "  </thead>\n",
       "  <tbody>\n",
       "    <tr>\n",
       "      <th>a</th>\n",
       "      <td>M</td>\n",
       "      <td>1500000.0</td>\n",
       "      <td>1900</td>\n",
       "      <td>NaN</td>\n",
       "      <td>NaN</td>\n",
       "      <td>True</td>\n",
       "    </tr>\n",
       "    <tr>\n",
       "      <th>b</th>\n",
       "      <td>M</td>\n",
       "      <td>2000000.0</td>\n",
       "      <td>1950</td>\n",
       "      <td>0.1</td>\n",
       "      <td>NaN</td>\n",
       "      <td>True</td>\n",
       "    </tr>\n",
       "    <tr>\n",
       "      <th>c</th>\n",
       "      <td>M</td>\n",
       "      <td>3000000.0</td>\n",
       "      <td>2000</td>\n",
       "      <td>NaN</td>\n",
       "      <td>NaN</td>\n",
       "      <td>True</td>\n",
       "    </tr>\n",
       "    <tr>\n",
       "      <th>d</th>\n",
       "      <td>B</td>\n",
       "      <td>5000000.0</td>\n",
       "      <td>1900</td>\n",
       "      <td>0.6</td>\n",
       "      <td>NaN</td>\n",
       "      <td>False</td>\n",
       "    </tr>\n",
       "    <tr>\n",
       "      <th>e</th>\n",
       "      <td>B</td>\n",
       "      <td>1500000.0</td>\n",
       "      <td>2000</td>\n",
       "      <td>0.9</td>\n",
       "      <td>NaN</td>\n",
       "      <td>False</td>\n",
       "    </tr>\n",
       "  </tbody>\n",
       "</table>\n",
       "</div>"
      ],
      "text/plain": [
       "  province  population  year  debt  2nd_language  capital\n",
       "a        M   1500000.0  1900   NaN           NaN     True\n",
       "b        M   2000000.0  1950   0.1           NaN     True\n",
       "c        M   3000000.0  2000   NaN           NaN     True\n",
       "d        B   5000000.0  1900   0.6           NaN    False\n",
       "e        B   1500000.0  2000   0.9           NaN    False"
      ]
     },
     "execution_count": 96,
     "metadata": {
      "tags": []
     },
     "output_type": "execute_result"
    }
   ],
   "source": [
    "df2"
   ]
  },
  {
   "cell_type": "code",
   "execution_count": null,
   "metadata": {
    "colab": {
     "base_uri": "https://localhost:8080/",
     "height": 173
    },
    "executionInfo": {
     "elapsed": 4093,
     "status": "ok",
     "timestamp": 1607770926743,
     "user": {
      "displayName": "Esther Molinero Fernandez",
      "photoUrl": "",
      "userId": "02472710521214242712"
     },
     "user_tz": -60
    },
    "id": "1N2wbBy1nLSP",
    "outputId": "015bc6ee-10bd-4dd4-963c-cd74c1726da6"
   },
   "outputs": [
    {
     "data": {
      "text/html": [
       "<div>\n",
       "<style scoped>\n",
       "    .dataframe tbody tr th:only-of-type {\n",
       "        vertical-align: middle;\n",
       "    }\n",
       "\n",
       "    .dataframe tbody tr th {\n",
       "        vertical-align: top;\n",
       "    }\n",
       "\n",
       "    .dataframe thead th {\n",
       "        text-align: right;\n",
       "    }\n",
       "</style>\n",
       "<table border=\"1\" class=\"dataframe\">\n",
       "  <thead>\n",
       "    <tr style=\"text-align: right;\">\n",
       "      <th></th>\n",
       "      <th>province</th>\n",
       "      <th>population</th>\n",
       "      <th>year</th>\n",
       "      <th>debt</th>\n",
       "      <th>2nd_language</th>\n",
       "      <th>capital</th>\n",
       "    </tr>\n",
       "  </thead>\n",
       "  <tbody>\n",
       "    <tr>\n",
       "      <th>a</th>\n",
       "      <td>M</td>\n",
       "      <td>1500000.0</td>\n",
       "      <td>1900</td>\n",
       "      <td>NaN</td>\n",
       "      <td>NaN</td>\n",
       "      <td>True</td>\n",
       "    </tr>\n",
       "    <tr>\n",
       "      <th>b</th>\n",
       "      <td>M</td>\n",
       "      <td>2000000.0</td>\n",
       "      <td>1950</td>\n",
       "      <td>0.1</td>\n",
       "      <td>NaN</td>\n",
       "      <td>True</td>\n",
       "    </tr>\n",
       "    <tr>\n",
       "      <th>d</th>\n",
       "      <td>B</td>\n",
       "      <td>5000000.0</td>\n",
       "      <td>1900</td>\n",
       "      <td>0.6</td>\n",
       "      <td>NaN</td>\n",
       "      <td>False</td>\n",
       "    </tr>\n",
       "    <tr>\n",
       "      <th>e</th>\n",
       "      <td>B</td>\n",
       "      <td>1500000.0</td>\n",
       "      <td>2000</td>\n",
       "      <td>0.9</td>\n",
       "      <td>NaN</td>\n",
       "      <td>False</td>\n",
       "    </tr>\n",
       "  </tbody>\n",
       "</table>\n",
       "</div>"
      ],
      "text/plain": [
       "  province  population  year  debt  2nd_language  capital\n",
       "a        M   1500000.0  1900   NaN           NaN     True\n",
       "b        M   2000000.0  1950   0.1           NaN     True\n",
       "d        B   5000000.0  1900   0.6           NaN    False\n",
       "e        B   1500000.0  2000   0.9           NaN    False"
      ]
     },
     "execution_count": 97,
     "metadata": {
      "tags": []
     },
     "output_type": "execute_result"
    }
   ],
   "source": [
    "df2.drop('c')"
   ]
  },
  {
   "cell_type": "code",
   "execution_count": null,
   "metadata": {
    "colab": {
     "base_uri": "https://localhost:8080/",
     "height": 204
    },
    "executionInfo": {
     "elapsed": 727,
     "status": "ok",
     "timestamp": 1607770966419,
     "user": {
      "displayName": "Esther Molinero Fernandez",
      "photoUrl": "",
      "userId": "02472710521214242712"
     },
     "user_tz": -60
    },
    "id": "X3HdScX-nV3d",
    "outputId": "144b7dc7-b432-4228-8b49-f370577a31e0"
   },
   "outputs": [
    {
     "data": {
      "text/html": [
       "<div>\n",
       "<style scoped>\n",
       "    .dataframe tbody tr th:only-of-type {\n",
       "        vertical-align: middle;\n",
       "    }\n",
       "\n",
       "    .dataframe tbody tr th {\n",
       "        vertical-align: top;\n",
       "    }\n",
       "\n",
       "    .dataframe thead th {\n",
       "        text-align: right;\n",
       "    }\n",
       "</style>\n",
       "<table border=\"1\" class=\"dataframe\">\n",
       "  <thead>\n",
       "    <tr style=\"text-align: right;\">\n",
       "      <th></th>\n",
       "      <th>province</th>\n",
       "      <th>population</th>\n",
       "      <th>year</th>\n",
       "      <th>debt</th>\n",
       "      <th>capital</th>\n",
       "    </tr>\n",
       "  </thead>\n",
       "  <tbody>\n",
       "    <tr>\n",
       "      <th>a</th>\n",
       "      <td>M</td>\n",
       "      <td>1500000.0</td>\n",
       "      <td>1900</td>\n",
       "      <td>NaN</td>\n",
       "      <td>True</td>\n",
       "    </tr>\n",
       "    <tr>\n",
       "      <th>b</th>\n",
       "      <td>M</td>\n",
       "      <td>2000000.0</td>\n",
       "      <td>1950</td>\n",
       "      <td>0.1</td>\n",
       "      <td>True</td>\n",
       "    </tr>\n",
       "    <tr>\n",
       "      <th>c</th>\n",
       "      <td>M</td>\n",
       "      <td>3000000.0</td>\n",
       "      <td>2000</td>\n",
       "      <td>NaN</td>\n",
       "      <td>True</td>\n",
       "    </tr>\n",
       "    <tr>\n",
       "      <th>d</th>\n",
       "      <td>B</td>\n",
       "      <td>5000000.0</td>\n",
       "      <td>1900</td>\n",
       "      <td>0.6</td>\n",
       "      <td>False</td>\n",
       "    </tr>\n",
       "    <tr>\n",
       "      <th>e</th>\n",
       "      <td>B</td>\n",
       "      <td>1500000.0</td>\n",
       "      <td>2000</td>\n",
       "      <td>0.9</td>\n",
       "      <td>False</td>\n",
       "    </tr>\n",
       "  </tbody>\n",
       "</table>\n",
       "</div>"
      ],
      "text/plain": [
       "  province  population  year  debt  capital\n",
       "a        M   1500000.0  1900   NaN     True\n",
       "b        M   2000000.0  1950   0.1     True\n",
       "c        M   3000000.0  2000   NaN     True\n",
       "d        B   5000000.0  1900   0.6    False\n",
       "e        B   1500000.0  2000   0.9    False"
      ]
     },
     "execution_count": 98,
     "metadata": {
      "tags": []
     },
     "output_type": "execute_result"
    }
   ],
   "source": [
    "df2.drop('2nd_language', axis=1)"
   ]
  },
  {
   "cell_type": "code",
   "execution_count": null,
   "metadata": {
    "colab": {
     "base_uri": "https://localhost:8080/",
     "height": 204
    },
    "executionInfo": {
     "elapsed": 524,
     "status": "ok",
     "timestamp": 1607770972666,
     "user": {
      "displayName": "Esther Molinero Fernandez",
      "photoUrl": "",
      "userId": "02472710521214242712"
     },
     "user_tz": -60
    },
    "id": "u-F0kvnFngXx",
    "outputId": "a462da42-a0b2-4023-d84b-04a769e4d858"
   },
   "outputs": [
    {
     "data": {
      "text/html": [
       "<div>\n",
       "<style scoped>\n",
       "    .dataframe tbody tr th:only-of-type {\n",
       "        vertical-align: middle;\n",
       "    }\n",
       "\n",
       "    .dataframe tbody tr th {\n",
       "        vertical-align: top;\n",
       "    }\n",
       "\n",
       "    .dataframe thead th {\n",
       "        text-align: right;\n",
       "    }\n",
       "</style>\n",
       "<table border=\"1\" class=\"dataframe\">\n",
       "  <thead>\n",
       "    <tr style=\"text-align: right;\">\n",
       "      <th></th>\n",
       "      <th>province</th>\n",
       "      <th>population</th>\n",
       "      <th>year</th>\n",
       "      <th>debt</th>\n",
       "      <th>2nd_language</th>\n",
       "      <th>capital</th>\n",
       "    </tr>\n",
       "  </thead>\n",
       "  <tbody>\n",
       "    <tr>\n",
       "      <th>a</th>\n",
       "      <td>M</td>\n",
       "      <td>1500000.0</td>\n",
       "      <td>1900</td>\n",
       "      <td>NaN</td>\n",
       "      <td>NaN</td>\n",
       "      <td>True</td>\n",
       "    </tr>\n",
       "    <tr>\n",
       "      <th>b</th>\n",
       "      <td>M</td>\n",
       "      <td>2000000.0</td>\n",
       "      <td>1950</td>\n",
       "      <td>0.1</td>\n",
       "      <td>NaN</td>\n",
       "      <td>True</td>\n",
       "    </tr>\n",
       "    <tr>\n",
       "      <th>c</th>\n",
       "      <td>M</td>\n",
       "      <td>3000000.0</td>\n",
       "      <td>2000</td>\n",
       "      <td>NaN</td>\n",
       "      <td>NaN</td>\n",
       "      <td>True</td>\n",
       "    </tr>\n",
       "    <tr>\n",
       "      <th>d</th>\n",
       "      <td>B</td>\n",
       "      <td>5000000.0</td>\n",
       "      <td>1900</td>\n",
       "      <td>0.6</td>\n",
       "      <td>NaN</td>\n",
       "      <td>False</td>\n",
       "    </tr>\n",
       "    <tr>\n",
       "      <th>e</th>\n",
       "      <td>B</td>\n",
       "      <td>1500000.0</td>\n",
       "      <td>2000</td>\n",
       "      <td>0.9</td>\n",
       "      <td>NaN</td>\n",
       "      <td>False</td>\n",
       "    </tr>\n",
       "  </tbody>\n",
       "</table>\n",
       "</div>"
      ],
      "text/plain": [
       "  province  population  year  debt  2nd_language  capital\n",
       "a        M   1500000.0  1900   NaN           NaN     True\n",
       "b        M   2000000.0  1950   0.1           NaN     True\n",
       "c        M   3000000.0  2000   NaN           NaN     True\n",
       "d        B   5000000.0  1900   0.6           NaN    False\n",
       "e        B   1500000.0  2000   0.9           NaN    False"
      ]
     },
     "execution_count": 99,
     "metadata": {
      "tags": []
     },
     "output_type": "execute_result"
    }
   ],
   "source": [
    "df2"
   ]
  },
  {
   "cell_type": "code",
   "execution_count": null,
   "metadata": {
    "id": "9OL2JblJnh88"
   },
   "outputs": [],
   "source": [
    "#Hacemos una copia \n",
    "df3 = df2.copy()"
   ]
  },
  {
   "cell_type": "code",
   "execution_count": null,
   "metadata": {
    "colab": {
     "base_uri": "https://localhost:8080/",
     "height": 204
    },
    "executionInfo": {
     "elapsed": 823,
     "status": "ok",
     "timestamp": 1607771118343,
     "user": {
      "displayName": "Esther Molinero Fernandez",
      "photoUrl": "",
      "userId": "02472710521214242712"
     },
     "user_tz": -60
    },
    "id": "IelzOJeUoEvW",
    "outputId": "8813e615-5153-4464-898b-53ba2e51c55c"
   },
   "outputs": [
    {
     "data": {
      "text/html": [
       "<div>\n",
       "<style scoped>\n",
       "    .dataframe tbody tr th:only-of-type {\n",
       "        vertical-align: middle;\n",
       "    }\n",
       "\n",
       "    .dataframe tbody tr th {\n",
       "        vertical-align: top;\n",
       "    }\n",
       "\n",
       "    .dataframe thead th {\n",
       "        text-align: right;\n",
       "    }\n",
       "</style>\n",
       "<table border=\"1\" class=\"dataframe\">\n",
       "  <thead>\n",
       "    <tr style=\"text-align: right;\">\n",
       "      <th></th>\n",
       "      <th>province</th>\n",
       "      <th>population</th>\n",
       "      <th>year</th>\n",
       "      <th>debt</th>\n",
       "      <th>2nd_language</th>\n",
       "      <th>capital</th>\n",
       "    </tr>\n",
       "  </thead>\n",
       "  <tbody>\n",
       "    <tr>\n",
       "      <th>a</th>\n",
       "      <td>M</td>\n",
       "      <td>1500000.0</td>\n",
       "      <td>1900</td>\n",
       "      <td>NaN</td>\n",
       "      <td>NaN</td>\n",
       "      <td>True</td>\n",
       "    </tr>\n",
       "    <tr>\n",
       "      <th>b</th>\n",
       "      <td>M</td>\n",
       "      <td>2000000.0</td>\n",
       "      <td>1950</td>\n",
       "      <td>0.1</td>\n",
       "      <td>NaN</td>\n",
       "      <td>True</td>\n",
       "    </tr>\n",
       "    <tr>\n",
       "      <th>c</th>\n",
       "      <td>M</td>\n",
       "      <td>3000000.0</td>\n",
       "      <td>2000</td>\n",
       "      <td>NaN</td>\n",
       "      <td>NaN</td>\n",
       "      <td>True</td>\n",
       "    </tr>\n",
       "    <tr>\n",
       "      <th>d</th>\n",
       "      <td>B</td>\n",
       "      <td>5000000.0</td>\n",
       "      <td>1900</td>\n",
       "      <td>0.6</td>\n",
       "      <td>NaN</td>\n",
       "      <td>False</td>\n",
       "    </tr>\n",
       "    <tr>\n",
       "      <th>e</th>\n",
       "      <td>B</td>\n",
       "      <td>1500000.0</td>\n",
       "      <td>2000</td>\n",
       "      <td>0.9</td>\n",
       "      <td>NaN</td>\n",
       "      <td>False</td>\n",
       "    </tr>\n",
       "  </tbody>\n",
       "</table>\n",
       "</div>"
      ],
      "text/plain": [
       "  province  population  year  debt  2nd_language  capital\n",
       "a        M   1500000.0  1900   NaN           NaN     True\n",
       "b        M   2000000.0  1950   0.1           NaN     True\n",
       "c        M   3000000.0  2000   NaN           NaN     True\n",
       "d        B   5000000.0  1900   0.6           NaN    False\n",
       "e        B   1500000.0  2000   0.9           NaN    False"
      ]
     },
     "execution_count": 101,
     "metadata": {
      "tags": []
     },
     "output_type": "execute_result"
    }
   ],
   "source": [
    "df3"
   ]
  },
  {
   "cell_type": "code",
   "execution_count": null,
   "metadata": {
    "id": "RUp04ukNoFUM"
   },
   "outputs": [],
   "source": [
    "df_detour = pd.DataFrame({'x':[1,2]})"
   ]
  },
  {
   "cell_type": "code",
   "execution_count": null,
   "metadata": {
    "colab": {
     "base_uri": "https://localhost:8080/",
     "height": 111
    },
    "executionInfo": {
     "elapsed": 756,
     "status": "ok",
     "timestamp": 1607771189113,
     "user": {
      "displayName": "Esther Molinero Fernandez",
      "photoUrl": "",
      "userId": "02472710521214242712"
     },
     "user_tz": -60
    },
    "id": "Dm6S1hNxoSsJ",
    "outputId": "3906851d-05e7-41f3-954a-a56b9787be3e"
   },
   "outputs": [
    {
     "data": {
      "text/html": [
       "<div>\n",
       "<style scoped>\n",
       "    .dataframe tbody tr th:only-of-type {\n",
       "        vertical-align: middle;\n",
       "    }\n",
       "\n",
       "    .dataframe tbody tr th {\n",
       "        vertical-align: top;\n",
       "    }\n",
       "\n",
       "    .dataframe thead th {\n",
       "        text-align: right;\n",
       "    }\n",
       "</style>\n",
       "<table border=\"1\" class=\"dataframe\">\n",
       "  <thead>\n",
       "    <tr style=\"text-align: right;\">\n",
       "      <th></th>\n",
       "      <th>x</th>\n",
       "    </tr>\n",
       "  </thead>\n",
       "  <tbody>\n",
       "    <tr>\n",
       "      <th>0</th>\n",
       "      <td>1</td>\n",
       "    </tr>\n",
       "    <tr>\n",
       "      <th>1</th>\n",
       "      <td>2</td>\n",
       "    </tr>\n",
       "  </tbody>\n",
       "</table>\n",
       "</div>"
      ],
      "text/plain": [
       "   x\n",
       "0  1\n",
       "1  2"
      ]
     },
     "execution_count": 103,
     "metadata": {
      "tags": []
     },
     "output_type": "execute_result"
    }
   ],
   "source": [
    "df_detour"
   ]
  },
  {
   "cell_type": "code",
   "execution_count": null,
   "metadata": {
    "id": "4gFzJp2UoWuw"
   },
   "outputs": [],
   "source": [
    "df_sub=df_detour[0:1]"
   ]
  },
  {
   "cell_type": "code",
   "execution_count": null,
   "metadata": {
    "colab": {
     "base_uri": "https://localhost:8080/",
     "height": 80
    },
    "executionInfo": {
     "elapsed": 577,
     "status": "ok",
     "timestamp": 1607771289278,
     "user": {
      "displayName": "Esther Molinero Fernandez",
      "photoUrl": "",
      "userId": "02472710521214242712"
     },
     "user_tz": -60
    },
    "id": "Jx-E_QjcobpN",
    "outputId": "fbd66dfc-1889-40d6-90f2-0dcbba5d3e82"
   },
   "outputs": [
    {
     "data": {
      "text/html": [
       "<div>\n",
       "<style scoped>\n",
       "    .dataframe tbody tr th:only-of-type {\n",
       "        vertical-align: middle;\n",
       "    }\n",
       "\n",
       "    .dataframe tbody tr th {\n",
       "        vertical-align: top;\n",
       "    }\n",
       "\n",
       "    .dataframe thead th {\n",
       "        text-align: right;\n",
       "    }\n",
       "</style>\n",
       "<table border=\"1\" class=\"dataframe\">\n",
       "  <thead>\n",
       "    <tr style=\"text-align: right;\">\n",
       "      <th></th>\n",
       "      <th>x</th>\n",
       "    </tr>\n",
       "  </thead>\n",
       "  <tbody>\n",
       "    <tr>\n",
       "      <th>0</th>\n",
       "      <td>-1</td>\n",
       "    </tr>\n",
       "  </tbody>\n",
       "</table>\n",
       "</div>"
      ],
      "text/plain": [
       "   x\n",
       "0 -1"
      ]
     },
     "execution_count": 107,
     "metadata": {
      "tags": []
     },
     "output_type": "execute_result"
    }
   ],
   "source": [
    "df_sub.x = -1\n",
    "df_detour"
   ]
  },
  {
   "cell_type": "code",
   "execution_count": null,
   "metadata": {
    "id": "E6WhaKxEogAL"
   },
   "outputs": [],
   "source": [
    "#Con inplace si que te la eliminas de verdad\n",
    "df3.drop('capital', axis=1, inplace=True)"
   ]
  },
  {
   "cell_type": "code",
   "execution_count": null,
   "metadata": {
    "colab": {
     "base_uri": "https://localhost:8080/",
     "height": 204
    },
    "executionInfo": {
     "elapsed": 680,
     "status": "ok",
     "timestamp": 1607771319152,
     "user": {
      "displayName": "Esther Molinero Fernandez",
      "photoUrl": "",
      "userId": "02472710521214242712"
     },
     "user_tz": -60
    },
    "id": "M2nkefmxo1xw",
    "outputId": "6a0410f3-271d-4413-bd3a-799ee223bed9"
   },
   "outputs": [
    {
     "data": {
      "text/html": [
       "<div>\n",
       "<style scoped>\n",
       "    .dataframe tbody tr th:only-of-type {\n",
       "        vertical-align: middle;\n",
       "    }\n",
       "\n",
       "    .dataframe tbody tr th {\n",
       "        vertical-align: top;\n",
       "    }\n",
       "\n",
       "    .dataframe thead th {\n",
       "        text-align: right;\n",
       "    }\n",
       "</style>\n",
       "<table border=\"1\" class=\"dataframe\">\n",
       "  <thead>\n",
       "    <tr style=\"text-align: right;\">\n",
       "      <th></th>\n",
       "      <th>province</th>\n",
       "      <th>population</th>\n",
       "      <th>year</th>\n",
       "      <th>debt</th>\n",
       "      <th>2nd_language</th>\n",
       "    </tr>\n",
       "  </thead>\n",
       "  <tbody>\n",
       "    <tr>\n",
       "      <th>a</th>\n",
       "      <td>M</td>\n",
       "      <td>1500000.0</td>\n",
       "      <td>1900</td>\n",
       "      <td>NaN</td>\n",
       "      <td>NaN</td>\n",
       "    </tr>\n",
       "    <tr>\n",
       "      <th>b</th>\n",
       "      <td>M</td>\n",
       "      <td>2000000.0</td>\n",
       "      <td>1950</td>\n",
       "      <td>0.1</td>\n",
       "      <td>NaN</td>\n",
       "    </tr>\n",
       "    <tr>\n",
       "      <th>c</th>\n",
       "      <td>M</td>\n",
       "      <td>3000000.0</td>\n",
       "      <td>2000</td>\n",
       "      <td>NaN</td>\n",
       "      <td>NaN</td>\n",
       "    </tr>\n",
       "    <tr>\n",
       "      <th>d</th>\n",
       "      <td>B</td>\n",
       "      <td>5000000.0</td>\n",
       "      <td>1900</td>\n",
       "      <td>0.6</td>\n",
       "      <td>NaN</td>\n",
       "    </tr>\n",
       "    <tr>\n",
       "      <th>e</th>\n",
       "      <td>B</td>\n",
       "      <td>1500000.0</td>\n",
       "      <td>2000</td>\n",
       "      <td>0.9</td>\n",
       "      <td>NaN</td>\n",
       "    </tr>\n",
       "  </tbody>\n",
       "</table>\n",
       "</div>"
      ],
      "text/plain": [
       "  province  population  year  debt  2nd_language\n",
       "a        M   1500000.0  1900   NaN           NaN\n",
       "b        M   2000000.0  1950   0.1           NaN\n",
       "c        M   3000000.0  2000   NaN           NaN\n",
       "d        B   5000000.0  1900   0.6           NaN\n",
       "e        B   1500000.0  2000   0.9           NaN"
      ]
     },
     "execution_count": 109,
     "metadata": {
      "tags": []
     },
     "output_type": "execute_result"
    }
   ],
   "source": [
    "df3"
   ]
  },
  {
   "cell_type": "code",
   "execution_count": null,
   "metadata": {
    "colab": {
     "base_uri": "https://localhost:8080/"
    },
    "executionInfo": {
     "elapsed": 766,
     "status": "ok",
     "timestamp": 1607771436903,
     "user": {
      "displayName": "Esther Molinero Fernandez",
      "photoUrl": "",
      "userId": "02472710521214242712"
     },
     "user_tz": -60
    },
    "id": "qvvSBW55o2WW",
    "outputId": "0177d57a-728f-405a-837a-fb5c39610351"
   },
   "outputs": [
    {
     "data": {
      "text/plain": [
       "Cordoba      300000.0\n",
       "Madrid      6000000.0\n",
       "Sevilla      500000.0\n",
       "Zaragoza     250000.0\n",
       "dtype: float64"
      ]
     },
     "execution_count": 110,
     "metadata": {
      "tags": []
     },
     "output_type": "execute_result"
    }
   ],
   "source": [
    "s3"
   ]
  },
  {
   "cell_type": "code",
   "execution_count": null,
   "metadata": {
    "colab": {
     "base_uri": "https://localhost:8080/"
    },
    "executionInfo": {
     "elapsed": 2770,
     "status": "ok",
     "timestamp": 1607771677511,
     "user": {
      "displayName": "Esther Molinero Fernandez",
      "photoUrl": "",
      "userId": "02472710521214242712"
     },
     "user_tz": -60
    },
    "id": "NWhOwtJqpTMe",
    "outputId": "b2173fdb-1f73-4576-a98d-19ce862d72c6"
   },
   "outputs": [
    {
     "data": {
      "text/plain": [
       "Zaragoza     250000.0\n",
       "Madrid      6000000.0\n",
       "dtype: float64"
      ]
     },
     "execution_count": 111,
     "metadata": {
      "tags": []
     },
     "output_type": "execute_result"
    }
   ],
   "source": [
    "s3[['Zaragoza', 'Madrid']]"
   ]
  },
  {
   "cell_type": "code",
   "execution_count": null,
   "metadata": {
    "colab": {
     "base_uri": "https://localhost:8080/"
    },
    "executionInfo": {
     "elapsed": 1057,
     "status": "ok",
     "timestamp": 1607771686952,
     "user": {
      "displayName": "Esther Molinero Fernandez",
      "photoUrl": "",
      "userId": "02472710521214242712"
     },
     "user_tz": -60
    },
    "id": "s_Nk8bdtqNVn",
    "outputId": "76827a98-ec16-42f9-f3cd-476ec011c1c4"
   },
   "outputs": [
    {
     "data": {
      "text/plain": [
       "Sevilla     500000.0\n",
       "Zaragoza    250000.0\n",
       "dtype: float64"
      ]
     },
     "execution_count": 112,
     "metadata": {
      "tags": []
     },
     "output_type": "execute_result"
    }
   ],
   "source": [
    "s3[2:]"
   ]
  },
  {
   "cell_type": "code",
   "execution_count": null,
   "metadata": {
    "colab": {
     "base_uri": "https://localhost:8080/"
    },
    "executionInfo": {
     "elapsed": 674,
     "status": "ok",
     "timestamp": 1607771742733,
     "user": {
      "displayName": "Esther Molinero Fernandez",
      "photoUrl": "",
      "userId": "02472710521214242712"
     },
     "user_tz": -60
    },
    "id": "45yX15BoqQMn",
    "outputId": "ed65d96c-111c-443d-e279-5fa166183fa2"
   },
   "outputs": [
    {
     "data": {
      "text/plain": [
       "Cordoba     300000.0\n",
       "Madrid     6000000.0\n",
       "Sevilla     500000.0\n",
       "dtype: float64"
      ]
     },
     "execution_count": 113,
     "metadata": {
      "tags": []
     },
     "output_type": "execute_result"
    }
   ],
   "source": [
    "s3['Cordoba':'Sevilla']"
   ]
  },
  {
   "cell_type": "code",
   "execution_count": null,
   "metadata": {
    "colab": {
     "base_uri": "https://localhost:8080/"
    },
    "executionInfo": {
     "elapsed": 919,
     "status": "ok",
     "timestamp": 1607771751824,
     "user": {
      "displayName": "Esther Molinero Fernandez",
      "photoUrl": "",
      "userId": "02472710521214242712"
     },
     "user_tz": -60
    },
    "id": "_n0Z8PQAqd6m",
    "outputId": "6f8ee3eb-5a9c-47f6-d381-ea47d695c96b"
   },
   "outputs": [
    {
     "data": {
      "text/plain": [
       "Madrid    6000000.0\n",
       "dtype: float64"
      ]
     },
     "execution_count": 114,
     "metadata": {
      "tags": []
     },
     "output_type": "execute_result"
    }
   ],
   "source": [
    "s3[1:2]"
   ]
  },
  {
   "cell_type": "code",
   "execution_count": null,
   "metadata": {
    "colab": {
     "base_uri": "https://localhost:8080/"
    },
    "executionInfo": {
     "elapsed": 841,
     "status": "ok",
     "timestamp": 1607771802912,
     "user": {
      "displayName": "Esther Molinero Fernandez",
      "photoUrl": "",
      "userId": "02472710521214242712"
     },
     "user_tz": -60
    },
    "id": "Gm6BotplqgEG",
    "outputId": "e935be72-9304-46e8-92f0-503fd5e6a838"
   },
   "outputs": [
    {
     "data": {
      "text/plain": [
       "Cordoba     False\n",
       "Madrid       True\n",
       "Sevilla     False\n",
       "Zaragoza    False\n",
       "dtype: bool"
      ]
     },
     "execution_count": 115,
     "metadata": {
      "tags": []
     },
     "output_type": "execute_result"
    }
   ],
   "source": [
    "#operacion booleana\n",
    "s3 > 1e6"
   ]
  },
  {
   "cell_type": "code",
   "execution_count": null,
   "metadata": {
    "colab": {
     "base_uri": "https://localhost:8080/"
    },
    "executionInfo": {
     "elapsed": 1018,
     "status": "ok",
     "timestamp": 1607771831374,
     "user": {
      "displayName": "Esther Molinero Fernandez",
      "photoUrl": "",
      "userId": "02472710521214242712"
     },
     "user_tz": -60
    },
    "id": "NsM3NIRLqskB",
    "outputId": "4d4fd4bb-b0c5-4003-ba79-a6caba2d3651"
   },
   "outputs": [
    {
     "data": {
      "text/plain": [
       "a    False\n",
       "b    False\n",
       "c     True\n",
       "d    False\n",
       "e     True\n",
       "Name: year, dtype: bool"
      ]
     },
     "execution_count": 116,
     "metadata": {
      "tags": []
     },
     "output_type": "execute_result"
    }
   ],
   "source": [
    "#\n",
    "df3['year']>1950"
   ]
  },
  {
   "cell_type": "code",
   "execution_count": null,
   "metadata": {
    "colab": {
     "base_uri": "https://localhost:8080/",
     "height": 111
    },
    "executionInfo": {
     "elapsed": 600,
     "status": "ok",
     "timestamp": 1607771880670,
     "user": {
      "displayName": "Esther Molinero Fernandez",
      "photoUrl": "",
      "userId": "02472710521214242712"
     },
     "user_tz": -60
    },
    "id": "gVpcmZl7qzei",
    "outputId": "6f1f6473-1af3-40ef-f939-f4df435b72de"
   },
   "outputs": [
    {
     "data": {
      "text/html": [
       "<div>\n",
       "<style scoped>\n",
       "    .dataframe tbody tr th:only-of-type {\n",
       "        vertical-align: middle;\n",
       "    }\n",
       "\n",
       "    .dataframe tbody tr th {\n",
       "        vertical-align: top;\n",
       "    }\n",
       "\n",
       "    .dataframe thead th {\n",
       "        text-align: right;\n",
       "    }\n",
       "</style>\n",
       "<table border=\"1\" class=\"dataframe\">\n",
       "  <thead>\n",
       "    <tr style=\"text-align: right;\">\n",
       "      <th></th>\n",
       "      <th>province</th>\n",
       "      <th>population</th>\n",
       "      <th>year</th>\n",
       "      <th>debt</th>\n",
       "      <th>2nd_language</th>\n",
       "    </tr>\n",
       "  </thead>\n",
       "  <tbody>\n",
       "    <tr>\n",
       "      <th>c</th>\n",
       "      <td>M</td>\n",
       "      <td>3000000.0</td>\n",
       "      <td>2000</td>\n",
       "      <td>NaN</td>\n",
       "      <td>NaN</td>\n",
       "    </tr>\n",
       "    <tr>\n",
       "      <th>e</th>\n",
       "      <td>B</td>\n",
       "      <td>1500000.0</td>\n",
       "      <td>2000</td>\n",
       "      <td>0.9</td>\n",
       "      <td>NaN</td>\n",
       "    </tr>\n",
       "  </tbody>\n",
       "</table>\n",
       "</div>"
      ],
      "text/plain": [
       "  province  population  year  debt  2nd_language\n",
       "c        M   3000000.0  2000   NaN           NaN\n",
       "e        B   1500000.0  2000   0.9           NaN"
      ]
     },
     "execution_count": 117,
     "metadata": {
      "tags": []
     },
     "output_type": "execute_result"
    }
   ],
   "source": [
    "df3[df3['year']>1950]"
   ]
  },
  {
   "cell_type": "code",
   "execution_count": null,
   "metadata": {
    "colab": {
     "base_uri": "https://localhost:8080/",
     "height": 80
    },
    "executionInfo": {
     "elapsed": 915,
     "status": "ok",
     "timestamp": 1607771930718,
     "user": {
      "displayName": "Esther Molinero Fernandez",
      "photoUrl": "",
      "userId": "02472710521214242712"
     },
     "user_tz": -60
    },
    "id": "PKG61JGLrA5z",
    "outputId": "1f47643a-99c3-4fbb-aa39-3cd9d73a517d"
   },
   "outputs": [
    {
     "data": {
      "text/html": [
       "<div>\n",
       "<style scoped>\n",
       "    .dataframe tbody tr th:only-of-type {\n",
       "        vertical-align: middle;\n",
       "    }\n",
       "\n",
       "    .dataframe tbody tr th {\n",
       "        vertical-align: top;\n",
       "    }\n",
       "\n",
       "    .dataframe thead th {\n",
       "        text-align: right;\n",
       "    }\n",
       "</style>\n",
       "<table border=\"1\" class=\"dataframe\">\n",
       "  <thead>\n",
       "    <tr style=\"text-align: right;\">\n",
       "      <th></th>\n",
       "      <th>province</th>\n",
       "      <th>population</th>\n",
       "      <th>year</th>\n",
       "      <th>debt</th>\n",
       "      <th>2nd_language</th>\n",
       "    </tr>\n",
       "  </thead>\n",
       "  <tbody>\n",
       "    <tr>\n",
       "      <th>e</th>\n",
       "      <td>B</td>\n",
       "      <td>1500000.0</td>\n",
       "      <td>2000</td>\n",
       "      <td>0.9</td>\n",
       "      <td>NaN</td>\n",
       "    </tr>\n",
       "  </tbody>\n",
       "</table>\n",
       "</div>"
      ],
      "text/plain": [
       "  province  population  year  debt  2nd_language\n",
       "e        B   1500000.0  2000   0.9           NaN"
      ]
     },
     "execution_count": 118,
     "metadata": {
      "tags": []
     },
     "output_type": "execute_result"
    }
   ],
   "source": [
    "df3[(df3['year']>1950)&(df3['debt']>0.5)]"
   ]
  },
  {
   "cell_type": "code",
   "execution_count": null,
   "metadata": {
    "colab": {
     "base_uri": "https://localhost:8080/",
     "height": 80
    },
    "executionInfo": {
     "elapsed": 816,
     "status": "ok",
     "timestamp": 1607772013130,
     "user": {
      "displayName": "Esther Molinero Fernandez",
      "photoUrl": "",
      "userId": "02472710521214242712"
     },
     "user_tz": -60
    },
    "id": "WViHivHtrLv9",
    "outputId": "a4c4bbdf-4f19-4d62-c8ae-4cc62a2bda15"
   },
   "outputs": [
    {
     "data": {
      "text/html": [
       "<div>\n",
       "<style scoped>\n",
       "    .dataframe tbody tr th:only-of-type {\n",
       "        vertical-align: middle;\n",
       "    }\n",
       "\n",
       "    .dataframe tbody tr th {\n",
       "        vertical-align: top;\n",
       "    }\n",
       "\n",
       "    .dataframe thead th {\n",
       "        text-align: right;\n",
       "    }\n",
       "</style>\n",
       "<table border=\"1\" class=\"dataframe\">\n",
       "  <thead>\n",
       "    <tr style=\"text-align: right;\">\n",
       "      <th></th>\n",
       "      <th>province</th>\n",
       "      <th>population</th>\n",
       "      <th>year</th>\n",
       "      <th>debt</th>\n",
       "      <th>2nd_language</th>\n",
       "    </tr>\n",
       "  </thead>\n",
       "  <tbody>\n",
       "    <tr>\n",
       "      <th>e</th>\n",
       "      <td>B</td>\n",
       "      <td>1500000.0</td>\n",
       "      <td>2000</td>\n",
       "      <td>0.9</td>\n",
       "      <td>NaN</td>\n",
       "    </tr>\n",
       "  </tbody>\n",
       "</table>\n",
       "</div>"
      ],
      "text/plain": [
       "  province  population  year  debt  2nd_language\n",
       "e        B   1500000.0  2000   0.9           NaN"
      ]
     },
     "execution_count": 119,
     "metadata": {
      "tags": []
     },
     "output_type": "execute_result"
    }
   ],
   "source": [
    "#Forma más clara, bonita y práctica de escribir el código\n",
    "recent = df3['year']>1950\n",
    "indebted = df3['debt']>0.05\n",
    "\n",
    "df3[recent & indebted]"
   ]
  },
  {
   "cell_type": "code",
   "execution_count": null,
   "metadata": {
    "colab": {
     "base_uri": "https://localhost:8080/",
     "height": 204
    },
    "executionInfo": {
     "elapsed": 1032,
     "status": "ok",
     "timestamp": 1607772141401,
     "user": {
      "displayName": "Esther Molinero Fernandez",
      "photoUrl": "",
      "userId": "02472710521214242712"
     },
     "user_tz": -60
    },
    "id": "r36s559Drf5M",
    "outputId": "d64b9957-2540-4e37-91e4-3067f5757d73"
   },
   "outputs": [
    {
     "data": {
      "text/html": [
       "<div>\n",
       "<style scoped>\n",
       "    .dataframe tbody tr th:only-of-type {\n",
       "        vertical-align: middle;\n",
       "    }\n",
       "\n",
       "    .dataframe tbody tr th {\n",
       "        vertical-align: top;\n",
       "    }\n",
       "\n",
       "    .dataframe thead th {\n",
       "        text-align: right;\n",
       "    }\n",
       "</style>\n",
       "<table border=\"1\" class=\"dataframe\">\n",
       "  <thead>\n",
       "    <tr style=\"text-align: right;\">\n",
       "      <th></th>\n",
       "      <th>province</th>\n",
       "      <th>population</th>\n",
       "      <th>year</th>\n",
       "      <th>debt</th>\n",
       "      <th>2nd_language</th>\n",
       "    </tr>\n",
       "  </thead>\n",
       "  <tbody>\n",
       "    <tr>\n",
       "      <th>a</th>\n",
       "      <td>M</td>\n",
       "      <td>1500000.0</td>\n",
       "      <td>1900</td>\n",
       "      <td>NaN</td>\n",
       "      <td>NaN</td>\n",
       "    </tr>\n",
       "    <tr>\n",
       "      <th>b</th>\n",
       "      <td>M</td>\n",
       "      <td>2000000.0</td>\n",
       "      <td>1950</td>\n",
       "      <td>0.1</td>\n",
       "      <td>NaN</td>\n",
       "    </tr>\n",
       "    <tr>\n",
       "      <th>c</th>\n",
       "      <td>M</td>\n",
       "      <td>3000000.0</td>\n",
       "      <td>2000</td>\n",
       "      <td>NaN</td>\n",
       "      <td>NaN</td>\n",
       "    </tr>\n",
       "    <tr>\n",
       "      <th>d</th>\n",
       "      <td>B</td>\n",
       "      <td>5000000.0</td>\n",
       "      <td>1900</td>\n",
       "      <td>0.6</td>\n",
       "      <td>NaN</td>\n",
       "    </tr>\n",
       "    <tr>\n",
       "      <th>e</th>\n",
       "      <td>B</td>\n",
       "      <td>1500000.0</td>\n",
       "      <td>2000</td>\n",
       "      <td>0.9</td>\n",
       "      <td>NaN</td>\n",
       "    </tr>\n",
       "  </tbody>\n",
       "</table>\n",
       "</div>"
      ],
      "text/plain": [
       "  province  population  year  debt  2nd_language\n",
       "a        M   1500000.0  1900   NaN           NaN\n",
       "b        M   2000000.0  1950   0.1           NaN\n",
       "c        M   3000000.0  2000   NaN           NaN\n",
       "d        B   5000000.0  1900   0.6           NaN\n",
       "e        B   1500000.0  2000   0.9           NaN"
      ]
     },
     "execution_count": 120,
     "metadata": {
      "tags": []
     },
     "output_type": "execute_result"
    }
   ],
   "source": [
    "df3"
   ]
  },
  {
   "cell_type": "code",
   "execution_count": null,
   "metadata": {
    "colab": {
     "base_uri": "https://localhost:8080/"
    },
    "executionInfo": {
     "elapsed": 885,
     "status": "ok",
     "timestamp": 1607772163534,
     "user": {
      "displayName": "Esther Molinero Fernandez",
      "photoUrl": "",
      "userId": "02472710521214242712"
     },
     "user_tz": -60
    },
    "id": "zE-zyf3kr_Gu",
    "outputId": "de92ec5a-6d1b-414d-ecd2-88bbde48bac2"
   },
   "outputs": [
    {
     "data": {
      "text/plain": [
       "a    1224.744871\n",
       "b    1414.213562\n",
       "c    1732.050808\n",
       "d    2236.067977\n",
       "e    1224.744871\n",
       "Name: population, dtype: float64"
      ]
     },
     "execution_count": 121,
     "metadata": {
      "tags": []
     },
     "output_type": "execute_result"
    }
   ],
   "source": [
    "np.sqrt(df3['population'])"
   ]
  },
  {
   "cell_type": "code",
   "execution_count": null,
   "metadata": {
    "id": "orGfIkT-sEmz"
   },
   "outputs": [],
   "source": [
    "#Creamos una tabla de 4filas y 3 columnas con nombre de indices columna bde, y filas BMPZ\n",
    "df4 = pd.DataFrame(np.random.randn(4,3)*17 + 15, columns=list('bde'), index=list('BMPZ'))"
   ]
  },
  {
   "cell_type": "code",
   "execution_count": null,
   "metadata": {
    "colab": {
     "base_uri": "https://localhost:8080/",
     "height": 173
    },
    "executionInfo": {
     "elapsed": 1235,
     "status": "ok",
     "timestamp": 1607772246045,
     "user": {
      "displayName": "Esther Molinero Fernandez",
      "photoUrl": "",
      "userId": "02472710521214242712"
     },
     "user_tz": -60
    },
    "id": "ogTwwMdksUQo",
    "outputId": "820873e1-f2a5-40b3-9e2b-9b24894f4a9f"
   },
   "outputs": [
    {
     "data": {
      "text/html": [
       "<div>\n",
       "<style scoped>\n",
       "    .dataframe tbody tr th:only-of-type {\n",
       "        vertical-align: middle;\n",
       "    }\n",
       "\n",
       "    .dataframe tbody tr th {\n",
       "        vertical-align: top;\n",
       "    }\n",
       "\n",
       "    .dataframe thead th {\n",
       "        text-align: right;\n",
       "    }\n",
       "</style>\n",
       "<table border=\"1\" class=\"dataframe\">\n",
       "  <thead>\n",
       "    <tr style=\"text-align: right;\">\n",
       "      <th></th>\n",
       "      <th>b</th>\n",
       "      <th>d</th>\n",
       "      <th>e</th>\n",
       "    </tr>\n",
       "  </thead>\n",
       "  <tbody>\n",
       "    <tr>\n",
       "      <th>B</th>\n",
       "      <td>10.699352</td>\n",
       "      <td>8.555548</td>\n",
       "      <td>28.257370</td>\n",
       "    </tr>\n",
       "    <tr>\n",
       "      <th>M</th>\n",
       "      <td>-6.648479</td>\n",
       "      <td>1.981792</td>\n",
       "      <td>13.877715</td>\n",
       "    </tr>\n",
       "    <tr>\n",
       "      <th>P</th>\n",
       "      <td>12.039310</td>\n",
       "      <td>24.056701</td>\n",
       "      <td>8.808024</td>\n",
       "    </tr>\n",
       "    <tr>\n",
       "      <th>Z</th>\n",
       "      <td>4.371269</td>\n",
       "      <td>-3.932444</td>\n",
       "      <td>22.195260</td>\n",
       "    </tr>\n",
       "  </tbody>\n",
       "</table>\n",
       "</div>"
      ],
      "text/plain": [
       "           b          d          e\n",
       "B  10.699352   8.555548  28.257370\n",
       "M  -6.648479   1.981792  13.877715\n",
       "P  12.039310  24.056701   8.808024\n",
       "Z   4.371269  -3.932444  22.195260"
      ]
     },
     "execution_count": 124,
     "metadata": {
      "tags": []
     },
     "output_type": "execute_result"
    }
   ],
   "source": [
    "df4"
   ]
  },
  {
   "cell_type": "code",
   "execution_count": null,
   "metadata": {
    "colab": {
     "base_uri": "https://localhost:8080/"
    },
    "executionInfo": {
     "elapsed": 776,
     "status": "ok",
     "timestamp": 1607772346474,
     "user": {
      "displayName": "Esther Molinero Fernandez",
      "photoUrl": "",
      "userId": "02472710521214242712"
     },
     "user_tz": -60
    },
    "id": "cVxXMVjTsYjD",
    "outputId": "4ebaaf3c-c8f2-4b52-e640-887096eadc49"
   },
   "outputs": [
    {
     "data": {
      "text/plain": [
       "b    18.687789\n",
       "d    27.989145\n",
       "e    19.449346\n",
       "dtype: float64"
      ]
     },
     "execution_count": 126,
     "metadata": {
      "tags": []
     },
     "output_type": "execute_result"
    }
   ],
   "source": [
    "#Operar sobre cada una de las series (columnas), coge el elemento más grande y le resta el más pequeño\n",
    "df4.apply(lambda series: series.max() - series.min())"
   ]
  },
  {
   "cell_type": "code",
   "execution_count": null,
   "metadata": {
    "colab": {
     "base_uri": "https://localhost:8080/",
     "height": 173
    },
    "executionInfo": {
     "elapsed": 633,
     "status": "ok",
     "timestamp": 1607772408631,
     "user": {
      "displayName": "Esther Molinero Fernandez",
      "photoUrl": "",
      "userId": "02472710521214242712"
     },
     "user_tz": -60
    },
    "id": "O7aYswUYssc1",
    "outputId": "01d8f9a7-216f-42b5-ac47-c36b554150d6"
   },
   "outputs": [
    {
     "data": {
      "text/html": [
       "<div>\n",
       "<style scoped>\n",
       "    .dataframe tbody tr th:only-of-type {\n",
       "        vertical-align: middle;\n",
       "    }\n",
       "\n",
       "    .dataframe tbody tr th {\n",
       "        vertical-align: top;\n",
       "    }\n",
       "\n",
       "    .dataframe thead th {\n",
       "        text-align: right;\n",
       "    }\n",
       "</style>\n",
       "<table border=\"1\" class=\"dataframe\">\n",
       "  <thead>\n",
       "    <tr style=\"text-align: right;\">\n",
       "      <th></th>\n",
       "      <th>b</th>\n",
       "      <th>d</th>\n",
       "      <th>e</th>\n",
       "    </tr>\n",
       "  </thead>\n",
       "  <tbody>\n",
       "    <tr>\n",
       "      <th>B</th>\n",
       "      <td>0.699352</td>\n",
       "      <td>8.555548</td>\n",
       "      <td>8.257370</td>\n",
       "    </tr>\n",
       "    <tr>\n",
       "      <th>M</th>\n",
       "      <td>3.351521</td>\n",
       "      <td>1.981792</td>\n",
       "      <td>3.877715</td>\n",
       "    </tr>\n",
       "    <tr>\n",
       "      <th>P</th>\n",
       "      <td>2.039310</td>\n",
       "      <td>4.056701</td>\n",
       "      <td>8.808024</td>\n",
       "    </tr>\n",
       "    <tr>\n",
       "      <th>Z</th>\n",
       "      <td>4.371269</td>\n",
       "      <td>6.067556</td>\n",
       "      <td>2.195260</td>\n",
       "    </tr>\n",
       "  </tbody>\n",
       "</table>\n",
       "</div>"
      ],
      "text/plain": [
       "          b         d         e\n",
       "B  0.699352  8.555548  8.257370\n",
       "M  3.351521  1.981792  3.877715\n",
       "P  2.039310  4.056701  8.808024\n",
       "Z  4.371269  6.067556  2.195260"
      ]
     },
     "execution_count": 127,
     "metadata": {
      "tags": []
     },
     "output_type": "execute_result"
    }
   ],
   "source": [
    "df4.applymap(lambda element: element % 10)"
   ]
  },
  {
   "cell_type": "code",
   "execution_count": null,
   "metadata": {
    "colab": {
     "base_uri": "https://localhost:8080/"
    },
    "executionInfo": {
     "elapsed": 721,
     "status": "ok",
     "timestamp": 1607772497275,
     "user": {
      "displayName": "Esther Molinero Fernandez",
      "photoUrl": "",
      "userId": "02472710521214242712"
     },
     "user_tz": -60
    },
    "id": "L0YRZoT2tAfg",
    "outputId": "bf67ea14-fa7f-49ad-aea6-ca713d8083e7"
   },
   "outputs": [
    {
     "data": {
      "text/plain": [
       "B    19.701822\n",
       "M    20.526195\n",
       "P    15.248677\n",
       "Z    26.127704\n",
       "dtype: float64"
      ]
     },
     "execution_count": 128,
     "metadata": {
      "tags": []
     },
     "output_type": "execute_result"
    }
   ],
   "source": [
    "#Operar sobre cada una de las filas, coge el elemento más grande y le resta el más pequeño\n",
    "df4.apply(lambda series: series.max() - series.min(), axis=1)"
   ]
  },
  {
   "cell_type": "code",
   "execution_count": null,
   "metadata": {
    "colab": {
     "base_uri": "https://localhost:8080/",
     "height": 80
    },
    "executionInfo": {
     "elapsed": 661,
     "status": "ok",
     "timestamp": 1607772674783,
     "user": {
      "displayName": "Esther Molinero Fernandez",
      "photoUrl": "",
      "userId": "02472710521214242712"
     },
     "user_tz": -60
    },
    "id": "RnT3QnHNtWGo",
    "outputId": "e7addfa2-2086-40df-b2d1-50de6dcf04a1"
   },
   "outputs": [
    {
     "data": {
      "text/html": [
       "<div>\n",
       "<style scoped>\n",
       "    .dataframe tbody tr th:only-of-type {\n",
       "        vertical-align: middle;\n",
       "    }\n",
       "\n",
       "    .dataframe tbody tr th {\n",
       "        vertical-align: top;\n",
       "    }\n",
       "\n",
       "    .dataframe thead th {\n",
       "        text-align: right;\n",
       "    }\n",
       "</style>\n",
       "<table border=\"1\" class=\"dataframe\">\n",
       "  <thead>\n",
       "    <tr style=\"text-align: right;\">\n",
       "      <th></th>\n",
       "      <th>b</th>\n",
       "      <th>d</th>\n",
       "      <th>e</th>\n",
       "    </tr>\n",
       "  </thead>\n",
       "  <tbody>\n",
       "    <tr>\n",
       "      <th>result</th>\n",
       "      <td>18.687789</td>\n",
       "      <td>27.989145</td>\n",
       "      <td>19.449346</td>\n",
       "    </tr>\n",
       "  </tbody>\n",
       "</table>\n",
       "</div>"
      ],
      "text/plain": [
       "                b          d          e\n",
       "result  18.687789  27.989145  19.449346"
      ]
     },
     "execution_count": 131,
     "metadata": {
      "tags": []
     },
     "output_type": "execute_result"
    }
   ],
   "source": [
    "#Definimos una función\n",
    "def f(series):\n",
    "  \"\"\"Devuelve la diferencia entre el valor máximo y mínimo de los valores de cada columna\"\"\"\n",
    "  return pd.Series([series.max()-series.min()], index=['result'])\n",
    "\n",
    "df4.apply(f)"
   ]
  },
  {
   "cell_type": "code",
   "execution_count": null,
   "metadata": {
    "colab": {
     "base_uri": "https://localhost:8080/",
     "height": 111
    },
    "executionInfo": {
     "elapsed": 613,
     "status": "ok",
     "timestamp": 1607772736703,
     "user": {
      "displayName": "Esther Molinero Fernandez",
      "photoUrl": "",
      "userId": "02472710521214242712"
     },
     "user_tz": -60
    },
    "id": "-0axfB2Ct3ER",
    "outputId": "bd61f6d4-a0a4-40d8-9fef-ec5d1f93f524"
   },
   "outputs": [
    {
     "data": {
      "text/html": [
       "<div>\n",
       "<style scoped>\n",
       "    .dataframe tbody tr th:only-of-type {\n",
       "        vertical-align: middle;\n",
       "    }\n",
       "\n",
       "    .dataframe tbody tr th {\n",
       "        vertical-align: top;\n",
       "    }\n",
       "\n",
       "    .dataframe thead th {\n",
       "        text-align: right;\n",
       "    }\n",
       "</style>\n",
       "<table border=\"1\" class=\"dataframe\">\n",
       "  <thead>\n",
       "    <tr style=\"text-align: right;\">\n",
       "      <th></th>\n",
       "      <th>b</th>\n",
       "      <th>d</th>\n",
       "      <th>e</th>\n",
       "    </tr>\n",
       "  </thead>\n",
       "  <tbody>\n",
       "    <tr>\n",
       "      <th>max</th>\n",
       "      <td>12.039310</td>\n",
       "      <td>24.056701</td>\n",
       "      <td>28.257370</td>\n",
       "    </tr>\n",
       "    <tr>\n",
       "      <th>min</th>\n",
       "      <td>-6.648479</td>\n",
       "      <td>-3.932444</td>\n",
       "      <td>8.808024</td>\n",
       "    </tr>\n",
       "  </tbody>\n",
       "</table>\n",
       "</div>"
      ],
      "text/plain": [
       "             b          d          e\n",
       "max  12.039310  24.056701  28.257370\n",
       "min  -6.648479  -3.932444   8.808024"
      ]
     },
     "execution_count": 132,
     "metadata": {
      "tags": []
     },
     "output_type": "execute_result"
    }
   ],
   "source": [
    "def f_max_min(series):\n",
    "  \"\"\"Devuelve el valor máximo y el mínimo de los valores de cada columna\"\"\"\n",
    "  return pd.Series([series.max(),series.min()], index=['max','min'])\n",
    "\n",
    "df4.apply(f_max_min)"
   ]
  },
  {
   "cell_type": "code",
   "execution_count": null,
   "metadata": {
    "colab": {
     "base_uri": "https://localhost:8080/"
    },
    "executionInfo": {
     "elapsed": 1054,
     "status": "ok",
     "timestamp": 1607772895443,
     "user": {
      "displayName": "Esther Molinero Fernandez",
      "photoUrl": "",
      "userId": "02472710521214242712"
     },
     "user_tz": -60
    },
    "id": "N4A4cUmruQmC",
    "outputId": "1191c5a3-1f4c-40fe-8dfd-1f3d69c1cab0"
   },
   "outputs": [
    {
     "name": "stdout",
     "output_type": "stream",
     "text": [
      "('b', B    10.699352\n",
      "M    -6.648479\n",
      "P    12.039310\n",
      "Z     4.371269\n",
      "Name: b, dtype: float64)\n",
      "('d', B     8.555548\n",
      "M     1.981792\n",
      "P    24.056701\n",
      "Z    -3.932444\n",
      "Name: d, dtype: float64)\n",
      "('e', B    28.257370\n",
      "M    13.877715\n",
      "P     8.808024\n",
      "Z    22.195260\n",
      "Name: e, dtype: float64)\n"
     ]
    }
   ],
   "source": [
    "#bucle for\n",
    "for item in df4.items():\n",
    "  print(item)"
   ]
  },
  {
   "cell_type": "code",
   "execution_count": null,
   "metadata": {
    "colab": {
     "base_uri": "https://localhost:8080/",
     "height": 173
    },
    "executionInfo": {
     "elapsed": 605,
     "status": "ok",
     "timestamp": 1607772975358,
     "user": {
      "displayName": "Esther Molinero Fernandez",
      "photoUrl": "",
      "userId": "02472710521214242712"
     },
     "user_tz": -60
    },
    "id": "53Wl3xURurS5",
    "outputId": "64ee053f-99b6-45f5-c1ea-104d49bc0f30"
   },
   "outputs": [
    {
     "data": {
      "text/html": [
       "<div>\n",
       "<style scoped>\n",
       "    .dataframe tbody tr th:only-of-type {\n",
       "        vertical-align: middle;\n",
       "    }\n",
       "\n",
       "    .dataframe tbody tr th {\n",
       "        vertical-align: top;\n",
       "    }\n",
       "\n",
       "    .dataframe thead th {\n",
       "        text-align: right;\n",
       "    }\n",
       "</style>\n",
       "<table border=\"1\" class=\"dataframe\">\n",
       "  <thead>\n",
       "    <tr style=\"text-align: right;\">\n",
       "      <th></th>\n",
       "      <th>b</th>\n",
       "      <th>d</th>\n",
       "      <th>e</th>\n",
       "    </tr>\n",
       "  </thead>\n",
       "  <tbody>\n",
       "    <tr>\n",
       "      <th>B</th>\n",
       "      <td>10.699352</td>\n",
       "      <td>8.555548</td>\n",
       "      <td>28.257370</td>\n",
       "    </tr>\n",
       "    <tr>\n",
       "      <th>M</th>\n",
       "      <td>-6.648479</td>\n",
       "      <td>1.981792</td>\n",
       "      <td>13.877715</td>\n",
       "    </tr>\n",
       "    <tr>\n",
       "      <th>P</th>\n",
       "      <td>12.039310</td>\n",
       "      <td>24.056701</td>\n",
       "      <td>8.808024</td>\n",
       "    </tr>\n",
       "    <tr>\n",
       "      <th>Z</th>\n",
       "      <td>4.371269</td>\n",
       "      <td>-3.932444</td>\n",
       "      <td>22.195260</td>\n",
       "    </tr>\n",
       "  </tbody>\n",
       "</table>\n",
       "</div>"
      ],
      "text/plain": [
       "           b          d          e\n",
       "B  10.699352   8.555548  28.257370\n",
       "M  -6.648479   1.981792  13.877715\n",
       "P  12.039310  24.056701   8.808024\n",
       "Z   4.371269  -3.932444  22.195260"
      ]
     },
     "execution_count": 135,
     "metadata": {
      "tags": []
     },
     "output_type": "execute_result"
    }
   ],
   "source": [
    "#sorting\n",
    "df4.sort_index(ascending=True)"
   ]
  },
  {
   "cell_type": "code",
   "execution_count": null,
   "metadata": {
    "colab": {
     "base_uri": "https://localhost:8080/",
     "height": 173
    },
    "executionInfo": {
     "elapsed": 683,
     "status": "ok",
     "timestamp": 1607772991803,
     "user": {
      "displayName": "Esther Molinero Fernandez",
      "photoUrl": "",
      "userId": "02472710521214242712"
     },
     "user_tz": -60
    },
    "id": "KW7vdVMivHtC",
    "outputId": "19f3f844-20df-4d60-ff17-6b14a35e68a0"
   },
   "outputs": [
    {
     "data": {
      "text/html": [
       "<div>\n",
       "<style scoped>\n",
       "    .dataframe tbody tr th:only-of-type {\n",
       "        vertical-align: middle;\n",
       "    }\n",
       "\n",
       "    .dataframe tbody tr th {\n",
       "        vertical-align: top;\n",
       "    }\n",
       "\n",
       "    .dataframe thead th {\n",
       "        text-align: right;\n",
       "    }\n",
       "</style>\n",
       "<table border=\"1\" class=\"dataframe\">\n",
       "  <thead>\n",
       "    <tr style=\"text-align: right;\">\n",
       "      <th></th>\n",
       "      <th>b</th>\n",
       "      <th>d</th>\n",
       "      <th>e</th>\n",
       "    </tr>\n",
       "  </thead>\n",
       "  <tbody>\n",
       "    <tr>\n",
       "      <th>Z</th>\n",
       "      <td>4.371269</td>\n",
       "      <td>-3.932444</td>\n",
       "      <td>22.195260</td>\n",
       "    </tr>\n",
       "    <tr>\n",
       "      <th>P</th>\n",
       "      <td>12.039310</td>\n",
       "      <td>24.056701</td>\n",
       "      <td>8.808024</td>\n",
       "    </tr>\n",
       "    <tr>\n",
       "      <th>M</th>\n",
       "      <td>-6.648479</td>\n",
       "      <td>1.981792</td>\n",
       "      <td>13.877715</td>\n",
       "    </tr>\n",
       "    <tr>\n",
       "      <th>B</th>\n",
       "      <td>10.699352</td>\n",
       "      <td>8.555548</td>\n",
       "      <td>28.257370</td>\n",
       "    </tr>\n",
       "  </tbody>\n",
       "</table>\n",
       "</div>"
      ],
      "text/plain": [
       "           b          d          e\n",
       "Z   4.371269  -3.932444  22.195260\n",
       "P  12.039310  24.056701   8.808024\n",
       "M  -6.648479   1.981792  13.877715\n",
       "B  10.699352   8.555548  28.257370"
      ]
     },
     "execution_count": 136,
     "metadata": {
      "tags": []
     },
     "output_type": "execute_result"
    }
   ],
   "source": [
    "#Si no añadimos nada, asume que es el eje0\n",
    "df4.sort_index(ascending=False) "
   ]
  },
  {
   "cell_type": "code",
   "execution_count": null,
   "metadata": {
    "colab": {
     "base_uri": "https://localhost:8080/",
     "height": 173
    },
    "executionInfo": {
     "elapsed": 737,
     "status": "ok",
     "timestamp": 1607773010952,
     "user": {
      "displayName": "Esther Molinero Fernandez",
      "photoUrl": "",
      "userId": "02472710521214242712"
     },
     "user_tz": -60
    },
    "id": "X48ryXxKvO0w",
    "outputId": "c75af6fa-df67-4823-d68c-b0910f12eda3"
   },
   "outputs": [
    {
     "data": {
      "text/html": [
       "<div>\n",
       "<style scoped>\n",
       "    .dataframe tbody tr th:only-of-type {\n",
       "        vertical-align: middle;\n",
       "    }\n",
       "\n",
       "    .dataframe tbody tr th {\n",
       "        vertical-align: top;\n",
       "    }\n",
       "\n",
       "    .dataframe thead th {\n",
       "        text-align: right;\n",
       "    }\n",
       "</style>\n",
       "<table border=\"1\" class=\"dataframe\">\n",
       "  <thead>\n",
       "    <tr style=\"text-align: right;\">\n",
       "      <th></th>\n",
       "      <th>e</th>\n",
       "      <th>d</th>\n",
       "      <th>b</th>\n",
       "    </tr>\n",
       "  </thead>\n",
       "  <tbody>\n",
       "    <tr>\n",
       "      <th>B</th>\n",
       "      <td>28.257370</td>\n",
       "      <td>8.555548</td>\n",
       "      <td>10.699352</td>\n",
       "    </tr>\n",
       "    <tr>\n",
       "      <th>M</th>\n",
       "      <td>13.877715</td>\n",
       "      <td>1.981792</td>\n",
       "      <td>-6.648479</td>\n",
       "    </tr>\n",
       "    <tr>\n",
       "      <th>P</th>\n",
       "      <td>8.808024</td>\n",
       "      <td>24.056701</td>\n",
       "      <td>12.039310</td>\n",
       "    </tr>\n",
       "    <tr>\n",
       "      <th>Z</th>\n",
       "      <td>22.195260</td>\n",
       "      <td>-3.932444</td>\n",
       "      <td>4.371269</td>\n",
       "    </tr>\n",
       "  </tbody>\n",
       "</table>\n",
       "</div>"
      ],
      "text/plain": [
       "           e          d          b\n",
       "B  28.257370   8.555548  10.699352\n",
       "M  13.877715   1.981792  -6.648479\n",
       "P   8.808024  24.056701  12.039310\n",
       "Z  22.195260  -3.932444   4.371269"
      ]
     },
     "execution_count": 137,
     "metadata": {
      "tags": []
     },
     "output_type": "execute_result"
    }
   ],
   "source": [
    "#Aclaramos que queremos ordenar el eje 1\n",
    "df4.sort_index(ascending=False, axis=1) "
   ]
  },
  {
   "cell_type": "code",
   "execution_count": null,
   "metadata": {
    "colab": {
     "base_uri": "https://localhost:8080/",
     "height": 173
    },
    "executionInfo": {
     "elapsed": 743,
     "status": "ok",
     "timestamp": 1607773091197,
     "user": {
      "displayName": "Esther Molinero Fernandez",
      "photoUrl": "",
      "userId": "02472710521214242712"
     },
     "user_tz": -60
    },
    "id": "gExkPdDqvTht",
    "outputId": "0890d179-a454-40df-c0e6-388ad412f885"
   },
   "outputs": [
    {
     "data": {
      "text/html": [
       "<div>\n",
       "<style scoped>\n",
       "    .dataframe tbody tr th:only-of-type {\n",
       "        vertical-align: middle;\n",
       "    }\n",
       "\n",
       "    .dataframe tbody tr th {\n",
       "        vertical-align: top;\n",
       "    }\n",
       "\n",
       "    .dataframe thead th {\n",
       "        text-align: right;\n",
       "    }\n",
       "</style>\n",
       "<table border=\"1\" class=\"dataframe\">\n",
       "  <thead>\n",
       "    <tr style=\"text-align: right;\">\n",
       "      <th></th>\n",
       "      <th>b</th>\n",
       "      <th>d</th>\n",
       "      <th>e</th>\n",
       "    </tr>\n",
       "  </thead>\n",
       "  <tbody>\n",
       "    <tr>\n",
       "      <th>P</th>\n",
       "      <td>12.039310</td>\n",
       "      <td>24.056701</td>\n",
       "      <td>8.808024</td>\n",
       "    </tr>\n",
       "    <tr>\n",
       "      <th>M</th>\n",
       "      <td>-6.648479</td>\n",
       "      <td>1.981792</td>\n",
       "      <td>13.877715</td>\n",
       "    </tr>\n",
       "    <tr>\n",
       "      <th>Z</th>\n",
       "      <td>4.371269</td>\n",
       "      <td>-3.932444</td>\n",
       "      <td>22.195260</td>\n",
       "    </tr>\n",
       "    <tr>\n",
       "      <th>B</th>\n",
       "      <td>10.699352</td>\n",
       "      <td>8.555548</td>\n",
       "      <td>28.257370</td>\n",
       "    </tr>\n",
       "  </tbody>\n",
       "</table>\n",
       "</div>"
      ],
      "text/plain": [
       "           b          d          e\n",
       "P  12.039310  24.056701   8.808024\n",
       "M  -6.648479   1.981792  13.877715\n",
       "Z   4.371269  -3.932444  22.195260\n",
       "B  10.699352   8.555548  28.257370"
      ]
     },
     "execution_count": 138,
     "metadata": {
      "tags": []
     },
     "output_type": "execute_result"
    }
   ],
   "source": [
    "df4.sort_values(by=['e','b'])"
   ]
  },
  {
   "cell_type": "code",
   "execution_count": null,
   "metadata": {
    "id": "QMQ2N9MyvnHR"
   },
   "outputs": [],
   "source": [
    "s1=pd.Series([2,3,8,4,3,2,1], index=list('abcdefg'))"
   ]
  },
  {
   "cell_type": "code",
   "execution_count": null,
   "metadata": {
    "colab": {
     "base_uri": "https://localhost:8080/"
    },
    "executionInfo": {
     "elapsed": 721,
     "status": "ok",
     "timestamp": 1607773261809,
     "user": {
      "displayName": "Esther Molinero Fernandez",
      "photoUrl": "",
      "userId": "02472710521214242712"
     },
     "user_tz": -60
    },
    "id": "EZFsOYuNwQGu",
    "outputId": "7e087bc0-46d7-43cc-ce15-023d0c2f2ff3"
   },
   "outputs": [
    {
     "data": {
      "text/plain": [
       "a    2\n",
       "b    3\n",
       "c    8\n",
       "d    4\n",
       "e    3\n",
       "f    2\n",
       "g    1\n",
       "dtype: int64"
      ]
     },
     "execution_count": 143,
     "metadata": {
      "tags": []
     },
     "output_type": "execute_result"
    }
   ],
   "source": [
    "s1"
   ]
  },
  {
   "cell_type": "code",
   "execution_count": null,
   "metadata": {
    "colab": {
     "base_uri": "https://localhost:8080/"
    },
    "executionInfo": {
     "elapsed": 684,
     "status": "ok",
     "timestamp": 1607773267798,
     "user": {
      "displayName": "Esther Molinero Fernandez",
      "photoUrl": "",
      "userId": "02472710521214242712"
     },
     "user_tz": -60
    },
    "id": "kjVsYMG6v4Gx",
    "outputId": "6be5f12f-2874-4daf-f782-a5d9c3cae79a"
   },
   "outputs": [
    {
     "data": {
      "text/plain": [
       "g    1\n",
       "a    2\n",
       "f    2\n",
       "b    3\n",
       "e    3\n",
       "d    4\n",
       "c    8\n",
       "dtype: int64"
      ]
     },
     "execution_count": 144,
     "metadata": {
      "tags": []
     },
     "output_type": "execute_result"
    }
   ],
   "source": [
    "#Ordena los valores de menor a mayor\n",
    "s1.sort_values()"
   ]
  },
  {
   "cell_type": "code",
   "execution_count": null,
   "metadata": {
    "colab": {
     "base_uri": "https://localhost:8080/"
    },
    "executionInfo": {
     "elapsed": 745,
     "status": "ok",
     "timestamp": 1607773271579,
     "user": {
      "displayName": "Esther Molinero Fernandez",
      "photoUrl": "",
      "userId": "02472710521214242712"
     },
     "user_tz": -60
    },
    "id": "i1xpyxyUwC5I",
    "outputId": "55074cf5-369c-4091-c2f3-0cbad6f94e28"
   },
   "outputs": [
    {
     "data": {
      "text/plain": [
       "a    2.5\n",
       "b    4.5\n",
       "c    7.0\n",
       "d    6.0\n",
       "e    4.5\n",
       "f    2.5\n",
       "g    1.0\n",
       "dtype: float64"
      ]
     },
     "execution_count": 145,
     "metadata": {
      "tags": []
     },
     "output_type": "execute_result"
    }
   ],
   "source": [
    "#ranking\n",
    "s1.rank()"
   ]
  },
  {
   "cell_type": "code",
   "execution_count": null,
   "metadata": {
    "colab": {
     "base_uri": "https://localhost:8080/"
    },
    "executionInfo": {
     "elapsed": 678,
     "status": "ok",
     "timestamp": 1607773301379,
     "user": {
      "displayName": "Esther Molinero Fernandez",
      "photoUrl": "",
      "userId": "02472710521214242712"
     },
     "user_tz": -60
    },
    "id": "dZ-clhJdwDAp",
    "outputId": "60fe1896-8d3d-4f22-9dfb-8da3662efae9"
   },
   "outputs": [
    {
     "data": {
      "text/plain": [
       "0    2.0\n",
       "1    2.0\n",
       "2    2.0\n",
       "dtype: float64"
      ]
     },
     "execution_count": 146,
     "metadata": {
      "tags": []
     },
     "output_type": "execute_result"
    }
   ],
   "source": [
    "pd.Series([1,1,1]).rank()"
   ]
  },
  {
   "cell_type": "code",
   "execution_count": 3,
   "metadata": {
    "colab": {
     "background_save": true
    },
    "id": "1d5_8A0LwacU",
    "outputId": "a3380bc2-9dda-479d-dc63-7316628af726"
   },
   "outputs": [
    {
     "data": {
      "text/plain": [
       "a     15000\n",
       "b     90000\n",
       "c    120000\n",
       "d    300000\n",
       "e     10000\n",
       "f      5000\n",
       "g     40000\n",
       "h     50000\n",
       "i     80000\n",
       "j     35000\n",
       "k     27000\n",
       "l     14000\n",
       "dtype: int64"
      ]
     },
     "execution_count": 3,
     "metadata": {},
     "output_type": "execute_result"
    }
   ],
   "source": [
    "#Averiguar los 10 elementos más altos\n",
    "salaries = pd.Series([15000,90000,120000,300000,10000,5000,40000,50000,80000,35000,27000,14000],index=list('abcdefghijkl'))\n",
    "salaries"
   ]
  },
  {
   "cell_type": "code",
   "execution_count": 18,
   "metadata": {},
   "outputs": [
    {
     "data": {
      "text/plain": [
       "d    300000\n",
       "c    120000\n",
       "b     90000\n",
       "i     80000\n",
       "h     50000\n",
       "g     40000\n",
       "j     35000\n",
       "k     27000\n",
       "a     15000\n",
       "l     14000\n",
       "e     10000\n",
       "f      5000\n",
       "dtype: int64"
      ]
     },
     "execution_count": 18,
     "metadata": {},
     "output_type": "execute_result"
    }
   ],
   "source": [
    "salaries.sort_values(ascending = False)"
   ]
  },
  {
   "cell_type": "code",
   "execution_count": null,
   "metadata": {
    "id": "Yc-uR24z4A2t"
   },
   "outputs": [],
   "source": []
  }
 ],
 "metadata": {
  "colab": {
   "authorship_tag": "ABX9TyMCUNTXFWjqPEN+FmryxC58",
   "name": "Python_Data_Science.ipynb",
   "provenance": []
  },
  "kernelspec": {
   "display_name": "Python 3",
   "language": "python",
   "name": "python3"
  },
  "language_info": {
   "codemirror_mode": {
    "name": "ipython",
    "version": 3
   },
   "file_extension": ".py",
   "mimetype": "text/x-python",
   "name": "python",
   "nbconvert_exporter": "python",
   "pygments_lexer": "ipython3",
   "version": "3.8.5"
  }
 },
 "nbformat": 4,
 "nbformat_minor": 1
}
