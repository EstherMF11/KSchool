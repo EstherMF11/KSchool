{
  "nbformat": 4,
  "nbformat_minor": 0,
  "metadata": {
    "colab": {
      "name": "Electricity Demand Forecast.ipynb",
      "provenance": [],
      "collapsed_sections": []
    },
    "kernelspec": {
      "name": "python3",
      "display_name": "Python 3"
    },
    "language_info": {
      "name": "python"
    }
  },
  "cells": [
    {
      "cell_type": "markdown",
      "metadata": {
        "id": "bkDBldIlRNSF"
      },
      "source": [
        "## Downloading the data"
      ]
    },
    {
      "cell_type": "code",
      "metadata": {
        "colab": {
          "base_uri": "https://localhost:8080/"
        },
        "id": "HPxpUeStI42X",
        "outputId": "eba74071-0a84-44e4-da28-853892eba573"
      },
      "source": [
        "!wget https://github.com/rezpe/kaggleh/blob/main/household_power_consumption.txt.zip?raw=true"
      ],
      "execution_count": null,
      "outputs": [
        {
          "output_type": "stream",
          "name": "stdout",
          "text": [
            "--2021-09-23 14:21:50--  https://github.com/rezpe/kaggleh/blob/main/household_power_consumption.txt.zip?raw=true\n",
            "Resolving github.com (github.com)... 140.82.114.4\n",
            "Connecting to github.com (github.com)|140.82.114.4|:443... connected.\n",
            "HTTP request sent, awaiting response... 302 Found\n",
            "Location: https://github.com/rezpe/kaggleh/raw/main/household_power_consumption.txt.zip [following]\n",
            "--2021-09-23 14:21:50--  https://github.com/rezpe/kaggleh/raw/main/household_power_consumption.txt.zip\n",
            "Reusing existing connection to github.com:443.\n",
            "HTTP request sent, awaiting response... 302 Found\n",
            "Location: https://raw.githubusercontent.com/rezpe/kaggleh/main/household_power_consumption.txt.zip [following]\n",
            "--2021-09-23 14:21:50--  https://raw.githubusercontent.com/rezpe/kaggleh/main/household_power_consumption.txt.zip\n",
            "Resolving raw.githubusercontent.com (raw.githubusercontent.com)... 185.199.111.133, 185.199.110.133, 185.199.109.133, ...\n",
            "Connecting to raw.githubusercontent.com (raw.githubusercontent.com)|185.199.111.133|:443... connected.\n",
            "HTTP request sent, awaiting response... 200 OK\n",
            "Length: 20357475 (19M) [application/zip]\n",
            "Saving to: ‘household_power_consumption.txt.zip?raw=true’\n",
            "\n",
            "household_power_con 100%[===================>]  19.41M  98.8MB/s    in 0.2s    \n",
            "\n",
            "2021-09-23 14:21:51 (98.8 MB/s) - ‘household_power_consumption.txt.zip?raw=true’ saved [20357475/20357475]\n",
            "\n"
          ]
        }
      ]
    },
    {
      "cell_type": "code",
      "metadata": {
        "colab": {
          "base_uri": "https://localhost:8080/"
        },
        "id": "WbfVfvhsJql8",
        "outputId": "226b6663-d2d1-477a-f564-bdf3d62fbed6"
      },
      "source": [
        "!unzip household_power_consumption.txt.zip?raw=true"
      ],
      "execution_count": null,
      "outputs": [
        {
          "output_type": "stream",
          "name": "stdout",
          "text": [
            "Archive:  household_power_consumption.txt.zip?raw=true\n",
            "  inflating: household_power_consumption.txt  \n"
          ]
        }
      ]
    },
    {
      "cell_type": "markdown",
      "metadata": {
        "id": "J6vA8nn1RS8C"
      },
      "source": [
        "## Loading the data"
      ]
    },
    {
      "cell_type": "code",
      "metadata": {
        "colab": {
          "base_uri": "https://localhost:8080/"
        },
        "id": "fiVgxP4SJwuU",
        "outputId": "da46a94d-af04-46ac-ec54-10745bf375ea"
      },
      "source": [
        "%pylab inline\n",
        "import pandas as pd"
      ],
      "execution_count": null,
      "outputs": [
        {
          "output_type": "stream",
          "name": "stdout",
          "text": [
            "Populating the interactive namespace from numpy and matplotlib\n"
          ]
        }
      ]
    },
    {
      "cell_type": "code",
      "metadata": {
        "colab": {
          "base_uri": "https://localhost:8080/",
          "height": 257
        },
        "id": "9nt07H7kJzxt",
        "outputId": "5a8c2e9c-d6c1-4922-a437-c4f4ec03ab3b"
      },
      "source": [
        "# Loading data\n",
        "df = pd.read_csv(\"household_power_consumption.txt\",sep=\";\")\n",
        "df.head()"
      ],
      "execution_count": null,
      "outputs": [
        {
          "output_type": "stream",
          "name": "stderr",
          "text": [
            "/usr/local/lib/python3.7/dist-packages/IPython/core/interactiveshell.py:2718: DtypeWarning: Columns (2,3,4,5,6,7) have mixed types.Specify dtype option on import or set low_memory=False.\n",
            "  interactivity=interactivity, compiler=compiler, result=result)\n"
          ]
        },
        {
          "output_type": "execute_result",
          "data": {
            "text/html": [
              "<div>\n",
              "<style scoped>\n",
              "    .dataframe tbody tr th:only-of-type {\n",
              "        vertical-align: middle;\n",
              "    }\n",
              "\n",
              "    .dataframe tbody tr th {\n",
              "        vertical-align: top;\n",
              "    }\n",
              "\n",
              "    .dataframe thead th {\n",
              "        text-align: right;\n",
              "    }\n",
              "</style>\n",
              "<table border=\"1\" class=\"dataframe\">\n",
              "  <thead>\n",
              "    <tr style=\"text-align: right;\">\n",
              "      <th></th>\n",
              "      <th>Date</th>\n",
              "      <th>Time</th>\n",
              "      <th>Global_active_power</th>\n",
              "      <th>Global_reactive_power</th>\n",
              "      <th>Voltage</th>\n",
              "      <th>Global_intensity</th>\n",
              "      <th>Sub_metering_1</th>\n",
              "      <th>Sub_metering_2</th>\n",
              "      <th>Sub_metering_3</th>\n",
              "    </tr>\n",
              "  </thead>\n",
              "  <tbody>\n",
              "    <tr>\n",
              "      <th>0</th>\n",
              "      <td>16/12/2006</td>\n",
              "      <td>17:24:00</td>\n",
              "      <td>4.216</td>\n",
              "      <td>0.418</td>\n",
              "      <td>234.840</td>\n",
              "      <td>18.400</td>\n",
              "      <td>0.000</td>\n",
              "      <td>1.000</td>\n",
              "      <td>17.0</td>\n",
              "    </tr>\n",
              "    <tr>\n",
              "      <th>1</th>\n",
              "      <td>16/12/2006</td>\n",
              "      <td>17:25:00</td>\n",
              "      <td>5.360</td>\n",
              "      <td>0.436</td>\n",
              "      <td>233.630</td>\n",
              "      <td>23.000</td>\n",
              "      <td>0.000</td>\n",
              "      <td>1.000</td>\n",
              "      <td>16.0</td>\n",
              "    </tr>\n",
              "    <tr>\n",
              "      <th>2</th>\n",
              "      <td>16/12/2006</td>\n",
              "      <td>17:26:00</td>\n",
              "      <td>5.374</td>\n",
              "      <td>0.498</td>\n",
              "      <td>233.290</td>\n",
              "      <td>23.000</td>\n",
              "      <td>0.000</td>\n",
              "      <td>2.000</td>\n",
              "      <td>17.0</td>\n",
              "    </tr>\n",
              "    <tr>\n",
              "      <th>3</th>\n",
              "      <td>16/12/2006</td>\n",
              "      <td>17:27:00</td>\n",
              "      <td>5.388</td>\n",
              "      <td>0.502</td>\n",
              "      <td>233.740</td>\n",
              "      <td>23.000</td>\n",
              "      <td>0.000</td>\n",
              "      <td>1.000</td>\n",
              "      <td>17.0</td>\n",
              "    </tr>\n",
              "    <tr>\n",
              "      <th>4</th>\n",
              "      <td>16/12/2006</td>\n",
              "      <td>17:28:00</td>\n",
              "      <td>3.666</td>\n",
              "      <td>0.528</td>\n",
              "      <td>235.680</td>\n",
              "      <td>15.800</td>\n",
              "      <td>0.000</td>\n",
              "      <td>1.000</td>\n",
              "      <td>17.0</td>\n",
              "    </tr>\n",
              "  </tbody>\n",
              "</table>\n",
              "</div>"
            ],
            "text/plain": [
              "         Date      Time  ... Sub_metering_2 Sub_metering_3\n",
              "0  16/12/2006  17:24:00  ...          1.000           17.0\n",
              "1  16/12/2006  17:25:00  ...          1.000           16.0\n",
              "2  16/12/2006  17:26:00  ...          2.000           17.0\n",
              "3  16/12/2006  17:27:00  ...          1.000           17.0\n",
              "4  16/12/2006  17:28:00  ...          1.000           17.0\n",
              "\n",
              "[5 rows x 9 columns]"
            ]
          },
          "metadata": {},
          "execution_count": 4
        }
      ]
    },
    {
      "cell_type": "markdown",
      "metadata": {
        "id": "gTp4H9D7RXB8"
      },
      "source": [
        "## Feature Engineering"
      ]
    },
    {
      "cell_type": "code",
      "metadata": {
        "id": "l-MI3LjVMAD1"
      },
      "source": [
        "# Date Column as datetime type\n",
        "df[\"Date\"]=df[\"Date\"]+\" \"+df[\"Time\"]\n",
        "df[\"Date\"]=pd.to_datetime(df[\"Date\"],format=\"%d/%m/%Y %H:%M:%S\")"
      ],
      "execution_count": null,
      "outputs": []
    },
    {
      "cell_type": "code",
      "metadata": {
        "id": "cvXoqFD0J6Nz"
      },
      "source": [
        "# We keep the Global active power only\n",
        "df = df[[\"Date\",\"Global_active_power\"]]"
      ],
      "execution_count": null,
      "outputs": []
    },
    {
      "cell_type": "code",
      "metadata": {
        "colab": {
          "base_uri": "https://localhost:8080/"
        },
        "id": "c3AdMoQ3KHYJ",
        "outputId": "61bed9ed-90e6-41e7-8814-1fbae3b00a12"
      },
      "source": [
        "# We check there are non empty values\n",
        "np.where(df[\"Global_active_power\"].isnull())"
      ],
      "execution_count": null,
      "outputs": [
        {
          "output_type": "execute_result",
          "data": {
            "text/plain": [
              "(array([], dtype=int64),)"
            ]
          },
          "metadata": {
            "tags": []
          },
          "execution_count": 7
        }
      ]
    },
    {
      "cell_type": "code",
      "metadata": {
        "colab": {
          "base_uri": "https://localhost:8080/"
        },
        "id": "8U9pu9gYKXgC",
        "outputId": "3ca3e410-43b8-4060-be9b-92d1d975c4c4"
      },
      "source": [
        "# The column is not in a proper format\n",
        "df[\"Global_active_power\"].dtypes\n",
        " \n",
        "# If we try to convert to float an error is sent\n",
        "# This is due to character ?, which is in fact a nan\n",
        "# df[\"Global_active_power\"].astype(float)"
      ],
      "execution_count": null,
      "outputs": [
        {
          "output_type": "execute_result",
          "data": {
            "text/plain": [
              "dtype('O')"
            ]
          },
          "metadata": {
            "tags": []
          },
          "execution_count": 8
        }
      ]
    },
    {
      "cell_type": "code",
      "metadata": {
        "id": "ZUw0jIhXKgS6"
      },
      "source": [
        "# We correct with the following function\n",
        "def correct(s):\n",
        "  if s==\"?\":\n",
        "    return np.nan\n",
        "  else: \n",
        "    return float(s)\n",
        "df[\"Global_active_power\"] = df[\"Global_active_power\"].apply(correct)"
      ],
      "execution_count": null,
      "outputs": []
    },
    {
      "cell_type": "code",
      "metadata": {
        "id": "DIv7R68bK8qF"
      },
      "source": [
        "# We fill the empty values\n",
        "df[\"Global_active_power\"]=df[\"Global_active_power\"].interpolate()"
      ],
      "execution_count": null,
      "outputs": []
    },
    {
      "cell_type": "code",
      "metadata": {
        "colab": {
          "base_uri": "https://localhost:8080/"
        },
        "id": "YWdr6B_FLYt1",
        "outputId": "b5413392-f41d-450c-ad1b-dc7d8ed9d372"
      },
      "source": [
        "# We can also check if all the minute values are counted.\n",
        "pd.date_range(start = df[\"Date\"].min(), end = df[\"Date\"].max() , freq=\"min\").difference(df[\"Date\"])"
      ],
      "execution_count": null,
      "outputs": [
        {
          "output_type": "execute_result",
          "data": {
            "text/plain": [
              "DatetimeIndex([], dtype='datetime64[ns]', freq=None)"
            ]
          },
          "metadata": {
            "tags": []
          },
          "execution_count": 11
        }
      ]
    },
    {
      "cell_type": "code",
      "metadata": {
        "colab": {
          "base_uri": "https://localhost:8080/",
          "height": 205
        },
        "id": "9uG4Ldf5S0zL",
        "outputId": "9d9c922c-94e4-4b56-b025-4b92b9ae1d87"
      },
      "source": [
        "# Let's convert to hourly signal\n",
        "df[\"hour\"]=df[\"Date\"].dt.strftime(\"%d/%m/%Y %H\")\n",
        "dfh = df.groupby(\"hour\").mean().reset_index()\n",
        "dfh.head()"
      ],
      "execution_count": null,
      "outputs": [
        {
          "output_type": "execute_result",
          "data": {
            "text/html": [
              "<div>\n",
              "<style scoped>\n",
              "    .dataframe tbody tr th:only-of-type {\n",
              "        vertical-align: middle;\n",
              "    }\n",
              "\n",
              "    .dataframe tbody tr th {\n",
              "        vertical-align: top;\n",
              "    }\n",
              "\n",
              "    .dataframe thead th {\n",
              "        text-align: right;\n",
              "    }\n",
              "</style>\n",
              "<table border=\"1\" class=\"dataframe\">\n",
              "  <thead>\n",
              "    <tr style=\"text-align: right;\">\n",
              "      <th></th>\n",
              "      <th>hour</th>\n",
              "      <th>Global_active_power</th>\n",
              "    </tr>\n",
              "  </thead>\n",
              "  <tbody>\n",
              "    <tr>\n",
              "      <th>0</th>\n",
              "      <td>01/01/2007 00</td>\n",
              "      <td>2.550633</td>\n",
              "    </tr>\n",
              "    <tr>\n",
              "      <th>1</th>\n",
              "      <td>01/01/2007 01</td>\n",
              "      <td>2.523400</td>\n",
              "    </tr>\n",
              "    <tr>\n",
              "      <th>2</th>\n",
              "      <td>01/01/2007 02</td>\n",
              "      <td>2.582333</td>\n",
              "    </tr>\n",
              "    <tr>\n",
              "      <th>3</th>\n",
              "      <td>01/01/2007 03</td>\n",
              "      <td>2.541667</td>\n",
              "    </tr>\n",
              "    <tr>\n",
              "      <th>4</th>\n",
              "      <td>01/01/2007 04</td>\n",
              "      <td>2.475733</td>\n",
              "    </tr>\n",
              "  </tbody>\n",
              "</table>\n",
              "</div>"
            ],
            "text/plain": [
              "            hour  Global_active_power\n",
              "0  01/01/2007 00             2.550633\n",
              "1  01/01/2007 01             2.523400\n",
              "2  01/01/2007 02             2.582333\n",
              "3  01/01/2007 03             2.541667\n",
              "4  01/01/2007 04             2.475733"
            ]
          },
          "metadata": {
            "tags": []
          },
          "execution_count": 12
        }
      ]
    },
    {
      "cell_type": "code",
      "metadata": {
        "id": "uSMWEqxPMaGO"
      },
      "source": [
        "# Lagged values\n",
        "for h in [24,48,168]:\n",
        "  dfh[f\"gap-{h}\"]=dfh[\"Global_active_power\"].shift(h)\n",
        " \n",
        "# Seasonal features: We will add daily, weekly and yearly season\n",
        "# sin(2*pi*x/period)\n",
        "for period in [24,24*7,24*365]:\n",
        "  dfh[f\"s-{period}\"]=np.sin(2*np.pi*np.arange(len(dfh))/period)\n",
        "  dfh[f\"c-{period}\"]=np.cos(2*np.pi*np.arange(len(dfh))/period)\n",
        " \n",
        "dfh=dfh.dropna()"
      ],
      "execution_count": null,
      "outputs": []
    },
    {
      "cell_type": "markdown",
      "metadata": {
        "id": "KBW5NLeWRvez"
      },
      "source": [
        "## Machine Learning"
      ]
    },
    {
      "cell_type": "code",
      "metadata": {
        "colab": {
          "base_uri": "https://localhost:8080/"
        },
        "id": "m11MA56tUjrE",
        "outputId": "d881d5b3-3e1d-4e1c-bb0a-ef8b75bac7b2"
      },
      "source": [
        "dfh.columns"
      ],
      "execution_count": null,
      "outputs": [
        {
          "output_type": "execute_result",
          "data": {
            "text/plain": [
              "Index(['hour', 'Global_active_power', 'gap-24', 'gap-48', 'gap-168', 's-24',\n",
              "       'c-24', 's-168', 'c-168', 's-8760', 'c-8760'],\n",
              "      dtype='object')"
            ]
          },
          "metadata": {
            "tags": []
          },
          "execution_count": 14
        }
      ]
    },
    {
      "cell_type": "code",
      "metadata": {
        "id": "01kBmkVkT4mC"
      },
      "source": [
        "X = dfh[['gap-24', 'gap-48', 'gap-168', 's-24',\n",
        "       's-168', 's-8760', 'c-24', 'c-168', 'c-8760']]\n",
        "y = dfh['Global_active_power']"
      ],
      "execution_count": null,
      "outputs": []
    },
    {
      "cell_type": "code",
      "metadata": {
        "colab": {
          "base_uri": "https://localhost:8080/",
          "height": 35
        },
        "id": "lPJykoYM9eew",
        "outputId": "018173c6-29bb-475d-8aad-70cea513da8e"
      },
      "source": [
        "# Minimum Date\n",
        "dfh[\"hour\"].min()"
      ],
      "execution_count": null,
      "outputs": [
        {
          "output_type": "execute_result",
          "data": {
            "application/vnd.google.colaboratory.intrinsic+json": {
              "type": "string"
            },
            "text/plain": [
              "'01/01/2007 00'"
            ]
          },
          "metadata": {
            "tags": []
          },
          "execution_count": 16
        }
      ]
    },
    {
      "cell_type": "code",
      "metadata": {
        "id": "LPk-ITSXR3jV"
      },
      "source": [
        "# Maximum Date"
      ],
      "execution_count": null,
      "outputs": []
    },
    {
      "cell_type": "code",
      "metadata": {
        "colab": {
          "base_uri": "https://localhost:8080/",
          "height": 35
        },
        "id": "xdyliGZN9g8b",
        "outputId": "62014840-9169-4c96-afda-0ca7c944f855"
      },
      "source": [
        "dfh[\"hour\"].max()"
      ],
      "execution_count": null,
      "outputs": [
        {
          "output_type": "execute_result",
          "data": {
            "application/vnd.google.colaboratory.intrinsic+json": {
              "type": "string"
            },
            "text/plain": [
              "'31/12/2009 23'"
            ]
          },
          "metadata": {
            "tags": []
          },
          "execution_count": 18
        }
      ]
    },
    {
      "cell_type": "code",
      "metadata": {
        "id": "A3LaPYBGUF-H"
      },
      "source": [
        "# Train / Test possibility 1\n",
        "# We take last 3 months (3*30*24)\n",
        "# !!!!!!! Gridsearch (and cross_val) in sklearn uses POSITIONAL index, not dataframe index\n",
        "train_index = np.arange(len(X.index))[:-3*30*24]\n",
        "test_index = np.arange(len(X.index))[-3*30*24:]"
      ],
      "execution_count": null,
      "outputs": []
    },
    {
      "cell_type": "code",
      "metadata": {
        "id": "IeHKfCCNoLMf"
      },
      "source": [
        "from sklearn.ensemble import RandomForestRegressor\n",
        "from sklearn.model_selection import GridSearchCV"
      ],
      "execution_count": null,
      "outputs": []
    },
    {
      "cell_type": "code",
      "metadata": {
        "id": "3sPUsgdjo_EA",
        "colab": {
          "base_uri": "https://localhost:8080/"
        },
        "outputId": "509cf287-7cac-4d5d-91cf-176296c12f7a"
      },
      "source": [
        "reg = GridSearchCV(RandomForestRegressor(),\n",
        "                   param_grid={\"max_depth\":np.arange(3,20)},\n",
        "                   scoring=\"neg_mean_squared_error\",\n",
        "                   cv=[  (train_index,test_index)  ])\n",
        "reg.fit(X,y)"
      ],
      "execution_count": null,
      "outputs": [
        {
          "output_type": "execute_result",
          "data": {
            "text/plain": [
              "GridSearchCV(cv=[(array([    0,     1,     2, ..., 32258, 32259, 32260]),\n",
              "                  array([32261, 32262, 32263, ..., 34418, 34419, 34420]))],\n",
              "             error_score=nan,\n",
              "             estimator=RandomForestRegressor(bootstrap=True, ccp_alpha=0.0,\n",
              "                                             criterion='mse', max_depth=None,\n",
              "                                             max_features='auto',\n",
              "                                             max_leaf_nodes=None,\n",
              "                                             max_samples=None,\n",
              "                                             min_impurity_decrease=0.0,\n",
              "                                             min_impurity_split=None,\n",
              "                                             min_samples_leaf=1,\n",
              "                                             min_samples_split=2,\n",
              "                                             min_weight_fraction_leaf=0.0,\n",
              "                                             n_estimators=100, n_jobs=None,\n",
              "                                             oob_score=False, random_state=None,\n",
              "                                             verbose=0, warm_start=False),\n",
              "             iid='deprecated', n_jobs=None,\n",
              "             param_grid={'max_depth': array([ 3,  4,  5,  6,  7,  8,  9, 10, 11, 12, 13, 14, 15, 16, 17, 18, 19])},\n",
              "             pre_dispatch='2*n_jobs', refit=True, return_train_score=False,\n",
              "             scoring='neg_mean_squared_error', verbose=0)"
            ]
          },
          "metadata": {
            "tags": []
          },
          "execution_count": 23
        }
      ]
    },
    {
      "cell_type": "code",
      "metadata": {
        "colab": {
          "base_uri": "https://localhost:8080/"
        },
        "id": "sCbPZEHi7LM9",
        "outputId": "2be6ee11-5936-4616-df81-2edc6df6a2c4"
      },
      "source": [
        "reg.best_params_"
      ],
      "execution_count": null,
      "outputs": [
        {
          "output_type": "execute_result",
          "data": {
            "text/plain": [
              "{'max_depth': 4}"
            ]
          },
          "metadata": {
            "tags": []
          },
          "execution_count": 24
        }
      ]
    },
    {
      "cell_type": "code",
      "metadata": {
        "colab": {
          "base_uri": "https://localhost:8080/"
        },
        "id": "SBwN7Y0_7Tvc",
        "outputId": "4db5f4b8-6026-4a9d-b014-d3fac6140729"
      },
      "source": [
        "reg.best_score_"
      ],
      "execution_count": null,
      "outputs": [
        {
          "output_type": "execute_result",
          "data": {
            "text/plain": [
              "-0.7445459282495062"
            ]
          },
          "metadata": {
            "tags": []
          },
          "execution_count": 25
        }
      ]
    },
    {
      "cell_type": "code",
      "metadata": {
        "colab": {
          "base_uri": "https://localhost:8080/"
        },
        "id": "PxKqdiDfz8qo",
        "outputId": "12fd334c-85ac-4e94-ffc4-95b2ef0cb3dc"
      },
      "source": [
        "# Testing way 2\n",
        "# We'll perform a cross-validation, but removing from training the points that are linked to the test set\n",
        "from sklearn.model_selection import GridSearchCV\n",
        "from sklearn.model_selection import KFold\n",
        "\n",
        "tt_indexes = []\n",
        "kf = KFold(5,shuffle=True)\n",
        "# We loop through all the cv train/test sets\n",
        "for train_index, test_index in kf.split(X):\n",
        "  for i in [24,48,168]:\n",
        "    train_index=np.array(list(set(train_index)-set(test_index-i)))\n",
        "    tt_indexes.append((train_index,test_index))\n",
        "\n",
        "reg = GridSearchCV(RandomForestRegressor(),\n",
        "                   param_grid={\"max_depth\":np.arange(3,20)},\n",
        "                   scoring=\"neg_mean_squared_error\",\n",
        "                   cv=tt_indexes)\n",
        "reg.fit(X,y) "
      ],
      "execution_count": null,
      "outputs": [
        {
          "output_type": "execute_result",
          "data": {
            "text/plain": [
              "GridSearchCV(cv=[(array([    0,     4,     6, ..., 34418, 34419, 34420]),\n",
              "                  array([    1,     2,     5, ..., 34405, 34411, 34414])),\n",
              "                 (array([    0,     4, 32773, ..., 32761, 32762, 32766]),\n",
              "                  array([    1,     2,     5, ..., 34405, 34411, 34414])),\n",
              "                 (array([    0, 32773, 32774, ..., 32761, 32762, 32766]),\n",
              "                  array([    1,     2,     5, ..., 34405, 34411, 34414])),\n",
              "                 (array([    0,     1,     2, ..., 34418, 34419, 34420]),\n",
              "                  array([    4,     6,    14, ..., 34393, 34397, 34404])),\n",
              "                 (array([32768,     1,...\n",
              "                                             min_samples_split=2,\n",
              "                                             min_weight_fraction_leaf=0.0,\n",
              "                                             n_estimators=100, n_jobs=None,\n",
              "                                             oob_score=False, random_state=None,\n",
              "                                             verbose=0, warm_start=False),\n",
              "             iid='deprecated', n_jobs=None,\n",
              "             param_grid={'max_depth': array([ 3,  4,  5,  6,  7,  8,  9, 10, 11, 12, 13, 14, 15, 16, 17, 18, 19])},\n",
              "             pre_dispatch='2*n_jobs', refit=True, return_train_score=False,\n",
              "             scoring='neg_mean_squared_error', verbose=0)"
            ]
          },
          "metadata": {
            "tags": []
          },
          "execution_count": 26
        }
      ]
    },
    {
      "cell_type": "code",
      "metadata": {
        "colab": {
          "base_uri": "https://localhost:8080/"
        },
        "id": "nLgl4IVW_3IC",
        "outputId": "a5762bc5-8714-4076-eb16-e9d326678482"
      },
      "source": [
        "reg.best_params_"
      ],
      "execution_count": null,
      "outputs": [
        {
          "output_type": "execute_result",
          "data": {
            "text/plain": [
              "{'max_depth': 19}"
            ]
          },
          "metadata": {
            "tags": []
          },
          "execution_count": 27
        }
      ]
    },
    {
      "cell_type": "code",
      "metadata": {
        "colab": {
          "base_uri": "https://localhost:8080/"
        },
        "id": "caPkDnvCARKt",
        "outputId": "10e49eea-1997-496d-d13b-f36b8fbfdd82"
      },
      "source": [
        "reg.best_score_"
      ],
      "execution_count": null,
      "outputs": [
        {
          "output_type": "execute_result",
          "data": {
            "text/plain": [
              "-0.6066447118664455"
            ]
          },
          "metadata": {
            "tags": []
          },
          "execution_count": 28
        }
      ]
    },
    {
      "cell_type": "code",
      "metadata": {
        "id": "GLmnD2vOViy1"
      },
      "source": [
        ""
      ],
      "execution_count": null,
      "outputs": []
    }
  ]
}