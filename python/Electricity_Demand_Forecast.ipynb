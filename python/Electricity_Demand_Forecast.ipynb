{
 "cells": [
  {
   "cell_type": "markdown",
   "metadata": {
    "id": "bkDBldIlRNSF"
   },
   "source": [
    "## Downloading the data"
   ]
  },
  {
   "cell_type": "code",
   "execution_count": 1,
   "metadata": {
    "colab": {
     "base_uri": "https://localhost:8080/"
    },
    "id": "HPxpUeStI42X",
    "outputId": "eba74071-0a84-44e4-da28-853892eba573"
   },
   "outputs": [
    {
     "name": "stdout",
     "output_type": "stream",
     "text": [
      "zsh:1: no matches found: https://github.com/rezpe/kaggleh/blob/main/household_power_consumption.txt.zip?raw=true\r\n"
     ]
    }
   ],
   "source": [
    "!wget https://github.com/rezpe/kaggleh/blob/main/household_power_consumption.txt.zip?raw=true"
   ]
  },
  {
   "cell_type": "code",
   "execution_count": 2,
   "metadata": {
    "colab": {
     "base_uri": "https://localhost:8080/"
    },
    "id": "WbfVfvhsJql8",
    "outputId": "226b6663-d2d1-477a-f564-bdf3d62fbed6"
   },
   "outputs": [
    {
     "name": "stdout",
     "output_type": "stream",
     "text": [
      "zsh:1: no matches found: household_power_consumption.txt.zip?raw=true\r\n"
     ]
    }
   ],
   "source": [
    "!unzip household_power_consumption.txt.zip?raw=true"
   ]
  },
  {
   "cell_type": "markdown",
   "metadata": {
    "id": "J6vA8nn1RS8C"
   },
   "source": [
    "## Loading the data"
   ]
  },
  {
   "cell_type": "code",
   "execution_count": 3,
   "metadata": {
    "colab": {
     "base_uri": "https://localhost:8080/"
    },
    "id": "fiVgxP4SJwuU",
    "outputId": "da46a94d-af04-46ac-ec54-10745bf375ea"
   },
   "outputs": [
    {
     "name": "stdout",
     "output_type": "stream",
     "text": [
      "Populating the interactive namespace from numpy and matplotlib\n"
     ]
    }
   ],
   "source": [
    "%pylab inline\n",
    "import pandas as pd"
   ]
  },
  {
   "cell_type": "code",
   "execution_count": 4,
   "metadata": {
    "colab": {
     "base_uri": "https://localhost:8080/",
     "height": 257
    },
    "id": "9nt07H7kJzxt",
    "outputId": "5a8c2e9c-d6c1-4922-a437-c4f4ec03ab3b"
   },
   "outputs": [
    {
     "name": "stderr",
     "output_type": "stream",
     "text": [
      "/home/dsc/anaconda3/lib/python3.8/site-packages/IPython/core/interactiveshell.py:3146: DtypeWarning: Columns (2,3,4,5,6,7) have mixed types.Specify dtype option on import or set low_memory=False.\n",
      "  has_raised = await self.run_ast_nodes(code_ast.body, cell_name,\n"
     ]
    },
    {
     "data": {
      "text/html": [
       "<div>\n",
       "<style scoped>\n",
       "    .dataframe tbody tr th:only-of-type {\n",
       "        vertical-align: middle;\n",
       "    }\n",
       "\n",
       "    .dataframe tbody tr th {\n",
       "        vertical-align: top;\n",
       "    }\n",
       "\n",
       "    .dataframe thead th {\n",
       "        text-align: right;\n",
       "    }\n",
       "</style>\n",
       "<table border=\"1\" class=\"dataframe\">\n",
       "  <thead>\n",
       "    <tr style=\"text-align: right;\">\n",
       "      <th></th>\n",
       "      <th>Date</th>\n",
       "      <th>Time</th>\n",
       "      <th>Global_active_power</th>\n",
       "      <th>Global_reactive_power</th>\n",
       "      <th>Voltage</th>\n",
       "      <th>Global_intensity</th>\n",
       "      <th>Sub_metering_1</th>\n",
       "      <th>Sub_metering_2</th>\n",
       "      <th>Sub_metering_3</th>\n",
       "    </tr>\n",
       "  </thead>\n",
       "  <tbody>\n",
       "    <tr>\n",
       "      <th>0</th>\n",
       "      <td>16/12/2006</td>\n",
       "      <td>17:24:00</td>\n",
       "      <td>4.216</td>\n",
       "      <td>0.418</td>\n",
       "      <td>234.840</td>\n",
       "      <td>18.400</td>\n",
       "      <td>0.000</td>\n",
       "      <td>1.000</td>\n",
       "      <td>17.0</td>\n",
       "    </tr>\n",
       "    <tr>\n",
       "      <th>1</th>\n",
       "      <td>16/12/2006</td>\n",
       "      <td>17:25:00</td>\n",
       "      <td>5.360</td>\n",
       "      <td>0.436</td>\n",
       "      <td>233.630</td>\n",
       "      <td>23.000</td>\n",
       "      <td>0.000</td>\n",
       "      <td>1.000</td>\n",
       "      <td>16.0</td>\n",
       "    </tr>\n",
       "    <tr>\n",
       "      <th>2</th>\n",
       "      <td>16/12/2006</td>\n",
       "      <td>17:26:00</td>\n",
       "      <td>5.374</td>\n",
       "      <td>0.498</td>\n",
       "      <td>233.290</td>\n",
       "      <td>23.000</td>\n",
       "      <td>0.000</td>\n",
       "      <td>2.000</td>\n",
       "      <td>17.0</td>\n",
       "    </tr>\n",
       "    <tr>\n",
       "      <th>3</th>\n",
       "      <td>16/12/2006</td>\n",
       "      <td>17:27:00</td>\n",
       "      <td>5.388</td>\n",
       "      <td>0.502</td>\n",
       "      <td>233.740</td>\n",
       "      <td>23.000</td>\n",
       "      <td>0.000</td>\n",
       "      <td>1.000</td>\n",
       "      <td>17.0</td>\n",
       "    </tr>\n",
       "    <tr>\n",
       "      <th>4</th>\n",
       "      <td>16/12/2006</td>\n",
       "      <td>17:28:00</td>\n",
       "      <td>3.666</td>\n",
       "      <td>0.528</td>\n",
       "      <td>235.680</td>\n",
       "      <td>15.800</td>\n",
       "      <td>0.000</td>\n",
       "      <td>1.000</td>\n",
       "      <td>17.0</td>\n",
       "    </tr>\n",
       "  </tbody>\n",
       "</table>\n",
       "</div>"
      ],
      "text/plain": [
       "         Date      Time Global_active_power Global_reactive_power  Voltage  \\\n",
       "0  16/12/2006  17:24:00               4.216                 0.418  234.840   \n",
       "1  16/12/2006  17:25:00               5.360                 0.436  233.630   \n",
       "2  16/12/2006  17:26:00               5.374                 0.498  233.290   \n",
       "3  16/12/2006  17:27:00               5.388                 0.502  233.740   \n",
       "4  16/12/2006  17:28:00               3.666                 0.528  235.680   \n",
       "\n",
       "  Global_intensity Sub_metering_1 Sub_metering_2  Sub_metering_3  \n",
       "0           18.400          0.000          1.000            17.0  \n",
       "1           23.000          0.000          1.000            16.0  \n",
       "2           23.000          0.000          2.000            17.0  \n",
       "3           23.000          0.000          1.000            17.0  \n",
       "4           15.800          0.000          1.000            17.0  "
      ]
     },
     "execution_count": 4,
     "metadata": {},
     "output_type": "execute_result"
    }
   ],
   "source": [
    "# Loading data\n",
    "df = pd.read_csv(\"household_power_consumption.txt.zip\",sep=\";\")\n",
    "df.head()"
   ]
  },
  {
   "cell_type": "markdown",
   "metadata": {
    "id": "gTp4H9D7RXB8"
   },
   "source": [
    "## Feature Engineering"
   ]
  },
  {
   "cell_type": "code",
   "execution_count": 5,
   "metadata": {
    "id": "l-MI3LjVMAD1"
   },
   "outputs": [],
   "source": [
    "# Date Column as datetime type\n",
    "df[\"Date\"]=df[\"Date\"]+\" \"+df[\"Time\"]\n",
    "df[\"Date\"]=pd.to_datetime(df[\"Date\"],format=\"%d/%m/%Y %H:%M:%S\")"
   ]
  },
  {
   "cell_type": "code",
   "execution_count": 6,
   "metadata": {
    "id": "cvXoqFD0J6Nz"
   },
   "outputs": [],
   "source": [
    "# We keep the Global active power only\n",
    "df = df[[\"Date\",\"Global_active_power\"]]"
   ]
  },
  {
   "cell_type": "code",
   "execution_count": 7,
   "metadata": {
    "colab": {
     "base_uri": "https://localhost:8080/"
    },
    "id": "c3AdMoQ3KHYJ",
    "outputId": "61bed9ed-90e6-41e7-8814-1fbae3b00a12"
   },
   "outputs": [
    {
     "data": {
      "text/plain": [
       "(array([], dtype=int64),)"
      ]
     },
     "execution_count": 7,
     "metadata": {},
     "output_type": "execute_result"
    }
   ],
   "source": [
    "# We check there are non empty values\n",
    "np.where(df[\"Global_active_power\"].isnull())"
   ]
  },
  {
   "cell_type": "code",
   "execution_count": 8,
   "metadata": {
    "colab": {
     "base_uri": "https://localhost:8080/"
    },
    "id": "8U9pu9gYKXgC",
    "outputId": "3ca3e410-43b8-4060-be9b-92d1d975c4c4"
   },
   "outputs": [
    {
     "data": {
      "text/plain": [
       "dtype('O')"
      ]
     },
     "execution_count": 8,
     "metadata": {},
     "output_type": "execute_result"
    }
   ],
   "source": [
    "# The column is not in a proper format\n",
    "df[\"Global_active_power\"].dtypes\n",
    " \n",
    "# If we try to convert to float an error is sent\n",
    "# This is due to character ?, which is in fact a nan\n",
    "# df[\"Global_active_power\"].astype(float)"
   ]
  },
  {
   "cell_type": "code",
   "execution_count": 9,
   "metadata": {
    "id": "ZUw0jIhXKgS6"
   },
   "outputs": [],
   "source": [
    "# We correct with the following function\n",
    "def correct(s):\n",
    "  if s==\"?\":\n",
    "    return np.nan\n",
    "  else: \n",
    "    return float(s)\n",
    "df[\"Global_active_power\"] = df[\"Global_active_power\"].apply(correct)"
   ]
  },
  {
   "cell_type": "code",
   "execution_count": 10,
   "metadata": {
    "id": "DIv7R68bK8qF"
   },
   "outputs": [],
   "source": [
    "# We fill the empty values\n",
    "df[\"Global_active_power\"]=df[\"Global_active_power\"].interpolate()"
   ]
  },
  {
   "cell_type": "code",
   "execution_count": 11,
   "metadata": {
    "colab": {
     "base_uri": "https://localhost:8080/"
    },
    "id": "YWdr6B_FLYt1",
    "outputId": "b5413392-f41d-450c-ad1b-dc7d8ed9d372"
   },
   "outputs": [
    {
     "data": {
      "text/plain": [
       "DatetimeIndex([], dtype='datetime64[ns]', freq=None)"
      ]
     },
     "execution_count": 11,
     "metadata": {},
     "output_type": "execute_result"
    }
   ],
   "source": [
    "# We can also check if all the minute values are counted.\n",
    "pd.date_range(start = df[\"Date\"].min(), end = df[\"Date\"].max() , freq=\"min\").difference(df[\"Date\"])"
   ]
  },
  {
   "cell_type": "code",
   "execution_count": 12,
   "metadata": {
    "colab": {
     "base_uri": "https://localhost:8080/",
     "height": 205
    },
    "id": "9uG4Ldf5S0zL",
    "outputId": "9d9c922c-94e4-4b56-b025-4b92b9ae1d87"
   },
   "outputs": [
    {
     "data": {
      "text/html": [
       "<div>\n",
       "<style scoped>\n",
       "    .dataframe tbody tr th:only-of-type {\n",
       "        vertical-align: middle;\n",
       "    }\n",
       "\n",
       "    .dataframe tbody tr th {\n",
       "        vertical-align: top;\n",
       "    }\n",
       "\n",
       "    .dataframe thead th {\n",
       "        text-align: right;\n",
       "    }\n",
       "</style>\n",
       "<table border=\"1\" class=\"dataframe\">\n",
       "  <thead>\n",
       "    <tr style=\"text-align: right;\">\n",
       "      <th></th>\n",
       "      <th>hour</th>\n",
       "      <th>Global_active_power</th>\n",
       "    </tr>\n",
       "  </thead>\n",
       "  <tbody>\n",
       "    <tr>\n",
       "      <th>0</th>\n",
       "      <td>01/01/2007 00</td>\n",
       "      <td>2.550633</td>\n",
       "    </tr>\n",
       "    <tr>\n",
       "      <th>1</th>\n",
       "      <td>01/01/2007 01</td>\n",
       "      <td>2.523400</td>\n",
       "    </tr>\n",
       "    <tr>\n",
       "      <th>2</th>\n",
       "      <td>01/01/2007 02</td>\n",
       "      <td>2.582333</td>\n",
       "    </tr>\n",
       "    <tr>\n",
       "      <th>3</th>\n",
       "      <td>01/01/2007 03</td>\n",
       "      <td>2.541667</td>\n",
       "    </tr>\n",
       "    <tr>\n",
       "      <th>4</th>\n",
       "      <td>01/01/2007 04</td>\n",
       "      <td>2.475733</td>\n",
       "    </tr>\n",
       "  </tbody>\n",
       "</table>\n",
       "</div>"
      ],
      "text/plain": [
       "            hour  Global_active_power\n",
       "0  01/01/2007 00             2.550633\n",
       "1  01/01/2007 01             2.523400\n",
       "2  01/01/2007 02             2.582333\n",
       "3  01/01/2007 03             2.541667\n",
       "4  01/01/2007 04             2.475733"
      ]
     },
     "execution_count": 12,
     "metadata": {},
     "output_type": "execute_result"
    }
   ],
   "source": [
    "# Let's convert to hourly signal\n",
    "df[\"hour\"]=df[\"Date\"].dt.strftime(\"%d/%m/%Y %H\")\n",
    "dfh = df.groupby(\"hour\").mean().reset_index()\n",
    "dfh.head()"
   ]
  },
  {
   "cell_type": "code",
   "execution_count": 13,
   "metadata": {
    "id": "uSMWEqxPMaGO"
   },
   "outputs": [],
   "source": [
    "# Lagged values\n",
    "for h in [24,48,168]:\n",
    "    dfh[f\"gap-{h}\"]=dfh[\"Global_active_power\"].shift(h)\n",
    " \n",
    "# Seasonal features: We will add daily, weekly and yearly season\n",
    "# sin(2*pi*x/period)\n",
    "for period in [24,24*7,24*365]:\n",
    "    dfh[f\"s-{period}\"]=np.sin(2*np.pi*np.arange(len(dfh))/period)\n",
    "    dfh[f\"c-{period}\"]=np.cos(2*np.pi*np.arange(len(dfh))/period)\n",
    " \n",
    "dfh=dfh.dropna()"
   ]
  },
  {
   "cell_type": "markdown",
   "metadata": {
    "id": "KBW5NLeWRvez"
   },
   "source": [
    "## Machine Learning"
   ]
  },
  {
   "cell_type": "code",
   "execution_count": 14,
   "metadata": {
    "colab": {
     "base_uri": "https://localhost:8080/"
    },
    "id": "m11MA56tUjrE",
    "outputId": "d881d5b3-3e1d-4e1c-bb0a-ef8b75bac7b2"
   },
   "outputs": [
    {
     "data": {
      "text/plain": [
       "Index(['hour', 'Global_active_power', 'gap-24', 'gap-48', 'gap-168', 's-24',\n",
       "       'c-24', 's-168', 'c-168', 's-8760', 'c-8760'],\n",
       "      dtype='object')"
      ]
     },
     "execution_count": 14,
     "metadata": {},
     "output_type": "execute_result"
    }
   ],
   "source": [
    "dfh.columns"
   ]
  },
  {
   "cell_type": "code",
   "execution_count": 15,
   "metadata": {
    "id": "01kBmkVkT4mC"
   },
   "outputs": [],
   "source": [
    "X = dfh[['gap-24', 'gap-48', 'gap-168', 's-24',\n",
    "       's-168', 's-8760', 'c-24', 'c-168', 'c-8760']]\n",
    "y = dfh['Global_active_power']"
   ]
  },
  {
   "cell_type": "code",
   "execution_count": 16,
   "metadata": {
    "colab": {
     "base_uri": "https://localhost:8080/",
     "height": 35
    },
    "id": "lPJykoYM9eew",
    "outputId": "018173c6-29bb-475d-8aad-70cea513da8e"
   },
   "outputs": [
    {
     "data": {
      "text/plain": [
       "'01/02/2010 00'"
      ]
     },
     "execution_count": 16,
     "metadata": {},
     "output_type": "execute_result"
    }
   ],
   "source": [
    "# Minimum Date\n",
    "dfh[\"hour\"].min()"
   ]
  },
  {
   "cell_type": "code",
   "execution_count": 17,
   "metadata": {
    "id": "LPk-ITSXR3jV"
   },
   "outputs": [],
   "source": [
    "# Maximum Date"
   ]
  },
  {
   "cell_type": "code",
   "execution_count": 18,
   "metadata": {
    "colab": {
     "base_uri": "https://localhost:8080/",
     "height": 35
    },
    "id": "xdyliGZN9g8b",
    "outputId": "62014840-9169-4c96-afda-0ca7c944f855"
   },
   "outputs": [
    {
     "data": {
      "text/plain": [
       "'31/12/2009 23'"
      ]
     },
     "execution_count": 18,
     "metadata": {},
     "output_type": "execute_result"
    }
   ],
   "source": [
    "dfh[\"hour\"].max()"
   ]
  },
  {
   "cell_type": "code",
   "execution_count": 19,
   "metadata": {
    "id": "A3LaPYBGUF-H"
   },
   "outputs": [],
   "source": [
    "# Train / Test possibility 1\n",
    "# We take last 3 months (3*30*24)\n",
    "# !!!!!!! Gridsearch (and cross_val) in sklearn uses POSITIONAL index, not dataframe index\n",
    "train_index = np.arange(len(X.index))[:-3*30*24]\n",
    "test_index = np.arange(len(X.index))[-3*30*24:]"
   ]
  },
  {
   "cell_type": "code",
   "execution_count": 20,
   "metadata": {
    "id": "IeHKfCCNoLMf"
   },
   "outputs": [],
   "source": [
    "from sklearn.ensemble import RandomForestRegressor\n",
    "from sklearn.model_selection import GridSearchCV"
   ]
  },
  {
   "cell_type": "code",
   "execution_count": 21,
   "metadata": {
    "colab": {
     "base_uri": "https://localhost:8080/"
    },
    "id": "3sPUsgdjo_EA",
    "outputId": "509cf287-7cac-4d5d-91cf-176296c12f7a"
   },
   "outputs": [
    {
     "data": {
      "text/plain": [
       "GridSearchCV(cv=[(array([    0,     1,     2, ..., 32258, 32259, 32260]),\n",
       "                  array([32261, 32262, 32263, ..., 34418, 34419, 34420]))],\n",
       "             estimator=RandomForestRegressor(),\n",
       "             param_grid={'max_depth': array([ 3,  4,  5,  6,  7,  8,  9, 10, 11, 12, 13, 14, 15, 16, 17, 18, 19])},\n",
       "             scoring='neg_mean_squared_error')"
      ]
     },
     "execution_count": 21,
     "metadata": {},
     "output_type": "execute_result"
    }
   ],
   "source": [
    "reg = GridSearchCV(RandomForestRegressor(),\n",
    "                   param_grid={\"max_depth\":np.arange(3,20)},\n",
    "                   scoring=\"neg_mean_squared_error\",\n",
    "                   cv=[  (train_index,test_index)  ])\n",
    "reg.fit(X,y)"
   ]
  },
  {
   "cell_type": "code",
   "execution_count": 22,
   "metadata": {
    "colab": {
     "base_uri": "https://localhost:8080/"
    },
    "id": "sCbPZEHi7LM9",
    "outputId": "2be6ee11-5936-4616-df81-2edc6df6a2c4"
   },
   "outputs": [
    {
     "data": {
      "text/plain": [
       "{'max_depth': 4}"
      ]
     },
     "execution_count": 22,
     "metadata": {},
     "output_type": "execute_result"
    }
   ],
   "source": [
    "reg.best_params_"
   ]
  },
  {
   "cell_type": "code",
   "execution_count": 23,
   "metadata": {
    "colab": {
     "base_uri": "https://localhost:8080/"
    },
    "id": "SBwN7Y0_7Tvc",
    "outputId": "4db5f4b8-6026-4a9d-b014-d3fac6140729"
   },
   "outputs": [
    {
     "data": {
      "text/plain": [
       "-0.745039679521721"
      ]
     },
     "execution_count": 23,
     "metadata": {},
     "output_type": "execute_result"
    }
   ],
   "source": [
    "reg.best_score_"
   ]
  },
  {
   "cell_type": "code",
   "execution_count": null,
   "metadata": {
    "colab": {
     "base_uri": "https://localhost:8080/"
    },
    "id": "PxKqdiDfz8qo",
    "outputId": "12fd334c-85ac-4e94-ffc4-95b2ef0cb3dc"
   },
   "outputs": [],
   "source": [
    "# Testing way 2\n",
    "# We'll perform a cross-validation, but removing from training the points that are linked to the test set\n",
    "from sklearn.model_selection import GridSearchCV\n",
    "from sklearn.model_selection import KFold\n",
    "\n",
    "tt_indexes = []\n",
    "kf = KFold(5,shuffle=True)\n",
    "# We loop through all the cv train/test sets\n",
    "for train_index, test_index in kf.split(X):\n",
    "    for i in [24,48,168]:\n",
    "        train_index=np.array(list(set(train_index)-set(test_index-i)))\n",
    "        tt_indexes.append((train_index,test_index))\n",
    "\n",
    "reg = GridSearchCV(RandomForestRegressor(),\n",
    "                   param_grid={\"max_depth\":np.arange(3,20)},\n",
    "                   scoring=\"neg_mean_squared_error\",\n",
    "                   cv=tt_indexes)\n",
    "reg.fit(X,y) "
   ]
  },
  {
   "cell_type": "code",
   "execution_count": null,
   "metadata": {
    "colab": {
     "base_uri": "https://localhost:8080/"
    },
    "id": "nLgl4IVW_3IC",
    "outputId": "a5762bc5-8714-4076-eb16-e9d326678482"
   },
   "outputs": [],
   "source": [
    "reg.best_params_"
   ]
  },
  {
   "cell_type": "code",
   "execution_count": null,
   "metadata": {
    "colab": {
     "base_uri": "https://localhost:8080/"
    },
    "id": "caPkDnvCARKt",
    "outputId": "10e49eea-1997-496d-d13b-f36b8fbfdd82"
   },
   "outputs": [],
   "source": [
    "reg.best_score_"
   ]
  },
  {
   "cell_type": "code",
   "execution_count": null,
   "metadata": {
    "id": "GLmnD2vOViy1"
   },
   "outputs": [],
   "source": []
  }
 ],
 "metadata": {
  "colab": {
   "collapsed_sections": [],
   "name": "Electricity Demand Forecast.ipynb",
   "provenance": []
  },
  "kernelspec": {
   "display_name": "Python 3",
   "language": "python",
   "name": "python3"
  },
  "language_info": {
   "codemirror_mode": {
    "name": "ipython",
    "version": 3
   },
   "file_extension": ".py",
   "mimetype": "text/x-python",
   "name": "python",
   "nbconvert_exporter": "python",
   "pygments_lexer": "ipython3",
   "version": "3.8.5"
  }
 },
 "nbformat": 4,
 "nbformat_minor": 1
}
