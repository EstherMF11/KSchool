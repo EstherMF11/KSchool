{
 "cells": [
  {
   "cell_type": "markdown",
   "metadata": {},
   "source": [
    "# Machine Learning: Aprendizaje supervisado\n",
    "\n",
    "*Sebastian Pérez*"
   ]
  },
  {
   "cell_type": "markdown",
   "metadata": {},
   "source": [
    "### Machine Learning"
   ]
  },
  {
   "cell_type": "markdown",
   "metadata": {},
   "source": [
    "El machine learning o aprendizaje automático consiste básicamente en automatizar, mediante distintos algoritmos, la identificación de patrones o tendencias que se esconden, o que no son visibles de forma sencilla dentro de los datos. Es una rama de la inteligencia artificial que empezó a cobrar importancia a partir de los años 80. Se trata de un tipo de IA que ya no depende de unas reglas y un programador, sino que la computadora puede establecer sus propias reglas y aprender por sí misma. <br>\n",
    "\n",
    "A groso modo es una automatización de tareas cognitivas (de pensamiento). Por ejemplo, para dar un crédito, las subdividimos en tareas cognitivas sencillas y en función de eso predecir si es buena idea darle el credito o no.\n",
    "\n",
    "El objetivo del machine learning es crear un modelo que nos permita resolver una tarea dada. Luego se entrena el modelo usando gran cantidad de datos. El modelo aprende de estos datos y es capaz de hacer predicciones. Es, por lo tanto, un proceso de inducción del conocimiento, es decir, un método que permite obtener por generalización un enunciado general a partir de enunciados que describen casos particulares. Según la tarea que se quiera realizar, será más adecuado trabajar con un algoritmo u otro. <br>\n",
    "\n",
    "Las diferentes clases cognitivas son los tipos de implementación de machine learning. Pueden clasificarse en tres categorías diferentes: <br>\n",
    "\n",
    "* Aprendizaje supervisado - Generalización:\n",
    "  * Lo primero que haces es sacar características de os objetos (forma, color, tamaño,etc). Después buscas una relacion entre las caracteristicas y el objetivo (aceptado o no). Y ya podemos predecir el objetivo para el objeto. <br>\n",
    "  * Se llama supervidado porque a cada elemento se le asigna una variable objetivo. \n",
    "    * Cuando el objetivo es una **etiqueta** es una **clasificación**  \n",
    "    * Cuando el objetivo es un **número** es una **regresión**.\n",
    "Limitación: solo aprendes del pasado. \n",
    "* Aprendizaje no supervisado - Comparación:\n",
    "  * Extraes características de cada objeo (forma, color, tamaño.). Despues buscamos una definicion de similitud entre elementos basados en las caracteristicas. **No hay objeto**\n",
    "  * Compara elementos sin objetivo. Se realiza para:\n",
    "    * Segmentación\n",
    "    * Simplificación de caracteristicas\n",
    "    * Recomendación\n",
    "* Aprendizaje de refuerzo según la naturaleza de los datos que recibe. - Recompensa:\n",
    "  * Aprende de las recompensas para mejorar"
   ]
  },
  {
   "cell_type": "markdown",
   "metadata": {},
   "source": [
    "### Aprendizaje supervisado:\n",
    "\n",
    "En el aprendizaje supervisado, los algoritmos trabajan con datos etiquetados (labeled data), intentado encontrar una función que, dadas las variables de entrada (input data), les asigne la etiqueta de salida adecuada. El algoritmo se entrena con un histórico de datos y así aprende a asignar la etiqueta de salida adecuada a un nuevo valor, es decir, predice el valor de salida. <br>\n",
    "\n",
    "El aprendizaje supervisado se suele usar en: <br>\n",
    "\n",
    "* Problemas de clasificación: predecir variables categóricas o discreta. Ej.: identificación de dígitos, diagnósticos, o detección de spam.\n",
    "* Problemas de regresión: predecir variables numéricas continuas. Ej.: predicciones meteorológicas, de expectativa de vida, de crecimiento...etc. <br>\n",
    "\n",
    "Los algoritmos más habituales que se aplican en el aprendizaje supervisado son:\n",
    "\n",
    "* Regresión lineal\n",
    "* Regresión logística\n",
    "* K nearest neighbourhoods - KNN\n",
    "* Árboles de decisión y random forests\n",
    "* Clasificación de Naïve Bayes\n",
    "* Support Vector Machines (SVM)\n",
    "* Métodos Ensemble (Conjuntos de clasificadores)"
   ]
  },
  {
   "cell_type": "markdown",
   "metadata": {},
   "source": [
    "Tareas de un Data Scientist:\n",
    "1. Encontrar las mejores características\n",
    "2. Saber a tipo de tarea cognitiva pertenece el problema\n",
    "3. Dar mejor métrica para ese negocio"
   ]
  },
  {
   "cell_type": "markdown",
   "metadata": {},
   "source": [
    "### Regresión: \n",
    "\n",
    "En este punto se van a estudiar tres algoritmos de regresión, algunos de ellos son exclusivos del ámbito de la regresión como la regresión linea, mientras que otros como k-NN permite se puede aplicar tanto en regresiones como clasficaciones modificando ligeramente algunos parámetros del modelo. <br>\n",
    "\n",
    "A través del siguiente ejercicio, los diferentes tipos de modelos de regresión se van a comparar: <br>\n",
    "\n",
    "* Regresión lineal\n",
    "* k-NN para regresión\n",
    "* Árboles de decisión para regresión <br>"
   ]
  },
  {
   "cell_type": "markdown",
   "metadata": {},
   "source": [
    "### EX1) Dataset que contiene información del:\n",
    "  * Precio - **Objetivo** de diferentes viviendas, \n",
    "  * en función de su Área - **Característica** "
   ]
  },
  {
   "cell_type": "markdown",
   "metadata": {},
   "source": [
    "##### 1. Importamos las librerias"
   ]
  },
  {
   "cell_type": "code",
   "execution_count": 3,
   "metadata": {},
   "outputs": [
    {
     "name": "stdout",
     "output_type": "stream",
     "text": [
      "Populating the interactive namespace from numpy and matplotlib\n"
     ]
    }
   ],
   "source": [
    "import pandas as pd\n",
    "import numpy as np\n",
    "import matplotlib.pyplot as plt\n",
    "import seaborn as sns\n",
    "%pylab inline"
   ]
  },
  {
   "cell_type": "markdown",
   "metadata": {},
   "source": [
    "##### 2. Abrimos los datos"
   ]
  },
  {
   "cell_type": "code",
   "execution_count": 4,
   "metadata": {},
   "outputs": [
    {
     "data": {
      "text/html": [
       "<div>\n",
       "<style scoped>\n",
       "    .dataframe tbody tr th:only-of-type {\n",
       "        vertical-align: middle;\n",
       "    }\n",
       "\n",
       "    .dataframe tbody tr th {\n",
       "        vertical-align: top;\n",
       "    }\n",
       "\n",
       "    .dataframe thead th {\n",
       "        text-align: right;\n",
       "    }\n",
       "</style>\n",
       "<table border=\"1\" class=\"dataframe\">\n",
       "  <thead>\n",
       "    <tr style=\"text-align: right;\">\n",
       "      <th></th>\n",
       "      <th>Id</th>\n",
       "      <th>MSSubClass</th>\n",
       "      <th>MSZoning</th>\n",
       "      <th>LotFrontage</th>\n",
       "      <th>LotArea</th>\n",
       "      <th>Street</th>\n",
       "      <th>Alley</th>\n",
       "      <th>LotShape</th>\n",
       "      <th>LandContour</th>\n",
       "      <th>Utilities</th>\n",
       "      <th>...</th>\n",
       "      <th>PoolArea</th>\n",
       "      <th>PoolQC</th>\n",
       "      <th>Fence</th>\n",
       "      <th>MiscFeature</th>\n",
       "      <th>MiscVal</th>\n",
       "      <th>MoSold</th>\n",
       "      <th>YrSold</th>\n",
       "      <th>SaleType</th>\n",
       "      <th>SaleCondition</th>\n",
       "      <th>SalePrice</th>\n",
       "    </tr>\n",
       "  </thead>\n",
       "  <tbody>\n",
       "    <tr>\n",
       "      <th>0</th>\n",
       "      <td>1</td>\n",
       "      <td>60</td>\n",
       "      <td>RL</td>\n",
       "      <td>65.0</td>\n",
       "      <td>8450</td>\n",
       "      <td>Pave</td>\n",
       "      <td>NaN</td>\n",
       "      <td>Reg</td>\n",
       "      <td>Lvl</td>\n",
       "      <td>AllPub</td>\n",
       "      <td>...</td>\n",
       "      <td>0</td>\n",
       "      <td>NaN</td>\n",
       "      <td>NaN</td>\n",
       "      <td>NaN</td>\n",
       "      <td>0</td>\n",
       "      <td>2</td>\n",
       "      <td>2008</td>\n",
       "      <td>WD</td>\n",
       "      <td>Normal</td>\n",
       "      <td>208500</td>\n",
       "    </tr>\n",
       "    <tr>\n",
       "      <th>1</th>\n",
       "      <td>2</td>\n",
       "      <td>20</td>\n",
       "      <td>RL</td>\n",
       "      <td>80.0</td>\n",
       "      <td>9600</td>\n",
       "      <td>Pave</td>\n",
       "      <td>NaN</td>\n",
       "      <td>Reg</td>\n",
       "      <td>Lvl</td>\n",
       "      <td>AllPub</td>\n",
       "      <td>...</td>\n",
       "      <td>0</td>\n",
       "      <td>NaN</td>\n",
       "      <td>NaN</td>\n",
       "      <td>NaN</td>\n",
       "      <td>0</td>\n",
       "      <td>5</td>\n",
       "      <td>2007</td>\n",
       "      <td>WD</td>\n",
       "      <td>Normal</td>\n",
       "      <td>181500</td>\n",
       "    </tr>\n",
       "    <tr>\n",
       "      <th>2</th>\n",
       "      <td>3</td>\n",
       "      <td>60</td>\n",
       "      <td>RL</td>\n",
       "      <td>68.0</td>\n",
       "      <td>11250</td>\n",
       "      <td>Pave</td>\n",
       "      <td>NaN</td>\n",
       "      <td>IR1</td>\n",
       "      <td>Lvl</td>\n",
       "      <td>AllPub</td>\n",
       "      <td>...</td>\n",
       "      <td>0</td>\n",
       "      <td>NaN</td>\n",
       "      <td>NaN</td>\n",
       "      <td>NaN</td>\n",
       "      <td>0</td>\n",
       "      <td>9</td>\n",
       "      <td>2008</td>\n",
       "      <td>WD</td>\n",
       "      <td>Normal</td>\n",
       "      <td>223500</td>\n",
       "    </tr>\n",
       "    <tr>\n",
       "      <th>3</th>\n",
       "      <td>4</td>\n",
       "      <td>70</td>\n",
       "      <td>RL</td>\n",
       "      <td>60.0</td>\n",
       "      <td>9550</td>\n",
       "      <td>Pave</td>\n",
       "      <td>NaN</td>\n",
       "      <td>IR1</td>\n",
       "      <td>Lvl</td>\n",
       "      <td>AllPub</td>\n",
       "      <td>...</td>\n",
       "      <td>0</td>\n",
       "      <td>NaN</td>\n",
       "      <td>NaN</td>\n",
       "      <td>NaN</td>\n",
       "      <td>0</td>\n",
       "      <td>2</td>\n",
       "      <td>2006</td>\n",
       "      <td>WD</td>\n",
       "      <td>Abnorml</td>\n",
       "      <td>140000</td>\n",
       "    </tr>\n",
       "    <tr>\n",
       "      <th>4</th>\n",
       "      <td>5</td>\n",
       "      <td>60</td>\n",
       "      <td>RL</td>\n",
       "      <td>84.0</td>\n",
       "      <td>14260</td>\n",
       "      <td>Pave</td>\n",
       "      <td>NaN</td>\n",
       "      <td>IR1</td>\n",
       "      <td>Lvl</td>\n",
       "      <td>AllPub</td>\n",
       "      <td>...</td>\n",
       "      <td>0</td>\n",
       "      <td>NaN</td>\n",
       "      <td>NaN</td>\n",
       "      <td>NaN</td>\n",
       "      <td>0</td>\n",
       "      <td>12</td>\n",
       "      <td>2008</td>\n",
       "      <td>WD</td>\n",
       "      <td>Normal</td>\n",
       "      <td>250000</td>\n",
       "    </tr>\n",
       "  </tbody>\n",
       "</table>\n",
       "<p>5 rows × 81 columns</p>\n",
       "</div>"
      ],
      "text/plain": [
       "   Id  MSSubClass MSZoning  LotFrontage  LotArea Street Alley LotShape  \\\n",
       "0   1          60       RL         65.0     8450   Pave   NaN      Reg   \n",
       "1   2          20       RL         80.0     9600   Pave   NaN      Reg   \n",
       "2   3          60       RL         68.0    11250   Pave   NaN      IR1   \n",
       "3   4          70       RL         60.0     9550   Pave   NaN      IR1   \n",
       "4   5          60       RL         84.0    14260   Pave   NaN      IR1   \n",
       "\n",
       "  LandContour Utilities  ... PoolArea PoolQC Fence MiscFeature MiscVal MoSold  \\\n",
       "0         Lvl    AllPub  ...        0    NaN   NaN         NaN       0      2   \n",
       "1         Lvl    AllPub  ...        0    NaN   NaN         NaN       0      5   \n",
       "2         Lvl    AllPub  ...        0    NaN   NaN         NaN       0      9   \n",
       "3         Lvl    AllPub  ...        0    NaN   NaN         NaN       0      2   \n",
       "4         Lvl    AllPub  ...        0    NaN   NaN         NaN       0     12   \n",
       "\n",
       "  YrSold  SaleType  SaleCondition  SalePrice  \n",
       "0   2008        WD         Normal     208500  \n",
       "1   2007        WD         Normal     181500  \n",
       "2   2008        WD         Normal     223500  \n",
       "3   2006        WD        Abnorml     140000  \n",
       "4   2008        WD         Normal     250000  \n",
       "\n",
       "[5 rows x 81 columns]"
      ]
     },
     "execution_count": 4,
     "metadata": {},
     "output_type": "execute_result"
    }
   ],
   "source": [
    "df = pd.read_csv(\"house_prices.csv\")\n",
    "\n",
    "#Echamos un vistazo a las primeras filas\n",
    "df.head()\n",
    "#Tenemos 81 columnas diferentes"
   ]
  },
  {
   "cell_type": "code",
   "execution_count": 5,
   "metadata": {},
   "outputs": [
    {
     "data": {
      "text/plain": [
       "Index(['Id', 'MSSubClass', 'MSZoning', 'LotFrontage', 'LotArea', 'Street',\n",
       "       'Alley', 'LotShape', 'LandContour', 'Utilities', 'LotConfig',\n",
       "       'LandSlope', 'Neighborhood', 'Condition1', 'Condition2', 'BldgType',\n",
       "       'HouseStyle', 'OverallQual', 'OverallCond', 'YearBuilt', 'YearRemodAdd',\n",
       "       'RoofStyle', 'RoofMatl', 'Exterior1st', 'Exterior2nd', 'MasVnrType',\n",
       "       'MasVnrArea', 'ExterQual', 'ExterCond', 'Foundation', 'BsmtQual',\n",
       "       'BsmtCond', 'BsmtExposure', 'BsmtFinType1', 'BsmtFinSF1',\n",
       "       'BsmtFinType2', 'BsmtFinSF2', 'BsmtUnfSF', 'TotalBsmtSF', 'Heating',\n",
       "       'HeatingQC', 'CentralAir', 'Electrical', '1stFlrSF', '2ndFlrSF',\n",
       "       'LowQualFinSF', 'GrLivArea', 'BsmtFullBath', 'BsmtHalfBath', 'FullBath',\n",
       "       'HalfBath', 'BedroomAbvGr', 'KitchenAbvGr', 'KitchenQual',\n",
       "       'TotRmsAbvGrd', 'Functional', 'Fireplaces', 'FireplaceQu', 'GarageType',\n",
       "       'GarageYrBlt', 'GarageFinish', 'GarageCars', 'GarageArea', 'GarageQual',\n",
       "       'GarageCond', 'PavedDrive', 'WoodDeckSF', 'OpenPorchSF',\n",
       "       'EnclosedPorch', '3SsnPorch', 'ScreenPorch', 'PoolArea', 'PoolQC',\n",
       "       'Fence', 'MiscFeature', 'MiscVal', 'MoSold', 'YrSold', 'SaleType',\n",
       "       'SaleCondition', 'SalePrice'],\n",
       "      dtype='object')"
      ]
     },
     "execution_count": 5,
     "metadata": {},
     "output_type": "execute_result"
    }
   ],
   "source": [
    "#Nombre de las columnas\n",
    "df.columns"
   ]
  },
  {
   "cell_type": "markdown",
   "metadata": {},
   "source": [
    "##### 3. Seleccionamos una cantidad de datos"
   ]
  },
  {
   "cell_type": "code",
   "execution_count": 6,
   "metadata": {},
   "outputs": [],
   "source": [
    "# Variable superficie total\n",
    "df['TotalSF'] = df['TotalBsmtSF'] + df['1stFlrSF'] + df['2ndFlrSF']\n",
    "\n",
    "# Máscara casas menores de 6000 sqft\n",
    "df = df[df['TotalSF']<6000]"
   ]
  },
  {
   "cell_type": "markdown",
   "metadata": {},
   "source": [
    "##### 4. Preparación de los datos. <br>\n",
    "Dividimos los datos en dos tablas:\n",
    "\n",
    "    * X - Características: Es un dataframe\n",
    "    * y - Objetivo: Es una serie"
   ]
  },
  {
   "cell_type": "code",
   "execution_count": 7,
   "metadata": {},
   "outputs": [],
   "source": [
    "# Preparación datos\n",
    "X = df[['TotalSF']]   # pandas DataFrame\n",
    "y = df['SalePrice']   # pandas Series"
   ]
  },
  {
   "cell_type": "markdown",
   "metadata": {},
   "source": [
    "##### 5. Visualización de los datos"
   ]
  },
  {
   "cell_type": "code",
   "execution_count": 8,
   "metadata": {},
   "outputs": [
    {
     "data": {
      "image/png": "[encoded data removed]",
      "text/plain": [
       "<Figure size 432x288 with 1 Axes>"
      ]
     },
     "metadata": {
      "needs_background": "light"
     },
     "output_type": "display_data"
    }
   ],
   "source": [
    "# Precio vivienda en función del número de sqft (squared feets)\n",
    "plt.scatter(X, y)\n",
    "plt.xlabel('Total Squared Feets')\n",
    "plt.ylabel('Sale Price');"
   ]
  },
  {
   "cell_type": "markdown",
   "metadata": {},
   "source": [
    "## Comparación de los algoritmos de Regresión"
   ]
  },
  {
   "cell_type": "markdown",
   "metadata": {},
   "source": [
    "###  1) Regresión lineal"
   ]
  },
  {
   "cell_type": "markdown",
   "metadata": {},
   "source": [
    "En estadística, la regresión lineal es un modelo matemático usado para aproximar la relación de dependencia entre una variable independiente $x$, y la variable dependiente $y$. Este modelo asume que existe una relación lineal entre la variable $x$ y la varible $y$, más un término denominado error aleatorio que sigue una distribución normal de media cero, $\\epsilon$ ~ $N(0,\\sigma)$. Matemáticamente se puede expresar como:\n",
    "\n",
    "$$ y = f(x) + \\epsilon = \\alpha + \\beta  x + \\epsilon $$ \n",
    "\n",
    "Una vez se ha analizado la correlación de dos variables, el siguiente paso es obtener el modelo de predicción de de $y$ en base a $x$. En la primera ecuación encontramos que existen dos parámetros desconocidos, $\\alpha$ (intercepto u ordenada en el origen) y $\\beta$ (pendiente), que será necesario estimar. Una vez utilicemos nuestro data set de entrenamiento para obtener el valor de estos coeficientes, podremos predecir un valor $\\hat{y}$ en base a la variable $x$.\n",
    "\n",
    "$$ \\hat{y} = \\hat{f}(x) = \\hat{\\alpha} + \\hat{\\beta} x $$\n",
    "\n",
    "Existen modelos en los que a veces no es suficiente el uso de una variable independiente $x$ para predecir una variable independiente $y$, es en estos casos donde entra en juego la regresión lineal múltiple, donde se tienen en cuenta un número $p$ de variables.\n",
    "\n",
    "$$ y = f(x) + \\epsilon = \\beta_0 + \\beta_1  x_1 + \\beta_2  x_2 + ... + \\beta_p x_p + \\epsilon $$\n",
    "\n",
    "Donde $x$ es la variable independiente, $y$ es la variable dependiente y $\\epsilon$ es la perturbación (error de medición de la variable dependiente), es decir, el resto de factores diferentes a $x$ que afectan a $y$. La perturbación es una variable no observable. <br>\n",
    "\n",
    "Al igual que en el caso de la regresión lineal, estos coeficiente son desconocidos y tendrán que ser estimados para poder definir el modelo de predicción de la variable $\\hat{y}$.\n",
    "\n",
    "$$ \\hat{y} = \\hat{f}(x) = \\hat{\\beta}_0 + \\hat{\\beta}_1  x_1 + \\hat{\\beta}_2  x_2 + ... + \\hat{\\beta}_p x_p $$\n",
    "\n",
    "Para estimar estos coeficientes se utiliza el método de los mínimos cuadrados, el cual trata de reducir para cada puntos el residuo, i.e., reducir la suma de los cuadrados de los residuos $RSS$. Dado que en la regresión lineal múltiple existen más variables, será necesario emplear métodos matriciales para hallar analíticamente los coeficientes.\n",
    "\n",
    "$$\\begin{bmatrix}{y_1}\\\\{y_2}\\\\{y_3}\\\\{...}\\\\{y_k}\\end{bmatrix}=\\begin{bmatrix}{x_{11}}&{x_{12}}&{x_{13}}&{...}&{x_{1k}}\\\\{x_{21}}&{x_{22}}&{x_{23}}&{...}&{x_{2k}}\\\\{x_{31}}&{x_{32}}&{x_{33}}&{...}&{x_{3k}}\\\\{x_{n1}}&{x_{n2}}&{x_{n3}}&{...}&{x_{nk}}\\end{bmatrix}·\\begin{bmatrix}{w_1}&{w_2}&{w_3}&{...}&{w_k}\\end{bmatrix}+\\begin{bmatrix}{\\epsilon_1}\\\\{\\epsilon_2}\\\\{\\epsilon_3}\\\\{...}\\\\{\\epsilon_k}\\end{bmatrix}$$\n",
    "\n",
    "Estos coeficientes se pueden obtener de forma analítica mediante el método de los mínimos cuadrados, o de forma iterativa mediante el uso del algoritmo del gradiente descendente."
   ]
  },
  {
   "cell_type": "code",
   "execution_count": 9,
   "metadata": {},
   "outputs": [],
   "source": [
    "from sklearn.linear_model import LinearRegression"
   ]
  },
  {
   "cell_type": "code",
   "execution_count": 10,
   "metadata": {},
   "outputs": [],
   "source": [
    "#Creo mi regresor\n",
    "reg = LinearRegression()"
   ]
  },
  {
   "cell_type": "code",
   "execution_count": 11,
   "metadata": {},
   "outputs": [
    {
     "data": {
      "text/plain": [
       "LinearRegression()"
      ]
     },
     "execution_count": 11,
     "metadata": {},
     "output_type": "execute_result"
    }
   ],
   "source": [
    "#Hace el fit de todas las combinaciones\n",
    "reg.fit(X,y)"
   ]
  },
  {
   "cell_type": "code",
   "execution_count": 12,
   "metadata": {},
   "outputs": [
    {
     "data": {
      "text/html": [
       "<div>\n",
       "<style scoped>\n",
       "    .dataframe tbody tr th:only-of-type {\n",
       "        vertical-align: middle;\n",
       "    }\n",
       "\n",
       "    .dataframe tbody tr th {\n",
       "        vertical-align: top;\n",
       "    }\n",
       "\n",
       "    .dataframe thead th {\n",
       "        text-align: right;\n",
       "    }\n",
       "</style>\n",
       "<table border=\"1\" class=\"dataframe\">\n",
       "  <thead>\n",
       "    <tr style=\"text-align: right;\">\n",
       "      <th></th>\n",
       "      <th>0</th>\n",
       "    </tr>\n",
       "  </thead>\n",
       "  <tbody>\n",
       "    <tr>\n",
       "      <th>0</th>\n",
       "      <td>1000</td>\n",
       "    </tr>\n",
       "    <tr>\n",
       "      <th>1</th>\n",
       "      <td>1500</td>\n",
       "    </tr>\n",
       "    <tr>\n",
       "      <th>2</th>\n",
       "      <td>4000</td>\n",
       "    </tr>\n",
       "  </tbody>\n",
       "</table>\n",
       "</div>"
      ],
      "text/plain": [
       "      0\n",
       "0  1000\n",
       "1  1500\n",
       "2  4000"
      ]
     },
     "execution_count": 12,
     "metadata": {},
     "output_type": "execute_result"
    }
   ],
   "source": [
    "#Pasamos un dataframe con tres valores de áreas para predecir su valor\n",
    "X_pred = pd.DataFrame([ [1000], [1500], [4000]])\n",
    "X_pred\n",
    "#reg.predict([ [1000], [200], [4000]])"
   ]
  },
  {
   "cell_type": "code",
   "execution_count": 13,
   "metadata": {},
   "outputs": [
    {
     "data": {
      "text/plain": [
       "array([ 50217.33439988,  92112.97793231, 301591.19559442])"
      ]
     },
     "execution_count": 13,
     "metadata": {},
     "output_type": "execute_result"
    }
   ],
   "source": [
    "#Precios de los tres áreas seleccionados\n",
    "reg.predict(X_pred)"
   ]
  },
  {
   "cell_type": "code",
   "execution_count": 14,
   "metadata": {},
   "outputs": [
    {
     "data": {
      "text/plain": [
       "array([83.79128706])"
      ]
     },
     "execution_count": 14,
     "metadata": {},
     "output_type": "execute_result"
    }
   ],
   "source": [
    "#Coeficientes\n",
    "reg.coef_"
   ]
  },
  {
   "cell_type": "code",
   "execution_count": 15,
   "metadata": {},
   "outputs": [],
   "source": [
    "#Predicción de todos los valores de áreas\n",
    "y_pred = reg.predict(X)"
   ]
  },
  {
   "cell_type": "code",
   "execution_count": 16,
   "metadata": {},
   "outputs": [
    {
     "data": {
      "text/plain": [
       "[<matplotlib.lines.Line2D at 0x2b4bccf0dc0>]"
      ]
     },
     "execution_count": 16,
     "metadata": {},
     "output_type": "execute_result"
    },
    {
     "data": {
      "image/png": "[encoded data removed]",
      "text/plain": [
       "<Figure size 432x288 with 1 Axes>"
      ]
     },
     "metadata": {
      "needs_background": "light"
     },
     "output_type": "display_data"
    }
   ],
   "source": [
    "#Visualización de los datos\n",
    "plt.scatter(X,y)\n",
    "plt.plot(X,y_pred, 'r')"
   ]
  },
  {
   "cell_type": "code",
   "execution_count": 17,
   "metadata": {},
   "outputs": [
    {
     "data": {
      "text/plain": [
       "array([[1.        , 0.82403696],\n",
       "       [0.82403696, 1.        ]])"
      ]
     },
     "execution_count": 17,
     "metadata": {},
     "output_type": "execute_result"
    }
   ],
   "source": [
    "#Coeficientes de la correlación lineal\n",
    "np.corrcoef(X['TotalSF'],y)"
   ]
  },
  {
   "cell_type": "markdown",
   "metadata": {},
   "source": [
    "#### Evaluamos el modelo de regresión lineal\n",
    "Elegimos una cantidad de valores para entrenar el modelo y otra cantidad para evaluarlo.\n",
    "Cual es el problema que tendríamos mil pares valores.\n",
    "Para solucioar esto y solo tener un valor. Estos valore se llaman métricas:\n",
    "* MAE: es la suma de los valores absolutos del error.\n",
    "\n",
    "$$\\frac{1}{n}\\sum_{i=1}^n{|y_i-x_i|} = \\frac{1}{n}\\sum_{i=1}^{n}|e_i|$$\n",
    "\n",
    "* MAPE: es practicamente lo mismo que MAE pero en porcentaje\n",
    "\n",
    "$$\\frac{1}{n}\\sum_{i=1}^n{\\frac{|y_i-x_i|}{|y_i|}} = \\frac{1}{n}\\sum_{i=1}^{n}\\frac{|e_i|}{|y_i|}$$"
   ]
  },
  {
   "cell_type": "code",
   "execution_count": 18,
   "metadata": {},
   "outputs": [],
   "source": [
    "#Primero hacemos el split entre set de entrenamiento y test\n",
    "from sklearn.model_selection import train_test_split\n",
    "X_train, X_test, y_train, y_test = train_test_split(X, y, test_size=0.20, random_state=42)\n",
    "#test_size = tamaño del test (20%)"
   ]
  },
  {
   "cell_type": "code",
   "execution_count": 19,
   "metadata": {},
   "outputs": [
    {
     "data": {
      "text/plain": [
       "LinearRegression()"
      ]
     },
     "execution_count": 19,
     "metadata": {},
     "output_type": "execute_result"
    }
   ],
   "source": [
    "#Entrenamos primero los dos X e y\n",
    "reg.fit(X_train,y_train)"
   ]
  },
  {
   "cell_type": "code",
   "execution_count": 20,
   "metadata": {},
   "outputs": [],
   "source": [
    "#Predecimos y, que es el que queremos porque X es el objeto\n",
    "y_pred = reg.predict(X_test)"
   ]
  },
  {
   "cell_type": "code",
   "execution_count": 21,
   "metadata": {},
   "outputs": [
    {
     "data": {
      "text/plain": [
       "array([114311.52265523, 145778.217657  , 143211.1978016 ,  45333.21492767,\n",
       "       236617.59770159, 133108.73256419, 196207.73675195, 189997.2048437 ,\n",
       "       149173.30843351, 335489.26568083, 145861.02474911, 138739.61482766,\n",
       "       116381.69995798, 268746.74944024, 207138.27291046,  38294.61209833,\n",
       "       180308.77506684, 370765.08691966, 233305.31401719, 211113.01333173,\n",
       "       211527.04879228, 222209.16367446, 151657.52119681, 273549.56078261,\n",
       "       205316.51688404, 166894.02614503, 136917.85880124, 111413.27443139,\n",
       "       213514.41900292, 160352.26586835, 113731.87301046, 301041.5153631 ,\n",
       "       216992.31687154, 125987.32264273, 171696.83748741, 156460.33253918,\n",
       "       219559.33672694, 215667.40339778, 240592.33812286,  41358.47450639,\n",
       "       103463.79358883, 221546.70693758, 242579.7083335 , 103960.63614149,\n",
       "       131949.43327465, 194882.82327819, 106113.62053635, 126484.16519539,\n",
       "       177824.56230354, 149173.30843351, 122675.03895834, 117375.3850633 ,\n",
       "       187927.02754095, 111413.27443139, 186270.88569876, 255497.61470265,\n",
       "       111413.27443139, 154804.19069699, 119362.75527394, 139898.9141172 ,\n",
       "        54441.99505976, 130044.87015612, 267753.06433492, 255497.61470265,\n",
       "       214756.52538457, 246554.44875478, 222871.62041134, 111413.27443139,\n",
       "       190576.85448847, 149421.72970984, 140561.37085408, 115967.66449743,\n",
       "       137249.08716968, 114808.36520789, 111413.27443139, 182130.53109326,\n",
       "       147185.93822287, 156129.10417074, 158778.93111826,  97501.68295692,\n",
       "       152816.82048635, 171779.64457952, 190908.08285691, 251522.87428137,\n",
       "       168218.93961879, 290939.05012569, 219559.33672694, 277855.52957233,\n",
       "       249535.50407073, 208545.99347632,  90049.04466703, 126566.9722875 ,\n",
       "       103463.79358883, 318762.23307463, 261128.49696612, 142217.51269628,\n",
       "       175340.34954025, 149587.34389406, 216412.66722677, 233139.69983297,\n",
       "       168384.55380301, 112241.34535249, 336482.95078615, 107935.37656277,\n",
       "       163581.74246064, 116547.3141422 , 115719.2432211 , 198857.56369946,\n",
       "       159027.35239459,  95514.31274628,  56429.3652704 , 147434.3594992 ,\n",
       "       135261.71695904, 170040.69564521, 193309.4885281 , 174015.43606649,\n",
       "       301207.12954732, 195545.28001507, 125821.70845851, 368694.90961691,\n",
       "       118534.68435284, 108763.44748387, 267670.25724281, 213017.57645026,\n",
       "       118534.68435284, 181385.26726427, 289614.13665194, 131949.43327465,\n",
       "       131286.97653777, 135924.17369592, 220387.40764804, 177824.56230354,\n",
       "       187347.37789618, 184697.55094867, 153148.04885479, 163250.5140922 ,\n",
       "       190245.62612003, 123668.72406366, 172028.06585585, 137083.47298546,\n",
       "       320749.60328527, 128305.92122181, 173104.55805328, 116050.47158954,\n",
       "       428481.63012027, 114394.32974734, 114559.94393156, 125324.86590585,\n",
       "       183124.21619858, 140561.37085408, 162836.47863165, 134599.26022216,\n",
       "       214259.68283191, 178321.4048562 , 183289.8303828 , 190908.08285691,\n",
       "       119362.75527394, 195379.66583085, 345094.88836558, 178238.59776409,\n",
       "       172690.52259273, 142548.74106472, 163084.89990798, 169543.85309255,\n",
       "       171448.41621108, 123503.10987944, 210533.36368696, 304188.18486328,\n",
       "       123999.95243209, 265103.2373874 , 286301.85296754, 114394.32974734,\n",
       "       182958.60201436, 213597.22609503, 229247.7665038 , 100151.50990444,\n",
       "       152319.97793369, 190576.85448847, 226018.28991152, 103960.63614149,\n",
       "       221712.3211218 , 177327.71975088, 144701.72545958, 307831.69691612,\n",
       "       200513.70554166, 157619.63182872, 145032.95382801, 135592.94532748,\n",
       "       272390.26149307, 157454.0176445 ,  90049.04466703, 172524.90840851,\n",
       "       321329.25293004, 135261.71695904,  72659.55532394, 111413.27443139,\n",
       "       147351.55240709, 131121.36235355, 192647.03179122, 137414.7013539 ,\n",
       "       208960.02893687, 152651.20630213, 105285.54961525, 124828.02335319,\n",
       "       182296.14527748, 111578.88861561,  98164.1396938 , 153976.11977589,\n",
       "        79615.35106118, 108763.44748387, 212023.89134494, 238190.93245168,\n",
       "       148428.04460452, 273715.17496683, 195876.50838351, 227674.43175372,\n",
       "       223120.04168767, 250446.38208394,  99489.05316756, 154721.38360488,\n",
       "       168632.97507934, 149173.30843351, 156460.33253918, 287047.11679653,\n",
       "       182627.37364592, 157371.21055239, 286053.43169121, 194220.36654131,\n",
       "       255083.5792421 , 128305.92122181, 126649.77937961, 150332.60772305,\n",
       "       178487.01904042, 287792.38062552, 133191.5396563 , 141720.67014362,\n",
       "       230158.64451701, 103463.79358883, 234878.64876728, 143956.46163059,\n",
       "        54441.99505976, 273715.17496683, 195214.05164663, 328947.50540415,\n",
       "       229993.03033279, 183952.28711968, 192895.45306755,  70340.95674487,\n",
       "       142217.51269628,  98992.2106149 , 206807.04454202, 114394.32974734,\n",
       "        76717.10283733, 129630.83469557, 176665.263014  , 108763.44748387,\n",
       "       117292.57797119, 213183.19063448, 156129.10417074, 103463.79358883,\n",
       "       167722.09706613, 168384.55380301, 116381.69995798, 217406.35233209,\n",
       "       254172.70122889, 202418.26866019, 181468.07435638, 243656.20053093,\n",
       "       122840.65314256, 118534.68435284, 312137.66570583,  27943.72558459,\n",
       "       223699.69133244, 104788.70706259,  69678.50000799, 177162.10556666,\n",
       "       124496.79498475, 197449.84313359, 244898.30691258, 209953.71404219,\n",
       "       135261.71695904,  72659.55532394, 162588.05735532,  99820.281536  ,\n",
       "       108763.44748387, 146026.63893333, 226680.7466484 , 365465.43302462,\n",
       "       205896.16652881,  54441.99505976, 155880.68289441])"
      ]
     },
     "execution_count": 21,
     "metadata": {},
     "output_type": "execute_result"
    }
   ],
   "source": [
    "y_pred"
   ]
  },
  {
   "cell_type": "markdown",
   "metadata": {},
   "source": [
    "Cargamos métricas"
   ]
  },
  {
   "cell_type": "code",
   "execution_count": 22,
   "metadata": {},
   "outputs": [],
   "source": [
    "# Error absoluto medio\n",
    "from sklearn.metrics import mean_absolute_error"
   ]
  },
  {
   "cell_type": "code",
   "execution_count": 23,
   "metadata": {},
   "outputs": [
    {
     "data": {
      "text/plain": [
       "31020.859780038136"
      ]
     },
     "execution_count": 23,
     "metadata": {},
     "output_type": "execute_result"
    }
   ],
   "source": [
    "mean_absolute_error(y_test,y_pred) #Primero valor real"
   ]
  },
  {
   "cell_type": "code",
   "execution_count": 24,
   "metadata": {},
   "outputs": [],
   "source": [
    "# Error cuadrático medio\n",
    "from sklearn.metrics import mean_squared_error"
   ]
  },
  {
   "cell_type": "code",
   "execution_count": 25,
   "metadata": {},
   "outputs": [],
   "source": [
    "#R^2\n",
    "from sklearn.metrics import r2_score"
   ]
  },
  {
   "cell_type": "code",
   "execution_count": 26,
   "metadata": {},
   "outputs": [
    {
     "name": "stdout",
     "output_type": "stream",
     "text": [
      "mae score is 31020.859780038136\n",
      "mape score is 0.18628789528729348\n",
      "mse score is 1959690346.7317922\n",
      "rmse score is 44268.3899270325\n",
      "r2 score is 0.7123012071049333\n"
     ]
    }
   ],
   "source": [
    "# Use against predictions\n",
    "mae = mean_absolute_error(y_test, y_pred)\n",
    "mape = np.mean(np.abs(y_test-y_pred)/y_pred)\n",
    "mse = mean_squared_error(y_test, y_pred)\n",
    "rmse = np.sqrt(mean_squared_error(y_test, y_pred))\n",
    "r2 = r2_score(y_test, y_pred)\n",
    "\n",
    "scores = {'mae': mae, 'mape': mape, 'mse': mse, 'rmse': rmse, 'r2': r2}\n",
    "\n",
    "for key in scores:\n",
    "    print(f\"{key} score is {scores[key]}\")"
   ]
  },
  {
   "cell_type": "code",
   "execution_count": 27,
   "metadata": {},
   "outputs": [
    {
     "data": {
      "text/html": [
       "<div>\n",
       "<style scoped>\n",
       "    .dataframe tbody tr th:only-of-type {\n",
       "        vertical-align: middle;\n",
       "    }\n",
       "\n",
       "    .dataframe tbody tr th {\n",
       "        vertical-align: top;\n",
       "    }\n",
       "\n",
       "    .dataframe thead th {\n",
       "        text-align: right;\n",
       "    }\n",
       "</style>\n",
       "<table border=\"1\" class=\"dataframe\">\n",
       "  <thead>\n",
       "    <tr style=\"text-align: right;\">\n",
       "      <th></th>\n",
       "      <th>mae</th>\n",
       "      <th>mape</th>\n",
       "      <th>mse</th>\n",
       "      <th>rmse</th>\n",
       "      <th>r2</th>\n",
       "    </tr>\n",
       "  </thead>\n",
       "  <tbody>\n",
       "    <tr>\n",
       "      <th>reg_lin</th>\n",
       "      <td>31020.85978</td>\n",
       "      <td>0.186288</td>\n",
       "      <td>1.959690e+09</td>\n",
       "      <td>44268.389927</td>\n",
       "      <td>0.712301</td>\n",
       "    </tr>\n",
       "  </tbody>\n",
       "</table>\n",
       "</div>"
      ],
      "text/plain": [
       "                 mae      mape           mse          rmse        r2\n",
       "reg_lin  31020.85978  0.186288  1.959690e+09  44268.389927  0.712301"
      ]
     },
     "execution_count": 27,
     "metadata": {},
     "output_type": "execute_result"
    }
   ],
   "source": [
    "#Hago un dataframe con  los resultados obtenidos llamado 'metrics'\n",
    "metrics_regl = pd.DataFrame(data=scores, index=['reg_lin'])\n",
    "metrics_regl"
   ]
  },
  {
   "cell_type": "markdown",
   "metadata": {},
   "source": [
    "#### K nearest neighbourhoods - KNN"
   ]
  },
  {
   "cell_type": "markdown",
   "metadata": {},
   "source": [
    "En machine learning, un método sencillo de clasificación y regresión es el de los $k$ vecinos más cercanos (en inglés K-nearest neighbors, k-NN). Se usará la notación $NN(k, x_\\varphi)$ para denotar el conjunto de los $k$ vecinos más cercanos al objeto $x_\\varphi$. <br>\n",
    "\n",
    "En la regresión por k-NN, la salida es un valor de un atributo del objeto; ese valor se puede calcular usando el promedio de los valores de los $k$ vecinos. La palabra cercano implica el concepto de distancia, ya que este método está basado en la distancia existente entre el objeto $x_\\varphi$ y sus $k$ vecinos más cercanos. Típicamente se puede usar la distancia Euclidiana, aunque también podemos encontrar otras métricas como la distancia Manhattan (o taxi), o la de Minkowski. <br>\n",
    "\n",
    "**Distancia Euclidea:** <br>\n",
    "\n",
    "La distancia euclídea entre dos puntos $x_i$ y $x_j$ se define como la longitud del segmento que une ambos puntos. En coordenadas cartesianas, la distancia euclídea se calcula empleando el teorema de Pitágoras. Su fórmula es: <br>\n",
    "\n",
    "$$\\begin{align}\n",
    "D_1(x_i, x_j) =\\sqrt{(x_{i1}-x_{j1})^2+(x_{i2}-x_{j2})^2+...+(x_{in}-x_{jn})^2}=\\sqrt{\\sum_{k=1}^{n} (x_{ik}-x_{jk})^2}\n",
    "\\end{align}$$\n",
    "Es común normalizar los datos de cada una de las dimensiones del objeto, para evitar que un cambio en la escala en alguna de las dimensiones, afecte el resultado. <br>\n",
    "\n",
    "Principales parámetros del modelo: <br>\n",
    "\n",
    "* n_neighbors: número $k$ de vecinos\n",
    "* weight: uniform, distance...etc, como se pondera la distancia de los vecinos al objeto $x_\\varphi$"
   ]
  },
  {
   "cell_type": "code",
   "execution_count": 28,
   "metadata": {},
   "outputs": [],
   "source": [
    "# Cargamos la libreria\n",
    "from sklearn.neighbors import KNeighborsRegressor\n"
   ]
  },
  {
   "cell_type": "code",
   "execution_count": 29,
   "metadata": {},
   "outputs": [],
   "source": [
    "#Creamos la instancia\n",
    "regk = KNeighborsRegressor(n_neighbors=5)"
   ]
  },
  {
   "cell_type": "code",
   "execution_count": 30,
   "metadata": {},
   "outputs": [],
   "source": [
    "#Entrenar el modelo\n",
    "regk.fit(X_train, y_train)\n",
    "\n",
    "# Predicción\n",
    "y_predk = regk.predict(X_test)"
   ]
  },
  {
   "cell_type": "code",
   "execution_count": 31,
   "metadata": {},
   "outputs": [
    {
     "name": "stdout",
     "output_type": "stream",
     "text": [
      "mae score is 32103.24948453609\n",
      "mape score is 0.1745178628337182\n",
      "mse score is 2226761687.9670105\n",
      "rmse score is 47188.575820499296\n",
      "r2 score is 0.6730929196229953\n"
     ]
    }
   ],
   "source": [
    "# Use against predictions\n",
    "mae = mean_absolute_error(y_test, y_predk)\n",
    "mape = np.mean(np.abs(y_test-y_pred)/y_predk)\n",
    "mse = mean_squared_error(y_test, y_predk)\n",
    "rmse = np.sqrt(mean_squared_error(y_test, y_predk))\n",
    "r2 = r2_score(y_test, y_predk)\n",
    "\n",
    "scores = {'mae': mae, 'mape': mape, 'mse': mse, 'rmse': rmse, 'r2': r2}\n",
    "\n",
    "for key in scores:\n",
    "    print(f\"{key} score is {scores[key]}\")"
   ]
  },
  {
   "cell_type": "code",
   "execution_count": 32,
   "metadata": {},
   "outputs": [
    {
     "data": {
      "text/html": [
       "<div>\n",
       "<style scoped>\n",
       "    .dataframe tbody tr th:only-of-type {\n",
       "        vertical-align: middle;\n",
       "    }\n",
       "\n",
       "    .dataframe tbody tr th {\n",
       "        vertical-align: top;\n",
       "    }\n",
       "\n",
       "    .dataframe thead th {\n",
       "        text-align: right;\n",
       "    }\n",
       "</style>\n",
       "<table border=\"1\" class=\"dataframe\">\n",
       "  <thead>\n",
       "    <tr style=\"text-align: right;\">\n",
       "      <th></th>\n",
       "      <th>mae</th>\n",
       "      <th>mape</th>\n",
       "      <th>mse</th>\n",
       "      <th>rmse</th>\n",
       "      <th>r2</th>\n",
       "    </tr>\n",
       "  </thead>\n",
       "  <tbody>\n",
       "    <tr>\n",
       "      <th>reg_k</th>\n",
       "      <td>32103.249485</td>\n",
       "      <td>0.174518</td>\n",
       "      <td>2.226762e+09</td>\n",
       "      <td>47188.57582</td>\n",
       "      <td>0.673093</td>\n",
       "    </tr>\n",
       "  </tbody>\n",
       "</table>\n",
       "</div>"
      ],
      "text/plain": [
       "                mae      mape           mse         rmse        r2\n",
       "reg_k  32103.249485  0.174518  2.226762e+09  47188.57582  0.673093"
      ]
     },
     "execution_count": 32,
     "metadata": {},
     "output_type": "execute_result"
    }
   ],
   "source": [
    "#Hago un dataframe con  los resultados obtenidos llamado 'metrics'\n",
    "metrics_regk = pd.DataFrame(data=scores, index=['reg_k'])\n",
    "metrics_regk"
   ]
  },
  {
   "cell_type": "code",
   "execution_count": 33,
   "metadata": {},
   "outputs": [
    {
     "data": {
      "text/html": [
       "<div>\n",
       "<style scoped>\n",
       "    .dataframe tbody tr th:only-of-type {\n",
       "        vertical-align: middle;\n",
       "    }\n",
       "\n",
       "    .dataframe tbody tr th {\n",
       "        vertical-align: top;\n",
       "    }\n",
       "\n",
       "    .dataframe thead th {\n",
       "        text-align: right;\n",
       "    }\n",
       "</style>\n",
       "<table border=\"1\" class=\"dataframe\">\n",
       "  <thead>\n",
       "    <tr style=\"text-align: right;\">\n",
       "      <th></th>\n",
       "      <th>mae</th>\n",
       "      <th>mape</th>\n",
       "      <th>mse</th>\n",
       "      <th>rmse</th>\n",
       "      <th>r2</th>\n",
       "    </tr>\n",
       "  </thead>\n",
       "  <tbody>\n",
       "    <tr>\n",
       "      <th>reg_lin</th>\n",
       "      <td>31020.859780</td>\n",
       "      <td>0.186288</td>\n",
       "      <td>1.959690e+09</td>\n",
       "      <td>44268.389927</td>\n",
       "      <td>0.712301</td>\n",
       "    </tr>\n",
       "    <tr>\n",
       "      <th>reg_k</th>\n",
       "      <td>32103.249485</td>\n",
       "      <td>0.174518</td>\n",
       "      <td>2.226762e+09</td>\n",
       "      <td>47188.575820</td>\n",
       "      <td>0.673093</td>\n",
       "    </tr>\n",
       "  </tbody>\n",
       "</table>\n",
       "</div>"
      ],
      "text/plain": [
       "                  mae      mape           mse          rmse        r2\n",
       "reg_lin  31020.859780  0.186288  1.959690e+09  44268.389927  0.712301\n",
       "reg_k    32103.249485  0.174518  2.226762e+09  47188.575820  0.673093"
      ]
     },
     "execution_count": 33,
     "metadata": {},
     "output_type": "execute_result"
    }
   ],
   "source": [
    "#Hacemos un dataframe con todas las métricas y comparamos la regresión lineal y k vecinos\n",
    "m = pd.concat([metrics_regl,metrics_regk])\n",
    "m"
   ]
  },
  {
   "cell_type": "markdown",
   "metadata": {},
   "source": [
    "Resumen:\n",
    "\n",
    "0. Primero hacemos el split entre set de entrenamiento y test\n",
    "    * from sklearn.model_selection import train_test_split <br>\n",
    "        X_train, X_test, y_train, y_test = train_test_split(X, y, test_size=0.20, random_state=42)\n",
    "\n",
    "----------------------------------------------------------------------------------------------------\n",
    "### Regresión lineal\n",
    "\n",
    "1. Importamos el modelo\n",
    "    * from sklearn.linear_model import LinearRegression\n",
    "\n",
    "2. Crear una instancia\n",
    "    * reg = LinearRegression()\n",
    "\n",
    "3. Entrenamos el modelo\n",
    "    * reg.fit(X_train,y_train)\n",
    "\n",
    "4. Predicciones del test \n",
    "    * y_pred = reg.predict(X)\n",
    "\n",
    "### K nearest neighbourhoods - KNN\n",
    "\n",
    "1. Importamos el modelo\n",
    "    * from sklearn.neighbors import KNeighborsRegressor\n",
    "\n",
    "2. Crear una instancia\n",
    "    * reg_kn = KNeighborsRegressor(n_neighbors=5)\n",
    "\n",
    "3. Entrenamos el modelo\n",
    "    * regk.fit(X,y)\n",
    "\n",
    "4. Predicciones del test \n",
    "    * y_pred = regk.predict(X_test)"
   ]
  },
  {
   "cell_type": "markdown",
   "metadata": {},
   "source": [
    "### Conjuntos de test y entrenamiento\n",
    "Una práctica habitual dentro del ámbito del aprendizaje automático, es dividir el fichero en dos subconjuntos. El primero de ellos será para el entrenamiento del modelo, cuyo tamaño suele comprender entre el 70-80% del dataset, y el segundo para testear el modelo obtenido a partir de los datos de entrenamiento.\n",
    "\n",
    "Esta práctica trata de eliminar los problemas de overfitting o sobreajuste que tendrían lugar si utilizasemos todo el dataset como conjunto de entrenamiento.\n",
    "\n",
    "Para dividir un dataset en conjunto de test y en conjunto de entrenamiento, podemos utilizar la función .train_test_split(inputs, outputs, test_size, random_state) de la librería scikit-learn.\n",
    "\n",
    "inputs: variables predictoras $X$\n",
    "outputs: variable dependiente $y$\n",
    "test_size: % del dataset que se va a utilizar como subconjunto de test\n",
    "random_state: seed de los número aleatorios, este parámetro es opcional, pero permite que siempre se obtengan los mismo números aleatorios. <br>\n",
    "\n",
    "**train_test_split snippet** <br>\n",
    "\n",
    "from sklearn.model_selection import train_test_split\n",
    "X_train, X_test, y_train, y_test = train_test_split(X, y, test_size = 0.2, random_state = 0)"
   ]
  },
  {
   "cell_type": "markdown",
   "metadata": {},
   "source": [
    "### Cross validation"
   ]
  },
  {
   "cell_type": "markdown",
   "metadata": {},
   "source": [
    "En el punto anterior se explica la división de un dataset en un conjunto de entrenamiento y otro de test, para evaluar la bondad de ajuste del modelo. Como esta división se realiza mediante números aleatorios, podemos obtener un resultado diferente cada vez que se ejecuta. La validación cruzada (cross validation) es una técnica utilizada para evaluar que los resultados del análisis estadístico son independientes de las particiones entre subconjuntos de test y entrenamiento.\n",
    "\n",
    "Esta técnica divide un dataset en subconjunto de test y entrenamiento de $k$ formas diferentes, y para cada una de estas formas calcula todos los parámetros. Por último se hace la media aritmética de los parámetros de cada validación, y se obtiene una media de los datos. Este método disminuye errores en la estimación de parámetros de cada modelo, y minimiza otras casuísticas como el overfitting.\n",
    "\n",
    "Dentro del método de validación cruzada, en función del número $k$ en el que dividamos el dataset podemos definir 3 métodos:\n",
    "\n",
    "k = 1: validación cruzada simple\n",
    "k = 5-10: K-fold cross validation\n",
    "k = n: Leave One Out Cross Validation (LOOCV)\n",
    "En función del valor de $k$, podremos experimentar una compensación del sesgo-varianza, teniendo para valores de $k$ muy elevadas, modelos con un sesgo bajo pero con una varianza muy elevada, es decir overfitting. En bibliografía de referencia como An Introduction to Statistical Learning, se recomienda utilizar el método k-fold cross validation. <br>\n",
    "\n",
    "**cross validation score snippet** <br>\n",
    "\n",
    "* from sklearn.model_selection import cross_val_score\n",
    "* clf_kn = KNeighborsClassifier(n_neighbors=7)\n",
    "* cross_val_score(clf_kn, X, y, cv=5, scoring='accuracy').mean()"
   ]
  },
  {
   "cell_type": "code",
   "execution_count": 34,
   "metadata": {},
   "outputs": [],
   "source": [
    "from sklearn.model_selection import cross_val_score\n"
   ]
  },
  {
   "cell_type": "code",
   "execution_count": 35,
   "metadata": {},
   "outputs": [
    {
     "data": {
      "text/plain": [
       "array([-31590.33866136, -31060.2137948 , -30549.12490917, -29461.90971854,\n",
       "       -32604.542219  ])"
      ]
     },
     "execution_count": 35,
     "metadata": {},
     "output_type": "execute_result"
    }
   ],
   "source": [
    "cross_val_score(reg,X,y,scoring=\"neg_mean_absolute_error\") #Por defecto son 5 cachos"
   ]
  },
  {
   "cell_type": "code",
   "execution_count": 36,
   "metadata": {},
   "outputs": [
    {
     "data": {
      "text/plain": [
       "-31053.225860573915"
      ]
     },
     "execution_count": 36,
     "metadata": {},
     "output_type": "execute_result"
    }
   ],
   "source": [
    "#Nos quedamos con la media de todos los cortes de la regresión lineal\n",
    "cross_val_score(reg,X,y,scoring=\"neg_mean_absolute_error\").mean()"
   ]
  },
  {
   "cell_type": "code",
   "execution_count": 37,
   "metadata": {},
   "outputs": [
    {
     "data": {
      "text/plain": [
       "-32105.07298969072"
      ]
     },
     "execution_count": 37,
     "metadata": {},
     "output_type": "execute_result"
    }
   ],
   "source": [
    "#Nos quedamos con la media de todos los cortes de K vecinos\n",
    "cross_val_score(regk,X,y,scoring=\"neg_mean_absolute_error\").mean()"
   ]
  },
  {
   "cell_type": "markdown",
   "metadata": {},
   "source": [
    "Observamos que la regresión lineal es mejor, el valor es menor en valor absoluto"
   ]
  },
  {
   "cell_type": "markdown",
   "metadata": {},
   "source": [
    "### GridSearchCV\n",
    "Encuentra el mejor k dandole un scoring"
   ]
  },
  {
   "cell_type": "code",
   "execution_count": 38,
   "metadata": {},
   "outputs": [],
   "source": [
    "from sklearn.model_selection import GridSearchCV"
   ]
  },
  {
   "cell_type": "code",
   "execution_count": 39,
   "metadata": {},
   "outputs": [],
   "source": [
    "reg_gs = GridSearchCV(KNeighborsRegressor(),\n",
    "                        param_grid={'n_neighbors':np.arange(3,50)},\n",
    "                        scoring=\"neg_mean_absolute_error\")\n"
   ]
  },
  {
   "cell_type": "code",
   "execution_count": 40,
   "metadata": {},
   "outputs": [
    {
     "data": {
      "text/plain": [
       "GridSearchCV(estimator=KNeighborsRegressor(),\n",
       "             param_grid={'n_neighbors': array([ 3,  4,  5,  6,  7,  8,  9, 10, 11, 12, 13, 14, 15, 16, 17, 18, 19,\n",
       "       20, 21, 22, 23, 24, 25, 26, 27, 28, 29, 30, 31, 32, 33, 34, 35, 36,\n",
       "       37, 38, 39, 40, 41, 42, 43, 44, 45, 46, 47, 48, 49])},\n",
       "             scoring='neg_mean_absolute_error')"
      ]
     },
     "execution_count": 40,
     "metadata": {},
     "output_type": "execute_result"
    }
   ],
   "source": [
    "#Fit will test all of the combination\n",
    "reg_gs.fit(X,y)"
   ]
  },
  {
   "cell_type": "code",
   "execution_count": 41,
   "metadata": {},
   "outputs": [
    {
     "data": {
      "text/plain": [
       "{'n_neighbors': 44}"
      ]
     },
     "execution_count": 41,
     "metadata": {},
     "output_type": "execute_result"
    }
   ],
   "source": [
    "#Saber el mejor\n",
    "reg_gs.best_params_"
   ]
  },
  {
   "cell_type": "code",
   "execution_count": 42,
   "metadata": {},
   "outputs": [
    {
     "data": {
      "text/plain": [
       "{'n_neighbors': 44}"
      ]
     },
     "execution_count": 42,
     "metadata": {},
     "output_type": "execute_result"
    }
   ],
   "source": [
    "from sklearn.model_selection import GridSearchCV, RandomizedSearchCV\n",
    "reg_gs_new = GridSearchCV(KNeighborsRegressor(),\n",
    "                        param_grid={'n_neighbors':np.arange(3,50)},\n",
    "                        scoring=\"neg_mean_absolute_error\")\n",
    "reg_gs_new.fit(X,y)\n",
    "reg_gs_new.best_params_"
   ]
  },
  {
   "cell_type": "code",
   "execution_count": 43,
   "metadata": {},
   "outputs": [],
   "source": [
    "regk = KNeighborsRegressor(n_neighbors=75)"
   ]
  },
  {
   "cell_type": "code",
   "execution_count": 44,
   "metadata": {},
   "outputs": [
    {
     "data": {
      "text/plain": [
       "-30215.06387170676"
      ]
     },
     "execution_count": 44,
     "metadata": {},
     "output_type": "execute_result"
    }
   ],
   "source": [
    "#Para k vecinos = 75\n",
    "cross_val_score(regk,X,y,scoring=\"neg_mean_absolute_error\").mean()"
   ]
  },
  {
   "cell_type": "code",
   "execution_count": 45,
   "metadata": {},
   "outputs": [
    {
     "data": {
      "text/plain": [
       "KNeighborsRegressor(n_neighbors=75)"
      ]
     },
     "execution_count": 45,
     "metadata": {},
     "output_type": "execute_result"
    }
   ],
   "source": [
    "regk.fit(X,y)"
   ]
  },
  {
   "cell_type": "markdown",
   "metadata": {},
   "source": [
    "Ploteamos"
   ]
  },
  {
   "cell_type": "code",
   "execution_count": 46,
   "metadata": {},
   "outputs": [
    {
     "data": {
      "text/plain": [
       "[<matplotlib.lines.Line2D at 0x2b4bce58850>]"
      ]
     },
     "execution_count": 46,
     "metadata": {},
     "output_type": "execute_result"
    },
    {
     "data": {
      "image/png": "[encoded data removed]",
      "text/plain": [
       "<Figure size 432x288 with 1 Axes>"
      ]
     },
     "metadata": {
      "needs_background": "light"
     },
     "output_type": "display_data"
    }
   ],
   "source": [
    "plt.scatter(X,y)\n",
    "area_ficticias = np.linspace(X['TotalSF'].min(),X['TotalSF'].max(),1000)\n",
    "plt.plot(area_ficticias,regk.predict(pd.DataFrame(area_ficticias)),'g')"
   ]
  },
  {
   "cell_type": "code",
   "execution_count": 47,
   "metadata": {},
   "outputs": [
    {
     "data": {
      "text/plain": [
       "[<matplotlib.lines.Line2D at 0x2b4bcef5850>]"
      ]
     },
     "execution_count": 47,
     "metadata": {},
     "output_type": "execute_result"
    },
    {
     "data": {
      "image/png": "[encoded data removed]",
      "text/plain": [
       "<Figure size 432x288 with 1 Axes>"
      ]
     },
     "metadata": {
      "needs_background": "light"
     },
     "output_type": "display_data"
    }
   ],
   "source": [
    "plt.scatter(X,y)\n",
    "plt.plot(X_test,y_pred,c=\"red\")\n",
    "area_ficticias = np.linspace(X[\"TotalSF\"].min(),X[\"TotalSF\"].max(),1000)\n",
    "plt.plot(area_ficticias,regk.predict(pd.DataFrame(area_ficticias)),c=\"green\")"
   ]
  },
  {
   "cell_type": "markdown",
   "metadata": {},
   "source": [
    "**MIRAR: SOBREAJUSTE y SUBAJUSTE**\n",
    "* Parámetro para saber si tienes un sobre o sub ajuste -> **Métrica**\n",
    "\n",
    "* Si cojo un k pequeño -> **OVERFIT** \n",
    "* Si cojo un k muy grande -> **UNDERFIT** "
   ]
  },
  {
   "cell_type": "code",
   "execution_count": 48,
   "metadata": {},
   "outputs": [],
   "source": [
    "#Vemos como avanza, el progreso que tiene\n",
    "from tqdm import tqdm_notebook as tqdm"
   ]
  },
  {
   "cell_type": "markdown",
   "metadata": {},
   "source": [
    "Este modelo necesita definir un parámetro cuando se modeliza. Para obtener el valor del parámetro que consigue una mejor bondad de ajuste del modelo, se pueden probar diferentes valores y e ir monitorizando una métrica para visualizar en que punto se obtiene el modelo mejor ajustado."
   ]
  },
  {
   "cell_type": "code",
   "execution_count": 49,
   "metadata": {},
   "outputs": [
    {
     "name": "stderr",
     "output_type": "stream",
     "text": [
      "<ipython-input-49-7230d35eadda>:3: TqdmDeprecationWarning: This function will be removed in tqdm==5.0.0\n",
      "Please use `tqdm.notebook.tqdm` instead of `tqdm.tqdm_notebook`\n",
      "  for k in tqdm(np.arange(1,200)):\n"
     ]
    },
    {
     "data": {
      "application/vnd.jupyter.widget-view+json": {
       "model_id": "7f78caac415747b2bcdf4f0a112fb593",
       "version_major": 2,
       "version_minor": 0
      },
      "text/plain": [
       "HBox(children=(FloatProgress(value=0.0, max=199.0), HTML(value='')))"
      ]
     },
     "metadata": {},
     "output_type": "display_data"
    },
    {
     "name": "stdout",
     "output_type": "stream",
     "text": [
      "\n"
     ]
    }
   ],
   "source": [
    "# Graficar error en función del número de vecinos\n",
    "metricas=[]\n",
    "for k in tqdm(np.arange(1,200)):\n",
    "  regkt = KNeighborsRegressor(n_neighbors=k)\n",
    "  res = cross_val_score(regkt,X,y,scoring=\"neg_mean_absolute_error\").mean()\n",
    "  metricas.append(res)"
   ]
  },
  {
   "cell_type": "code",
   "execution_count": 50,
   "metadata": {},
   "outputs": [
    {
     "data": {
      "text/plain": [
       "[<matplotlib.lines.Line2D at 0x2b4bcf51a00>]"
      ]
     },
     "execution_count": 50,
     "metadata": {},
     "output_type": "execute_result"
    },
    {
     "data": {
      "image/png": "[encoded data removed]",
      "text/plain": [
       "<Figure size 432x288 with 1 Axes>"
      ]
     },
     "metadata": {
      "needs_background": "light"
     },
     "output_type": "display_data"
    }
   ],
   "source": [
    "plt.plot(-np.array(metricas))"
   ]
  },
  {
   "cell_type": "code",
   "execution_count": 51,
   "metadata": {},
   "outputs": [
    {
     "name": "stderr",
     "output_type": "stream",
     "text": [
      "<ipython-input-51-3531a2b7ad6a>:3: TqdmDeprecationWarning: This function will be removed in tqdm==5.0.0\n",
      "Please use `tqdm.notebook.tqdm` instead of `tqdm.tqdm_notebook`\n",
      "  for k in tqdm(np.arange(10,200)):\n"
     ]
    },
    {
     "data": {
      "application/vnd.jupyter.widget-view+json": {
       "model_id": "ea525f9588ad47bd858640e62196b906",
       "version_major": 2,
       "version_minor": 0
      },
      "text/plain": [
       "HBox(children=(FloatProgress(value=0.0, max=190.0), HTML(value='')))"
      ]
     },
     "metadata": {},
     "output_type": "display_data"
    },
    {
     "name": "stdout",
     "output_type": "stream",
     "text": [
      "\n"
     ]
    }
   ],
   "source": [
    "# Graficar error en función del número de vecinos\n",
    "metricas=[]\n",
    "for k in tqdm(np.arange(10,200)):\n",
    "  regkt = KNeighborsRegressor(n_neighbors=k)\n",
    "  res = cross_val_score(regkt,X,y,scoring=\"neg_mean_absolute_error\").mean()\n",
    "  metricas.append(res)"
   ]
  },
  {
   "cell_type": "code",
   "execution_count": 52,
   "metadata": {},
   "outputs": [
    {
     "data": {
      "text/plain": [
       "[<matplotlib.lines.Line2D at 0x2b4bc213b50>]"
      ]
     },
     "execution_count": 52,
     "metadata": {},
     "output_type": "execute_result"
    },
    {
     "data": {
      "image/png": "[encoded data removed]",
      "text/plain": [
       "<Figure size 432x288 with 1 Axes>"
      ]
     },
     "metadata": {
      "needs_background": "light"
     },
     "output_type": "display_data"
    }
   ],
   "source": [
    "plt.plot(-np.array(metricas))"
   ]
  },
  {
   "cell_type": "markdown",
   "metadata": {},
   "source": []
  },
  {
   "cell_type": "markdown",
   "metadata": {},
   "source": [
    "#### Arbol de decisión - Particiones"
   ]
  },
  {
   "cell_type": "markdown",
   "metadata": {},
   "source": [
    "Los métodos de machine learning basados en árboles comprenden un conjunto de técnicas de aprendizaje supervisado no paramétricas, que permiten segmentar el espacio de los predictores en regiones simples, dentro de las cuales es más sencillo manejar las interacciones y predecir la variable respuesta. Dado que el conjunto de reglas de división utilizadas para segmentar el espacio predictor se puede resumir en un árbol, este tipo de efoques se conocen como métodos de árboles de decisión.\n",
    "\n",
    "Aunque los métodos basados en árboles de decisión simples tienen ventajas como la simplicidad y la interpretabilidad, no son competitivos en cuanto a precisión si los comparamos con otros enfoques. Es por esto que en este notebook también veremos otros algoritmos basados en árboles como bagging, random forests o boosting. Estos métodos mejoran el desempeño de los árboles simples combinando (ensemble methods) varios de ellos, a costa de perder un poco interpretabilidad.\n",
    "\n",
    "Aunque el porcentaje mayoritario de aplicación es el campo de la clasificación, también se pueden emplear en regresiones de variables continuas.\n",
    "\n",
    "La interpretación geométrica de estos modelos es sencillamente intuitiva, y consiste en ir dividiendo el espacio de forma recursiva en dos rectángulos, donde todos las observaciones contenidas dentro del mismo rectángulo, tendrán el mismo valor de salida.\n",
    "\n",
    "En el caso de utilizar este algoritmo en problemas de regresión, en lugar de usar Gini como medida de impureza, se utiliza el MSE (mean squared error), el error cuadrático medio. <br>\n",
    "\n",
    "**Principales parámetros del modelo:** <br>\n",
    "\n",
    "* max_depth: máxima profundidad, crea $2^n$ divisiones\n",
    "* min_sample_leaf: mínimo número de muestras por hoja\n",
    "* min_samples_split: mínimo número de muestras por nodo para subdividirse"
   ]
  },
  {
   "cell_type": "code",
   "execution_count": 53,
   "metadata": {},
   "outputs": [],
   "source": [
    "from sklearn.tree import DecisionTreeRegressor\n",
    "\n"
   ]
  },
  {
   "cell_type": "code",
   "execution_count": 54,
   "metadata": {},
   "outputs": [],
   "source": [
    "# 2 - Crear una instancia\n",
    "regd = DecisionTreeRegressor(max_depth=3) \n",
    "#Max_depth: Number of splits; \n",
    "#min_sample: Minumum number of observations"
   ]
  },
  {
   "cell_type": "code",
   "execution_count": 55,
   "metadata": {},
   "outputs": [
    {
     "data": {
      "text/plain": [
       "-30922.044940415257"
      ]
     },
     "execution_count": 55,
     "metadata": {},
     "output_type": "execute_result"
    }
   ],
   "source": [
    "cross_val_score(regd,X,y,scoring=\"neg_mean_absolute_error\").mean()"
   ]
  },
  {
   "cell_type": "code",
   "execution_count": 56,
   "metadata": {},
   "outputs": [],
   "source": [
    "reg_gd = GridSearchCV(DecisionTreeRegressor(),\n",
    "                      param_grid={\"max_depth\":np.arange(2,11),\n",
    "                                  \"min_samples_leaf\":np.arange(10,100,15)},\n",
    "                      scoring=\"neg_mean_absolute_error\")\n"
   ]
  },
  {
   "cell_type": "code",
   "execution_count": 57,
   "metadata": {},
   "outputs": [
    {
     "data": {
      "text/plain": [
       "GridSearchCV(estimator=DecisionTreeRegressor(),\n",
       "             param_grid={'max_depth': array([ 2,  3,  4,  5,  6,  7,  8,  9, 10]),\n",
       "                         'min_samples_leaf': array([10, 25, 40, 55, 70, 85])},\n",
       "             scoring='neg_mean_absolute_error')"
      ]
     },
     "execution_count": 57,
     "metadata": {},
     "output_type": "execute_result"
    }
   ],
   "source": [
    "# 3 - Entrenar el modelo\n",
    "reg_gd.fit(X, y)\n",
    "\n"
   ]
  },
  {
   "cell_type": "code",
   "execution_count": 59,
   "metadata": {},
   "outputs": [
    {
     "data": {
      "text/plain": [
       "{'max_depth': 5, 'min_samples_leaf': 40}"
      ]
     },
     "execution_count": 59,
     "metadata": {},
     "output_type": "execute_result"
    }
   ],
   "source": [
    "reg_gd.best_params_"
   ]
  },
  {
   "cell_type": "code",
   "execution_count": 60,
   "metadata": {},
   "outputs": [],
   "source": [
    "import sklearn\n",
    "#sorted(sklearn.metrics.SCORERS.keys())"
   ]
  },
  {
   "cell_type": "code",
   "execution_count": 61,
   "metadata": {},
   "outputs": [
    {
     "data": {
      "text/plain": [
       "<matplotlib.lines.Line2D at 0x2b4bd08b940>"
      ]
     },
     "execution_count": 61,
     "metadata": {},
     "output_type": "execute_result"
    },
    {
     "data": {
      "image/png": "[encoded data removed]",
      "text/plain": [
       "<Figure size 432x288 with 1 Axes>"
      ]
     },
     "metadata": {
      "needs_background": "light"
     },
     "output_type": "display_data"
    }
   ],
   "source": [
    "plt.hist(y_test-y_pred,bins=30)\n",
    "plt.axvline(x=np.mean(y_test-y_pred),c=\"red\")"
   ]
  },
  {
   "cell_type": "code",
   "execution_count": 2,
   "metadata": {},
   "outputs": [
    {
     "name": "stdout",
     "output_type": "stream",
     "text": [
      "Requirement already satisfied: pydotplus in c:\\users\\profesora\\anaconda3\\lib\\site-packages (2.0.2)\n",
      "Requirement already satisfied: pyparsing>=2.0.1 in c:\\users\\profesora\\anaconda3\\lib\\site-packages (from pydotplus) (2.4.7)\n",
      "Requirement already satisfied: graphviz in c:\\users\\profesora\\anaconda3\\lib\\site-packages (0.16)\n"
     ]
    }
   ],
   "source": [
    "!pip install pydotplus\n",
    "!pip install graphviz"
   ]
  },
  {
   "cell_type": "code",
   "execution_count": 62,
   "metadata": {},
   "outputs": [
    {
     "ename": "InvocationException",
     "evalue": "GraphViz's executables not found",
     "output_type": "error",
     "traceback": [
      "\u001b[1;31m---------------------------------------------------------------------------\u001b[0m",
      "\u001b[1;31mInvocationException\u001b[0m                       Traceback (most recent call last)",
      "\u001b[1;32m<ipython-input-62-e4bd8d0fb27e>\u001b[0m in \u001b[0;36m<module>\u001b[1;34m\u001b[0m\n\u001b[0;32m     10\u001b[0m \u001b[1;33m\u001b[0m\u001b[0m\n\u001b[0;32m     11\u001b[0m \u001b[1;32mimport\u001b[0m \u001b[0mgraphviz\u001b[0m\u001b[1;33m\u001b[0m\u001b[1;33m\u001b[0m\u001b[0m\n\u001b[1;32m---> 12\u001b[1;33m \u001b[0mImage\u001b[0m\u001b[1;33m(\u001b[0m\u001b[0mgraph\u001b[0m\u001b[1;33m.\u001b[0m\u001b[0mcreate_png\u001b[0m\u001b[1;33m(\u001b[0m\u001b[1;33m)\u001b[0m\u001b[1;33m)\u001b[0m\u001b[1;33m\u001b[0m\u001b[1;33m\u001b[0m\u001b[0m\n\u001b[0m",
      "\u001b[1;32m~\\anaconda3\\lib\\site-packages\\pydotplus\\graphviz.py\u001b[0m in \u001b[0;36m<lambda>\u001b[1;34m(f, prog)\u001b[0m\n\u001b[0;32m   1795\u001b[0m             self.__setattr__(\n\u001b[0;32m   1796\u001b[0m                 \u001b[1;34m'create_'\u001b[0m \u001b[1;33m+\u001b[0m \u001b[0mfrmt\u001b[0m\u001b[1;33m,\u001b[0m\u001b[1;33m\u001b[0m\u001b[1;33m\u001b[0m\u001b[0m\n\u001b[1;32m-> 1797\u001b[1;33m                 \u001b[1;32mlambda\u001b[0m \u001b[0mf\u001b[0m\u001b[1;33m=\u001b[0m\u001b[0mfrmt\u001b[0m\u001b[1;33m,\u001b[0m \u001b[0mprog\u001b[0m\u001b[1;33m=\u001b[0m\u001b[0mself\u001b[0m\u001b[1;33m.\u001b[0m\u001b[0mprog\u001b[0m\u001b[1;33m:\u001b[0m \u001b[0mself\u001b[0m\u001b[1;33m.\u001b[0m\u001b[0mcreate\u001b[0m\u001b[1;33m(\u001b[0m\u001b[0mformat\u001b[0m\u001b[1;33m=\u001b[0m\u001b[0mf\u001b[0m\u001b[1;33m,\u001b[0m \u001b[0mprog\u001b[0m\u001b[1;33m=\u001b[0m\u001b[0mprog\u001b[0m\u001b[1;33m)\u001b[0m\u001b[1;33m\u001b[0m\u001b[1;33m\u001b[0m\u001b[0m\n\u001b[0m\u001b[0;32m   1798\u001b[0m             )\n\u001b[0;32m   1799\u001b[0m             \u001b[0mf\u001b[0m \u001b[1;33m=\u001b[0m \u001b[0mself\u001b[0m\u001b[1;33m.\u001b[0m\u001b[0m__dict__\u001b[0m\u001b[1;33m[\u001b[0m\u001b[1;34m'create_'\u001b[0m \u001b[1;33m+\u001b[0m \u001b[0mfrmt\u001b[0m\u001b[1;33m]\u001b[0m\u001b[1;33m\u001b[0m\u001b[1;33m\u001b[0m\u001b[0m\n",
      "\u001b[1;32m~\\anaconda3\\lib\\site-packages\\pydotplus\\graphviz.py\u001b[0m in \u001b[0;36mcreate\u001b[1;34m(self, prog, format)\u001b[0m\n\u001b[0;32m   1957\u001b[0m             \u001b[0mself\u001b[0m\u001b[1;33m.\u001b[0m\u001b[0mprogs\u001b[0m \u001b[1;33m=\u001b[0m \u001b[0mfind_graphviz\u001b[0m\u001b[1;33m(\u001b[0m\u001b[1;33m)\u001b[0m\u001b[1;33m\u001b[0m\u001b[1;33m\u001b[0m\u001b[0m\n\u001b[0;32m   1958\u001b[0m             \u001b[1;32mif\u001b[0m \u001b[0mself\u001b[0m\u001b[1;33m.\u001b[0m\u001b[0mprogs\u001b[0m \u001b[1;32mis\u001b[0m \u001b[1;32mNone\u001b[0m\u001b[1;33m:\u001b[0m\u001b[1;33m\u001b[0m\u001b[1;33m\u001b[0m\u001b[0m\n\u001b[1;32m-> 1959\u001b[1;33m                 raise InvocationException(\n\u001b[0m\u001b[0;32m   1960\u001b[0m                     'GraphViz\\'s executables not found')\n\u001b[0;32m   1961\u001b[0m \u001b[1;33m\u001b[0m\u001b[0m\n",
      "\u001b[1;31mInvocationException\u001b[0m: GraphViz's executables not found"
     ]
    }
   ],
   "source": [
    "from IPython.display import Image\n",
    "from sklearn.tree import export_graphviz\n",
    "import pydotplus\n",
    "from io import StringIO\n",
    "\n",
    "dot_data = StringIO()\n",
    "\n",
    "export_graphviz(reg_gd.best_estimator_, out_file=dot_data,filled=True, rounded=True, special_characters=True)\n",
    "graph = pydotplus.graph_from_dot_data(dot_data.getvalue())\n",
    "\n",
    "import graphviz\n",
    "Image(graph.create_png())"
   ]
  },
  {
   "cell_type": "code",
   "execution_count": 63,
   "metadata": {},
   "outputs": [
    {
     "data": {
      "text/plain": [
       "[<matplotlib.lines.Line2D at 0x2b4be4f9b80>]"
      ]
     },
     "execution_count": 63,
     "metadata": {},
     "output_type": "execute_result"
    },
    {
     "data": {
      "image/png": "[encoded data removed]",
      "text/plain": [
       "<Figure size 432x288 with 1 Axes>"
      ]
     },
     "metadata": {
      "needs_background": "light"
     },
     "output_type": "display_data"
    }
   ],
   "source": [
    "plt.scatter(X,y, c='lightblue', alpha=0.5)\n",
    "area_ficticias = np.linspace(X[\"TotalSF\"].min(),X[\"TotalSF\"].max(),1000)\n",
    "plt.plot(area_ficticias,reg_gd.best_estimator_.predict(pd.DataFrame(area_ficticias)),c=\"purple\")"
   ]
  },
  {
   "cell_type": "code",
   "execution_count": 64,
   "metadata": {},
   "outputs": [
    {
     "data": {
      "image/png": "[encoded data removed]",
      "text/plain": [
       "<Figure size 432x288 with 1 Axes>"
      ]
     },
     "metadata": {
      "needs_background": "light"
     },
     "output_type": "display_data"
    },
    {
     "data": {
      "text/plain": [
       "[<matplotlib.lines.Line2D at 0x2b4be55ea30>]"
      ]
     },
     "execution_count": 64,
     "metadata": {},
     "output_type": "execute_result"
    },
    {
     "data": {
      "image/png": "[encoded data removed]",
      "text/plain": [
       "<Figure size 432x288 with 1 Axes>"
      ]
     },
     "metadata": {
      "needs_background": "light"
     },
     "output_type": "display_data"
    }
   ],
   "source": [
    "plt.scatter(X,y)\n",
    "\n",
    "plt.show()\n",
    "plt.plot(X_test,y_pred,c=\"red\")\n",
    "area_ficticias = np.linspace(X[\"TotalSF\"].min(),X[\"TotalSF\"].max(),1000)\n",
    "plt.plot(area_ficticias,regk.predict(pd.DataFrame(area_ficticias)),c=\"green\")\n",
    "plt.plot(area_ficticias,reg_gd.best_estimator_.predict(pd.DataFrame(area_ficticias)),c=\"purple\")"
   ]
  },
  {
   "cell_type": "code",
   "execution_count": 65,
   "metadata": {},
   "outputs": [
    {
     "data": {
      "text/plain": [
       "-30334.626243915653"
      ]
     },
     "execution_count": 65,
     "metadata": {},
     "output_type": "execute_result"
    }
   ],
   "source": [
    "cross_val_score(reg_gd.best_estimator_,X,y,scoring=\"neg_mean_absolute_error\").mean()"
   ]
  },
  {
   "cell_type": "code",
   "execution_count": 66,
   "metadata": {},
   "outputs": [
    {
     "name": "stdout",
     "output_type": "stream",
     "text": [
      "mae score is 32103.24948453609\n",
      "mape score is 0.1745178628337182\n",
      "mse score is 2226761687.9670105\n",
      "rmse score is 47188.575820499296\n",
      "r2 score is 0.6730929196229953\n"
     ]
    }
   ],
   "source": [
    "# Use against predictions\n",
    "mae = mean_absolute_error(y_test, y_predk)\n",
    "mape = np.mean(np.abs(y_test-y_pred)/y_predk)\n",
    "mse = mean_squared_error(y_test, y_predk)\n",
    "rmse = np.sqrt(mean_squared_error(y_test, y_predk))\n",
    "r2 = r2_score(y_test, y_predk)\n",
    "\n",
    "scores = {'mae': mae, 'mape': mape, 'mse': mse, 'rmse': rmse, 'r2': r2}\n",
    "\n",
    "for key in scores:\n",
    "    print(f\"{key} score is {scores[key]}\")"
   ]
  },
  {
   "cell_type": "code",
   "execution_count": null,
   "metadata": {},
   "outputs": [],
   "source": []
  },
  {
   "cell_type": "code",
   "execution_count": null,
   "metadata": {},
   "outputs": [],
   "source": []
  },
  {
   "cell_type": "code",
   "execution_count": null,
   "metadata": {},
   "outputs": [],
   "source": []
  },
  {
   "cell_type": "code",
   "execution_count": null,
   "metadata": {},
   "outputs": [],
   "source": []
  }
 ],
 "metadata": {
  "kernelspec": {
   "display_name": "Python 3",
   "language": "python",
   "name": "python3"
  },
  "language_info": {
   "codemirror_mode": {
    "name": "ipython",
    "version": 3
   },
   "file_extension": ".py",
   "mimetype": "text/x-python",
   "name": "python",
   "nbconvert_exporter": "python",
   "pygments_lexer": "ipython3",
   "version": "3.8.3"
  }
 },
 "nbformat": 4,
 "nbformat_minor": 4
}
